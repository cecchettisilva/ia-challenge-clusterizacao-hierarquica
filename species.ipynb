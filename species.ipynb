{
 "cells": [
  {
   "cell_type": "markdown",
   "id": "40274d28",
   "metadata": {},
   "source": [
    "# Desafio - Clusterização Hierarquica"
   ]
  },
  {
   "cell_type": "markdown",
   "id": "b3cfc02e",
   "metadata": {},
   "source": [
    "🧪 Desafio de Machine Learning: Agrupamento Taxonômico de Espécies Fictícias"
   ]
  },
  {
   "cell_type": "markdown",
   "id": "feee96f1",
   "metadata": {},
   "source": [
    "## Objetivo\n",
    "\n",
    "Você é um pesquisador em biologia evolutiva e recebeu um conjunto de dados contendo características morfológicas, fisiológicas e comportamentais de 600 espécies *fictícias*.\n",
    "\n",
    "Seu desafio é aplicar algoritmos de clusterização hierárquica para:\n",
    "\n",
    "1. Agrupar as espécies com base nas características fornecidas.\n",
    "2. Visualizar os agrupamentos utilizando dendrogramas.\n",
    "3. Propor um corte nos agrupamentos e interpretar os \"grupos taxonômicos\" identificados.\n",
    "4. Escrever uma análise dos resultados obtidos"
   ]
  },
  {
   "cell_type": "markdown",
   "id": "90e77685",
   "metadata": {},
   "source": [
    "## 🧬 Contexto\n",
    "\n",
    "A classificação taxonômica é uma tarefa central na biologia, utilizada para compreender as relações entre organismos a partir de traços em comum. A clusterização hierárquica é um método interpretável que simula a formação de relações evolutivas entre espécies, semelhante a uma árvore filogenética.\n",
    "\n",
    "Neste desafio, foram gerados no mínimo 10 agrupamentos distintos entre as espécies. Para fins didáticos, recomenda-se utilizar **10 como valor mínimo para o número de clusters** durante a análise.\n",
    "\n",
    "Ressaltamos que os dados são **sintéticos** e não representam comportamentos ou informações de espécies reais."
   ]
  },
  {
   "cell_type": "markdown",
   "id": "5f238027",
   "metadata": {},
   "source": [
    "## 📦 Dataset\n",
    "\n",
    "O dataset contém **600 registros**, cada um representando uma espécie fictícia. Os atributos foram gerados de forma simulada, mas baseados em princípios inspirados na biologia real."
   ]
  },
  {
   "cell_type": "markdown",
   "id": "4803091c",
   "metadata": {},
   "source": [
    "📌 Atributos numéricos e booleanos"
   ]
  },
  {
   "cell_type": "markdown",
   "id": "cfaffbde",
   "metadata": {},
   "source": [
    "| Nome               | Tipo   | Descrição                                                        |\n",
    "|--------------------|--------|------------------------------------------------------------------|\n",
    "| species_id         | string | Identificador único da espécie (ex: SP001)                       |\n",
    "| body_mass_kg       | float  | Massa corporal média da espécie (em kg)                          |\n",
    "| num_legs           | int    | Número de membros locomotores (ex: 0, 2, 4, 6)                   |\n",
    "| has_wings          | bool   | Possui asas? (1 = sim, 0 = não)                                  |\n",
    "| tail_length_cm     | float  | Comprimento médio da cauda (em centímetros)                      |\n",
    "| eye_count          | int    | Quantidade de olhos (ex: 0, 2, 4)                                |\n",
    "| nocturnal          | bool   | Ativo durante a noite? (1 = sim, 0 = não)                        |\n",
    "| avg_lifespan_years | float  | Expectativa de vida média da espécie (em anos)                   |\n",
    "| has_venom          | bool   | Espécie possui veneno ou toxina? (1 = sim, 0 = não)              |"
   ]
  },
  {
   "cell_type": "markdown",
   "id": "962e29c8",
   "metadata": {},
   "source": [
    "📌 Atributos categóricos"
   ]
  },
  {
   "cell_type": "markdown",
   "id": "ab54c395",
   "metadata": {},
   "source": [
    "| Nome            | Tipo   | Descrição                                                        |\n",
    "|-----------------|--------|------------------------------------------------------------------|\n",
    "| diet_type       | string | Tipo de dieta da espécie: herbivore, carnivore, omnivore         |\n",
    "| skin_type       | string | Tipo de cobertura corporal: fur, scales, feathers, skin          |\n",
    "| social_behavior | string | Comportamento social: solitary, pair-living, group-living        |"
   ]
  },
  {
   "cell_type": "markdown",
   "id": "34990f43",
   "metadata": {},
   "source": [
    "### Bibliotecas"
   ]
  },
  {
   "cell_type": "code",
   "execution_count": null,
   "id": "964c683a",
   "metadata": {},
   "outputs": [],
   "source": [
    "# pipenv install pandas seaborn scikit-learn matplotlib scipy ipywidgets ipykernel optuna streamlit plotly nbformat\n",
    "\n",
    "# Importação das Bibliotecas\n",
    "# EDA e visualização de dados\n",
    "import pandas as pd \n",
    "import seaborn as sns\n",
    "import plotly.express as px\n",
    "from matplotlib import pyplot as plt\n",
    "import nbformat\n",
    "\n",
    "# ML\n",
    "from sklearn.cluster import AgglomerativeClustering, BisectingKMeans\n",
    "from sklearn.metrics import silhouette_score\n",
    "from sklearn.preprocessing import StandardScaler, OneHotEncoder\n",
    "from sklearn.compose import ColumnTransformer\n",
    "import numpy as np\n",
    "from scipy.cluster.hierarchy import dendrogram, linkage, cut_tree\n",
    "\n",
    "# Otimização \n",
    "import optuna"
   ]
  },
  {
   "cell_type": "markdown",
   "id": "e4aea17f",
   "metadata": {},
   "source": [
    "### Carregar e avaliar os dados"
   ]
  },
  {
   "cell_type": "code",
   "execution_count": 2,
   "id": "9177122c",
   "metadata": {},
   "outputs": [],
   "source": [
    "# Dataframe\n",
    "df_species = pd.read_csv('./datasets/species_dataset.csv')"
   ]
  },
  {
   "cell_type": "code",
   "execution_count": 3,
   "id": "b404f457",
   "metadata": {},
   "outputs": [
    {
     "name": "stdout",
     "output_type": "stream",
     "text": [
      "<class 'pandas.core.frame.DataFrame'>\n",
      "RangeIndex: 600 entries, 0 to 599\n",
      "Data columns (total 12 columns):\n",
      " #   Column              Non-Null Count  Dtype  \n",
      "---  ------              --------------  -----  \n",
      " 0   species_id          600 non-null    object \n",
      " 1   body_mass_kg        600 non-null    float64\n",
      " 2   num_legs            600 non-null    int64  \n",
      " 3   has_wings           600 non-null    int64  \n",
      " 4   tail_length_cm      600 non-null    float64\n",
      " 5   diet_type           600 non-null    object \n",
      " 6   eye_count           600 non-null    int64  \n",
      " 7   skin_type           600 non-null    object \n",
      " 8   nocturnal           600 non-null    int64  \n",
      " 9   avg_lifespan_years  600 non-null    float64\n",
      " 10  has_venom           600 non-null    int64  \n",
      " 11  social_behavior     600 non-null    object \n",
      "dtypes: float64(3), int64(5), object(4)\n",
      "memory usage: 56.4+ KB\n"
     ]
    }
   ],
   "source": [
    "# Analisar estrutura\n",
    "df_species.info()"
   ]
  },
  {
   "cell_type": "code",
   "execution_count": 4,
   "id": "20b7a9b3",
   "metadata": {},
   "outputs": [],
   "source": [
    "# Remover variável species_id\n",
    "df_species_eda = df_species.drop(columns=['species_id'])"
   ]
  },
  {
   "cell_type": "code",
   "execution_count": 5,
   "id": "c8d25386",
   "metadata": {},
   "outputs": [
    {
     "data": {
      "text/html": [
       "<div>\n",
       "<style scoped>\n",
       "    .dataframe tbody tr th:only-of-type {\n",
       "        vertical-align: middle;\n",
       "    }\n",
       "\n",
       "    .dataframe tbody tr th {\n",
       "        vertical-align: top;\n",
       "    }\n",
       "\n",
       "    .dataframe thead th {\n",
       "        text-align: right;\n",
       "    }\n",
       "</style>\n",
       "<table border=\"1\" class=\"dataframe\">\n",
       "  <thead>\n",
       "    <tr style=\"text-align: right;\">\n",
       "      <th></th>\n",
       "      <th>body_mass_kg</th>\n",
       "      <th>num_legs</th>\n",
       "      <th>has_wings</th>\n",
       "      <th>tail_length_cm</th>\n",
       "      <th>diet_type</th>\n",
       "      <th>eye_count</th>\n",
       "      <th>skin_type</th>\n",
       "      <th>nocturnal</th>\n",
       "      <th>avg_lifespan_years</th>\n",
       "      <th>has_venom</th>\n",
       "      <th>social_behavior</th>\n",
       "    </tr>\n",
       "  </thead>\n",
       "  <tbody>\n",
       "    <tr>\n",
       "      <th>0</th>\n",
       "      <td>59.934283</td>\n",
       "      <td>6</td>\n",
       "      <td>1</td>\n",
       "      <td>27.622702</td>\n",
       "      <td>carnivore</td>\n",
       "      <td>2</td>\n",
       "      <td>fur</td>\n",
       "      <td>0</td>\n",
       "      <td>118.957538</td>\n",
       "      <td>0</td>\n",
       "      <td>pair-living</td>\n",
       "    </tr>\n",
       "    <tr>\n",
       "      <th>1</th>\n",
       "      <td>47.234714</td>\n",
       "      <td>6</td>\n",
       "      <td>1</td>\n",
       "      <td>25.521165</td>\n",
       "      <td>carnivore</td>\n",
       "      <td>4</td>\n",
       "      <td>fur</td>\n",
       "      <td>0</td>\n",
       "      <td>121.226422</td>\n",
       "      <td>0</td>\n",
       "      <td>solitary</td>\n",
       "    </tr>\n",
       "    <tr>\n",
       "      <th>2</th>\n",
       "      <td>62.953771</td>\n",
       "      <td>8</td>\n",
       "      <td>1</td>\n",
       "      <td>50.794426</td>\n",
       "      <td>carnivore</td>\n",
       "      <td>2</td>\n",
       "      <td>fur</td>\n",
       "      <td>0</td>\n",
       "      <td>119.454890</td>\n",
       "      <td>0</td>\n",
       "      <td>pair-living</td>\n",
       "    </tr>\n",
       "    <tr>\n",
       "      <th>3</th>\n",
       "      <td>80.460597</td>\n",
       "      <td>2</td>\n",
       "      <td>1</td>\n",
       "      <td>46.476993</td>\n",
       "      <td>carnivore</td>\n",
       "      <td>4</td>\n",
       "      <td>fur</td>\n",
       "      <td>1</td>\n",
       "      <td>121.522981</td>\n",
       "      <td>0</td>\n",
       "      <td>solitary</td>\n",
       "    </tr>\n",
       "    <tr>\n",
       "      <th>4</th>\n",
       "      <td>45.316933</td>\n",
       "      <td>4</td>\n",
       "      <td>0</td>\n",
       "      <td>40.161889</td>\n",
       "      <td>herbivore</td>\n",
       "      <td>2</td>\n",
       "      <td>scales</td>\n",
       "      <td>0</td>\n",
       "      <td>120.060929</td>\n",
       "      <td>0</td>\n",
       "      <td>group-living</td>\n",
       "    </tr>\n",
       "    <tr>\n",
       "      <th>5</th>\n",
       "      <td>45.317261</td>\n",
       "      <td>4</td>\n",
       "      <td>0</td>\n",
       "      <td>41.685437</td>\n",
       "      <td>omnivore</td>\n",
       "      <td>4</td>\n",
       "      <td>feathers</td>\n",
       "      <td>0</td>\n",
       "      <td>118.593000</td>\n",
       "      <td>1</td>\n",
       "      <td>group-living</td>\n",
       "    </tr>\n",
       "    <tr>\n",
       "      <th>6</th>\n",
       "      <td>81.584256</td>\n",
       "      <td>4</td>\n",
       "      <td>0</td>\n",
       "      <td>47.104705</td>\n",
       "      <td>carnivore</td>\n",
       "      <td>4</td>\n",
       "      <td>fur</td>\n",
       "      <td>1</td>\n",
       "      <td>119.828973</td>\n",
       "      <td>0</td>\n",
       "      <td>pair-living</td>\n",
       "    </tr>\n",
       "    <tr>\n",
       "      <th>7</th>\n",
       "      <td>65.348695</td>\n",
       "      <td>6</td>\n",
       "      <td>1</td>\n",
       "      <td>43.354369</td>\n",
       "      <td>carnivore</td>\n",
       "      <td>2</td>\n",
       "      <td>fur</td>\n",
       "      <td>1</td>\n",
       "      <td>118.937223</td>\n",
       "      <td>0</td>\n",
       "      <td>pair-living</td>\n",
       "    </tr>\n",
       "    <tr>\n",
       "      <th>8</th>\n",
       "      <td>40.610512</td>\n",
       "      <td>6</td>\n",
       "      <td>0</td>\n",
       "      <td>31.594468</td>\n",
       "      <td>omnivore</td>\n",
       "      <td>2</td>\n",
       "      <td>skin</td>\n",
       "      <td>0</td>\n",
       "      <td>120.589349</td>\n",
       "      <td>0</td>\n",
       "      <td>solitary</td>\n",
       "    </tr>\n",
       "    <tr>\n",
       "      <th>9</th>\n",
       "      <td>60.851201</td>\n",
       "      <td>2</td>\n",
       "      <td>1</td>\n",
       "      <td>54.130002</td>\n",
       "      <td>herbivore</td>\n",
       "      <td>2</td>\n",
       "      <td>scales</td>\n",
       "      <td>1</td>\n",
       "      <td>119.738637</td>\n",
       "      <td>0</td>\n",
       "      <td>pair-living</td>\n",
       "    </tr>\n",
       "  </tbody>\n",
       "</table>\n",
       "</div>"
      ],
      "text/plain": [
       "   body_mass_kg  num_legs  has_wings  tail_length_cm  diet_type  eye_count  \\\n",
       "0     59.934283         6          1       27.622702  carnivore          2   \n",
       "1     47.234714         6          1       25.521165  carnivore          4   \n",
       "2     62.953771         8          1       50.794426  carnivore          2   \n",
       "3     80.460597         2          1       46.476993  carnivore          4   \n",
       "4     45.316933         4          0       40.161889  herbivore          2   \n",
       "5     45.317261         4          0       41.685437   omnivore          4   \n",
       "6     81.584256         4          0       47.104705  carnivore          4   \n",
       "7     65.348695         6          1       43.354369  carnivore          2   \n",
       "8     40.610512         6          0       31.594468   omnivore          2   \n",
       "9     60.851201         2          1       54.130002  herbivore          2   \n",
       "\n",
       "  skin_type  nocturnal  avg_lifespan_years  has_venom social_behavior  \n",
       "0       fur          0          118.957538          0     pair-living  \n",
       "1       fur          0          121.226422          0        solitary  \n",
       "2       fur          0          119.454890          0     pair-living  \n",
       "3       fur          1          121.522981          0        solitary  \n",
       "4    scales          0          120.060929          0    group-living  \n",
       "5  feathers          0          118.593000          1    group-living  \n",
       "6       fur          1          119.828973          0     pair-living  \n",
       "7       fur          1          118.937223          0     pair-living  \n",
       "8      skin          0          120.589349          0        solitary  \n",
       "9    scales          1          119.738637          0     pair-living  "
      ]
     },
     "execution_count": 5,
     "metadata": {},
     "output_type": "execute_result"
    }
   ],
   "source": [
    "# Visualizar dados DataFrame\n",
    "df_species_eda.head(10)"
   ]
  },
  {
   "cell_type": "code",
   "execution_count": 6,
   "id": "1f392c88",
   "metadata": {},
   "outputs": [
    {
     "data": {
      "text/html": [
       "<div>\n",
       "<style scoped>\n",
       "    .dataframe tbody tr th:only-of-type {\n",
       "        vertical-align: middle;\n",
       "    }\n",
       "\n",
       "    .dataframe tbody tr th {\n",
       "        vertical-align: top;\n",
       "    }\n",
       "\n",
       "    .dataframe thead th {\n",
       "        text-align: right;\n",
       "    }\n",
       "</style>\n",
       "<table border=\"1\" class=\"dataframe\">\n",
       "  <thead>\n",
       "    <tr style=\"text-align: right;\">\n",
       "      <th></th>\n",
       "      <th>body_mass_kg</th>\n",
       "      <th>num_legs</th>\n",
       "      <th>has_wings</th>\n",
       "      <th>tail_length_cm</th>\n",
       "      <th>diet_type</th>\n",
       "      <th>eye_count</th>\n",
       "      <th>skin_type</th>\n",
       "      <th>nocturnal</th>\n",
       "      <th>avg_lifespan_years</th>\n",
       "      <th>has_venom</th>\n",
       "      <th>social_behavior</th>\n",
       "    </tr>\n",
       "  </thead>\n",
       "  <tbody>\n",
       "    <tr>\n",
       "      <th>590</th>\n",
       "      <td>51.431325</td>\n",
       "      <td>0</td>\n",
       "      <td>0</td>\n",
       "      <td>28.470813</td>\n",
       "      <td>carnivore</td>\n",
       "      <td>2</td>\n",
       "      <td>feathers</td>\n",
       "      <td>0</td>\n",
       "      <td>118.994146</td>\n",
       "      <td>0</td>\n",
       "      <td>solitary</td>\n",
       "    </tr>\n",
       "    <tr>\n",
       "      <th>591</th>\n",
       "      <td>40.446851</td>\n",
       "      <td>0</td>\n",
       "      <td>0</td>\n",
       "      <td>57.031126</td>\n",
       "      <td>herbivore</td>\n",
       "      <td>2</td>\n",
       "      <td>skin</td>\n",
       "      <td>1</td>\n",
       "      <td>118.290690</td>\n",
       "      <td>0</td>\n",
       "      <td>pair-living</td>\n",
       "    </tr>\n",
       "    <tr>\n",
       "      <th>592</th>\n",
       "      <td>59.579597</td>\n",
       "      <td>6</td>\n",
       "      <td>1</td>\n",
       "      <td>36.453271</td>\n",
       "      <td>herbivore</td>\n",
       "      <td>2</td>\n",
       "      <td>skin</td>\n",
       "      <td>0</td>\n",
       "      <td>120.651345</td>\n",
       "      <td>0</td>\n",
       "      <td>group-living</td>\n",
       "    </tr>\n",
       "    <tr>\n",
       "      <th>593</th>\n",
       "      <td>56.673242</td>\n",
       "      <td>2</td>\n",
       "      <td>1</td>\n",
       "      <td>48.350371</td>\n",
       "      <td>herbivore</td>\n",
       "      <td>2</td>\n",
       "      <td>feathers</td>\n",
       "      <td>0</td>\n",
       "      <td>118.680936</td>\n",
       "      <td>0</td>\n",
       "      <td>pair-living</td>\n",
       "    </tr>\n",
       "    <tr>\n",
       "      <th>594</th>\n",
       "      <td>70.750799</td>\n",
       "      <td>6</td>\n",
       "      <td>0</td>\n",
       "      <td>45.079643</td>\n",
       "      <td>omnivore</td>\n",
       "      <td>2</td>\n",
       "      <td>feathers</td>\n",
       "      <td>0</td>\n",
       "      <td>120.983923</td>\n",
       "      <td>0</td>\n",
       "      <td>pair-living</td>\n",
       "    </tr>\n",
       "    <tr>\n",
       "      <th>595</th>\n",
       "      <td>39.799672</td>\n",
       "      <td>4</td>\n",
       "      <td>0</td>\n",
       "      <td>55.037095</td>\n",
       "      <td>herbivore</td>\n",
       "      <td>2</td>\n",
       "      <td>scales</td>\n",
       "      <td>0</td>\n",
       "      <td>120.394072</td>\n",
       "      <td>0</td>\n",
       "      <td>group-living</td>\n",
       "    </tr>\n",
       "    <tr>\n",
       "      <th>596</th>\n",
       "      <td>44.602501</td>\n",
       "      <td>6</td>\n",
       "      <td>0</td>\n",
       "      <td>66.874888</td>\n",
       "      <td>herbivore</td>\n",
       "      <td>2</td>\n",
       "      <td>fur</td>\n",
       "      <td>1</td>\n",
       "      <td>120.294341</td>\n",
       "      <td>0</td>\n",
       "      <td>solitary</td>\n",
       "    </tr>\n",
       "    <tr>\n",
       "      <th>597</th>\n",
       "      <td>30.424726</td>\n",
       "      <td>0</td>\n",
       "      <td>1</td>\n",
       "      <td>32.096355</td>\n",
       "      <td>herbivore</td>\n",
       "      <td>2</td>\n",
       "      <td>fur</td>\n",
       "      <td>0</td>\n",
       "      <td>121.665309</td>\n",
       "      <td>1</td>\n",
       "      <td>pair-living</td>\n",
       "    </tr>\n",
       "    <tr>\n",
       "      <th>598</th>\n",
       "      <td>41.114135</td>\n",
       "      <td>0</td>\n",
       "      <td>0</td>\n",
       "      <td>38.510861</td>\n",
       "      <td>omnivore</td>\n",
       "      <td>2</td>\n",
       "      <td>skin</td>\n",
       "      <td>0</td>\n",
       "      <td>118.714197</td>\n",
       "      <td>0</td>\n",
       "      <td>group-living</td>\n",
       "    </tr>\n",
       "    <tr>\n",
       "      <th>599</th>\n",
       "      <td>57.546010</td>\n",
       "      <td>8</td>\n",
       "      <td>0</td>\n",
       "      <td>46.890925</td>\n",
       "      <td>carnivore</td>\n",
       "      <td>4</td>\n",
       "      <td>feathers</td>\n",
       "      <td>0</td>\n",
       "      <td>120.873772</td>\n",
       "      <td>0</td>\n",
       "      <td>pair-living</td>\n",
       "    </tr>\n",
       "  </tbody>\n",
       "</table>\n",
       "</div>"
      ],
      "text/plain": [
       "     body_mass_kg  num_legs  has_wings  tail_length_cm  diet_type  eye_count  \\\n",
       "590     51.431325         0          0       28.470813  carnivore          2   \n",
       "591     40.446851         0          0       57.031126  herbivore          2   \n",
       "592     59.579597         6          1       36.453271  herbivore          2   \n",
       "593     56.673242         2          1       48.350371  herbivore          2   \n",
       "594     70.750799         6          0       45.079643   omnivore          2   \n",
       "595     39.799672         4          0       55.037095  herbivore          2   \n",
       "596     44.602501         6          0       66.874888  herbivore          2   \n",
       "597     30.424726         0          1       32.096355  herbivore          2   \n",
       "598     41.114135         0          0       38.510861   omnivore          2   \n",
       "599     57.546010         8          0       46.890925  carnivore          4   \n",
       "\n",
       "    skin_type  nocturnal  avg_lifespan_years  has_venom social_behavior  \n",
       "590  feathers          0          118.994146          0        solitary  \n",
       "591      skin          1          118.290690          0     pair-living  \n",
       "592      skin          0          120.651345          0    group-living  \n",
       "593  feathers          0          118.680936          0     pair-living  \n",
       "594  feathers          0          120.983923          0     pair-living  \n",
       "595    scales          0          120.394072          0    group-living  \n",
       "596       fur          1          120.294341          0        solitary  \n",
       "597       fur          0          121.665309          1     pair-living  \n",
       "598      skin          0          118.714197          0    group-living  \n",
       "599  feathers          0          120.873772          0     pair-living  "
      ]
     },
     "execution_count": 6,
     "metadata": {},
     "output_type": "execute_result"
    }
   ],
   "source": [
    "# Visualizar últimos registros\n",
    "df_species_eda.tail(10)"
   ]
  },
  {
   "cell_type": "markdown",
   "id": "d93c294e",
   "metadata": {},
   "source": [
    "### EDA"
   ]
  },
  {
   "cell_type": "code",
   "execution_count": 7,
   "id": "fbe8510d",
   "metadata": {},
   "outputs": [
    {
     "data": {
      "text/html": [
       "<div>\n",
       "<style scoped>\n",
       "    .dataframe tbody tr th:only-of-type {\n",
       "        vertical-align: middle;\n",
       "    }\n",
       "\n",
       "    .dataframe tbody tr th {\n",
       "        vertical-align: top;\n",
       "    }\n",
       "\n",
       "    .dataframe thead th {\n",
       "        text-align: right;\n",
       "    }\n",
       "</style>\n",
       "<table border=\"1\" class=\"dataframe\">\n",
       "  <thead>\n",
       "    <tr style=\"text-align: right;\">\n",
       "      <th></th>\n",
       "      <th>body_mass_kg</th>\n",
       "      <th>num_legs</th>\n",
       "      <th>has_wings</th>\n",
       "      <th>tail_length_cm</th>\n",
       "      <th>eye_count</th>\n",
       "      <th>nocturnal</th>\n",
       "      <th>avg_lifespan_years</th>\n",
       "      <th>has_venom</th>\n",
       "    </tr>\n",
       "  </thead>\n",
       "  <tbody>\n",
       "    <tr>\n",
       "      <th>count</th>\n",
       "      <td>600.000000</td>\n",
       "      <td>600.000000</td>\n",
       "      <td>600.000000</td>\n",
       "      <td>600.000000</td>\n",
       "      <td>600.000000</td>\n",
       "      <td>600.000000</td>\n",
       "      <td>600.000000</td>\n",
       "      <td>600.000000</td>\n",
       "    </tr>\n",
       "    <tr>\n",
       "      <th>mean</th>\n",
       "      <td>49.784101</td>\n",
       "      <td>3.950000</td>\n",
       "      <td>0.285000</td>\n",
       "      <td>45.052394</td>\n",
       "      <td>2.203333</td>\n",
       "      <td>0.380000</td>\n",
       "      <td>120.024664</td>\n",
       "      <td>0.150000</td>\n",
       "    </tr>\n",
       "    <tr>\n",
       "      <th>std</th>\n",
       "      <td>19.297540</td>\n",
       "      <td>2.833882</td>\n",
       "      <td>0.451791</td>\n",
       "      <td>9.930405</td>\n",
       "      <td>1.074203</td>\n",
       "      <td>0.485791</td>\n",
       "      <td>0.976676</td>\n",
       "      <td>0.357369</td>\n",
       "    </tr>\n",
       "    <tr>\n",
       "      <th>min</th>\n",
       "      <td>5.000000</td>\n",
       "      <td>0.000000</td>\n",
       "      <td>0.000000</td>\n",
       "      <td>16.287173</td>\n",
       "      <td>0.000000</td>\n",
       "      <td>0.000000</td>\n",
       "      <td>117.364032</td>\n",
       "      <td>0.000000</td>\n",
       "    </tr>\n",
       "    <tr>\n",
       "      <th>25%</th>\n",
       "      <td>36.107729</td>\n",
       "      <td>2.000000</td>\n",
       "      <td>0.000000</td>\n",
       "      <td>38.446490</td>\n",
       "      <td>2.000000</td>\n",
       "      <td>0.000000</td>\n",
       "      <td>119.366525</td>\n",
       "      <td>0.000000</td>\n",
       "    </tr>\n",
       "    <tr>\n",
       "      <th>50%</th>\n",
       "      <td>50.154768</td>\n",
       "      <td>4.000000</td>\n",
       "      <td>0.000000</td>\n",
       "      <td>45.266501</td>\n",
       "      <td>2.000000</td>\n",
       "      <td>0.000000</td>\n",
       "      <td>120.008112</td>\n",
       "      <td>0.000000</td>\n",
       "    </tr>\n",
       "    <tr>\n",
       "      <th>75%</th>\n",
       "      <td>62.463348</td>\n",
       "      <td>6.000000</td>\n",
       "      <td>1.000000</td>\n",
       "      <td>51.858016</td>\n",
       "      <td>2.000000</td>\n",
       "      <td>1.000000</td>\n",
       "      <td>120.684532</td>\n",
       "      <td>0.000000</td>\n",
       "    </tr>\n",
       "    <tr>\n",
       "      <th>max</th>\n",
       "      <td>127.054630</td>\n",
       "      <td>8.000000</td>\n",
       "      <td>1.000000</td>\n",
       "      <td>72.308672</td>\n",
       "      <td>4.000000</td>\n",
       "      <td>1.000000</td>\n",
       "      <td>123.657702</td>\n",
       "      <td>1.000000</td>\n",
       "    </tr>\n",
       "  </tbody>\n",
       "</table>\n",
       "</div>"
      ],
      "text/plain": [
       "       body_mass_kg    num_legs   has_wings  tail_length_cm   eye_count  \\\n",
       "count    600.000000  600.000000  600.000000      600.000000  600.000000   \n",
       "mean      49.784101    3.950000    0.285000       45.052394    2.203333   \n",
       "std       19.297540    2.833882    0.451791        9.930405    1.074203   \n",
       "min        5.000000    0.000000    0.000000       16.287173    0.000000   \n",
       "25%       36.107729    2.000000    0.000000       38.446490    2.000000   \n",
       "50%       50.154768    4.000000    0.000000       45.266501    2.000000   \n",
       "75%       62.463348    6.000000    1.000000       51.858016    2.000000   \n",
       "max      127.054630    8.000000    1.000000       72.308672    4.000000   \n",
       "\n",
       "        nocturnal  avg_lifespan_years   has_venom  \n",
       "count  600.000000          600.000000  600.000000  \n",
       "mean     0.380000          120.024664    0.150000  \n",
       "std      0.485791            0.976676    0.357369  \n",
       "min      0.000000          117.364032    0.000000  \n",
       "25%      0.000000          119.366525    0.000000  \n",
       "50%      0.000000          120.008112    0.000000  \n",
       "75%      1.000000          120.684532    0.000000  \n",
       "max      1.000000          123.657702    1.000000  "
      ]
     },
     "execution_count": 7,
     "metadata": {},
     "output_type": "execute_result"
    }
   ],
   "source": [
    "# Estatísticas das variáveis \n",
    "df_species_eda.describe()"
   ]
  },
  {
   "cell_type": "markdown",
   "id": "32d2f362",
   "metadata": {},
   "source": [
    "#### Análise univariada"
   ]
  },
  {
   "cell_type": "code",
   "execution_count": null,
   "id": "f42baeab",
   "metadata": {},
   "outputs": [
    {
     "data": {
      "application/vnd.plotly.v1+json": {
       "config": {
        "plotlyServerURL": "https://plot.ly"
       },
       "data": [
        {
         "hovertemplate": "diet_type=%{x}<br>value=%{y}<extra></extra>",
         "legendgroup": "herbivore",
         "marker": {
          "color": "#636efa",
          "pattern": {
           "shape": ""
          }
         },
         "name": "herbivore",
         "orientation": "v",
         "showlegend": true,
         "textposition": "auto",
         "type": "bar",
         "x": [
          "herbivore"
         ],
         "xaxis": "x",
         "y": {
          "bdata": "AAAAAACAQkA=",
          "dtype": "f8"
         },
         "yaxis": "y"
        },
        {
         "hovertemplate": "diet_type=%{x}<br>value=%{y}<extra></extra>",
         "legendgroup": "omnivore",
         "marker": {
          "color": "#EF553B",
          "pattern": {
           "shape": ""
          }
         },
         "name": "omnivore",
         "orientation": "v",
         "showlegend": true,
         "textposition": "auto",
         "type": "bar",
         "x": [
          "omnivore"
         ],
         "xaxis": "x",
         "y": {
          "bdata": "AAAAAAAAQEA=",
          "dtype": "f8"
         },
         "yaxis": "y"
        },
        {
         "hovertemplate": "diet_type=%{x}<br>value=%{y}<extra></extra>",
         "legendgroup": "carnivore",
         "marker": {
          "color": "#00cc96",
          "pattern": {
           "shape": ""
          }
         },
         "name": "carnivore",
         "orientation": "v",
         "showlegend": true,
         "textposition": "auto",
         "type": "bar",
         "x": [
          "carnivore"
         ],
         "xaxis": "x",
         "y": {
          "bdata": "AAAAAAAAP0A=",
          "dtype": "f8"
         },
         "yaxis": "y"
        }
       ],
       "layout": {
        "barmode": "relative",
        "legend": {
         "title": {
          "text": "diet_type"
         },
         "tracegroupgap": 0
        },
        "margin": {
         "t": 60
        },
        "template": {
         "data": {
          "bar": [
           {
            "error_x": {
             "color": "#2a3f5f"
            },
            "error_y": {
             "color": "#2a3f5f"
            },
            "marker": {
             "line": {
              "color": "#E5ECF6",
              "width": 0.5
             },
             "pattern": {
              "fillmode": "overlay",
              "size": 10,
              "solidity": 0.2
             }
            },
            "type": "bar"
           }
          ],
          "barpolar": [
           {
            "marker": {
             "line": {
              "color": "#E5ECF6",
              "width": 0.5
             },
             "pattern": {
              "fillmode": "overlay",
              "size": 10,
              "solidity": 0.2
             }
            },
            "type": "barpolar"
           }
          ],
          "carpet": [
           {
            "aaxis": {
             "endlinecolor": "#2a3f5f",
             "gridcolor": "white",
             "linecolor": "white",
             "minorgridcolor": "white",
             "startlinecolor": "#2a3f5f"
            },
            "baxis": {
             "endlinecolor": "#2a3f5f",
             "gridcolor": "white",
             "linecolor": "white",
             "minorgridcolor": "white",
             "startlinecolor": "#2a3f5f"
            },
            "type": "carpet"
           }
          ],
          "choropleth": [
           {
            "colorbar": {
             "outlinewidth": 0,
             "ticks": ""
            },
            "type": "choropleth"
           }
          ],
          "contour": [
           {
            "colorbar": {
             "outlinewidth": 0,
             "ticks": ""
            },
            "colorscale": [
             [
              0,
              "#0d0887"
             ],
             [
              0.1111111111111111,
              "#46039f"
             ],
             [
              0.2222222222222222,
              "#7201a8"
             ],
             [
              0.3333333333333333,
              "#9c179e"
             ],
             [
              0.4444444444444444,
              "#bd3786"
             ],
             [
              0.5555555555555556,
              "#d8576b"
             ],
             [
              0.6666666666666666,
              "#ed7953"
             ],
             [
              0.7777777777777778,
              "#fb9f3a"
             ],
             [
              0.8888888888888888,
              "#fdca26"
             ],
             [
              1,
              "#f0f921"
             ]
            ],
            "type": "contour"
           }
          ],
          "contourcarpet": [
           {
            "colorbar": {
             "outlinewidth": 0,
             "ticks": ""
            },
            "type": "contourcarpet"
           }
          ],
          "heatmap": [
           {
            "colorbar": {
             "outlinewidth": 0,
             "ticks": ""
            },
            "colorscale": [
             [
              0,
              "#0d0887"
             ],
             [
              0.1111111111111111,
              "#46039f"
             ],
             [
              0.2222222222222222,
              "#7201a8"
             ],
             [
              0.3333333333333333,
              "#9c179e"
             ],
             [
              0.4444444444444444,
              "#bd3786"
             ],
             [
              0.5555555555555556,
              "#d8576b"
             ],
             [
              0.6666666666666666,
              "#ed7953"
             ],
             [
              0.7777777777777778,
              "#fb9f3a"
             ],
             [
              0.8888888888888888,
              "#fdca26"
             ],
             [
              1,
              "#f0f921"
             ]
            ],
            "type": "heatmap"
           }
          ],
          "histogram": [
           {
            "marker": {
             "pattern": {
              "fillmode": "overlay",
              "size": 10,
              "solidity": 0.2
             }
            },
            "type": "histogram"
           }
          ],
          "histogram2d": [
           {
            "colorbar": {
             "outlinewidth": 0,
             "ticks": ""
            },
            "colorscale": [
             [
              0,
              "#0d0887"
             ],
             [
              0.1111111111111111,
              "#46039f"
             ],
             [
              0.2222222222222222,
              "#7201a8"
             ],
             [
              0.3333333333333333,
              "#9c179e"
             ],
             [
              0.4444444444444444,
              "#bd3786"
             ],
             [
              0.5555555555555556,
              "#d8576b"
             ],
             [
              0.6666666666666666,
              "#ed7953"
             ],
             [
              0.7777777777777778,
              "#fb9f3a"
             ],
             [
              0.8888888888888888,
              "#fdca26"
             ],
             [
              1,
              "#f0f921"
             ]
            ],
            "type": "histogram2d"
           }
          ],
          "histogram2dcontour": [
           {
            "colorbar": {
             "outlinewidth": 0,
             "ticks": ""
            },
            "colorscale": [
             [
              0,
              "#0d0887"
             ],
             [
              0.1111111111111111,
              "#46039f"
             ],
             [
              0.2222222222222222,
              "#7201a8"
             ],
             [
              0.3333333333333333,
              "#9c179e"
             ],
             [
              0.4444444444444444,
              "#bd3786"
             ],
             [
              0.5555555555555556,
              "#d8576b"
             ],
             [
              0.6666666666666666,
              "#ed7953"
             ],
             [
              0.7777777777777778,
              "#fb9f3a"
             ],
             [
              0.8888888888888888,
              "#fdca26"
             ],
             [
              1,
              "#f0f921"
             ]
            ],
            "type": "histogram2dcontour"
           }
          ],
          "mesh3d": [
           {
            "colorbar": {
             "outlinewidth": 0,
             "ticks": ""
            },
            "type": "mesh3d"
           }
          ],
          "parcoords": [
           {
            "line": {
             "colorbar": {
              "outlinewidth": 0,
              "ticks": ""
             }
            },
            "type": "parcoords"
           }
          ],
          "pie": [
           {
            "automargin": true,
            "type": "pie"
           }
          ],
          "scatter": [
           {
            "fillpattern": {
             "fillmode": "overlay",
             "size": 10,
             "solidity": 0.2
            },
            "type": "scatter"
           }
          ],
          "scatter3d": [
           {
            "line": {
             "colorbar": {
              "outlinewidth": 0,
              "ticks": ""
             }
            },
            "marker": {
             "colorbar": {
              "outlinewidth": 0,
              "ticks": ""
             }
            },
            "type": "scatter3d"
           }
          ],
          "scattercarpet": [
           {
            "marker": {
             "colorbar": {
              "outlinewidth": 0,
              "ticks": ""
             }
            },
            "type": "scattercarpet"
           }
          ],
          "scattergeo": [
           {
            "marker": {
             "colorbar": {
              "outlinewidth": 0,
              "ticks": ""
             }
            },
            "type": "scattergeo"
           }
          ],
          "scattergl": [
           {
            "marker": {
             "colorbar": {
              "outlinewidth": 0,
              "ticks": ""
             }
            },
            "type": "scattergl"
           }
          ],
          "scattermap": [
           {
            "marker": {
             "colorbar": {
              "outlinewidth": 0,
              "ticks": ""
             }
            },
            "type": "scattermap"
           }
          ],
          "scattermapbox": [
           {
            "marker": {
             "colorbar": {
              "outlinewidth": 0,
              "ticks": ""
             }
            },
            "type": "scattermapbox"
           }
          ],
          "scatterpolar": [
           {
            "marker": {
             "colorbar": {
              "outlinewidth": 0,
              "ticks": ""
             }
            },
            "type": "scatterpolar"
           }
          ],
          "scatterpolargl": [
           {
            "marker": {
             "colorbar": {
              "outlinewidth": 0,
              "ticks": ""
             }
            },
            "type": "scatterpolargl"
           }
          ],
          "scatterternary": [
           {
            "marker": {
             "colorbar": {
              "outlinewidth": 0,
              "ticks": ""
             }
            },
            "type": "scatterternary"
           }
          ],
          "surface": [
           {
            "colorbar": {
             "outlinewidth": 0,
             "ticks": ""
            },
            "colorscale": [
             [
              0,
              "#0d0887"
             ],
             [
              0.1111111111111111,
              "#46039f"
             ],
             [
              0.2222222222222222,
              "#7201a8"
             ],
             [
              0.3333333333333333,
              "#9c179e"
             ],
             [
              0.4444444444444444,
              "#bd3786"
             ],
             [
              0.5555555555555556,
              "#d8576b"
             ],
             [
              0.6666666666666666,
              "#ed7953"
             ],
             [
              0.7777777777777778,
              "#fb9f3a"
             ],
             [
              0.8888888888888888,
              "#fdca26"
             ],
             [
              1,
              "#f0f921"
             ]
            ],
            "type": "surface"
           }
          ],
          "table": [
           {
            "cells": {
             "fill": {
              "color": "#EBF0F8"
             },
             "line": {
              "color": "white"
             }
            },
            "header": {
             "fill": {
              "color": "#C8D4E3"
             },
             "line": {
              "color": "white"
             }
            },
            "type": "table"
           }
          ]
         },
         "layout": {
          "annotationdefaults": {
           "arrowcolor": "#2a3f5f",
           "arrowhead": 0,
           "arrowwidth": 1
          },
          "autotypenumbers": "strict",
          "coloraxis": {
           "colorbar": {
            "outlinewidth": 0,
            "ticks": ""
           }
          },
          "colorscale": {
           "diverging": [
            [
             0,
             "#8e0152"
            ],
            [
             0.1,
             "#c51b7d"
            ],
            [
             0.2,
             "#de77ae"
            ],
            [
             0.3,
             "#f1b6da"
            ],
            [
             0.4,
             "#fde0ef"
            ],
            [
             0.5,
             "#f7f7f7"
            ],
            [
             0.6,
             "#e6f5d0"
            ],
            [
             0.7,
             "#b8e186"
            ],
            [
             0.8,
             "#7fbc41"
            ],
            [
             0.9,
             "#4d9221"
            ],
            [
             1,
             "#276419"
            ]
           ],
           "sequential": [
            [
             0,
             "#0d0887"
            ],
            [
             0.1111111111111111,
             "#46039f"
            ],
            [
             0.2222222222222222,
             "#7201a8"
            ],
            [
             0.3333333333333333,
             "#9c179e"
            ],
            [
             0.4444444444444444,
             "#bd3786"
            ],
            [
             0.5555555555555556,
             "#d8576b"
            ],
            [
             0.6666666666666666,
             "#ed7953"
            ],
            [
             0.7777777777777778,
             "#fb9f3a"
            ],
            [
             0.8888888888888888,
             "#fdca26"
            ],
            [
             1,
             "#f0f921"
            ]
           ],
           "sequentialminus": [
            [
             0,
             "#0d0887"
            ],
            [
             0.1111111111111111,
             "#46039f"
            ],
            [
             0.2222222222222222,
             "#7201a8"
            ],
            [
             0.3333333333333333,
             "#9c179e"
            ],
            [
             0.4444444444444444,
             "#bd3786"
            ],
            [
             0.5555555555555556,
             "#d8576b"
            ],
            [
             0.6666666666666666,
             "#ed7953"
            ],
            [
             0.7777777777777778,
             "#fb9f3a"
            ],
            [
             0.8888888888888888,
             "#fdca26"
            ],
            [
             1,
             "#f0f921"
            ]
           ]
          },
          "colorway": [
           "#636efa",
           "#EF553B",
           "#00cc96",
           "#ab63fa",
           "#FFA15A",
           "#19d3f3",
           "#FF6692",
           "#B6E880",
           "#FF97FF",
           "#FECB52"
          ],
          "font": {
           "color": "#2a3f5f"
          },
          "geo": {
           "bgcolor": "white",
           "lakecolor": "white",
           "landcolor": "#E5ECF6",
           "showlakes": true,
           "showland": true,
           "subunitcolor": "white"
          },
          "hoverlabel": {
           "align": "left"
          },
          "hovermode": "closest",
          "mapbox": {
           "style": "light"
          },
          "paper_bgcolor": "white",
          "plot_bgcolor": "#E5ECF6",
          "polar": {
           "angularaxis": {
            "gridcolor": "white",
            "linecolor": "white",
            "ticks": ""
           },
           "bgcolor": "#E5ECF6",
           "radialaxis": {
            "gridcolor": "white",
            "linecolor": "white",
            "ticks": ""
           }
          },
          "scene": {
           "xaxis": {
            "backgroundcolor": "#E5ECF6",
            "gridcolor": "white",
            "gridwidth": 2,
            "linecolor": "white",
            "showbackground": true,
            "ticks": "",
            "zerolinecolor": "white"
           },
           "yaxis": {
            "backgroundcolor": "#E5ECF6",
            "gridcolor": "white",
            "gridwidth": 2,
            "linecolor": "white",
            "showbackground": true,
            "ticks": "",
            "zerolinecolor": "white"
           },
           "zaxis": {
            "backgroundcolor": "#E5ECF6",
            "gridcolor": "white",
            "gridwidth": 2,
            "linecolor": "white",
            "showbackground": true,
            "ticks": "",
            "zerolinecolor": "white"
           }
          },
          "shapedefaults": {
           "line": {
            "color": "#2a3f5f"
           }
          },
          "ternary": {
           "aaxis": {
            "gridcolor": "white",
            "linecolor": "white",
            "ticks": ""
           },
           "baxis": {
            "gridcolor": "white",
            "linecolor": "white",
            "ticks": ""
           },
           "bgcolor": "#E5ECF6",
           "caxis": {
            "gridcolor": "white",
            "linecolor": "white",
            "ticks": ""
           }
          },
          "title": {
           "x": 0.05
          },
          "xaxis": {
           "automargin": true,
           "gridcolor": "white",
           "linecolor": "white",
           "ticks": "",
           "title": {
            "standoff": 15
           },
           "zerolinecolor": "white",
           "zerolinewidth": 2
          },
          "yaxis": {
           "automargin": true,
           "gridcolor": "white",
           "linecolor": "white",
           "ticks": "",
           "title": {
            "standoff": 15
           },
           "zerolinecolor": "white",
           "zerolinewidth": 2
          }
         }
        },
        "xaxis": {
         "anchor": "y",
         "categoryarray": [
          "herbivore",
          "omnivore",
          "carnivore"
         ],
         "categoryorder": "array",
         "domain": [
          0,
          1
         ],
         "title": {
          "text": "diet_type"
         }
        },
        "yaxis": {
         "anchor": "x",
         "domain": [
          0,
          1
         ],
         "title": {
          "text": "value"
         }
        }
       }
      }
     },
     "metadata": {},
     "output_type": "display_data"
    }
   ],
   "source": [
    "# Distribuição da variável 'diet_type' em %\n",
    "percentual_diet_type= df_species_eda.value_counts('diet_type') / len(df_species_eda) * 100\n",
    "px.bar(percentual_diet_type, color=percentual_diet_type.index)"
   ]
  },
  {
   "cell_type": "code",
   "execution_count": null,
   "id": "f90e264c",
   "metadata": {},
   "outputs": [
    {
     "data": {
      "application/vnd.plotly.v1+json": {
       "config": {
        "plotlyServerURL": "https://plot.ly"
       },
       "data": [
        {
         "hovertemplate": "social_behavior=%{x}<br>value=%{y}<extra></extra>",
         "legendgroup": "pair-living",
         "marker": {
          "color": "#636efa",
          "pattern": {
           "shape": ""
          }
         },
         "name": "pair-living",
         "orientation": "v",
         "showlegend": true,
         "textposition": "auto",
         "type": "bar",
         "x": [
          "pair-living"
         ],
         "xaxis": "x",
         "y": {
          "bdata": "AAAAAADAQUA=",
          "dtype": "f8"
         },
         "yaxis": "y"
        },
        {
         "hovertemplate": "social_behavior=%{x}<br>value=%{y}<extra></extra>",
         "legendgroup": "group-living",
         "marker": {
          "color": "#EF553B",
          "pattern": {
           "shape": ""
          }
         },
         "name": "group-living",
         "orientation": "v",
         "showlegend": true,
         "textposition": "auto",
         "type": "bar",
         "x": [
          "group-living"
         ],
         "xaxis": "x",
         "y": {
          "bdata": "VVVVVVWVQEA=",
          "dtype": "f8"
         },
         "yaxis": "y"
        },
        {
         "hovertemplate": "social_behavior=%{x}<br>value=%{y}<extra></extra>",
         "legendgroup": "solitary",
         "marker": {
          "color": "#00cc96",
          "pattern": {
           "shape": ""
          }
         },
         "name": "solitary",
         "orientation": "v",
         "showlegend": true,
         "textposition": "auto",
         "type": "bar",
         "x": [
          "solitary"
         ],
         "xaxis": "x",
         "y": {
          "bdata": "VlVVVVVVP0A=",
          "dtype": "f8"
         },
         "yaxis": "y"
        }
       ],
       "layout": {
        "barmode": "relative",
        "legend": {
         "title": {
          "text": "social_behavior"
         },
         "tracegroupgap": 0
        },
        "margin": {
         "t": 60
        },
        "template": {
         "data": {
          "bar": [
           {
            "error_x": {
             "color": "#2a3f5f"
            },
            "error_y": {
             "color": "#2a3f5f"
            },
            "marker": {
             "line": {
              "color": "#E5ECF6",
              "width": 0.5
             },
             "pattern": {
              "fillmode": "overlay",
              "size": 10,
              "solidity": 0.2
             }
            },
            "type": "bar"
           }
          ],
          "barpolar": [
           {
            "marker": {
             "line": {
              "color": "#E5ECF6",
              "width": 0.5
             },
             "pattern": {
              "fillmode": "overlay",
              "size": 10,
              "solidity": 0.2
             }
            },
            "type": "barpolar"
           }
          ],
          "carpet": [
           {
            "aaxis": {
             "endlinecolor": "#2a3f5f",
             "gridcolor": "white",
             "linecolor": "white",
             "minorgridcolor": "white",
             "startlinecolor": "#2a3f5f"
            },
            "baxis": {
             "endlinecolor": "#2a3f5f",
             "gridcolor": "white",
             "linecolor": "white",
             "minorgridcolor": "white",
             "startlinecolor": "#2a3f5f"
            },
            "type": "carpet"
           }
          ],
          "choropleth": [
           {
            "colorbar": {
             "outlinewidth": 0,
             "ticks": ""
            },
            "type": "choropleth"
           }
          ],
          "contour": [
           {
            "colorbar": {
             "outlinewidth": 0,
             "ticks": ""
            },
            "colorscale": [
             [
              0,
              "#0d0887"
             ],
             [
              0.1111111111111111,
              "#46039f"
             ],
             [
              0.2222222222222222,
              "#7201a8"
             ],
             [
              0.3333333333333333,
              "#9c179e"
             ],
             [
              0.4444444444444444,
              "#bd3786"
             ],
             [
              0.5555555555555556,
              "#d8576b"
             ],
             [
              0.6666666666666666,
              "#ed7953"
             ],
             [
              0.7777777777777778,
              "#fb9f3a"
             ],
             [
              0.8888888888888888,
              "#fdca26"
             ],
             [
              1,
              "#f0f921"
             ]
            ],
            "type": "contour"
           }
          ],
          "contourcarpet": [
           {
            "colorbar": {
             "outlinewidth": 0,
             "ticks": ""
            },
            "type": "contourcarpet"
           }
          ],
          "heatmap": [
           {
            "colorbar": {
             "outlinewidth": 0,
             "ticks": ""
            },
            "colorscale": [
             [
              0,
              "#0d0887"
             ],
             [
              0.1111111111111111,
              "#46039f"
             ],
             [
              0.2222222222222222,
              "#7201a8"
             ],
             [
              0.3333333333333333,
              "#9c179e"
             ],
             [
              0.4444444444444444,
              "#bd3786"
             ],
             [
              0.5555555555555556,
              "#d8576b"
             ],
             [
              0.6666666666666666,
              "#ed7953"
             ],
             [
              0.7777777777777778,
              "#fb9f3a"
             ],
             [
              0.8888888888888888,
              "#fdca26"
             ],
             [
              1,
              "#f0f921"
             ]
            ],
            "type": "heatmap"
           }
          ],
          "histogram": [
           {
            "marker": {
             "pattern": {
              "fillmode": "overlay",
              "size": 10,
              "solidity": 0.2
             }
            },
            "type": "histogram"
           }
          ],
          "histogram2d": [
           {
            "colorbar": {
             "outlinewidth": 0,
             "ticks": ""
            },
            "colorscale": [
             [
              0,
              "#0d0887"
             ],
             [
              0.1111111111111111,
              "#46039f"
             ],
             [
              0.2222222222222222,
              "#7201a8"
             ],
             [
              0.3333333333333333,
              "#9c179e"
             ],
             [
              0.4444444444444444,
              "#bd3786"
             ],
             [
              0.5555555555555556,
              "#d8576b"
             ],
             [
              0.6666666666666666,
              "#ed7953"
             ],
             [
              0.7777777777777778,
              "#fb9f3a"
             ],
             [
              0.8888888888888888,
              "#fdca26"
             ],
             [
              1,
              "#f0f921"
             ]
            ],
            "type": "histogram2d"
           }
          ],
          "histogram2dcontour": [
           {
            "colorbar": {
             "outlinewidth": 0,
             "ticks": ""
            },
            "colorscale": [
             [
              0,
              "#0d0887"
             ],
             [
              0.1111111111111111,
              "#46039f"
             ],
             [
              0.2222222222222222,
              "#7201a8"
             ],
             [
              0.3333333333333333,
              "#9c179e"
             ],
             [
              0.4444444444444444,
              "#bd3786"
             ],
             [
              0.5555555555555556,
              "#d8576b"
             ],
             [
              0.6666666666666666,
              "#ed7953"
             ],
             [
              0.7777777777777778,
              "#fb9f3a"
             ],
             [
              0.8888888888888888,
              "#fdca26"
             ],
             [
              1,
              "#f0f921"
             ]
            ],
            "type": "histogram2dcontour"
           }
          ],
          "mesh3d": [
           {
            "colorbar": {
             "outlinewidth": 0,
             "ticks": ""
            },
            "type": "mesh3d"
           }
          ],
          "parcoords": [
           {
            "line": {
             "colorbar": {
              "outlinewidth": 0,
              "ticks": ""
             }
            },
            "type": "parcoords"
           }
          ],
          "pie": [
           {
            "automargin": true,
            "type": "pie"
           }
          ],
          "scatter": [
           {
            "fillpattern": {
             "fillmode": "overlay",
             "size": 10,
             "solidity": 0.2
            },
            "type": "scatter"
           }
          ],
          "scatter3d": [
           {
            "line": {
             "colorbar": {
              "outlinewidth": 0,
              "ticks": ""
             }
            },
            "marker": {
             "colorbar": {
              "outlinewidth": 0,
              "ticks": ""
             }
            },
            "type": "scatter3d"
           }
          ],
          "scattercarpet": [
           {
            "marker": {
             "colorbar": {
              "outlinewidth": 0,
              "ticks": ""
             }
            },
            "type": "scattercarpet"
           }
          ],
          "scattergeo": [
           {
            "marker": {
             "colorbar": {
              "outlinewidth": 0,
              "ticks": ""
             }
            },
            "type": "scattergeo"
           }
          ],
          "scattergl": [
           {
            "marker": {
             "colorbar": {
              "outlinewidth": 0,
              "ticks": ""
             }
            },
            "type": "scattergl"
           }
          ],
          "scattermap": [
           {
            "marker": {
             "colorbar": {
              "outlinewidth": 0,
              "ticks": ""
             }
            },
            "type": "scattermap"
           }
          ],
          "scattermapbox": [
           {
            "marker": {
             "colorbar": {
              "outlinewidth": 0,
              "ticks": ""
             }
            },
            "type": "scattermapbox"
           }
          ],
          "scatterpolar": [
           {
            "marker": {
             "colorbar": {
              "outlinewidth": 0,
              "ticks": ""
             }
            },
            "type": "scatterpolar"
           }
          ],
          "scatterpolargl": [
           {
            "marker": {
             "colorbar": {
              "outlinewidth": 0,
              "ticks": ""
             }
            },
            "type": "scatterpolargl"
           }
          ],
          "scatterternary": [
           {
            "marker": {
             "colorbar": {
              "outlinewidth": 0,
              "ticks": ""
             }
            },
            "type": "scatterternary"
           }
          ],
          "surface": [
           {
            "colorbar": {
             "outlinewidth": 0,
             "ticks": ""
            },
            "colorscale": [
             [
              0,
              "#0d0887"
             ],
             [
              0.1111111111111111,
              "#46039f"
             ],
             [
              0.2222222222222222,
              "#7201a8"
             ],
             [
              0.3333333333333333,
              "#9c179e"
             ],
             [
              0.4444444444444444,
              "#bd3786"
             ],
             [
              0.5555555555555556,
              "#d8576b"
             ],
             [
              0.6666666666666666,
              "#ed7953"
             ],
             [
              0.7777777777777778,
              "#fb9f3a"
             ],
             [
              0.8888888888888888,
              "#fdca26"
             ],
             [
              1,
              "#f0f921"
             ]
            ],
            "type": "surface"
           }
          ],
          "table": [
           {
            "cells": {
             "fill": {
              "color": "#EBF0F8"
             },
             "line": {
              "color": "white"
             }
            },
            "header": {
             "fill": {
              "color": "#C8D4E3"
             },
             "line": {
              "color": "white"
             }
            },
            "type": "table"
           }
          ]
         },
         "layout": {
          "annotationdefaults": {
           "arrowcolor": "#2a3f5f",
           "arrowhead": 0,
           "arrowwidth": 1
          },
          "autotypenumbers": "strict",
          "coloraxis": {
           "colorbar": {
            "outlinewidth": 0,
            "ticks": ""
           }
          },
          "colorscale": {
           "diverging": [
            [
             0,
             "#8e0152"
            ],
            [
             0.1,
             "#c51b7d"
            ],
            [
             0.2,
             "#de77ae"
            ],
            [
             0.3,
             "#f1b6da"
            ],
            [
             0.4,
             "#fde0ef"
            ],
            [
             0.5,
             "#f7f7f7"
            ],
            [
             0.6,
             "#e6f5d0"
            ],
            [
             0.7,
             "#b8e186"
            ],
            [
             0.8,
             "#7fbc41"
            ],
            [
             0.9,
             "#4d9221"
            ],
            [
             1,
             "#276419"
            ]
           ],
           "sequential": [
            [
             0,
             "#0d0887"
            ],
            [
             0.1111111111111111,
             "#46039f"
            ],
            [
             0.2222222222222222,
             "#7201a8"
            ],
            [
             0.3333333333333333,
             "#9c179e"
            ],
            [
             0.4444444444444444,
             "#bd3786"
            ],
            [
             0.5555555555555556,
             "#d8576b"
            ],
            [
             0.6666666666666666,
             "#ed7953"
            ],
            [
             0.7777777777777778,
             "#fb9f3a"
            ],
            [
             0.8888888888888888,
             "#fdca26"
            ],
            [
             1,
             "#f0f921"
            ]
           ],
           "sequentialminus": [
            [
             0,
             "#0d0887"
            ],
            [
             0.1111111111111111,
             "#46039f"
            ],
            [
             0.2222222222222222,
             "#7201a8"
            ],
            [
             0.3333333333333333,
             "#9c179e"
            ],
            [
             0.4444444444444444,
             "#bd3786"
            ],
            [
             0.5555555555555556,
             "#d8576b"
            ],
            [
             0.6666666666666666,
             "#ed7953"
            ],
            [
             0.7777777777777778,
             "#fb9f3a"
            ],
            [
             0.8888888888888888,
             "#fdca26"
            ],
            [
             1,
             "#f0f921"
            ]
           ]
          },
          "colorway": [
           "#636efa",
           "#EF553B",
           "#00cc96",
           "#ab63fa",
           "#FFA15A",
           "#19d3f3",
           "#FF6692",
           "#B6E880",
           "#FF97FF",
           "#FECB52"
          ],
          "font": {
           "color": "#2a3f5f"
          },
          "geo": {
           "bgcolor": "white",
           "lakecolor": "white",
           "landcolor": "#E5ECF6",
           "showlakes": true,
           "showland": true,
           "subunitcolor": "white"
          },
          "hoverlabel": {
           "align": "left"
          },
          "hovermode": "closest",
          "mapbox": {
           "style": "light"
          },
          "paper_bgcolor": "white",
          "plot_bgcolor": "#E5ECF6",
          "polar": {
           "angularaxis": {
            "gridcolor": "white",
            "linecolor": "white",
            "ticks": ""
           },
           "bgcolor": "#E5ECF6",
           "radialaxis": {
            "gridcolor": "white",
            "linecolor": "white",
            "ticks": ""
           }
          },
          "scene": {
           "xaxis": {
            "backgroundcolor": "#E5ECF6",
            "gridcolor": "white",
            "gridwidth": 2,
            "linecolor": "white",
            "showbackground": true,
            "ticks": "",
            "zerolinecolor": "white"
           },
           "yaxis": {
            "backgroundcolor": "#E5ECF6",
            "gridcolor": "white",
            "gridwidth": 2,
            "linecolor": "white",
            "showbackground": true,
            "ticks": "",
            "zerolinecolor": "white"
           },
           "zaxis": {
            "backgroundcolor": "#E5ECF6",
            "gridcolor": "white",
            "gridwidth": 2,
            "linecolor": "white",
            "showbackground": true,
            "ticks": "",
            "zerolinecolor": "white"
           }
          },
          "shapedefaults": {
           "line": {
            "color": "#2a3f5f"
           }
          },
          "ternary": {
           "aaxis": {
            "gridcolor": "white",
            "linecolor": "white",
            "ticks": ""
           },
           "baxis": {
            "gridcolor": "white",
            "linecolor": "white",
            "ticks": ""
           },
           "bgcolor": "#E5ECF6",
           "caxis": {
            "gridcolor": "white",
            "linecolor": "white",
            "ticks": ""
           }
          },
          "title": {
           "x": 0.05
          },
          "xaxis": {
           "automargin": true,
           "gridcolor": "white",
           "linecolor": "white",
           "ticks": "",
           "title": {
            "standoff": 15
           },
           "zerolinecolor": "white",
           "zerolinewidth": 2
          },
          "yaxis": {
           "automargin": true,
           "gridcolor": "white",
           "linecolor": "white",
           "ticks": "",
           "title": {
            "standoff": 15
           },
           "zerolinecolor": "white",
           "zerolinewidth": 2
          }
         }
        },
        "xaxis": {
         "anchor": "y",
         "categoryarray": [
          "pair-living",
          "group-living",
          "solitary"
         ],
         "categoryorder": "array",
         "domain": [
          0,
          1
         ],
         "title": {
          "text": "social_behavior"
         }
        },
        "yaxis": {
         "anchor": "x",
         "domain": [
          0,
          1
         ],
         "title": {
          "text": "value"
         }
        }
       }
      }
     },
     "metadata": {},
     "output_type": "display_data"
    }
   ],
   "source": [
    "# Distribuição da variável 'social_behavior' em %\n",
    "percentual_social_behavior = df_species_eda.value_counts('social_behavior') / len(df_species_eda) * 100\n",
    "px.bar(percentual_social_behavior, color=percentual_social_behavior.index)"
   ]
  },
  {
   "cell_type": "code",
   "execution_count": null,
   "id": "688c9d44",
   "metadata": {},
   "outputs": [
    {
     "data": {
      "application/vnd.plotly.v1+json": {
       "config": {
        "plotlyServerURL": "https://plot.ly"
       },
       "data": [
        {
         "hovertemplate": "skin_type=%{x}<br>value=%{y}<extra></extra>",
         "legendgroup": "skin",
         "marker": {
          "color": "#636efa",
          "pattern": {
           "shape": ""
          }
         },
         "name": "skin",
         "orientation": "v",
         "showlegend": true,
         "textposition": "auto",
         "type": "bar",
         "x": [
          "skin"
         ],
         "xaxis": "x",
         "y": {
          "bdata": "AAAAAAAAOkA=",
          "dtype": "f8"
         },
         "yaxis": "y"
        },
        {
         "hovertemplate": "skin_type=%{x}<br>value=%{y}<extra></extra>",
         "legendgroup": "fur",
         "marker": {
          "color": "#EF553B",
          "pattern": {
           "shape": ""
          }
         },
         "name": "fur",
         "orientation": "v",
         "showlegend": true,
         "textposition": "auto",
         "type": "bar",
         "x": [
          "fur"
         ],
         "xaxis": "x",
         "y": {
          "bdata": "qqqqqqoqOUA=",
          "dtype": "f8"
         },
         "yaxis": "y"
        },
        {
         "hovertemplate": "skin_type=%{x}<br>value=%{y}<extra></extra>",
         "legendgroup": "feathers",
         "marker": {
          "color": "#00cc96",
          "pattern": {
           "shape": ""
          }
         },
         "name": "feathers",
         "orientation": "v",
         "showlegend": true,
         "textposition": "auto",
         "type": "bar",
         "x": [
          "feathers"
         ],
         "xaxis": "x",
         "y": {
          "bdata": "AAAAAAAAOUA=",
          "dtype": "f8"
         },
         "yaxis": "y"
        },
        {
         "hovertemplate": "skin_type=%{x}<br>value=%{y}<extra></extra>",
         "legendgroup": "scales",
         "marker": {
          "color": "#ab63fa",
          "pattern": {
           "shape": ""
          }
         },
         "name": "scales",
         "orientation": "v",
         "showlegend": true,
         "textposition": "auto",
         "type": "bar",
         "x": [
          "scales"
         ],
         "xaxis": "x",
         "y": {
          "bdata": "VlVVVVXVN0A=",
          "dtype": "f8"
         },
         "yaxis": "y"
        }
       ],
       "layout": {
        "barmode": "relative",
        "legend": {
         "title": {
          "text": "skin_type"
         },
         "tracegroupgap": 0
        },
        "margin": {
         "t": 60
        },
        "template": {
         "data": {
          "bar": [
           {
            "error_x": {
             "color": "#2a3f5f"
            },
            "error_y": {
             "color": "#2a3f5f"
            },
            "marker": {
             "line": {
              "color": "#E5ECF6",
              "width": 0.5
             },
             "pattern": {
              "fillmode": "overlay",
              "size": 10,
              "solidity": 0.2
             }
            },
            "type": "bar"
           }
          ],
          "barpolar": [
           {
            "marker": {
             "line": {
              "color": "#E5ECF6",
              "width": 0.5
             },
             "pattern": {
              "fillmode": "overlay",
              "size": 10,
              "solidity": 0.2
             }
            },
            "type": "barpolar"
           }
          ],
          "carpet": [
           {
            "aaxis": {
             "endlinecolor": "#2a3f5f",
             "gridcolor": "white",
             "linecolor": "white",
             "minorgridcolor": "white",
             "startlinecolor": "#2a3f5f"
            },
            "baxis": {
             "endlinecolor": "#2a3f5f",
             "gridcolor": "white",
             "linecolor": "white",
             "minorgridcolor": "white",
             "startlinecolor": "#2a3f5f"
            },
            "type": "carpet"
           }
          ],
          "choropleth": [
           {
            "colorbar": {
             "outlinewidth": 0,
             "ticks": ""
            },
            "type": "choropleth"
           }
          ],
          "contour": [
           {
            "colorbar": {
             "outlinewidth": 0,
             "ticks": ""
            },
            "colorscale": [
             [
              0,
              "#0d0887"
             ],
             [
              0.1111111111111111,
              "#46039f"
             ],
             [
              0.2222222222222222,
              "#7201a8"
             ],
             [
              0.3333333333333333,
              "#9c179e"
             ],
             [
              0.4444444444444444,
              "#bd3786"
             ],
             [
              0.5555555555555556,
              "#d8576b"
             ],
             [
              0.6666666666666666,
              "#ed7953"
             ],
             [
              0.7777777777777778,
              "#fb9f3a"
             ],
             [
              0.8888888888888888,
              "#fdca26"
             ],
             [
              1,
              "#f0f921"
             ]
            ],
            "type": "contour"
           }
          ],
          "contourcarpet": [
           {
            "colorbar": {
             "outlinewidth": 0,
             "ticks": ""
            },
            "type": "contourcarpet"
           }
          ],
          "heatmap": [
           {
            "colorbar": {
             "outlinewidth": 0,
             "ticks": ""
            },
            "colorscale": [
             [
              0,
              "#0d0887"
             ],
             [
              0.1111111111111111,
              "#46039f"
             ],
             [
              0.2222222222222222,
              "#7201a8"
             ],
             [
              0.3333333333333333,
              "#9c179e"
             ],
             [
              0.4444444444444444,
              "#bd3786"
             ],
             [
              0.5555555555555556,
              "#d8576b"
             ],
             [
              0.6666666666666666,
              "#ed7953"
             ],
             [
              0.7777777777777778,
              "#fb9f3a"
             ],
             [
              0.8888888888888888,
              "#fdca26"
             ],
             [
              1,
              "#f0f921"
             ]
            ],
            "type": "heatmap"
           }
          ],
          "histogram": [
           {
            "marker": {
             "pattern": {
              "fillmode": "overlay",
              "size": 10,
              "solidity": 0.2
             }
            },
            "type": "histogram"
           }
          ],
          "histogram2d": [
           {
            "colorbar": {
             "outlinewidth": 0,
             "ticks": ""
            },
            "colorscale": [
             [
              0,
              "#0d0887"
             ],
             [
              0.1111111111111111,
              "#46039f"
             ],
             [
              0.2222222222222222,
              "#7201a8"
             ],
             [
              0.3333333333333333,
              "#9c179e"
             ],
             [
              0.4444444444444444,
              "#bd3786"
             ],
             [
              0.5555555555555556,
              "#d8576b"
             ],
             [
              0.6666666666666666,
              "#ed7953"
             ],
             [
              0.7777777777777778,
              "#fb9f3a"
             ],
             [
              0.8888888888888888,
              "#fdca26"
             ],
             [
              1,
              "#f0f921"
             ]
            ],
            "type": "histogram2d"
           }
          ],
          "histogram2dcontour": [
           {
            "colorbar": {
             "outlinewidth": 0,
             "ticks": ""
            },
            "colorscale": [
             [
              0,
              "#0d0887"
             ],
             [
              0.1111111111111111,
              "#46039f"
             ],
             [
              0.2222222222222222,
              "#7201a8"
             ],
             [
              0.3333333333333333,
              "#9c179e"
             ],
             [
              0.4444444444444444,
              "#bd3786"
             ],
             [
              0.5555555555555556,
              "#d8576b"
             ],
             [
              0.6666666666666666,
              "#ed7953"
             ],
             [
              0.7777777777777778,
              "#fb9f3a"
             ],
             [
              0.8888888888888888,
              "#fdca26"
             ],
             [
              1,
              "#f0f921"
             ]
            ],
            "type": "histogram2dcontour"
           }
          ],
          "mesh3d": [
           {
            "colorbar": {
             "outlinewidth": 0,
             "ticks": ""
            },
            "type": "mesh3d"
           }
          ],
          "parcoords": [
           {
            "line": {
             "colorbar": {
              "outlinewidth": 0,
              "ticks": ""
             }
            },
            "type": "parcoords"
           }
          ],
          "pie": [
           {
            "automargin": true,
            "type": "pie"
           }
          ],
          "scatter": [
           {
            "fillpattern": {
             "fillmode": "overlay",
             "size": 10,
             "solidity": 0.2
            },
            "type": "scatter"
           }
          ],
          "scatter3d": [
           {
            "line": {
             "colorbar": {
              "outlinewidth": 0,
              "ticks": ""
             }
            },
            "marker": {
             "colorbar": {
              "outlinewidth": 0,
              "ticks": ""
             }
            },
            "type": "scatter3d"
           }
          ],
          "scattercarpet": [
           {
            "marker": {
             "colorbar": {
              "outlinewidth": 0,
              "ticks": ""
             }
            },
            "type": "scattercarpet"
           }
          ],
          "scattergeo": [
           {
            "marker": {
             "colorbar": {
              "outlinewidth": 0,
              "ticks": ""
             }
            },
            "type": "scattergeo"
           }
          ],
          "scattergl": [
           {
            "marker": {
             "colorbar": {
              "outlinewidth": 0,
              "ticks": ""
             }
            },
            "type": "scattergl"
           }
          ],
          "scattermap": [
           {
            "marker": {
             "colorbar": {
              "outlinewidth": 0,
              "ticks": ""
             }
            },
            "type": "scattermap"
           }
          ],
          "scattermapbox": [
           {
            "marker": {
             "colorbar": {
              "outlinewidth": 0,
              "ticks": ""
             }
            },
            "type": "scattermapbox"
           }
          ],
          "scatterpolar": [
           {
            "marker": {
             "colorbar": {
              "outlinewidth": 0,
              "ticks": ""
             }
            },
            "type": "scatterpolar"
           }
          ],
          "scatterpolargl": [
           {
            "marker": {
             "colorbar": {
              "outlinewidth": 0,
              "ticks": ""
             }
            },
            "type": "scatterpolargl"
           }
          ],
          "scatterternary": [
           {
            "marker": {
             "colorbar": {
              "outlinewidth": 0,
              "ticks": ""
             }
            },
            "type": "scatterternary"
           }
          ],
          "surface": [
           {
            "colorbar": {
             "outlinewidth": 0,
             "ticks": ""
            },
            "colorscale": [
             [
              0,
              "#0d0887"
             ],
             [
              0.1111111111111111,
              "#46039f"
             ],
             [
              0.2222222222222222,
              "#7201a8"
             ],
             [
              0.3333333333333333,
              "#9c179e"
             ],
             [
              0.4444444444444444,
              "#bd3786"
             ],
             [
              0.5555555555555556,
              "#d8576b"
             ],
             [
              0.6666666666666666,
              "#ed7953"
             ],
             [
              0.7777777777777778,
              "#fb9f3a"
             ],
             [
              0.8888888888888888,
              "#fdca26"
             ],
             [
              1,
              "#f0f921"
             ]
            ],
            "type": "surface"
           }
          ],
          "table": [
           {
            "cells": {
             "fill": {
              "color": "#EBF0F8"
             },
             "line": {
              "color": "white"
             }
            },
            "header": {
             "fill": {
              "color": "#C8D4E3"
             },
             "line": {
              "color": "white"
             }
            },
            "type": "table"
           }
          ]
         },
         "layout": {
          "annotationdefaults": {
           "arrowcolor": "#2a3f5f",
           "arrowhead": 0,
           "arrowwidth": 1
          },
          "autotypenumbers": "strict",
          "coloraxis": {
           "colorbar": {
            "outlinewidth": 0,
            "ticks": ""
           }
          },
          "colorscale": {
           "diverging": [
            [
             0,
             "#8e0152"
            ],
            [
             0.1,
             "#c51b7d"
            ],
            [
             0.2,
             "#de77ae"
            ],
            [
             0.3,
             "#f1b6da"
            ],
            [
             0.4,
             "#fde0ef"
            ],
            [
             0.5,
             "#f7f7f7"
            ],
            [
             0.6,
             "#e6f5d0"
            ],
            [
             0.7,
             "#b8e186"
            ],
            [
             0.8,
             "#7fbc41"
            ],
            [
             0.9,
             "#4d9221"
            ],
            [
             1,
             "#276419"
            ]
           ],
           "sequential": [
            [
             0,
             "#0d0887"
            ],
            [
             0.1111111111111111,
             "#46039f"
            ],
            [
             0.2222222222222222,
             "#7201a8"
            ],
            [
             0.3333333333333333,
             "#9c179e"
            ],
            [
             0.4444444444444444,
             "#bd3786"
            ],
            [
             0.5555555555555556,
             "#d8576b"
            ],
            [
             0.6666666666666666,
             "#ed7953"
            ],
            [
             0.7777777777777778,
             "#fb9f3a"
            ],
            [
             0.8888888888888888,
             "#fdca26"
            ],
            [
             1,
             "#f0f921"
            ]
           ],
           "sequentialminus": [
            [
             0,
             "#0d0887"
            ],
            [
             0.1111111111111111,
             "#46039f"
            ],
            [
             0.2222222222222222,
             "#7201a8"
            ],
            [
             0.3333333333333333,
             "#9c179e"
            ],
            [
             0.4444444444444444,
             "#bd3786"
            ],
            [
             0.5555555555555556,
             "#d8576b"
            ],
            [
             0.6666666666666666,
             "#ed7953"
            ],
            [
             0.7777777777777778,
             "#fb9f3a"
            ],
            [
             0.8888888888888888,
             "#fdca26"
            ],
            [
             1,
             "#f0f921"
            ]
           ]
          },
          "colorway": [
           "#636efa",
           "#EF553B",
           "#00cc96",
           "#ab63fa",
           "#FFA15A",
           "#19d3f3",
           "#FF6692",
           "#B6E880",
           "#FF97FF",
           "#FECB52"
          ],
          "font": {
           "color": "#2a3f5f"
          },
          "geo": {
           "bgcolor": "white",
           "lakecolor": "white",
           "landcolor": "#E5ECF6",
           "showlakes": true,
           "showland": true,
           "subunitcolor": "white"
          },
          "hoverlabel": {
           "align": "left"
          },
          "hovermode": "closest",
          "mapbox": {
           "style": "light"
          },
          "paper_bgcolor": "white",
          "plot_bgcolor": "#E5ECF6",
          "polar": {
           "angularaxis": {
            "gridcolor": "white",
            "linecolor": "white",
            "ticks": ""
           },
           "bgcolor": "#E5ECF6",
           "radialaxis": {
            "gridcolor": "white",
            "linecolor": "white",
            "ticks": ""
           }
          },
          "scene": {
           "xaxis": {
            "backgroundcolor": "#E5ECF6",
            "gridcolor": "white",
            "gridwidth": 2,
            "linecolor": "white",
            "showbackground": true,
            "ticks": "",
            "zerolinecolor": "white"
           },
           "yaxis": {
            "backgroundcolor": "#E5ECF6",
            "gridcolor": "white",
            "gridwidth": 2,
            "linecolor": "white",
            "showbackground": true,
            "ticks": "",
            "zerolinecolor": "white"
           },
           "zaxis": {
            "backgroundcolor": "#E5ECF6",
            "gridcolor": "white",
            "gridwidth": 2,
            "linecolor": "white",
            "showbackground": true,
            "ticks": "",
            "zerolinecolor": "white"
           }
          },
          "shapedefaults": {
           "line": {
            "color": "#2a3f5f"
           }
          },
          "ternary": {
           "aaxis": {
            "gridcolor": "white",
            "linecolor": "white",
            "ticks": ""
           },
           "baxis": {
            "gridcolor": "white",
            "linecolor": "white",
            "ticks": ""
           },
           "bgcolor": "#E5ECF6",
           "caxis": {
            "gridcolor": "white",
            "linecolor": "white",
            "ticks": ""
           }
          },
          "title": {
           "x": 0.05
          },
          "xaxis": {
           "automargin": true,
           "gridcolor": "white",
           "linecolor": "white",
           "ticks": "",
           "title": {
            "standoff": 15
           },
           "zerolinecolor": "white",
           "zerolinewidth": 2
          },
          "yaxis": {
           "automargin": true,
           "gridcolor": "white",
           "linecolor": "white",
           "ticks": "",
           "title": {
            "standoff": 15
           },
           "zerolinecolor": "white",
           "zerolinewidth": 2
          }
         }
        },
        "xaxis": {
         "anchor": "y",
         "categoryarray": [
          "skin",
          "fur",
          "feathers",
          "scales"
         ],
         "categoryorder": "array",
         "domain": [
          0,
          1
         ],
         "title": {
          "text": "skin_type"
         }
        },
        "yaxis": {
         "anchor": "x",
         "domain": [
          0,
          1
         ],
         "title": {
          "text": "value"
         }
        }
       }
      }
     },
     "metadata": {},
     "output_type": "display_data"
    }
   ],
   "source": [
    "# Distribuição da variável 'skin_type' em %\n",
    "percentual_skin_type= df_species_eda.value_counts('skin_type') / len(df_species_eda) * 100\n",
    "px.bar(percentual_skin_type, color=percentual_skin_type.index)"
   ]
  },
  {
   "cell_type": "code",
   "execution_count": 22,
   "metadata": {},
   "outputs": [
    {
     "data": {
      "application/vnd.plotly.v1+json": {
       "config": {
        "plotlyServerURL": "https://plot.ly"
       },
       "data": [
        {
         "hovertemplate": "num_legs=%{marker.color}<br>value=%{y}<extra></extra>",
         "legendgroup": "",
         "marker": {
          "color": {
           "bdata": "BAgCAAY=",
           "dtype": "i1"
          },
          "coloraxis": "coloraxis",
          "pattern": {
           "shape": ""
          }
         },
         "name": "",
         "orientation": "v",
         "showlegend": false,
         "textposition": "auto",
         "type": "bar",
         "x": {
          "bdata": "BAgCAAY=",
          "dtype": "i1"
         },
         "xaxis": "x",
         "y": {
          "bdata": "AAAAAACANUAAAAAAAIA0QAAAAAAAgDRAqqqqqqoqNEBWVVVVVVUxQA==",
          "dtype": "f8"
         },
         "yaxis": "y"
        }
       ],
       "layout": {
        "barmode": "relative",
        "coloraxis": {
         "colorbar": {
          "title": {
           "text": "num_legs"
          }
         },
         "colorscale": [
          [
           0,
           "#0d0887"
          ],
          [
           0.1111111111111111,
           "#46039f"
          ],
          [
           0.2222222222222222,
           "#7201a8"
          ],
          [
           0.3333333333333333,
           "#9c179e"
          ],
          [
           0.4444444444444444,
           "#bd3786"
          ],
          [
           0.5555555555555556,
           "#d8576b"
          ],
          [
           0.6666666666666666,
           "#ed7953"
          ],
          [
           0.7777777777777778,
           "#fb9f3a"
          ],
          [
           0.8888888888888888,
           "#fdca26"
          ],
          [
           1,
           "#f0f921"
          ]
         ]
        },
        "legend": {
         "tracegroupgap": 0
        },
        "margin": {
         "t": 60
        },
        "template": {
         "data": {
          "bar": [
           {
            "error_x": {
             "color": "#2a3f5f"
            },
            "error_y": {
             "color": "#2a3f5f"
            },
            "marker": {
             "line": {
              "color": "#E5ECF6",
              "width": 0.5
             },
             "pattern": {
              "fillmode": "overlay",
              "size": 10,
              "solidity": 0.2
             }
            },
            "type": "bar"
           }
          ],
          "barpolar": [
           {
            "marker": {
             "line": {
              "color": "#E5ECF6",
              "width": 0.5
             },
             "pattern": {
              "fillmode": "overlay",
              "size": 10,
              "solidity": 0.2
             }
            },
            "type": "barpolar"
           }
          ],
          "carpet": [
           {
            "aaxis": {
             "endlinecolor": "#2a3f5f",
             "gridcolor": "white",
             "linecolor": "white",
             "minorgridcolor": "white",
             "startlinecolor": "#2a3f5f"
            },
            "baxis": {
             "endlinecolor": "#2a3f5f",
             "gridcolor": "white",
             "linecolor": "white",
             "minorgridcolor": "white",
             "startlinecolor": "#2a3f5f"
            },
            "type": "carpet"
           }
          ],
          "choropleth": [
           {
            "colorbar": {
             "outlinewidth": 0,
             "ticks": ""
            },
            "type": "choropleth"
           }
          ],
          "contour": [
           {
            "colorbar": {
             "outlinewidth": 0,
             "ticks": ""
            },
            "colorscale": [
             [
              0,
              "#0d0887"
             ],
             [
              0.1111111111111111,
              "#46039f"
             ],
             [
              0.2222222222222222,
              "#7201a8"
             ],
             [
              0.3333333333333333,
              "#9c179e"
             ],
             [
              0.4444444444444444,
              "#bd3786"
             ],
             [
              0.5555555555555556,
              "#d8576b"
             ],
             [
              0.6666666666666666,
              "#ed7953"
             ],
             [
              0.7777777777777778,
              "#fb9f3a"
             ],
             [
              0.8888888888888888,
              "#fdca26"
             ],
             [
              1,
              "#f0f921"
             ]
            ],
            "type": "contour"
           }
          ],
          "contourcarpet": [
           {
            "colorbar": {
             "outlinewidth": 0,
             "ticks": ""
            },
            "type": "contourcarpet"
           }
          ],
          "heatmap": [
           {
            "colorbar": {
             "outlinewidth": 0,
             "ticks": ""
            },
            "colorscale": [
             [
              0,
              "#0d0887"
             ],
             [
              0.1111111111111111,
              "#46039f"
             ],
             [
              0.2222222222222222,
              "#7201a8"
             ],
             [
              0.3333333333333333,
              "#9c179e"
             ],
             [
              0.4444444444444444,
              "#bd3786"
             ],
             [
              0.5555555555555556,
              "#d8576b"
             ],
             [
              0.6666666666666666,
              "#ed7953"
             ],
             [
              0.7777777777777778,
              "#fb9f3a"
             ],
             [
              0.8888888888888888,
              "#fdca26"
             ],
             [
              1,
              "#f0f921"
             ]
            ],
            "type": "heatmap"
           }
          ],
          "histogram": [
           {
            "marker": {
             "pattern": {
              "fillmode": "overlay",
              "size": 10,
              "solidity": 0.2
             }
            },
            "type": "histogram"
           }
          ],
          "histogram2d": [
           {
            "colorbar": {
             "outlinewidth": 0,
             "ticks": ""
            },
            "colorscale": [
             [
              0,
              "#0d0887"
             ],
             [
              0.1111111111111111,
              "#46039f"
             ],
             [
              0.2222222222222222,
              "#7201a8"
             ],
             [
              0.3333333333333333,
              "#9c179e"
             ],
             [
              0.4444444444444444,
              "#bd3786"
             ],
             [
              0.5555555555555556,
              "#d8576b"
             ],
             [
              0.6666666666666666,
              "#ed7953"
             ],
             [
              0.7777777777777778,
              "#fb9f3a"
             ],
             [
              0.8888888888888888,
              "#fdca26"
             ],
             [
              1,
              "#f0f921"
             ]
            ],
            "type": "histogram2d"
           }
          ],
          "histogram2dcontour": [
           {
            "colorbar": {
             "outlinewidth": 0,
             "ticks": ""
            },
            "colorscale": [
             [
              0,
              "#0d0887"
             ],
             [
              0.1111111111111111,
              "#46039f"
             ],
             [
              0.2222222222222222,
              "#7201a8"
             ],
             [
              0.3333333333333333,
              "#9c179e"
             ],
             [
              0.4444444444444444,
              "#bd3786"
             ],
             [
              0.5555555555555556,
              "#d8576b"
             ],
             [
              0.6666666666666666,
              "#ed7953"
             ],
             [
              0.7777777777777778,
              "#fb9f3a"
             ],
             [
              0.8888888888888888,
              "#fdca26"
             ],
             [
              1,
              "#f0f921"
             ]
            ],
            "type": "histogram2dcontour"
           }
          ],
          "mesh3d": [
           {
            "colorbar": {
             "outlinewidth": 0,
             "ticks": ""
            },
            "type": "mesh3d"
           }
          ],
          "parcoords": [
           {
            "line": {
             "colorbar": {
              "outlinewidth": 0,
              "ticks": ""
             }
            },
            "type": "parcoords"
           }
          ],
          "pie": [
           {
            "automargin": true,
            "type": "pie"
           }
          ],
          "scatter": [
           {
            "fillpattern": {
             "fillmode": "overlay",
             "size": 10,
             "solidity": 0.2
            },
            "type": "scatter"
           }
          ],
          "scatter3d": [
           {
            "line": {
             "colorbar": {
              "outlinewidth": 0,
              "ticks": ""
             }
            },
            "marker": {
             "colorbar": {
              "outlinewidth": 0,
              "ticks": ""
             }
            },
            "type": "scatter3d"
           }
          ],
          "scattercarpet": [
           {
            "marker": {
             "colorbar": {
              "outlinewidth": 0,
              "ticks": ""
             }
            },
            "type": "scattercarpet"
           }
          ],
          "scattergeo": [
           {
            "marker": {
             "colorbar": {
              "outlinewidth": 0,
              "ticks": ""
             }
            },
            "type": "scattergeo"
           }
          ],
          "scattergl": [
           {
            "marker": {
             "colorbar": {
              "outlinewidth": 0,
              "ticks": ""
             }
            },
            "type": "scattergl"
           }
          ],
          "scattermap": [
           {
            "marker": {
             "colorbar": {
              "outlinewidth": 0,
              "ticks": ""
             }
            },
            "type": "scattermap"
           }
          ],
          "scattermapbox": [
           {
            "marker": {
             "colorbar": {
              "outlinewidth": 0,
              "ticks": ""
             }
            },
            "type": "scattermapbox"
           }
          ],
          "scatterpolar": [
           {
            "marker": {
             "colorbar": {
              "outlinewidth": 0,
              "ticks": ""
             }
            },
            "type": "scatterpolar"
           }
          ],
          "scatterpolargl": [
           {
            "marker": {
             "colorbar": {
              "outlinewidth": 0,
              "ticks": ""
             }
            },
            "type": "scatterpolargl"
           }
          ],
          "scatterternary": [
           {
            "marker": {
             "colorbar": {
              "outlinewidth": 0,
              "ticks": ""
             }
            },
            "type": "scatterternary"
           }
          ],
          "surface": [
           {
            "colorbar": {
             "outlinewidth": 0,
             "ticks": ""
            },
            "colorscale": [
             [
              0,
              "#0d0887"
             ],
             [
              0.1111111111111111,
              "#46039f"
             ],
             [
              0.2222222222222222,
              "#7201a8"
             ],
             [
              0.3333333333333333,
              "#9c179e"
             ],
             [
              0.4444444444444444,
              "#bd3786"
             ],
             [
              0.5555555555555556,
              "#d8576b"
             ],
             [
              0.6666666666666666,
              "#ed7953"
             ],
             [
              0.7777777777777778,
              "#fb9f3a"
             ],
             [
              0.8888888888888888,
              "#fdca26"
             ],
             [
              1,
              "#f0f921"
             ]
            ],
            "type": "surface"
           }
          ],
          "table": [
           {
            "cells": {
             "fill": {
              "color": "#EBF0F8"
             },
             "line": {
              "color": "white"
             }
            },
            "header": {
             "fill": {
              "color": "#C8D4E3"
             },
             "line": {
              "color": "white"
             }
            },
            "type": "table"
           }
          ]
         },
         "layout": {
          "annotationdefaults": {
           "arrowcolor": "#2a3f5f",
           "arrowhead": 0,
           "arrowwidth": 1
          },
          "autotypenumbers": "strict",
          "coloraxis": {
           "colorbar": {
            "outlinewidth": 0,
            "ticks": ""
           }
          },
          "colorscale": {
           "diverging": [
            [
             0,
             "#8e0152"
            ],
            [
             0.1,
             "#c51b7d"
            ],
            [
             0.2,
             "#de77ae"
            ],
            [
             0.3,
             "#f1b6da"
            ],
            [
             0.4,
             "#fde0ef"
            ],
            [
             0.5,
             "#f7f7f7"
            ],
            [
             0.6,
             "#e6f5d0"
            ],
            [
             0.7,
             "#b8e186"
            ],
            [
             0.8,
             "#7fbc41"
            ],
            [
             0.9,
             "#4d9221"
            ],
            [
             1,
             "#276419"
            ]
           ],
           "sequential": [
            [
             0,
             "#0d0887"
            ],
            [
             0.1111111111111111,
             "#46039f"
            ],
            [
             0.2222222222222222,
             "#7201a8"
            ],
            [
             0.3333333333333333,
             "#9c179e"
            ],
            [
             0.4444444444444444,
             "#bd3786"
            ],
            [
             0.5555555555555556,
             "#d8576b"
            ],
            [
             0.6666666666666666,
             "#ed7953"
            ],
            [
             0.7777777777777778,
             "#fb9f3a"
            ],
            [
             0.8888888888888888,
             "#fdca26"
            ],
            [
             1,
             "#f0f921"
            ]
           ],
           "sequentialminus": [
            [
             0,
             "#0d0887"
            ],
            [
             0.1111111111111111,
             "#46039f"
            ],
            [
             0.2222222222222222,
             "#7201a8"
            ],
            [
             0.3333333333333333,
             "#9c179e"
            ],
            [
             0.4444444444444444,
             "#bd3786"
            ],
            [
             0.5555555555555556,
             "#d8576b"
            ],
            [
             0.6666666666666666,
             "#ed7953"
            ],
            [
             0.7777777777777778,
             "#fb9f3a"
            ],
            [
             0.8888888888888888,
             "#fdca26"
            ],
            [
             1,
             "#f0f921"
            ]
           ]
          },
          "colorway": [
           "#636efa",
           "#EF553B",
           "#00cc96",
           "#ab63fa",
           "#FFA15A",
           "#19d3f3",
           "#FF6692",
           "#B6E880",
           "#FF97FF",
           "#FECB52"
          ],
          "font": {
           "color": "#2a3f5f"
          },
          "geo": {
           "bgcolor": "white",
           "lakecolor": "white",
           "landcolor": "#E5ECF6",
           "showlakes": true,
           "showland": true,
           "subunitcolor": "white"
          },
          "hoverlabel": {
           "align": "left"
          },
          "hovermode": "closest",
          "mapbox": {
           "style": "light"
          },
          "paper_bgcolor": "white",
          "plot_bgcolor": "#E5ECF6",
          "polar": {
           "angularaxis": {
            "gridcolor": "white",
            "linecolor": "white",
            "ticks": ""
           },
           "bgcolor": "#E5ECF6",
           "radialaxis": {
            "gridcolor": "white",
            "linecolor": "white",
            "ticks": ""
           }
          },
          "scene": {
           "xaxis": {
            "backgroundcolor": "#E5ECF6",
            "gridcolor": "white",
            "gridwidth": 2,
            "linecolor": "white",
            "showbackground": true,
            "ticks": "",
            "zerolinecolor": "white"
           },
           "yaxis": {
            "backgroundcolor": "#E5ECF6",
            "gridcolor": "white",
            "gridwidth": 2,
            "linecolor": "white",
            "showbackground": true,
            "ticks": "",
            "zerolinecolor": "white"
           },
           "zaxis": {
            "backgroundcolor": "#E5ECF6",
            "gridcolor": "white",
            "gridwidth": 2,
            "linecolor": "white",
            "showbackground": true,
            "ticks": "",
            "zerolinecolor": "white"
           }
          },
          "shapedefaults": {
           "line": {
            "color": "#2a3f5f"
           }
          },
          "ternary": {
           "aaxis": {
            "gridcolor": "white",
            "linecolor": "white",
            "ticks": ""
           },
           "baxis": {
            "gridcolor": "white",
            "linecolor": "white",
            "ticks": ""
           },
           "bgcolor": "#E5ECF6",
           "caxis": {
            "gridcolor": "white",
            "linecolor": "white",
            "ticks": ""
           }
          },
          "title": {
           "x": 0.05
          },
          "xaxis": {
           "automargin": true,
           "gridcolor": "white",
           "linecolor": "white",
           "ticks": "",
           "title": {
            "standoff": 15
           },
           "zerolinecolor": "white",
           "zerolinewidth": 2
          },
          "yaxis": {
           "automargin": true,
           "gridcolor": "white",
           "linecolor": "white",
           "ticks": "",
           "title": {
            "standoff": 15
           },
           "zerolinecolor": "white",
           "zerolinewidth": 2
          }
         }
        },
        "xaxis": {
         "anchor": "y",
         "domain": [
          0,
          1
         ],
         "title": {
          "text": "num_legs"
         }
        },
        "yaxis": {
         "anchor": "x",
         "domain": [
          0,
          1
         ],
         "title": {
          "text": "value"
         }
        }
       }
      }
     },
     "metadata": {},
     "output_type": "display_data"
    }
   ],
   "source": [
    "# Distribuição da variável 'num_legs' em %\n",
    "percentual_skin_type= df_species_eda.value_counts('num_legs') / len(df_species_eda) * 100\n",
    "px.bar(percentual_skin_type, color=percentual_skin_type.index)"
   ]
  },
  {
   "cell_type": "code",
   "execution_count": 23,
   "metadata": {},
   "outputs": [
    {
     "data": {
      "application/vnd.plotly.v1+json": {
       "config": {
        "plotlyServerURL": "https://plot.ly"
       },
       "data": [
        {
         "hovertemplate": "has_wings=%{marker.color}<br>value=%{y}<extra></extra>",
         "legendgroup": "",
         "marker": {
          "color": {
           "bdata": "AAE=",
           "dtype": "i1"
          },
          "coloraxis": "coloraxis",
          "pattern": {
           "shape": ""
          }
         },
         "name": "",
         "orientation": "v",
         "showlegend": false,
         "textposition": "auto",
         "type": "bar",
         "x": {
          "bdata": "AAE=",
          "dtype": "i1"
         },
         "xaxis": "x",
         "y": {
          "bdata": "AAAAAADgUUD//////388QA==",
          "dtype": "f8"
         },
         "yaxis": "y"
        }
       ],
       "layout": {
        "barmode": "relative",
        "coloraxis": {
         "colorbar": {
          "title": {
           "text": "has_wings"
          }
         },
         "colorscale": [
          [
           0,
           "#0d0887"
          ],
          [
           0.1111111111111111,
           "#46039f"
          ],
          [
           0.2222222222222222,
           "#7201a8"
          ],
          [
           0.3333333333333333,
           "#9c179e"
          ],
          [
           0.4444444444444444,
           "#bd3786"
          ],
          [
           0.5555555555555556,
           "#d8576b"
          ],
          [
           0.6666666666666666,
           "#ed7953"
          ],
          [
           0.7777777777777778,
           "#fb9f3a"
          ],
          [
           0.8888888888888888,
           "#fdca26"
          ],
          [
           1,
           "#f0f921"
          ]
         ]
        },
        "legend": {
         "tracegroupgap": 0
        },
        "margin": {
         "t": 60
        },
        "template": {
         "data": {
          "bar": [
           {
            "error_x": {
             "color": "#2a3f5f"
            },
            "error_y": {
             "color": "#2a3f5f"
            },
            "marker": {
             "line": {
              "color": "#E5ECF6",
              "width": 0.5
             },
             "pattern": {
              "fillmode": "overlay",
              "size": 10,
              "solidity": 0.2
             }
            },
            "type": "bar"
           }
          ],
          "barpolar": [
           {
            "marker": {
             "line": {
              "color": "#E5ECF6",
              "width": 0.5
             },
             "pattern": {
              "fillmode": "overlay",
              "size": 10,
              "solidity": 0.2
             }
            },
            "type": "barpolar"
           }
          ],
          "carpet": [
           {
            "aaxis": {
             "endlinecolor": "#2a3f5f",
             "gridcolor": "white",
             "linecolor": "white",
             "minorgridcolor": "white",
             "startlinecolor": "#2a3f5f"
            },
            "baxis": {
             "endlinecolor": "#2a3f5f",
             "gridcolor": "white",
             "linecolor": "white",
             "minorgridcolor": "white",
             "startlinecolor": "#2a3f5f"
            },
            "type": "carpet"
           }
          ],
          "choropleth": [
           {
            "colorbar": {
             "outlinewidth": 0,
             "ticks": ""
            },
            "type": "choropleth"
           }
          ],
          "contour": [
           {
            "colorbar": {
             "outlinewidth": 0,
             "ticks": ""
            },
            "colorscale": [
             [
              0,
              "#0d0887"
             ],
             [
              0.1111111111111111,
              "#46039f"
             ],
             [
              0.2222222222222222,
              "#7201a8"
             ],
             [
              0.3333333333333333,
              "#9c179e"
             ],
             [
              0.4444444444444444,
              "#bd3786"
             ],
             [
              0.5555555555555556,
              "#d8576b"
             ],
             [
              0.6666666666666666,
              "#ed7953"
             ],
             [
              0.7777777777777778,
              "#fb9f3a"
             ],
             [
              0.8888888888888888,
              "#fdca26"
             ],
             [
              1,
              "#f0f921"
             ]
            ],
            "type": "contour"
           }
          ],
          "contourcarpet": [
           {
            "colorbar": {
             "outlinewidth": 0,
             "ticks": ""
            },
            "type": "contourcarpet"
           }
          ],
          "heatmap": [
           {
            "colorbar": {
             "outlinewidth": 0,
             "ticks": ""
            },
            "colorscale": [
             [
              0,
              "#0d0887"
             ],
             [
              0.1111111111111111,
              "#46039f"
             ],
             [
              0.2222222222222222,
              "#7201a8"
             ],
             [
              0.3333333333333333,
              "#9c179e"
             ],
             [
              0.4444444444444444,
              "#bd3786"
             ],
             [
              0.5555555555555556,
              "#d8576b"
             ],
             [
              0.6666666666666666,
              "#ed7953"
             ],
             [
              0.7777777777777778,
              "#fb9f3a"
             ],
             [
              0.8888888888888888,
              "#fdca26"
             ],
             [
              1,
              "#f0f921"
             ]
            ],
            "type": "heatmap"
           }
          ],
          "histogram": [
           {
            "marker": {
             "pattern": {
              "fillmode": "overlay",
              "size": 10,
              "solidity": 0.2
             }
            },
            "type": "histogram"
           }
          ],
          "histogram2d": [
           {
            "colorbar": {
             "outlinewidth": 0,
             "ticks": ""
            },
            "colorscale": [
             [
              0,
              "#0d0887"
             ],
             [
              0.1111111111111111,
              "#46039f"
             ],
             [
              0.2222222222222222,
              "#7201a8"
             ],
             [
              0.3333333333333333,
              "#9c179e"
             ],
             [
              0.4444444444444444,
              "#bd3786"
             ],
             [
              0.5555555555555556,
              "#d8576b"
             ],
             [
              0.6666666666666666,
              "#ed7953"
             ],
             [
              0.7777777777777778,
              "#fb9f3a"
             ],
             [
              0.8888888888888888,
              "#fdca26"
             ],
             [
              1,
              "#f0f921"
             ]
            ],
            "type": "histogram2d"
           }
          ],
          "histogram2dcontour": [
           {
            "colorbar": {
             "outlinewidth": 0,
             "ticks": ""
            },
            "colorscale": [
             [
              0,
              "#0d0887"
             ],
             [
              0.1111111111111111,
              "#46039f"
             ],
             [
              0.2222222222222222,
              "#7201a8"
             ],
             [
              0.3333333333333333,
              "#9c179e"
             ],
             [
              0.4444444444444444,
              "#bd3786"
             ],
             [
              0.5555555555555556,
              "#d8576b"
             ],
             [
              0.6666666666666666,
              "#ed7953"
             ],
             [
              0.7777777777777778,
              "#fb9f3a"
             ],
             [
              0.8888888888888888,
              "#fdca26"
             ],
             [
              1,
              "#f0f921"
             ]
            ],
            "type": "histogram2dcontour"
           }
          ],
          "mesh3d": [
           {
            "colorbar": {
             "outlinewidth": 0,
             "ticks": ""
            },
            "type": "mesh3d"
           }
          ],
          "parcoords": [
           {
            "line": {
             "colorbar": {
              "outlinewidth": 0,
              "ticks": ""
             }
            },
            "type": "parcoords"
           }
          ],
          "pie": [
           {
            "automargin": true,
            "type": "pie"
           }
          ],
          "scatter": [
           {
            "fillpattern": {
             "fillmode": "overlay",
             "size": 10,
             "solidity": 0.2
            },
            "type": "scatter"
           }
          ],
          "scatter3d": [
           {
            "line": {
             "colorbar": {
              "outlinewidth": 0,
              "ticks": ""
             }
            },
            "marker": {
             "colorbar": {
              "outlinewidth": 0,
              "ticks": ""
             }
            },
            "type": "scatter3d"
           }
          ],
          "scattercarpet": [
           {
            "marker": {
             "colorbar": {
              "outlinewidth": 0,
              "ticks": ""
             }
            },
            "type": "scattercarpet"
           }
          ],
          "scattergeo": [
           {
            "marker": {
             "colorbar": {
              "outlinewidth": 0,
              "ticks": ""
             }
            },
            "type": "scattergeo"
           }
          ],
          "scattergl": [
           {
            "marker": {
             "colorbar": {
              "outlinewidth": 0,
              "ticks": ""
             }
            },
            "type": "scattergl"
           }
          ],
          "scattermap": [
           {
            "marker": {
             "colorbar": {
              "outlinewidth": 0,
              "ticks": ""
             }
            },
            "type": "scattermap"
           }
          ],
          "scattermapbox": [
           {
            "marker": {
             "colorbar": {
              "outlinewidth": 0,
              "ticks": ""
             }
            },
            "type": "scattermapbox"
           }
          ],
          "scatterpolar": [
           {
            "marker": {
             "colorbar": {
              "outlinewidth": 0,
              "ticks": ""
             }
            },
            "type": "scatterpolar"
           }
          ],
          "scatterpolargl": [
           {
            "marker": {
             "colorbar": {
              "outlinewidth": 0,
              "ticks": ""
             }
            },
            "type": "scatterpolargl"
           }
          ],
          "scatterternary": [
           {
            "marker": {
             "colorbar": {
              "outlinewidth": 0,
              "ticks": ""
             }
            },
            "type": "scatterternary"
           }
          ],
          "surface": [
           {
            "colorbar": {
             "outlinewidth": 0,
             "ticks": ""
            },
            "colorscale": [
             [
              0,
              "#0d0887"
             ],
             [
              0.1111111111111111,
              "#46039f"
             ],
             [
              0.2222222222222222,
              "#7201a8"
             ],
             [
              0.3333333333333333,
              "#9c179e"
             ],
             [
              0.4444444444444444,
              "#bd3786"
             ],
             [
              0.5555555555555556,
              "#d8576b"
             ],
             [
              0.6666666666666666,
              "#ed7953"
             ],
             [
              0.7777777777777778,
              "#fb9f3a"
             ],
             [
              0.8888888888888888,
              "#fdca26"
             ],
             [
              1,
              "#f0f921"
             ]
            ],
            "type": "surface"
           }
          ],
          "table": [
           {
            "cells": {
             "fill": {
              "color": "#EBF0F8"
             },
             "line": {
              "color": "white"
             }
            },
            "header": {
             "fill": {
              "color": "#C8D4E3"
             },
             "line": {
              "color": "white"
             }
            },
            "type": "table"
           }
          ]
         },
         "layout": {
          "annotationdefaults": {
           "arrowcolor": "#2a3f5f",
           "arrowhead": 0,
           "arrowwidth": 1
          },
          "autotypenumbers": "strict",
          "coloraxis": {
           "colorbar": {
            "outlinewidth": 0,
            "ticks": ""
           }
          },
          "colorscale": {
           "diverging": [
            [
             0,
             "#8e0152"
            ],
            [
             0.1,
             "#c51b7d"
            ],
            [
             0.2,
             "#de77ae"
            ],
            [
             0.3,
             "#f1b6da"
            ],
            [
             0.4,
             "#fde0ef"
            ],
            [
             0.5,
             "#f7f7f7"
            ],
            [
             0.6,
             "#e6f5d0"
            ],
            [
             0.7,
             "#b8e186"
            ],
            [
             0.8,
             "#7fbc41"
            ],
            [
             0.9,
             "#4d9221"
            ],
            [
             1,
             "#276419"
            ]
           ],
           "sequential": [
            [
             0,
             "#0d0887"
            ],
            [
             0.1111111111111111,
             "#46039f"
            ],
            [
             0.2222222222222222,
             "#7201a8"
            ],
            [
             0.3333333333333333,
             "#9c179e"
            ],
            [
             0.4444444444444444,
             "#bd3786"
            ],
            [
             0.5555555555555556,
             "#d8576b"
            ],
            [
             0.6666666666666666,
             "#ed7953"
            ],
            [
             0.7777777777777778,
             "#fb9f3a"
            ],
            [
             0.8888888888888888,
             "#fdca26"
            ],
            [
             1,
             "#f0f921"
            ]
           ],
           "sequentialminus": [
            [
             0,
             "#0d0887"
            ],
            [
             0.1111111111111111,
             "#46039f"
            ],
            [
             0.2222222222222222,
             "#7201a8"
            ],
            [
             0.3333333333333333,
             "#9c179e"
            ],
            [
             0.4444444444444444,
             "#bd3786"
            ],
            [
             0.5555555555555556,
             "#d8576b"
            ],
            [
             0.6666666666666666,
             "#ed7953"
            ],
            [
             0.7777777777777778,
             "#fb9f3a"
            ],
            [
             0.8888888888888888,
             "#fdca26"
            ],
            [
             1,
             "#f0f921"
            ]
           ]
          },
          "colorway": [
           "#636efa",
           "#EF553B",
           "#00cc96",
           "#ab63fa",
           "#FFA15A",
           "#19d3f3",
           "#FF6692",
           "#B6E880",
           "#FF97FF",
           "#FECB52"
          ],
          "font": {
           "color": "#2a3f5f"
          },
          "geo": {
           "bgcolor": "white",
           "lakecolor": "white",
           "landcolor": "#E5ECF6",
           "showlakes": true,
           "showland": true,
           "subunitcolor": "white"
          },
          "hoverlabel": {
           "align": "left"
          },
          "hovermode": "closest",
          "mapbox": {
           "style": "light"
          },
          "paper_bgcolor": "white",
          "plot_bgcolor": "#E5ECF6",
          "polar": {
           "angularaxis": {
            "gridcolor": "white",
            "linecolor": "white",
            "ticks": ""
           },
           "bgcolor": "#E5ECF6",
           "radialaxis": {
            "gridcolor": "white",
            "linecolor": "white",
            "ticks": ""
           }
          },
          "scene": {
           "xaxis": {
            "backgroundcolor": "#E5ECF6",
            "gridcolor": "white",
            "gridwidth": 2,
            "linecolor": "white",
            "showbackground": true,
            "ticks": "",
            "zerolinecolor": "white"
           },
           "yaxis": {
            "backgroundcolor": "#E5ECF6",
            "gridcolor": "white",
            "gridwidth": 2,
            "linecolor": "white",
            "showbackground": true,
            "ticks": "",
            "zerolinecolor": "white"
           },
           "zaxis": {
            "backgroundcolor": "#E5ECF6",
            "gridcolor": "white",
            "gridwidth": 2,
            "linecolor": "white",
            "showbackground": true,
            "ticks": "",
            "zerolinecolor": "white"
           }
          },
          "shapedefaults": {
           "line": {
            "color": "#2a3f5f"
           }
          },
          "ternary": {
           "aaxis": {
            "gridcolor": "white",
            "linecolor": "white",
            "ticks": ""
           },
           "baxis": {
            "gridcolor": "white",
            "linecolor": "white",
            "ticks": ""
           },
           "bgcolor": "#E5ECF6",
           "caxis": {
            "gridcolor": "white",
            "linecolor": "white",
            "ticks": ""
           }
          },
          "title": {
           "x": 0.05
          },
          "xaxis": {
           "automargin": true,
           "gridcolor": "white",
           "linecolor": "white",
           "ticks": "",
           "title": {
            "standoff": 15
           },
           "zerolinecolor": "white",
           "zerolinewidth": 2
          },
          "yaxis": {
           "automargin": true,
           "gridcolor": "white",
           "linecolor": "white",
           "ticks": "",
           "title": {
            "standoff": 15
           },
           "zerolinecolor": "white",
           "zerolinewidth": 2
          }
         }
        },
        "xaxis": {
         "anchor": "y",
         "domain": [
          0,
          1
         ],
         "title": {
          "text": "has_wings"
         }
        },
        "yaxis": {
         "anchor": "x",
         "domain": [
          0,
          1
         ],
         "title": {
          "text": "value"
         }
        }
       }
      }
     },
     "metadata": {},
     "output_type": "display_data"
    }
   ],
   "source": [
    "# Distribuição da variável 'has_wings' em %\n",
    "percentual_skin_type= df_species_eda.value_counts('has_wings') / len(df_species_eda) * 100\n",
    "px.bar(percentual_skin_type, color=percentual_skin_type.index)"
   ]
  },
  {
   "cell_type": "code",
   "execution_count": 26,
   "metadata": {},
   "outputs": [
    {
     "data": {
      "application/vnd.plotly.v1+json": {
       "config": {
        "plotlyServerURL": "https://plot.ly"
       },
       "data": [
        {
         "hovertemplate": "eye_count=%{marker.color}<br>value=%{y}<extra></extra>",
         "legendgroup": "",
         "marker": {
          "color": {
           "bdata": "AgQA",
           "dtype": "i1"
          },
          "coloraxis": "coloraxis",
          "pattern": {
           "shape": ""
          }
         },
         "name": "",
         "orientation": "v",
         "showlegend": false,
         "textposition": "auto",
         "type": "bar",
         "x": {
          "bdata": "AgQA",
          "dtype": "i1"
         },
         "xaxis": "x",
         "y": {
          "bdata": "q6qqqqqKUUAAAAAAAAA0QKqqqqqqqiNA",
          "dtype": "f8"
         },
         "yaxis": "y"
        }
       ],
       "layout": {
        "barmode": "relative",
        "coloraxis": {
         "colorbar": {
          "title": {
           "text": "eye_count"
          }
         },
         "colorscale": [
          [
           0,
           "#0d0887"
          ],
          [
           0.1111111111111111,
           "#46039f"
          ],
          [
           0.2222222222222222,
           "#7201a8"
          ],
          [
           0.3333333333333333,
           "#9c179e"
          ],
          [
           0.4444444444444444,
           "#bd3786"
          ],
          [
           0.5555555555555556,
           "#d8576b"
          ],
          [
           0.6666666666666666,
           "#ed7953"
          ],
          [
           0.7777777777777778,
           "#fb9f3a"
          ],
          [
           0.8888888888888888,
           "#fdca26"
          ],
          [
           1,
           "#f0f921"
          ]
         ]
        },
        "legend": {
         "tracegroupgap": 0
        },
        "margin": {
         "t": 60
        },
        "template": {
         "data": {
          "bar": [
           {
            "error_x": {
             "color": "#2a3f5f"
            },
            "error_y": {
             "color": "#2a3f5f"
            },
            "marker": {
             "line": {
              "color": "#E5ECF6",
              "width": 0.5
             },
             "pattern": {
              "fillmode": "overlay",
              "size": 10,
              "solidity": 0.2
             }
            },
            "type": "bar"
           }
          ],
          "barpolar": [
           {
            "marker": {
             "line": {
              "color": "#E5ECF6",
              "width": 0.5
             },
             "pattern": {
              "fillmode": "overlay",
              "size": 10,
              "solidity": 0.2
             }
            },
            "type": "barpolar"
           }
          ],
          "carpet": [
           {
            "aaxis": {
             "endlinecolor": "#2a3f5f",
             "gridcolor": "white",
             "linecolor": "white",
             "minorgridcolor": "white",
             "startlinecolor": "#2a3f5f"
            },
            "baxis": {
             "endlinecolor": "#2a3f5f",
             "gridcolor": "white",
             "linecolor": "white",
             "minorgridcolor": "white",
             "startlinecolor": "#2a3f5f"
            },
            "type": "carpet"
           }
          ],
          "choropleth": [
           {
            "colorbar": {
             "outlinewidth": 0,
             "ticks": ""
            },
            "type": "choropleth"
           }
          ],
          "contour": [
           {
            "colorbar": {
             "outlinewidth": 0,
             "ticks": ""
            },
            "colorscale": [
             [
              0,
              "#0d0887"
             ],
             [
              0.1111111111111111,
              "#46039f"
             ],
             [
              0.2222222222222222,
              "#7201a8"
             ],
             [
              0.3333333333333333,
              "#9c179e"
             ],
             [
              0.4444444444444444,
              "#bd3786"
             ],
             [
              0.5555555555555556,
              "#d8576b"
             ],
             [
              0.6666666666666666,
              "#ed7953"
             ],
             [
              0.7777777777777778,
              "#fb9f3a"
             ],
             [
              0.8888888888888888,
              "#fdca26"
             ],
             [
              1,
              "#f0f921"
             ]
            ],
            "type": "contour"
           }
          ],
          "contourcarpet": [
           {
            "colorbar": {
             "outlinewidth": 0,
             "ticks": ""
            },
            "type": "contourcarpet"
           }
          ],
          "heatmap": [
           {
            "colorbar": {
             "outlinewidth": 0,
             "ticks": ""
            },
            "colorscale": [
             [
              0,
              "#0d0887"
             ],
             [
              0.1111111111111111,
              "#46039f"
             ],
             [
              0.2222222222222222,
              "#7201a8"
             ],
             [
              0.3333333333333333,
              "#9c179e"
             ],
             [
              0.4444444444444444,
              "#bd3786"
             ],
             [
              0.5555555555555556,
              "#d8576b"
             ],
             [
              0.6666666666666666,
              "#ed7953"
             ],
             [
              0.7777777777777778,
              "#fb9f3a"
             ],
             [
              0.8888888888888888,
              "#fdca26"
             ],
             [
              1,
              "#f0f921"
             ]
            ],
            "type": "heatmap"
           }
          ],
          "histogram": [
           {
            "marker": {
             "pattern": {
              "fillmode": "overlay",
              "size": 10,
              "solidity": 0.2
             }
            },
            "type": "histogram"
           }
          ],
          "histogram2d": [
           {
            "colorbar": {
             "outlinewidth": 0,
             "ticks": ""
            },
            "colorscale": [
             [
              0,
              "#0d0887"
             ],
             [
              0.1111111111111111,
              "#46039f"
             ],
             [
              0.2222222222222222,
              "#7201a8"
             ],
             [
              0.3333333333333333,
              "#9c179e"
             ],
             [
              0.4444444444444444,
              "#bd3786"
             ],
             [
              0.5555555555555556,
              "#d8576b"
             ],
             [
              0.6666666666666666,
              "#ed7953"
             ],
             [
              0.7777777777777778,
              "#fb9f3a"
             ],
             [
              0.8888888888888888,
              "#fdca26"
             ],
             [
              1,
              "#f0f921"
             ]
            ],
            "type": "histogram2d"
           }
          ],
          "histogram2dcontour": [
           {
            "colorbar": {
             "outlinewidth": 0,
             "ticks": ""
            },
            "colorscale": [
             [
              0,
              "#0d0887"
             ],
             [
              0.1111111111111111,
              "#46039f"
             ],
             [
              0.2222222222222222,
              "#7201a8"
             ],
             [
              0.3333333333333333,
              "#9c179e"
             ],
             [
              0.4444444444444444,
              "#bd3786"
             ],
             [
              0.5555555555555556,
              "#d8576b"
             ],
             [
              0.6666666666666666,
              "#ed7953"
             ],
             [
              0.7777777777777778,
              "#fb9f3a"
             ],
             [
              0.8888888888888888,
              "#fdca26"
             ],
             [
              1,
              "#f0f921"
             ]
            ],
            "type": "histogram2dcontour"
           }
          ],
          "mesh3d": [
           {
            "colorbar": {
             "outlinewidth": 0,
             "ticks": ""
            },
            "type": "mesh3d"
           }
          ],
          "parcoords": [
           {
            "line": {
             "colorbar": {
              "outlinewidth": 0,
              "ticks": ""
             }
            },
            "type": "parcoords"
           }
          ],
          "pie": [
           {
            "automargin": true,
            "type": "pie"
           }
          ],
          "scatter": [
           {
            "fillpattern": {
             "fillmode": "overlay",
             "size": 10,
             "solidity": 0.2
            },
            "type": "scatter"
           }
          ],
          "scatter3d": [
           {
            "line": {
             "colorbar": {
              "outlinewidth": 0,
              "ticks": ""
             }
            },
            "marker": {
             "colorbar": {
              "outlinewidth": 0,
              "ticks": ""
             }
            },
            "type": "scatter3d"
           }
          ],
          "scattercarpet": [
           {
            "marker": {
             "colorbar": {
              "outlinewidth": 0,
              "ticks": ""
             }
            },
            "type": "scattercarpet"
           }
          ],
          "scattergeo": [
           {
            "marker": {
             "colorbar": {
              "outlinewidth": 0,
              "ticks": ""
             }
            },
            "type": "scattergeo"
           }
          ],
          "scattergl": [
           {
            "marker": {
             "colorbar": {
              "outlinewidth": 0,
              "ticks": ""
             }
            },
            "type": "scattergl"
           }
          ],
          "scattermap": [
           {
            "marker": {
             "colorbar": {
              "outlinewidth": 0,
              "ticks": ""
             }
            },
            "type": "scattermap"
           }
          ],
          "scattermapbox": [
           {
            "marker": {
             "colorbar": {
              "outlinewidth": 0,
              "ticks": ""
             }
            },
            "type": "scattermapbox"
           }
          ],
          "scatterpolar": [
           {
            "marker": {
             "colorbar": {
              "outlinewidth": 0,
              "ticks": ""
             }
            },
            "type": "scatterpolar"
           }
          ],
          "scatterpolargl": [
           {
            "marker": {
             "colorbar": {
              "outlinewidth": 0,
              "ticks": ""
             }
            },
            "type": "scatterpolargl"
           }
          ],
          "scatterternary": [
           {
            "marker": {
             "colorbar": {
              "outlinewidth": 0,
              "ticks": ""
             }
            },
            "type": "scatterternary"
           }
          ],
          "surface": [
           {
            "colorbar": {
             "outlinewidth": 0,
             "ticks": ""
            },
            "colorscale": [
             [
              0,
              "#0d0887"
             ],
             [
              0.1111111111111111,
              "#46039f"
             ],
             [
              0.2222222222222222,
              "#7201a8"
             ],
             [
              0.3333333333333333,
              "#9c179e"
             ],
             [
              0.4444444444444444,
              "#bd3786"
             ],
             [
              0.5555555555555556,
              "#d8576b"
             ],
             [
              0.6666666666666666,
              "#ed7953"
             ],
             [
              0.7777777777777778,
              "#fb9f3a"
             ],
             [
              0.8888888888888888,
              "#fdca26"
             ],
             [
              1,
              "#f0f921"
             ]
            ],
            "type": "surface"
           }
          ],
          "table": [
           {
            "cells": {
             "fill": {
              "color": "#EBF0F8"
             },
             "line": {
              "color": "white"
             }
            },
            "header": {
             "fill": {
              "color": "#C8D4E3"
             },
             "line": {
              "color": "white"
             }
            },
            "type": "table"
           }
          ]
         },
         "layout": {
          "annotationdefaults": {
           "arrowcolor": "#2a3f5f",
           "arrowhead": 0,
           "arrowwidth": 1
          },
          "autotypenumbers": "strict",
          "coloraxis": {
           "colorbar": {
            "outlinewidth": 0,
            "ticks": ""
           }
          },
          "colorscale": {
           "diverging": [
            [
             0,
             "#8e0152"
            ],
            [
             0.1,
             "#c51b7d"
            ],
            [
             0.2,
             "#de77ae"
            ],
            [
             0.3,
             "#f1b6da"
            ],
            [
             0.4,
             "#fde0ef"
            ],
            [
             0.5,
             "#f7f7f7"
            ],
            [
             0.6,
             "#e6f5d0"
            ],
            [
             0.7,
             "#b8e186"
            ],
            [
             0.8,
             "#7fbc41"
            ],
            [
             0.9,
             "#4d9221"
            ],
            [
             1,
             "#276419"
            ]
           ],
           "sequential": [
            [
             0,
             "#0d0887"
            ],
            [
             0.1111111111111111,
             "#46039f"
            ],
            [
             0.2222222222222222,
             "#7201a8"
            ],
            [
             0.3333333333333333,
             "#9c179e"
            ],
            [
             0.4444444444444444,
             "#bd3786"
            ],
            [
             0.5555555555555556,
             "#d8576b"
            ],
            [
             0.6666666666666666,
             "#ed7953"
            ],
            [
             0.7777777777777778,
             "#fb9f3a"
            ],
            [
             0.8888888888888888,
             "#fdca26"
            ],
            [
             1,
             "#f0f921"
            ]
           ],
           "sequentialminus": [
            [
             0,
             "#0d0887"
            ],
            [
             0.1111111111111111,
             "#46039f"
            ],
            [
             0.2222222222222222,
             "#7201a8"
            ],
            [
             0.3333333333333333,
             "#9c179e"
            ],
            [
             0.4444444444444444,
             "#bd3786"
            ],
            [
             0.5555555555555556,
             "#d8576b"
            ],
            [
             0.6666666666666666,
             "#ed7953"
            ],
            [
             0.7777777777777778,
             "#fb9f3a"
            ],
            [
             0.8888888888888888,
             "#fdca26"
            ],
            [
             1,
             "#f0f921"
            ]
           ]
          },
          "colorway": [
           "#636efa",
           "#EF553B",
           "#00cc96",
           "#ab63fa",
           "#FFA15A",
           "#19d3f3",
           "#FF6692",
           "#B6E880",
           "#FF97FF",
           "#FECB52"
          ],
          "font": {
           "color": "#2a3f5f"
          },
          "geo": {
           "bgcolor": "white",
           "lakecolor": "white",
           "landcolor": "#E5ECF6",
           "showlakes": true,
           "showland": true,
           "subunitcolor": "white"
          },
          "hoverlabel": {
           "align": "left"
          },
          "hovermode": "closest",
          "mapbox": {
           "style": "light"
          },
          "paper_bgcolor": "white",
          "plot_bgcolor": "#E5ECF6",
          "polar": {
           "angularaxis": {
            "gridcolor": "white",
            "linecolor": "white",
            "ticks": ""
           },
           "bgcolor": "#E5ECF6",
           "radialaxis": {
            "gridcolor": "white",
            "linecolor": "white",
            "ticks": ""
           }
          },
          "scene": {
           "xaxis": {
            "backgroundcolor": "#E5ECF6",
            "gridcolor": "white",
            "gridwidth": 2,
            "linecolor": "white",
            "showbackground": true,
            "ticks": "",
            "zerolinecolor": "white"
           },
           "yaxis": {
            "backgroundcolor": "#E5ECF6",
            "gridcolor": "white",
            "gridwidth": 2,
            "linecolor": "white",
            "showbackground": true,
            "ticks": "",
            "zerolinecolor": "white"
           },
           "zaxis": {
            "backgroundcolor": "#E5ECF6",
            "gridcolor": "white",
            "gridwidth": 2,
            "linecolor": "white",
            "showbackground": true,
            "ticks": "",
            "zerolinecolor": "white"
           }
          },
          "shapedefaults": {
           "line": {
            "color": "#2a3f5f"
           }
          },
          "ternary": {
           "aaxis": {
            "gridcolor": "white",
            "linecolor": "white",
            "ticks": ""
           },
           "baxis": {
            "gridcolor": "white",
            "linecolor": "white",
            "ticks": ""
           },
           "bgcolor": "#E5ECF6",
           "caxis": {
            "gridcolor": "white",
            "linecolor": "white",
            "ticks": ""
           }
          },
          "title": {
           "x": 0.05
          },
          "xaxis": {
           "automargin": true,
           "gridcolor": "white",
           "linecolor": "white",
           "ticks": "",
           "title": {
            "standoff": 15
           },
           "zerolinecolor": "white",
           "zerolinewidth": 2
          },
          "yaxis": {
           "automargin": true,
           "gridcolor": "white",
           "linecolor": "white",
           "ticks": "",
           "title": {
            "standoff": 15
           },
           "zerolinecolor": "white",
           "zerolinewidth": 2
          }
         }
        },
        "xaxis": {
         "anchor": "y",
         "domain": [
          0,
          1
         ],
         "title": {
          "text": "eye_count"
         }
        },
        "yaxis": {
         "anchor": "x",
         "domain": [
          0,
          1
         ],
         "title": {
          "text": "value"
         }
        }
       }
      }
     },
     "metadata": {},
     "output_type": "display_data"
    }
   ],
   "source": [
    "# Distribuição da variável 'eye_count' em %\n",
    "percentual_skin_type= df_species_eda.value_counts('eye_count') / len(df_species_eda) * 100\n",
    "px.bar(percentual_skin_type, color=percentual_skin_type.index)"
   ]
  },
  {
   "cell_type": "code",
   "execution_count": 28,
   "id": "ee8b139f",
   "metadata": {},
   "outputs": [
    {
     "data": {
      "application/vnd.plotly.v1+json": {
       "config": {
        "plotlyServerURL": "https://plot.ly"
       },
       "data": [
        {
         "hovertemplate": "nocturnal=%{marker.color}<br>value=%{y}<extra></extra>",
         "legendgroup": "",
         "marker": {
          "color": {
           "bdata": "AAE=",
           "dtype": "i1"
          },
          "coloraxis": "coloraxis",
          "pattern": {
           "shape": ""
          }
         },
         "name": "",
         "orientation": "v",
         "showlegend": false,
         "textposition": "auto",
         "type": "bar",
         "x": {
          "bdata": "AAE=",
          "dtype": "i1"
         },
         "xaxis": "x",
         "y": {
          "bdata": "AAAAAAAAT0AAAAAAAABDQA==",
          "dtype": "f8"
         },
         "yaxis": "y"
        }
       ],
       "layout": {
        "barmode": "relative",
        "coloraxis": {
         "colorbar": {
          "title": {
           "text": "nocturnal"
          }
         },
         "colorscale": [
          [
           0,
           "#0d0887"
          ],
          [
           0.1111111111111111,
           "#46039f"
          ],
          [
           0.2222222222222222,
           "#7201a8"
          ],
          [
           0.3333333333333333,
           "#9c179e"
          ],
          [
           0.4444444444444444,
           "#bd3786"
          ],
          [
           0.5555555555555556,
           "#d8576b"
          ],
          [
           0.6666666666666666,
           "#ed7953"
          ],
          [
           0.7777777777777778,
           "#fb9f3a"
          ],
          [
           0.8888888888888888,
           "#fdca26"
          ],
          [
           1,
           "#f0f921"
          ]
         ]
        },
        "legend": {
         "tracegroupgap": 0
        },
        "margin": {
         "t": 60
        },
        "template": {
         "data": {
          "bar": [
           {
            "error_x": {
             "color": "#2a3f5f"
            },
            "error_y": {
             "color": "#2a3f5f"
            },
            "marker": {
             "line": {
              "color": "#E5ECF6",
              "width": 0.5
             },
             "pattern": {
              "fillmode": "overlay",
              "size": 10,
              "solidity": 0.2
             }
            },
            "type": "bar"
           }
          ],
          "barpolar": [
           {
            "marker": {
             "line": {
              "color": "#E5ECF6",
              "width": 0.5
             },
             "pattern": {
              "fillmode": "overlay",
              "size": 10,
              "solidity": 0.2
             }
            },
            "type": "barpolar"
           }
          ],
          "carpet": [
           {
            "aaxis": {
             "endlinecolor": "#2a3f5f",
             "gridcolor": "white",
             "linecolor": "white",
             "minorgridcolor": "white",
             "startlinecolor": "#2a3f5f"
            },
            "baxis": {
             "endlinecolor": "#2a3f5f",
             "gridcolor": "white",
             "linecolor": "white",
             "minorgridcolor": "white",
             "startlinecolor": "#2a3f5f"
            },
            "type": "carpet"
           }
          ],
          "choropleth": [
           {
            "colorbar": {
             "outlinewidth": 0,
             "ticks": ""
            },
            "type": "choropleth"
           }
          ],
          "contour": [
           {
            "colorbar": {
             "outlinewidth": 0,
             "ticks": ""
            },
            "colorscale": [
             [
              0,
              "#0d0887"
             ],
             [
              0.1111111111111111,
              "#46039f"
             ],
             [
              0.2222222222222222,
              "#7201a8"
             ],
             [
              0.3333333333333333,
              "#9c179e"
             ],
             [
              0.4444444444444444,
              "#bd3786"
             ],
             [
              0.5555555555555556,
              "#d8576b"
             ],
             [
              0.6666666666666666,
              "#ed7953"
             ],
             [
              0.7777777777777778,
              "#fb9f3a"
             ],
             [
              0.8888888888888888,
              "#fdca26"
             ],
             [
              1,
              "#f0f921"
             ]
            ],
            "type": "contour"
           }
          ],
          "contourcarpet": [
           {
            "colorbar": {
             "outlinewidth": 0,
             "ticks": ""
            },
            "type": "contourcarpet"
           }
          ],
          "heatmap": [
           {
            "colorbar": {
             "outlinewidth": 0,
             "ticks": ""
            },
            "colorscale": [
             [
              0,
              "#0d0887"
             ],
             [
              0.1111111111111111,
              "#46039f"
             ],
             [
              0.2222222222222222,
              "#7201a8"
             ],
             [
              0.3333333333333333,
              "#9c179e"
             ],
             [
              0.4444444444444444,
              "#bd3786"
             ],
             [
              0.5555555555555556,
              "#d8576b"
             ],
             [
              0.6666666666666666,
              "#ed7953"
             ],
             [
              0.7777777777777778,
              "#fb9f3a"
             ],
             [
              0.8888888888888888,
              "#fdca26"
             ],
             [
              1,
              "#f0f921"
             ]
            ],
            "type": "heatmap"
           }
          ],
          "histogram": [
           {
            "marker": {
             "pattern": {
              "fillmode": "overlay",
              "size": 10,
              "solidity": 0.2
             }
            },
            "type": "histogram"
           }
          ],
          "histogram2d": [
           {
            "colorbar": {
             "outlinewidth": 0,
             "ticks": ""
            },
            "colorscale": [
             [
              0,
              "#0d0887"
             ],
             [
              0.1111111111111111,
              "#46039f"
             ],
             [
              0.2222222222222222,
              "#7201a8"
             ],
             [
              0.3333333333333333,
              "#9c179e"
             ],
             [
              0.4444444444444444,
              "#bd3786"
             ],
             [
              0.5555555555555556,
              "#d8576b"
             ],
             [
              0.6666666666666666,
              "#ed7953"
             ],
             [
              0.7777777777777778,
              "#fb9f3a"
             ],
             [
              0.8888888888888888,
              "#fdca26"
             ],
             [
              1,
              "#f0f921"
             ]
            ],
            "type": "histogram2d"
           }
          ],
          "histogram2dcontour": [
           {
            "colorbar": {
             "outlinewidth": 0,
             "ticks": ""
            },
            "colorscale": [
             [
              0,
              "#0d0887"
             ],
             [
              0.1111111111111111,
              "#46039f"
             ],
             [
              0.2222222222222222,
              "#7201a8"
             ],
             [
              0.3333333333333333,
              "#9c179e"
             ],
             [
              0.4444444444444444,
              "#bd3786"
             ],
             [
              0.5555555555555556,
              "#d8576b"
             ],
             [
              0.6666666666666666,
              "#ed7953"
             ],
             [
              0.7777777777777778,
              "#fb9f3a"
             ],
             [
              0.8888888888888888,
              "#fdca26"
             ],
             [
              1,
              "#f0f921"
             ]
            ],
            "type": "histogram2dcontour"
           }
          ],
          "mesh3d": [
           {
            "colorbar": {
             "outlinewidth": 0,
             "ticks": ""
            },
            "type": "mesh3d"
           }
          ],
          "parcoords": [
           {
            "line": {
             "colorbar": {
              "outlinewidth": 0,
              "ticks": ""
             }
            },
            "type": "parcoords"
           }
          ],
          "pie": [
           {
            "automargin": true,
            "type": "pie"
           }
          ],
          "scatter": [
           {
            "fillpattern": {
             "fillmode": "overlay",
             "size": 10,
             "solidity": 0.2
            },
            "type": "scatter"
           }
          ],
          "scatter3d": [
           {
            "line": {
             "colorbar": {
              "outlinewidth": 0,
              "ticks": ""
             }
            },
            "marker": {
             "colorbar": {
              "outlinewidth": 0,
              "ticks": ""
             }
            },
            "type": "scatter3d"
           }
          ],
          "scattercarpet": [
           {
            "marker": {
             "colorbar": {
              "outlinewidth": 0,
              "ticks": ""
             }
            },
            "type": "scattercarpet"
           }
          ],
          "scattergeo": [
           {
            "marker": {
             "colorbar": {
              "outlinewidth": 0,
              "ticks": ""
             }
            },
            "type": "scattergeo"
           }
          ],
          "scattergl": [
           {
            "marker": {
             "colorbar": {
              "outlinewidth": 0,
              "ticks": ""
             }
            },
            "type": "scattergl"
           }
          ],
          "scattermap": [
           {
            "marker": {
             "colorbar": {
              "outlinewidth": 0,
              "ticks": ""
             }
            },
            "type": "scattermap"
           }
          ],
          "scattermapbox": [
           {
            "marker": {
             "colorbar": {
              "outlinewidth": 0,
              "ticks": ""
             }
            },
            "type": "scattermapbox"
           }
          ],
          "scatterpolar": [
           {
            "marker": {
             "colorbar": {
              "outlinewidth": 0,
              "ticks": ""
             }
            },
            "type": "scatterpolar"
           }
          ],
          "scatterpolargl": [
           {
            "marker": {
             "colorbar": {
              "outlinewidth": 0,
              "ticks": ""
             }
            },
            "type": "scatterpolargl"
           }
          ],
          "scatterternary": [
           {
            "marker": {
             "colorbar": {
              "outlinewidth": 0,
              "ticks": ""
             }
            },
            "type": "scatterternary"
           }
          ],
          "surface": [
           {
            "colorbar": {
             "outlinewidth": 0,
             "ticks": ""
            },
            "colorscale": [
             [
              0,
              "#0d0887"
             ],
             [
              0.1111111111111111,
              "#46039f"
             ],
             [
              0.2222222222222222,
              "#7201a8"
             ],
             [
              0.3333333333333333,
              "#9c179e"
             ],
             [
              0.4444444444444444,
              "#bd3786"
             ],
             [
              0.5555555555555556,
              "#d8576b"
             ],
             [
              0.6666666666666666,
              "#ed7953"
             ],
             [
              0.7777777777777778,
              "#fb9f3a"
             ],
             [
              0.8888888888888888,
              "#fdca26"
             ],
             [
              1,
              "#f0f921"
             ]
            ],
            "type": "surface"
           }
          ],
          "table": [
           {
            "cells": {
             "fill": {
              "color": "#EBF0F8"
             },
             "line": {
              "color": "white"
             }
            },
            "header": {
             "fill": {
              "color": "#C8D4E3"
             },
             "line": {
              "color": "white"
             }
            },
            "type": "table"
           }
          ]
         },
         "layout": {
          "annotationdefaults": {
           "arrowcolor": "#2a3f5f",
           "arrowhead": 0,
           "arrowwidth": 1
          },
          "autotypenumbers": "strict",
          "coloraxis": {
           "colorbar": {
            "outlinewidth": 0,
            "ticks": ""
           }
          },
          "colorscale": {
           "diverging": [
            [
             0,
             "#8e0152"
            ],
            [
             0.1,
             "#c51b7d"
            ],
            [
             0.2,
             "#de77ae"
            ],
            [
             0.3,
             "#f1b6da"
            ],
            [
             0.4,
             "#fde0ef"
            ],
            [
             0.5,
             "#f7f7f7"
            ],
            [
             0.6,
             "#e6f5d0"
            ],
            [
             0.7,
             "#b8e186"
            ],
            [
             0.8,
             "#7fbc41"
            ],
            [
             0.9,
             "#4d9221"
            ],
            [
             1,
             "#276419"
            ]
           ],
           "sequential": [
            [
             0,
             "#0d0887"
            ],
            [
             0.1111111111111111,
             "#46039f"
            ],
            [
             0.2222222222222222,
             "#7201a8"
            ],
            [
             0.3333333333333333,
             "#9c179e"
            ],
            [
             0.4444444444444444,
             "#bd3786"
            ],
            [
             0.5555555555555556,
             "#d8576b"
            ],
            [
             0.6666666666666666,
             "#ed7953"
            ],
            [
             0.7777777777777778,
             "#fb9f3a"
            ],
            [
             0.8888888888888888,
             "#fdca26"
            ],
            [
             1,
             "#f0f921"
            ]
           ],
           "sequentialminus": [
            [
             0,
             "#0d0887"
            ],
            [
             0.1111111111111111,
             "#46039f"
            ],
            [
             0.2222222222222222,
             "#7201a8"
            ],
            [
             0.3333333333333333,
             "#9c179e"
            ],
            [
             0.4444444444444444,
             "#bd3786"
            ],
            [
             0.5555555555555556,
             "#d8576b"
            ],
            [
             0.6666666666666666,
             "#ed7953"
            ],
            [
             0.7777777777777778,
             "#fb9f3a"
            ],
            [
             0.8888888888888888,
             "#fdca26"
            ],
            [
             1,
             "#f0f921"
            ]
           ]
          },
          "colorway": [
           "#636efa",
           "#EF553B",
           "#00cc96",
           "#ab63fa",
           "#FFA15A",
           "#19d3f3",
           "#FF6692",
           "#B6E880",
           "#FF97FF",
           "#FECB52"
          ],
          "font": {
           "color": "#2a3f5f"
          },
          "geo": {
           "bgcolor": "white",
           "lakecolor": "white",
           "landcolor": "#E5ECF6",
           "showlakes": true,
           "showland": true,
           "subunitcolor": "white"
          },
          "hoverlabel": {
           "align": "left"
          },
          "hovermode": "closest",
          "mapbox": {
           "style": "light"
          },
          "paper_bgcolor": "white",
          "plot_bgcolor": "#E5ECF6",
          "polar": {
           "angularaxis": {
            "gridcolor": "white",
            "linecolor": "white",
            "ticks": ""
           },
           "bgcolor": "#E5ECF6",
           "radialaxis": {
            "gridcolor": "white",
            "linecolor": "white",
            "ticks": ""
           }
          },
          "scene": {
           "xaxis": {
            "backgroundcolor": "#E5ECF6",
            "gridcolor": "white",
            "gridwidth": 2,
            "linecolor": "white",
            "showbackground": true,
            "ticks": "",
            "zerolinecolor": "white"
           },
           "yaxis": {
            "backgroundcolor": "#E5ECF6",
            "gridcolor": "white",
            "gridwidth": 2,
            "linecolor": "white",
            "showbackground": true,
            "ticks": "",
            "zerolinecolor": "white"
           },
           "zaxis": {
            "backgroundcolor": "#E5ECF6",
            "gridcolor": "white",
            "gridwidth": 2,
            "linecolor": "white",
            "showbackground": true,
            "ticks": "",
            "zerolinecolor": "white"
           }
          },
          "shapedefaults": {
           "line": {
            "color": "#2a3f5f"
           }
          },
          "ternary": {
           "aaxis": {
            "gridcolor": "white",
            "linecolor": "white",
            "ticks": ""
           },
           "baxis": {
            "gridcolor": "white",
            "linecolor": "white",
            "ticks": ""
           },
           "bgcolor": "#E5ECF6",
           "caxis": {
            "gridcolor": "white",
            "linecolor": "white",
            "ticks": ""
           }
          },
          "title": {
           "x": 0.05
          },
          "xaxis": {
           "automargin": true,
           "gridcolor": "white",
           "linecolor": "white",
           "ticks": "",
           "title": {
            "standoff": 15
           },
           "zerolinecolor": "white",
           "zerolinewidth": 2
          },
          "yaxis": {
           "automargin": true,
           "gridcolor": "white",
           "linecolor": "white",
           "ticks": "",
           "title": {
            "standoff": 15
           },
           "zerolinecolor": "white",
           "zerolinewidth": 2
          }
         }
        },
        "xaxis": {
         "anchor": "y",
         "domain": [
          0,
          1
         ],
         "title": {
          "text": "nocturnal"
         }
        },
        "yaxis": {
         "anchor": "x",
         "domain": [
          0,
          1
         ],
         "title": {
          "text": "value"
         }
        }
       }
      }
     },
     "metadata": {},
     "output_type": "display_data"
    }
   ],
   "source": [
    "# Distribuição da variável 'nocturnal' em %\n",
    "percentual_skin_type= df_species_eda.value_counts('nocturnal') / len(df_species_eda) * 100\n",
    "px.bar(percentual_skin_type, color=percentual_skin_type.index)"
   ]
  },
  {
   "cell_type": "code",
   "execution_count": 31,
   "metadata": {},
   "outputs": [
    {
     "data": {
      "application/vnd.plotly.v1+json": {
       "config": {
        "plotlyServerURL": "https://plot.ly"
       },
       "data": [
        {
         "hovertemplate": "has_venom=%{marker.color}<br>value=%{y}<extra></extra>",
         "legendgroup": "",
         "marker": {
          "color": {
           "bdata": "AAE=",
           "dtype": "i1"
          },
          "coloraxis": "coloraxis",
          "pattern": {
           "shape": ""
          }
         },
         "name": "",
         "orientation": "v",
         "showlegend": false,
         "textposition": "auto",
         "type": "bar",
         "x": {
          "bdata": "AAE=",
          "dtype": "i1"
         },
         "xaxis": "x",
         "y": {
          "bdata": "AAAAAABAVUAAAAAAAAAuQA==",
          "dtype": "f8"
         },
         "yaxis": "y"
        }
       ],
       "layout": {
        "barmode": "relative",
        "coloraxis": {
         "colorbar": {
          "title": {
           "text": "has_venom"
          }
         },
         "colorscale": [
          [
           0,
           "#0d0887"
          ],
          [
           0.1111111111111111,
           "#46039f"
          ],
          [
           0.2222222222222222,
           "#7201a8"
          ],
          [
           0.3333333333333333,
           "#9c179e"
          ],
          [
           0.4444444444444444,
           "#bd3786"
          ],
          [
           0.5555555555555556,
           "#d8576b"
          ],
          [
           0.6666666666666666,
           "#ed7953"
          ],
          [
           0.7777777777777778,
           "#fb9f3a"
          ],
          [
           0.8888888888888888,
           "#fdca26"
          ],
          [
           1,
           "#f0f921"
          ]
         ]
        },
        "legend": {
         "tracegroupgap": 0
        },
        "margin": {
         "t": 60
        },
        "template": {
         "data": {
          "bar": [
           {
            "error_x": {
             "color": "#2a3f5f"
            },
            "error_y": {
             "color": "#2a3f5f"
            },
            "marker": {
             "line": {
              "color": "#E5ECF6",
              "width": 0.5
             },
             "pattern": {
              "fillmode": "overlay",
              "size": 10,
              "solidity": 0.2
             }
            },
            "type": "bar"
           }
          ],
          "barpolar": [
           {
            "marker": {
             "line": {
              "color": "#E5ECF6",
              "width": 0.5
             },
             "pattern": {
              "fillmode": "overlay",
              "size": 10,
              "solidity": 0.2
             }
            },
            "type": "barpolar"
           }
          ],
          "carpet": [
           {
            "aaxis": {
             "endlinecolor": "#2a3f5f",
             "gridcolor": "white",
             "linecolor": "white",
             "minorgridcolor": "white",
             "startlinecolor": "#2a3f5f"
            },
            "baxis": {
             "endlinecolor": "#2a3f5f",
             "gridcolor": "white",
             "linecolor": "white",
             "minorgridcolor": "white",
             "startlinecolor": "#2a3f5f"
            },
            "type": "carpet"
           }
          ],
          "choropleth": [
           {
            "colorbar": {
             "outlinewidth": 0,
             "ticks": ""
            },
            "type": "choropleth"
           }
          ],
          "contour": [
           {
            "colorbar": {
             "outlinewidth": 0,
             "ticks": ""
            },
            "colorscale": [
             [
              0,
              "#0d0887"
             ],
             [
              0.1111111111111111,
              "#46039f"
             ],
             [
              0.2222222222222222,
              "#7201a8"
             ],
             [
              0.3333333333333333,
              "#9c179e"
             ],
             [
              0.4444444444444444,
              "#bd3786"
             ],
             [
              0.5555555555555556,
              "#d8576b"
             ],
             [
              0.6666666666666666,
              "#ed7953"
             ],
             [
              0.7777777777777778,
              "#fb9f3a"
             ],
             [
              0.8888888888888888,
              "#fdca26"
             ],
             [
              1,
              "#f0f921"
             ]
            ],
            "type": "contour"
           }
          ],
          "contourcarpet": [
           {
            "colorbar": {
             "outlinewidth": 0,
             "ticks": ""
            },
            "type": "contourcarpet"
           }
          ],
          "heatmap": [
           {
            "colorbar": {
             "outlinewidth": 0,
             "ticks": ""
            },
            "colorscale": [
             [
              0,
              "#0d0887"
             ],
             [
              0.1111111111111111,
              "#46039f"
             ],
             [
              0.2222222222222222,
              "#7201a8"
             ],
             [
              0.3333333333333333,
              "#9c179e"
             ],
             [
              0.4444444444444444,
              "#bd3786"
             ],
             [
              0.5555555555555556,
              "#d8576b"
             ],
             [
              0.6666666666666666,
              "#ed7953"
             ],
             [
              0.7777777777777778,
              "#fb9f3a"
             ],
             [
              0.8888888888888888,
              "#fdca26"
             ],
             [
              1,
              "#f0f921"
             ]
            ],
            "type": "heatmap"
           }
          ],
          "histogram": [
           {
            "marker": {
             "pattern": {
              "fillmode": "overlay",
              "size": 10,
              "solidity": 0.2
             }
            },
            "type": "histogram"
           }
          ],
          "histogram2d": [
           {
            "colorbar": {
             "outlinewidth": 0,
             "ticks": ""
            },
            "colorscale": [
             [
              0,
              "#0d0887"
             ],
             [
              0.1111111111111111,
              "#46039f"
             ],
             [
              0.2222222222222222,
              "#7201a8"
             ],
             [
              0.3333333333333333,
              "#9c179e"
             ],
             [
              0.4444444444444444,
              "#bd3786"
             ],
             [
              0.5555555555555556,
              "#d8576b"
             ],
             [
              0.6666666666666666,
              "#ed7953"
             ],
             [
              0.7777777777777778,
              "#fb9f3a"
             ],
             [
              0.8888888888888888,
              "#fdca26"
             ],
             [
              1,
              "#f0f921"
             ]
            ],
            "type": "histogram2d"
           }
          ],
          "histogram2dcontour": [
           {
            "colorbar": {
             "outlinewidth": 0,
             "ticks": ""
            },
            "colorscale": [
             [
              0,
              "#0d0887"
             ],
             [
              0.1111111111111111,
              "#46039f"
             ],
             [
              0.2222222222222222,
              "#7201a8"
             ],
             [
              0.3333333333333333,
              "#9c179e"
             ],
             [
              0.4444444444444444,
              "#bd3786"
             ],
             [
              0.5555555555555556,
              "#d8576b"
             ],
             [
              0.6666666666666666,
              "#ed7953"
             ],
             [
              0.7777777777777778,
              "#fb9f3a"
             ],
             [
              0.8888888888888888,
              "#fdca26"
             ],
             [
              1,
              "#f0f921"
             ]
            ],
            "type": "histogram2dcontour"
           }
          ],
          "mesh3d": [
           {
            "colorbar": {
             "outlinewidth": 0,
             "ticks": ""
            },
            "type": "mesh3d"
           }
          ],
          "parcoords": [
           {
            "line": {
             "colorbar": {
              "outlinewidth": 0,
              "ticks": ""
             }
            },
            "type": "parcoords"
           }
          ],
          "pie": [
           {
            "automargin": true,
            "type": "pie"
           }
          ],
          "scatter": [
           {
            "fillpattern": {
             "fillmode": "overlay",
             "size": 10,
             "solidity": 0.2
            },
            "type": "scatter"
           }
          ],
          "scatter3d": [
           {
            "line": {
             "colorbar": {
              "outlinewidth": 0,
              "ticks": ""
             }
            },
            "marker": {
             "colorbar": {
              "outlinewidth": 0,
              "ticks": ""
             }
            },
            "type": "scatter3d"
           }
          ],
          "scattercarpet": [
           {
            "marker": {
             "colorbar": {
              "outlinewidth": 0,
              "ticks": ""
             }
            },
            "type": "scattercarpet"
           }
          ],
          "scattergeo": [
           {
            "marker": {
             "colorbar": {
              "outlinewidth": 0,
              "ticks": ""
             }
            },
            "type": "scattergeo"
           }
          ],
          "scattergl": [
           {
            "marker": {
             "colorbar": {
              "outlinewidth": 0,
              "ticks": ""
             }
            },
            "type": "scattergl"
           }
          ],
          "scattermap": [
           {
            "marker": {
             "colorbar": {
              "outlinewidth": 0,
              "ticks": ""
             }
            },
            "type": "scattermap"
           }
          ],
          "scattermapbox": [
           {
            "marker": {
             "colorbar": {
              "outlinewidth": 0,
              "ticks": ""
             }
            },
            "type": "scattermapbox"
           }
          ],
          "scatterpolar": [
           {
            "marker": {
             "colorbar": {
              "outlinewidth": 0,
              "ticks": ""
             }
            },
            "type": "scatterpolar"
           }
          ],
          "scatterpolargl": [
           {
            "marker": {
             "colorbar": {
              "outlinewidth": 0,
              "ticks": ""
             }
            },
            "type": "scatterpolargl"
           }
          ],
          "scatterternary": [
           {
            "marker": {
             "colorbar": {
              "outlinewidth": 0,
              "ticks": ""
             }
            },
            "type": "scatterternary"
           }
          ],
          "surface": [
           {
            "colorbar": {
             "outlinewidth": 0,
             "ticks": ""
            },
            "colorscale": [
             [
              0,
              "#0d0887"
             ],
             [
              0.1111111111111111,
              "#46039f"
             ],
             [
              0.2222222222222222,
              "#7201a8"
             ],
             [
              0.3333333333333333,
              "#9c179e"
             ],
             [
              0.4444444444444444,
              "#bd3786"
             ],
             [
              0.5555555555555556,
              "#d8576b"
             ],
             [
              0.6666666666666666,
              "#ed7953"
             ],
             [
              0.7777777777777778,
              "#fb9f3a"
             ],
             [
              0.8888888888888888,
              "#fdca26"
             ],
             [
              1,
              "#f0f921"
             ]
            ],
            "type": "surface"
           }
          ],
          "table": [
           {
            "cells": {
             "fill": {
              "color": "#EBF0F8"
             },
             "line": {
              "color": "white"
             }
            },
            "header": {
             "fill": {
              "color": "#C8D4E3"
             },
             "line": {
              "color": "white"
             }
            },
            "type": "table"
           }
          ]
         },
         "layout": {
          "annotationdefaults": {
           "arrowcolor": "#2a3f5f",
           "arrowhead": 0,
           "arrowwidth": 1
          },
          "autotypenumbers": "strict",
          "coloraxis": {
           "colorbar": {
            "outlinewidth": 0,
            "ticks": ""
           }
          },
          "colorscale": {
           "diverging": [
            [
             0,
             "#8e0152"
            ],
            [
             0.1,
             "#c51b7d"
            ],
            [
             0.2,
             "#de77ae"
            ],
            [
             0.3,
             "#f1b6da"
            ],
            [
             0.4,
             "#fde0ef"
            ],
            [
             0.5,
             "#f7f7f7"
            ],
            [
             0.6,
             "#e6f5d0"
            ],
            [
             0.7,
             "#b8e186"
            ],
            [
             0.8,
             "#7fbc41"
            ],
            [
             0.9,
             "#4d9221"
            ],
            [
             1,
             "#276419"
            ]
           ],
           "sequential": [
            [
             0,
             "#0d0887"
            ],
            [
             0.1111111111111111,
             "#46039f"
            ],
            [
             0.2222222222222222,
             "#7201a8"
            ],
            [
             0.3333333333333333,
             "#9c179e"
            ],
            [
             0.4444444444444444,
             "#bd3786"
            ],
            [
             0.5555555555555556,
             "#d8576b"
            ],
            [
             0.6666666666666666,
             "#ed7953"
            ],
            [
             0.7777777777777778,
             "#fb9f3a"
            ],
            [
             0.8888888888888888,
             "#fdca26"
            ],
            [
             1,
             "#f0f921"
            ]
           ],
           "sequentialminus": [
            [
             0,
             "#0d0887"
            ],
            [
             0.1111111111111111,
             "#46039f"
            ],
            [
             0.2222222222222222,
             "#7201a8"
            ],
            [
             0.3333333333333333,
             "#9c179e"
            ],
            [
             0.4444444444444444,
             "#bd3786"
            ],
            [
             0.5555555555555556,
             "#d8576b"
            ],
            [
             0.6666666666666666,
             "#ed7953"
            ],
            [
             0.7777777777777778,
             "#fb9f3a"
            ],
            [
             0.8888888888888888,
             "#fdca26"
            ],
            [
             1,
             "#f0f921"
            ]
           ]
          },
          "colorway": [
           "#636efa",
           "#EF553B",
           "#00cc96",
           "#ab63fa",
           "#FFA15A",
           "#19d3f3",
           "#FF6692",
           "#B6E880",
           "#FF97FF",
           "#FECB52"
          ],
          "font": {
           "color": "#2a3f5f"
          },
          "geo": {
           "bgcolor": "white",
           "lakecolor": "white",
           "landcolor": "#E5ECF6",
           "showlakes": true,
           "showland": true,
           "subunitcolor": "white"
          },
          "hoverlabel": {
           "align": "left"
          },
          "hovermode": "closest",
          "mapbox": {
           "style": "light"
          },
          "paper_bgcolor": "white",
          "plot_bgcolor": "#E5ECF6",
          "polar": {
           "angularaxis": {
            "gridcolor": "white",
            "linecolor": "white",
            "ticks": ""
           },
           "bgcolor": "#E5ECF6",
           "radialaxis": {
            "gridcolor": "white",
            "linecolor": "white",
            "ticks": ""
           }
          },
          "scene": {
           "xaxis": {
            "backgroundcolor": "#E5ECF6",
            "gridcolor": "white",
            "gridwidth": 2,
            "linecolor": "white",
            "showbackground": true,
            "ticks": "",
            "zerolinecolor": "white"
           },
           "yaxis": {
            "backgroundcolor": "#E5ECF6",
            "gridcolor": "white",
            "gridwidth": 2,
            "linecolor": "white",
            "showbackground": true,
            "ticks": "",
            "zerolinecolor": "white"
           },
           "zaxis": {
            "backgroundcolor": "#E5ECF6",
            "gridcolor": "white",
            "gridwidth": 2,
            "linecolor": "white",
            "showbackground": true,
            "ticks": "",
            "zerolinecolor": "white"
           }
          },
          "shapedefaults": {
           "line": {
            "color": "#2a3f5f"
           }
          },
          "ternary": {
           "aaxis": {
            "gridcolor": "white",
            "linecolor": "white",
            "ticks": ""
           },
           "baxis": {
            "gridcolor": "white",
            "linecolor": "white",
            "ticks": ""
           },
           "bgcolor": "#E5ECF6",
           "caxis": {
            "gridcolor": "white",
            "linecolor": "white",
            "ticks": ""
           }
          },
          "title": {
           "x": 0.05
          },
          "xaxis": {
           "automargin": true,
           "gridcolor": "white",
           "linecolor": "white",
           "ticks": "",
           "title": {
            "standoff": 15
           },
           "zerolinecolor": "white",
           "zerolinewidth": 2
          },
          "yaxis": {
           "automargin": true,
           "gridcolor": "white",
           "linecolor": "white",
           "ticks": "",
           "title": {
            "standoff": 15
           },
           "zerolinecolor": "white",
           "zerolinewidth": 2
          }
         }
        },
        "xaxis": {
         "anchor": "y",
         "domain": [
          0,
          1
         ],
         "title": {
          "text": "has_venom"
         }
        },
        "yaxis": {
         "anchor": "x",
         "domain": [
          0,
          1
         ],
         "title": {
          "text": "value"
         }
        }
       }
      }
     },
     "metadata": {},
     "output_type": "display_data"
    }
   ],
   "source": [
    "# Distribuição da variável 'has_venom' em %\n",
    "percentual_skin_type= df_species_eda.value_counts('has_venom') / len(df_species_eda) * 100\n",
    "px.bar(percentual_skin_type, color=percentual_skin_type.index)"
   ]
  },
  {
   "cell_type": "code",
   "execution_count": 25,
   "metadata": {},
   "outputs": [
    {
     "data": {
      "text/plain": [
       "<Axes: xlabel='tail_length_cm', ylabel='Count'>"
      ]
     },
     "execution_count": 25,
     "metadata": {},
     "output_type": "execute_result"
    },
    {
     "data": {
      "image/png": "[encoded data removed]",
      "text/plain": [
       "<Figure size 640x480 with 1 Axes>"
      ]
     },
     "metadata": {},
     "output_type": "display_data"
    }
   ],
   "source": [
    "# Distrubuição da variável 'tail_length_cm' em quantidade\n",
    "sns.histplot(df_species_eda['tail_length_cm'], kde=True, color='lightblue')"
   ]
  },
  {
   "cell_type": "code",
   "execution_count": null,
   "id": "a7b71b81",
   "metadata": {},
   "outputs": [
    {
     "data": {
      "text/plain": [
       "<Axes: xlabel='body_mass_kg', ylabel='Count'>"
      ]
     },
     "execution_count": 11,
     "metadata": {},
     "output_type": "execute_result"
    },
    {
     "data": {
      "image/png": "[encoded data removed]",
      "text/plain": [
       "<Figure size 640x480 with 1 Axes>"
      ]
     },
     "metadata": {},
     "output_type": "display_data"
    }
   ],
   "source": [
    "# Distrubuição da variável 'body_mass_kg' em quantidade\n",
    "sns.histplot(df_species_eda['body_mass_kg'], kde=True, color='lightblue')"
   ]
  },
  {
   "cell_type": "code",
   "execution_count": null,
   "id": "1c466b5e",
   "metadata": {},
   "outputs": [
    {
     "data": {
      "text/plain": [
       "<Axes: xlabel='diet_type', ylabel='Count'>"
      ]
     },
     "execution_count": 12,
     "metadata": {},
     "output_type": "execute_result"
    },
    {
     "data": {
      "image/png": "[encoded data removed]",
      "text/plain": [
       "<Figure size 640x480 with 1 Axes>"
      ]
     },
     "metadata": {},
     "output_type": "display_data"
    }
   ],
   "source": [
    "# Distrubuição da variável 'diet_type' em quantidade\n",
    "sns.histplot(df_species_eda['diet_type'], kde=True, color='lightblue')"
   ]
  },
  {
   "cell_type": "code",
   "execution_count": 13,
   "metadata": {},
   "outputs": [
    {
     "data": {
      "text/plain": [
       "<Axes: xlabel='skin_type', ylabel='Count'>"
      ]
     },
     "execution_count": 13,
     "metadata": {},
     "output_type": "execute_result"
    },
    {
     "data": {
      "image/png": "[encoded data removed]",
      "text/plain": [
       "<Figure size 640x480 with 1 Axes>"
      ]
     },
     "metadata": {},
     "output_type": "display_data"
    }
   ],
   "source": [
    "# Distrubuição da variável 'skin_type' em quantidade\n",
    "sns.histplot(df_species_eda['skin_type'], kde=True, color='lightblue')"
   ]
  },
  {
   "cell_type": "code",
   "execution_count": null,
   "metadata": {},
   "outputs": [
    {
     "data": {
      "text/plain": [
       "<Axes: xlabel='avg_lifespan_years', ylabel='Count'>"
      ]
     },
     "execution_count": 30,
     "metadata": {},
     "output_type": "execute_result"
    },
    {
     "data": {
      "image/png": "[encoded data removed]",
      "text/plain": [
       "<Figure size 640x480 with 1 Axes>"
      ]
     },
     "metadata": {},
     "output_type": "display_data"
    }
   ],
   "source": [
    "# Distrubuição da variável 'avg_lifespan_years' em quantidade\n",
    "sns.histplot(df_species_eda['avg_lifespan_years'], kde=True, color='lightblue')"
   ]
  },
  {
   "cell_type": "markdown",
   "id": "8182a208",
   "metadata": {},
   "source": [
    "#### Análise bivariada"
   ]
  },
  {
   "cell_type": "code",
   "execution_count": null,
   "metadata": {},
   "outputs": [
    {
     "data": {
      "application/vnd.plotly.v1+json": {
       "config": {
        "plotlyServerURL": "https://plot.ly"
       },
       "data": [
        {
         "alignmentgroup": "True",
         "hovertemplate": "nocturnal=%{x}<br>body_mass_kg=%{y}<extra></extra>",
         "legendgroup": "0",
         "marker": {
          "color": "#636efa"
         },
         "name": "0",
         "notched": false,
         "offsetgroup": "0",
         "orientation": "v",
         "showlegend": true,
         "type": "box",
         "x": {
          "bdata": "AAAAAAAAAAAAAAAAAAAAAAAAAAAAAAAAAAAAAAAAAAAAAAAAAAAAAAAAAAAAAAAAAAAAAAAAAAAAAAAAAAAAAAAAAAAAAAAAAAAAAAAAAAAAAAAAAAAAAAAAAAAAAAAAAAAAAAAAAAAAAAAAAAAAAAAAAAAAAAAAAAAAAAAAAAAAAAAAAAAAAAAAAAAAAAAAAAAAAAAAAAAAAAAAAAAAAAAAAAAAAAAAAAAAAAAAAAAAAAAAAAAAAAAAAAAAAAAAAAAAAAAAAAAAAAAAAAAAAAAAAAAAAAAAAAAAAAAAAAAAAAAAAAAAAAAAAAAAAAAAAAAAAAAAAAAAAAAAAAAAAAAAAAAAAAAAAAAAAAAAAAAAAAAAAAAAAAAAAAAAAAAAAAAAAAAAAAAAAAAAAAAAAAAAAAAAAAAAAAAAAAAAAAAAAAAAAAAAAAAAAAAAAAAAAAAAAAAAAAAAAAAAAAAAAAAAAAAAAAAAAAAAAAAAAAAAAAAA",
          "dtype": "i1"
         },
         "x0": " ",
         "xaxis": "x",
         "y": {
          "bdata": "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",
          "dtype": "f8"
         },
         "y0": " ",
         "yaxis": "y"
        },
        {
         "alignmentgroup": "True",
         "hovertemplate": "nocturnal=%{x}<br>body_mass_kg=%{y}<extra></extra>",
         "legendgroup": "1",
         "marker": {
          "color": "#EF553B"
         },
         "name": "1",
         "notched": false,
         "offsetgroup": "1",
         "orientation": "v",
         "showlegend": true,
         "type": "box",
         "x": {
          "bdata": "AQEBAQEBAQEBAQEBAQEBAQEBAQEBAQEBAQEBAQEBAQEBAQEBAQEBAQEBAQEBAQEBAQEBAQEBAQEBAQEBAQEBAQEBAQEBAQEBAQEBAQEBAQEBAQEBAQEBAQEBAQEBAQEBAQEBAQEBAQEBAQEBAQEBAQEBAQEBAQEBAQEBAQEBAQEBAQEBAQEBAQEBAQEBAQEBAQEBAQEBAQEBAQEBAQEBAQEBAQEBAQEBAQEBAQEBAQEBAQEBAQEBAQEBAQEBAQEBAQEBAQEBAQEBAQEBAQEBAQEBAQEBAQEBAQEBAQEBAQEBAQEB",
          "dtype": "i1"
         },
         "x0": " ",
         "xaxis": "x",
         "y": {
          "bdata": "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",
          "dtype": "f8"
         },
         "y0": " ",
         "yaxis": "y"
        }
       ],
       "layout": {
        "boxmode": "overlay",
        "legend": {
         "title": {
          "text": "nocturnal"
         },
         "tracegroupgap": 0
        },
        "margin": {
         "t": 60
        },
        "template": {
         "data": {
          "bar": [
           {
            "error_x": {
             "color": "#2a3f5f"
            },
            "error_y": {
             "color": "#2a3f5f"
            },
            "marker": {
             "line": {
              "color": "#E5ECF6",
              "width": 0.5
             },
             "pattern": {
              "fillmode": "overlay",
              "size": 10,
              "solidity": 0.2
             }
            },
            "type": "bar"
           }
          ],
          "barpolar": [
           {
            "marker": {
             "line": {
              "color": "#E5ECF6",
              "width": 0.5
             },
             "pattern": {
              "fillmode": "overlay",
              "size": 10,
              "solidity": 0.2
             }
            },
            "type": "barpolar"
           }
          ],
          "carpet": [
           {
            "aaxis": {
             "endlinecolor": "#2a3f5f",
             "gridcolor": "white",
             "linecolor": "white",
             "minorgridcolor": "white",
             "startlinecolor": "#2a3f5f"
            },
            "baxis": {
             "endlinecolor": "#2a3f5f",
             "gridcolor": "white",
             "linecolor": "white",
             "minorgridcolor": "white",
             "startlinecolor": "#2a3f5f"
            },
            "type": "carpet"
           }
          ],
          "choropleth": [
           {
            "colorbar": {
             "outlinewidth": 0,
             "ticks": ""
            },
            "type": "choropleth"
           }
          ],
          "contour": [
           {
            "colorbar": {
             "outlinewidth": 0,
             "ticks": ""
            },
            "colorscale": [
             [
              0,
              "#0d0887"
             ],
             [
              0.1111111111111111,
              "#46039f"
             ],
             [
              0.2222222222222222,
              "#7201a8"
             ],
             [
              0.3333333333333333,
              "#9c179e"
             ],
             [
              0.4444444444444444,
              "#bd3786"
             ],
             [
              0.5555555555555556,
              "#d8576b"
             ],
             [
              0.6666666666666666,
              "#ed7953"
             ],
             [
              0.7777777777777778,
              "#fb9f3a"
             ],
             [
              0.8888888888888888,
              "#fdca26"
             ],
             [
              1,
              "#f0f921"
             ]
            ],
            "type": "contour"
           }
          ],
          "contourcarpet": [
           {
            "colorbar": {
             "outlinewidth": 0,
             "ticks": ""
            },
            "type": "contourcarpet"
           }
          ],
          "heatmap": [
           {
            "colorbar": {
             "outlinewidth": 0,
             "ticks": ""
            },
            "colorscale": [
             [
              0,
              "#0d0887"
             ],
             [
              0.1111111111111111,
              "#46039f"
             ],
             [
              0.2222222222222222,
              "#7201a8"
             ],
             [
              0.3333333333333333,
              "#9c179e"
             ],
             [
              0.4444444444444444,
              "#bd3786"
             ],
             [
              0.5555555555555556,
              "#d8576b"
             ],
             [
              0.6666666666666666,
              "#ed7953"
             ],
             [
              0.7777777777777778,
              "#fb9f3a"
             ],
             [
              0.8888888888888888,
              "#fdca26"
             ],
             [
              1,
              "#f0f921"
             ]
            ],
            "type": "heatmap"
           }
          ],
          "histogram": [
           {
            "marker": {
             "pattern": {
              "fillmode": "overlay",
              "size": 10,
              "solidity": 0.2
             }
            },
            "type": "histogram"
           }
          ],
          "histogram2d": [
           {
            "colorbar": {
             "outlinewidth": 0,
             "ticks": ""
            },
            "colorscale": [
             [
              0,
              "#0d0887"
             ],
             [
              0.1111111111111111,
              "#46039f"
             ],
             [
              0.2222222222222222,
              "#7201a8"
             ],
             [
              0.3333333333333333,
              "#9c179e"
             ],
             [
              0.4444444444444444,
              "#bd3786"
             ],
             [
              0.5555555555555556,
              "#d8576b"
             ],
             [
              0.6666666666666666,
              "#ed7953"
             ],
             [
              0.7777777777777778,
              "#fb9f3a"
             ],
             [
              0.8888888888888888,
              "#fdca26"
             ],
             [
              1,
              "#f0f921"
             ]
            ],
            "type": "histogram2d"
           }
          ],
          "histogram2dcontour": [
           {
            "colorbar": {
             "outlinewidth": 0,
             "ticks": ""
            },
            "colorscale": [
             [
              0,
              "#0d0887"
             ],
             [
              0.1111111111111111,
              "#46039f"
             ],
             [
              0.2222222222222222,
              "#7201a8"
             ],
             [
              0.3333333333333333,
              "#9c179e"
             ],
             [
              0.4444444444444444,
              "#bd3786"
             ],
             [
              0.5555555555555556,
              "#d8576b"
             ],
             [
              0.6666666666666666,
              "#ed7953"
             ],
             [
              0.7777777777777778,
              "#fb9f3a"
             ],
             [
              0.8888888888888888,
              "#fdca26"
             ],
             [
              1,
              "#f0f921"
             ]
            ],
            "type": "histogram2dcontour"
           }
          ],
          "mesh3d": [
           {
            "colorbar": {
             "outlinewidth": 0,
             "ticks": ""
            },
            "type": "mesh3d"
           }
          ],
          "parcoords": [
           {
            "line": {
             "colorbar": {
              "outlinewidth": 0,
              "ticks": ""
             }
            },
            "type": "parcoords"
           }
          ],
          "pie": [
           {
            "automargin": true,
            "type": "pie"
           }
          ],
          "scatter": [
           {
            "fillpattern": {
             "fillmode": "overlay",
             "size": 10,
             "solidity": 0.2
            },
            "type": "scatter"
           }
          ],
          "scatter3d": [
           {
            "line": {
             "colorbar": {
              "outlinewidth": 0,
              "ticks": ""
             }
            },
            "marker": {
             "colorbar": {
              "outlinewidth": 0,
              "ticks": ""
             }
            },
            "type": "scatter3d"
           }
          ],
          "scattercarpet": [
           {
            "marker": {
             "colorbar": {
              "outlinewidth": 0,
              "ticks": ""
             }
            },
            "type": "scattercarpet"
           }
          ],
          "scattergeo": [
           {
            "marker": {
             "colorbar": {
              "outlinewidth": 0,
              "ticks": ""
             }
            },
            "type": "scattergeo"
           }
          ],
          "scattergl": [
           {
            "marker": {
             "colorbar": {
              "outlinewidth": 0,
              "ticks": ""
             }
            },
            "type": "scattergl"
           }
          ],
          "scattermap": [
           {
            "marker": {
             "colorbar": {
              "outlinewidth": 0,
              "ticks": ""
             }
            },
            "type": "scattermap"
           }
          ],
          "scattermapbox": [
           {
            "marker": {
             "colorbar": {
              "outlinewidth": 0,
              "ticks": ""
             }
            },
            "type": "scattermapbox"
           }
          ],
          "scatterpolar": [
           {
            "marker": {
             "colorbar": {
              "outlinewidth": 0,
              "ticks": ""
             }
            },
            "type": "scatterpolar"
           }
          ],
          "scatterpolargl": [
           {
            "marker": {
             "colorbar": {
              "outlinewidth": 0,
              "ticks": ""
             }
            },
            "type": "scatterpolargl"
           }
          ],
          "scatterternary": [
           {
            "marker": {
             "colorbar": {
              "outlinewidth": 0,
              "ticks": ""
             }
            },
            "type": "scatterternary"
           }
          ],
          "surface": [
           {
            "colorbar": {
             "outlinewidth": 0,
             "ticks": ""
            },
            "colorscale": [
             [
              0,
              "#0d0887"
             ],
             [
              0.1111111111111111,
              "#46039f"
             ],
             [
              0.2222222222222222,
              "#7201a8"
             ],
             [
              0.3333333333333333,
              "#9c179e"
             ],
             [
              0.4444444444444444,
              "#bd3786"
             ],
             [
              0.5555555555555556,
              "#d8576b"
             ],
             [
              0.6666666666666666,
              "#ed7953"
             ],
             [
              0.7777777777777778,
              "#fb9f3a"
             ],
             [
              0.8888888888888888,
              "#fdca26"
             ],
             [
              1,
              "#f0f921"
             ]
            ],
            "type": "surface"
           }
          ],
          "table": [
           {
            "cells": {
             "fill": {
              "color": "#EBF0F8"
             },
             "line": {
              "color": "white"
             }
            },
            "header": {
             "fill": {
              "color": "#C8D4E3"
             },
             "line": {
              "color": "white"
             }
            },
            "type": "table"
           }
          ]
         },
         "layout": {
          "annotationdefaults": {
           "arrowcolor": "#2a3f5f",
           "arrowhead": 0,
           "arrowwidth": 1
          },
          "autotypenumbers": "strict",
          "coloraxis": {
           "colorbar": {
            "outlinewidth": 0,
            "ticks": ""
           }
          },
          "colorscale": {
           "diverging": [
            [
             0,
             "#8e0152"
            ],
            [
             0.1,
             "#c51b7d"
            ],
            [
             0.2,
             "#de77ae"
            ],
            [
             0.3,
             "#f1b6da"
            ],
            [
             0.4,
             "#fde0ef"
            ],
            [
             0.5,
             "#f7f7f7"
            ],
            [
             0.6,
             "#e6f5d0"
            ],
            [
             0.7,
             "#b8e186"
            ],
            [
             0.8,
             "#7fbc41"
            ],
            [
             0.9,
             "#4d9221"
            ],
            [
             1,
             "#276419"
            ]
           ],
           "sequential": [
            [
             0,
             "#0d0887"
            ],
            [
             0.1111111111111111,
             "#46039f"
            ],
            [
             0.2222222222222222,
             "#7201a8"
            ],
            [
             0.3333333333333333,
             "#9c179e"
            ],
            [
             0.4444444444444444,
             "#bd3786"
            ],
            [
             0.5555555555555556,
             "#d8576b"
            ],
            [
             0.6666666666666666,
             "#ed7953"
            ],
            [
             0.7777777777777778,
             "#fb9f3a"
            ],
            [
             0.8888888888888888,
             "#fdca26"
            ],
            [
             1,
             "#f0f921"
            ]
           ],
           "sequentialminus": [
            [
             0,
             "#0d0887"
            ],
            [
             0.1111111111111111,
             "#46039f"
            ],
            [
             0.2222222222222222,
             "#7201a8"
            ],
            [
             0.3333333333333333,
             "#9c179e"
            ],
            [
             0.4444444444444444,
             "#bd3786"
            ],
            [
             0.5555555555555556,
             "#d8576b"
            ],
            [
             0.6666666666666666,
             "#ed7953"
            ],
            [
             0.7777777777777778,
             "#fb9f3a"
            ],
            [
             0.8888888888888888,
             "#fdca26"
            ],
            [
             1,
             "#f0f921"
            ]
           ]
          },
          "colorway": [
           "#636efa",
           "#EF553B",
           "#00cc96",
           "#ab63fa",
           "#FFA15A",
           "#19d3f3",
           "#FF6692",
           "#B6E880",
           "#FF97FF",
           "#FECB52"
          ],
          "font": {
           "color": "#2a3f5f"
          },
          "geo": {
           "bgcolor": "white",
           "lakecolor": "white",
           "landcolor": "#E5ECF6",
           "showlakes": true,
           "showland": true,
           "subunitcolor": "white"
          },
          "hoverlabel": {
           "align": "left"
          },
          "hovermode": "closest",
          "mapbox": {
           "style": "light"
          },
          "paper_bgcolor": "white",
          "plot_bgcolor": "#E5ECF6",
          "polar": {
           "angularaxis": {
            "gridcolor": "white",
            "linecolor": "white",
            "ticks": ""
           },
           "bgcolor": "#E5ECF6",
           "radialaxis": {
            "gridcolor": "white",
            "linecolor": "white",
            "ticks": ""
           }
          },
          "scene": {
           "xaxis": {
            "backgroundcolor": "#E5ECF6",
            "gridcolor": "white",
            "gridwidth": 2,
            "linecolor": "white",
            "showbackground": true,
            "ticks": "",
            "zerolinecolor": "white"
           },
           "yaxis": {
            "backgroundcolor": "#E5ECF6",
            "gridcolor": "white",
            "gridwidth": 2,
            "linecolor": "white",
            "showbackground": true,
            "ticks": "",
            "zerolinecolor": "white"
           },
           "zaxis": {
            "backgroundcolor": "#E5ECF6",
            "gridcolor": "white",
            "gridwidth": 2,
            "linecolor": "white",
            "showbackground": true,
            "ticks": "",
            "zerolinecolor": "white"
           }
          },
          "shapedefaults": {
           "line": {
            "color": "#2a3f5f"
           }
          },
          "ternary": {
           "aaxis": {
            "gridcolor": "white",
            "linecolor": "white",
            "ticks": ""
           },
           "baxis": {
            "gridcolor": "white",
            "linecolor": "white",
            "ticks": ""
           },
           "bgcolor": "#E5ECF6",
           "caxis": {
            "gridcolor": "white",
            "linecolor": "white",
            "ticks": ""
           }
          },
          "title": {
           "x": 0.05
          },
          "xaxis": {
           "automargin": true,
           "gridcolor": "white",
           "linecolor": "white",
           "ticks": "",
           "title": {
            "standoff": 15
           },
           "zerolinecolor": "white",
           "zerolinewidth": 2
          },
          "yaxis": {
           "automargin": true,
           "gridcolor": "white",
           "linecolor": "white",
           "ticks": "",
           "title": {
            "standoff": 15
           },
           "zerolinecolor": "white",
           "zerolinewidth": 2
          }
         }
        },
        "xaxis": {
         "anchor": "y",
         "categoryarray": [
          0,
          1
         ],
         "categoryorder": "array",
         "domain": [
          0,
          1
         ],
         "title": {
          "text": "nocturnal"
         }
        },
        "yaxis": {
         "anchor": "x",
         "domain": [
          0,
          1
         ],
         "title": {
          "text": "body_mass_kg"
         }
        }
       }
      }
     },
     "metadata": {},
     "output_type": "display_data"
    }
   ],
   "source": [
    "# Plot de distribuição (Boxplot) por 'nocturnal' e 'body_mass_kg'\n",
    "px.box(df_species_eda, x='nocturnal', y='body_mass_kg', color='nocturnal')"
   ]
  },
  {
   "cell_type": "code",
   "execution_count": 21,
   "metadata": {},
   "outputs": [
    {
     "data": {
      "application/vnd.plotly.v1+json": {
       "config": {
        "plotlyServerURL": "https://plot.ly"
       },
       "data": [
        {
         "alignmentgroup": "True",
         "hovertemplate": "skin_type=%{x}<br>body_mass_kg=%{y}<extra></extra>",
         "legendgroup": "fur",
         "marker": {
          "color": "#636efa"
         },
         "name": "fur",
         "notched": false,
         "offsetgroup": "fur",
         "orientation": "v",
         "showlegend": true,
         "type": "box",
         "x": [
          "fur",
          "fur",
          "fur",
          "fur",
          "fur",
          "fur",
          "fur",
          "fur",
          "fur",
          "fur",
          "fur",
          "fur",
          "fur",
          "fur",
          "fur",
          "fur",
          "fur",
          "fur",
          "fur",
          "fur",
          "fur",
          "fur",
          "fur",
          "fur",
          "fur",
          "fur",
          "fur",
          "fur",
          "fur",
          "fur",
          "fur",
          "fur",
          "fur",
          "fur",
          "fur",
          "fur",
          "fur",
          "fur",
          "fur",
          "fur",
          "fur",
          "fur",
          "fur",
          "fur",
          "fur",
          "fur",
          "fur",
          "fur",
          "fur",
          "fur",
          "fur",
          "fur",
          "fur",
          "fur",
          "fur",
          "fur",
          "fur",
          "fur",
          "fur",
          "fur",
          "fur",
          "fur",
          "fur",
          "fur",
          "fur",
          "fur",
          "fur",
          "fur",
          "fur",
          "fur",
          "fur",
          "fur",
          "fur",
          "fur",
          "fur",
          "fur",
          "fur",
          "fur",
          "fur",
          "fur",
          "fur",
          "fur",
          "fur",
          "fur",
          "fur",
          "fur",
          "fur",
          "fur",
          "fur",
          "fur",
          "fur",
          "fur",
          "fur",
          "fur",
          "fur",
          "fur",
          "fur",
          "fur",
          "fur",
          "fur",
          "fur",
          "fur",
          "fur",
          "fur",
          "fur",
          "fur",
          "fur",
          "fur",
          "fur",
          "fur",
          "fur",
          "fur",
          "fur",
          "fur",
          "fur",
          "fur",
          "fur",
          "fur",
          "fur",
          "fur",
          "fur",
          "fur",
          "fur",
          "fur",
          "fur",
          "fur",
          "fur",
          "fur",
          "fur",
          "fur",
          "fur",
          "fur",
          "fur",
          "fur",
          "fur",
          "fur",
          "fur",
          "fur",
          "fur",
          "fur",
          "fur",
          "fur",
          "fur",
          "fur",
          "fur",
          "fur",
          "fur",
          "fur",
          "fur",
          "fur",
          "fur"
         ],
         "x0": " ",
         "xaxis": "x",
         "y": {
          "bdata": "lG9alpb3TUCZp4obC55HQIBdCykVek9ALoVgbHodVEBCJJR0ZGVUQL6hFQNRVlBA9YTDIXkkTECEHQmv6tY/QKZNvbLp+jpA+8z3g+rCVUAYhrdZ+pwlQIZkm64s/UVADhozLOQdT0BWSWtnmptAQPZjas0IUExAZTN2iLYkR0CPTL4NbBM6QJhQXHKnR0hAPxPibr5SVEAAAAAAAAAUQGbBrlfo6klAiVV8SzWSTEABlxFStONTQO6qAIGA+0NABhlH97YTUUCU+1Ra0LNDQME86fH2IU5A7E7rr826NED10sbLG2NHQKhgZ2VR7lVAFzO/UOu+SkCqougfa0FIQLBgp2LIPydAvWmRUl6gOkCYNDFZhXRQQODiZMaF9jVACJKzHkdWQ0AdYwAyGvdDQGYVYW6Fr0lAx1GIRIycP0ArDu6F+WE5QJjmvMlMmUtAcH8d4Ef4S0ByLJH+QoFLQCB9m/8iM0JAWEGZp0LbQUB1Swnid29QQFoMuBu4IE1AtJpYrDycUED7Z71xzotGQJS4ondvdkFAMgs0aMuiUEBSRJGu6xFQQA/NdwJ9u01AyMEWcvuzM0Cs+AT264hEQAbExcEwyFBApFyi+P0jO0AxLkSG75NMQKDks/ZVPj9AaXpBg30mTkBULyMmhi1SQO6lQEwfRVFAO19iVTRPKUAr2prsQrJBQNG/tjeK/iJAPUzemyUTQUBiyEt+e/45QFrqI0Wtp0VADjwtFohfUEBRjbHvbHlGQIpJBSL8nk1AOiBPYEgqV0DDNXX1nuolQLDaO6v1kUxALuDUQYwaT0CNhl69kXhOQMJv4m2IoFBAngRo1kqRUEAVyVCDkEhPQNHABmAHB0BAaF04KLq+QECTByeTQMlFQAqMIXrdXENAkkDDSh1zS0B9DwZWJEpEQCPmNz8MUktAvDQpZcjQQUCwqS87m9BIQCRNpawIHUZAFwnI7Um6QEBoQxPj5ylUQBJZUMthBE1AUmXGvHbBU0DOu2EwEb5DQINeaBICgUpAEN+TayA7Q0Bm9fIlUOtNQLmVjGhEqFVA7HBS8K5lUkC4QLyegHkvQCHoK6ZnsFJAM76/lZkBQ0AW/9OCbA1JQI2psTNFeElASh9CLoKTR0BbGO0ZgGVSQIB2hF6cW1FAee4SlSl0T0DPJ/H1gaYtQGi1Ej90FlBAyC3zITXXTEDwNM6UZE0hQLmRmdN9qkxA+GxTLYDcQ0CVHhCn09A8QHKwdqCKX0hAoXZT3D4SQUBZeeMuj0s9QP2XSFJGWklAnMndSUQkT0Dqml0gnElQQHI+qB7eP0ZAAAAAAAAAFEBJFyZcmVVTQFQODl/8w05A8L+r7d0IS0DE+pz+xYhCQH3IK5KK71RAo8Eut3/oUECeMm4YVOZTQHFSebhMQT1Aw8+TvBBYNkB5SQ6lDQxWQLTKLIL1IERA7QjNmOZGUECXgowWWQJOQDaWV4jGQVBAgCOKbATFMEDbU6M0NbVTQAAAAAAAABRA2SqyufIHQUD43p1EzPVCQJj+bT5Ri0tA64TxJ8zxTEAYFX761uFUQCBsPunyGxdA9Ynr13F7S0D8lnj+ZYBAQG0MLcMeTUZALRKM0rpsPkA=",
          "dtype": "f8"
         },
         "y0": " ",
         "yaxis": "y"
        },
        {
         "alignmentgroup": "True",
         "hovertemplate": "skin_type=%{x}<br>body_mass_kg=%{y}<extra></extra>",
         "legendgroup": "scales",
         "marker": {
          "color": "#EF553B"
         },
         "name": "scales",
         "notched": false,
         "offsetgroup": "scales",
         "orientation": "v",
         "showlegend": true,
         "type": "box",
         "x": [
          "scales",
          "scales",
          "scales",
          "scales",
          "scales",
          "scales",
          "scales",
          "scales",
          "scales",
          "scales",
          "scales",
          "scales",
          "scales",
          "scales",
          "scales",
          "scales",
          "scales",
          "scales",
          "scales",
          "scales",
          "scales",
          "scales",
          "scales",
          "scales",
          "scales",
          "scales",
          "scales",
          "scales",
          "scales",
          "scales",
          "scales",
          "scales",
          "scales",
          "scales",
          "scales",
          "scales",
          "scales",
          "scales",
          "scales",
          "scales",
          "scales",
          "scales",
          "scales",
          "scales",
          "scales",
          "scales",
          "scales",
          "scales",
          "scales",
          "scales",
          "scales",
          "scales",
          "scales",
          "scales",
          "scales",
          "scales",
          "scales",
          "scales",
          "scales",
          "scales",
          "scales",
          "scales",
          "scales",
          "scales",
          "scales",
          "scales",
          "scales",
          "scales",
          "scales",
          "scales",
          "scales",
          "scales",
          "scales",
          "scales",
          "scales",
          "scales",
          "scales",
          "scales",
          "scales",
          "scales",
          "scales",
          "scales",
          "scales",
          "scales",
          "scales",
          "scales",
          "scales",
          "scales",
          "scales",
          "scales",
          "scales",
          "scales",
          "scales",
          "scales",
          "scales",
          "scales",
          "scales",
          "scales",
          "scales",
          "scales",
          "scales",
          "scales",
          "scales",
          "scales",
          "scales",
          "scales",
          "scales",
          "scales",
          "scales",
          "scales",
          "scales",
          "scales",
          "scales",
          "scales",
          "scales",
          "scales",
          "scales",
          "scales",
          "scales",
          "scales",
          "scales",
          "scales",
          "scales",
          "scales",
          "scales",
          "scales",
          "scales",
          "scales",
          "scales",
          "scales",
          "scales",
          "scales",
          "scales",
          "scales",
          "scales",
          "scales",
          "scales",
          "scales",
          "scales",
          "scales",
          "scales",
          "scales",
          "scales"
         ],
         "x0": " ",
         "xaxis": "x",
         "y": {
          "bdata": "AyeNPpGoRkA3LnEm9GxOQLbTsZSmXURAfmvwZGxrS0AP/GM+A75GQMWOrw5KgTVArKoLdMnBTEBco3N1ct1IQKhAliGF2DxAXeekz0eVOUBBjmP7r283QBIK3b3w10dA+BkjqPdtNEAUTEvmMs1BQD0KqK6pb0xAQNCToLJgUUBfMIm7/EdTQCGI9KiFhFFACh510q8wVEDN9Kgq195JQNra9IqKAkZAMT0EbjrRQ0Bt3SqX3VdRQBhB6lUvuUVAK5zkLk2cS0D+EpvhJctEQHNF6Czz0FhAdmFwUY4TR0CSL/cQ9gNMQM1SCy7QNlJAUG3Ko5ODU0BI+jyqWt5OQCL33H/Ic1dA/kVZOnQwPkAwW3ltmvwyQGI7qIkkCVNA5Hnbnys4TkDk0HDIkVJLQOWHE/nGkE9ArufiH+X7VUB0CLRbWWlMQPDMbX96WkZAMHNSCNEZWkArYdhENYhAQF0oFZlp2kxAtOXLMFMpQEAOGhJJiYlKQCqtbKoDlUlA7bw9293EUUDWWdgl6dhFQH0NdnrT3E9ALqzkVNvxUUBNLVtd8nE8QJ81pI/S2EFAHoZkmT84V0B4rqMr1VZPQJrZ6lodw1BAwSuRdsQMTkDmjWjQwAxNQDo3uADdFlFAvg7yZdOcM0AiIDqxHXY/QHFRcHadZ0hAxa9tbtS0U0Cy/ZB/2VBSQJgiKXhiPjlA3EB/kBfiTkBBW4ek48VCQMZtT+jqEURAohiz6TkbQ0Bzl3qdfb9QQH21hMQmEkJAfM3OjtlLT0BgXYasWyxKQNgH4RPFNUlAfvMRlLflRUB64I5GT/hJQNxod/Sl4EhAP0x3Rg/CSUBchf1MdzpCQBMhdnmIh0dAqxzW2dZvS0CMgXi4Oe5DQJ715hTJ2TVAWznXYewbTEA4vqS5dOBTQATDw+fNyVBA4AQQtgzzPUAIk3vuhjFOQGmy+PKS6UdAgqH/KOD6TUAkTucZl1NBQM6MLwmOAUNAAAO+lZ0WHkAaEE/uZ5g3QJLOcMeHHDJAozQBjcilPEDFBg0e1YE7QFilQIcgKEpA+l9TMNlXU0DaqVCvStxPQNeFLYnIylFA2mp3iVFORkDy7fG9oKRUQEQLfrwd6TdAHHgTKBVJPkB2HqbsWwpOQO1aAl6KskNAr84oZKh2Q0AElxZ93Qo6QFOLebBw4EdAITmVxOqxQ0CO6P/B5z1DQHlQXcU4sjNAyMy5vXeCRkDzZLrmzBxMQAMrlk4OGVJA+BFg7Ye4R0AkRCWeD441QIsdExacY05AmqvYpLsYR0B6UUvSaj5AQLIDeIJVBzZAnmbahDOhTkAWc8K3eBNDQJW3UyI3fElAbhIeiMSwQEAuqAwCS5xGQOfdKShG2T9AlCMfyupyPkBQjHBrSv5JQEThGAcOiFFAVMDZKCK2TEAqjtZHQ2BMQHRIvU+Y4URAHvqAqqasREBU4o8kCttQQEdlgx8gfEVArNeoH+9ETEC5YFdbLFtLQCk1K1MBOFJAY8a7cNSmUECi8yCnW+ZDQA==",
          "dtype": "f8"
         },
         "y0": " ",
         "yaxis": "y"
        },
        {
         "alignmentgroup": "True",
         "hovertemplate": "skin_type=%{x}<br>body_mass_kg=%{y}<extra></extra>",
         "legendgroup": "feathers",
         "marker": {
          "color": "#00cc96"
         },
         "name": "feathers",
         "notched": false,
         "offsetgroup": "feathers",
         "orientation": "v",
         "showlegend": true,
         "type": "box",
         "x": [
          "feathers",
          "feathers",
          "feathers",
          "feathers",
          "feathers",
          "feathers",
          "feathers",
          "feathers",
          "feathers",
          "feathers",
          "feathers",
          "feathers",
          "feathers",
          "feathers",
          "feathers",
          "feathers",
          "feathers",
          "feathers",
          "feathers",
          "feathers",
          "feathers",
          "feathers",
          "feathers",
          "feathers",
          "feathers",
          "feathers",
          "feathers",
          "feathers",
          "feathers",
          "feathers",
          "feathers",
          "feathers",
          "feathers",
          "feathers",
          "feathers",
          "feathers",
          "feathers",
          "feathers",
          "feathers",
          "feathers",
          "feathers",
          "feathers",
          "feathers",
          "feathers",
          "feathers",
          "feathers",
          "feathers",
          "feathers",
          "feathers",
          "feathers",
          "feathers",
          "feathers",
          "feathers",
          "feathers",
          "feathers",
          "feathers",
          "feathers",
          "feathers",
          "feathers",
          "feathers",
          "feathers",
          "feathers",
          "feathers",
          "feathers",
          "feathers",
          "feathers",
          "feathers",
          "feathers",
          "feathers",
          "feathers",
          "feathers",
          "feathers",
          "feathers",
          "feathers",
          "feathers",
          "feathers",
          "feathers",
          "feathers",
          "feathers",
          "feathers",
          "feathers",
          "feathers",
          "feathers",
          "feathers",
          "feathers",
          "feathers",
          "feathers",
          "feathers",
          "feathers",
          "feathers",
          "feathers",
          "feathers",
          "feathers",
          "feathers",
          "feathers",
          "feathers",
          "feathers",
          "feathers",
          "feathers",
          "feathers",
          "feathers",
          "feathers",
          "feathers",
          "feathers",
          "feathers",
          "feathers",
          "feathers",
          "feathers",
          "feathers",
          "feathers",
          "feathers",
          "feathers",
          "feathers",
          "feathers",
          "feathers",
          "feathers",
          "feathers",
          "feathers",
          "feathers",
          "feathers",
          "feathers",
          "feathers",
          "feathers",
          "feathers",
          "feathers",
          "feathers",
          "feathers",
          "feathers",
          "feathers",
          "feathers",
          "feathers",
          "feathers",
          "feathers",
          "feathers",
          "feathers",
          "feathers",
          "feathers",
          "feathers",
          "feathers",
          "feathers",
          "feathers",
          "feathers",
          "feathers",
          "feathers",
          "feathers",
          "feathers",
          "feathers",
          "feathers",
          "feathers",
          "feathers"
         ],
         "x0": " ",
         "xaxis": "x",
         "y": {
          "bdata": "4C7/AJyoRkCEakRZu1dEQCKdrT6LYENAJLThyQfUU0Aa7MJI36xJQE7dnG1d/kJAvOD6jaH7QkCmWJu6PDFQQL5so88dyVFAvErfA3h6LUCebQl6MCZFQAKPbOytp1FAZRiT3gkoUUB4Ac6TauhFQEV2dJ+Q3ztAZLEjdgiQUECprE9RfoxCQH/EWTksnUxA3vU7AwmcUEDcHsVTmklMQDQGMgA0FEVAhr+AYhH2S0B7kM9CTbE1QN6HTJ2mkkVAibCfkSv6QEBoZP/EXgpNQHtHa3gwmklABkxrSyOnSEDm24hqeUJQQCGIxIQb/0lAzxwMiWW8TUC6UFEf3ypBQKOtYFJNkVBALU5BpanYSkDjvfe3u2hQQLbB4flD7ktAw9eeJAO9TUB9FR6uhiw6QEu9xqINy0BA3QGsn546SEBzBHzrSCFJQPJBYFq1QU9AWLpMOa1tQEBk6vHIB5U8QIbqPh8h001AJobTbe/DRkDrdZlE0RU5QFimOjtO6lFAOh/DwkojTkBBptWmhSZOQCMoCw5/w19A1pY8xY+DT0Ascr8Ie0tQQHys0Y6+oUZA4QgyJXglREBCWLJRwxJYQIYBpg3lvjFAthhFLsXLT0C+7R9NIipLQO1TIbNS3UpAVcB1J3p3QkCxmPEuRsg4QNGdcTeOqVFAOeUvvV3sQUA7PrOgWQs5QNQoHPusXj5A0WUYw5f9SkAZ1DW6miJKQG1Ahf0ZblRA6QTAHm57R0Cko5fUVs9LQOVsY9TFtUBAxiXlwO9lQ0Cr5W7ufcpIQOxKqTtp41JAnwz3BWP6RkAD2ldyvNJGQA84A7PM0U9AwgMoqd09TEB45Khy1bJHQI0tZnZB9lZAjAWSs1q3OUCbKxQIVHVQQEGR9zsnYFFAj7tPRpPdRkDio7mJUc9IQB5NM8TE5k9A/ltHjjwgSUBarggCDfpJQDyd4Py+PklAS6ri0xJEV0DsSlIEW9VKQBTevaLB6kBAnrQcqX/hVUBKvR/iikBRQOdObQvpTkRA1ILBKsfaR0DXYLUX1X9EQK2xl/bdDlBA9TTH31VRM0Cj+bV6eUFUQO1Rd+nYrElAHSJWFtZGVUDmvPtmt1U6QMjHLjNDbiJAhhJbwa69SUBFGqxq4WU2QGiOXyNd3S9AU754StobSEACDTfE0DM/QFDkGwmVRlFAISlTlQDuR0CWhq0h2VJWQCfy/VxRykZAh/zOqffkW0CZUKAIouM+QKb8vvm9b0FAEnGUZnlePEDr0r4Ml+tIQBZWK8kcY0BAfrDY24EhUUAEXcriWn5CQDUL2ZVetEtAzEckHKWcMEDUfB+Lu7ROQAHGqnoOXkFAh2e03QHOK0BKy2iT+3IxQMhnXfMYe0lAa0odveOYS0DjNSv0y2JPQMrVcvHVVkhAhOG92JjHOUAppDZ/V2VAQFi8QP1NxU5AoWoBLTT4RkAQo617q91JQFO7p9nS5UtASV9tVYPgVkDCsTm5U+tEQJrYUhu1WlBACDSZb6NtNECQSHzs61NPQD6nuaJ82ldA6jhx3pPRSkCWIqo9CWhEQPqMM6Y1t0lAMTgdzCxWTEAeaMQWDbBRQFPsr6bjxUxA",
          "dtype": "f8"
         },
         "y0": " ",
         "yaxis": "y"
        },
        {
         "alignmentgroup": "True",
         "hovertemplate": "skin_type=%{x}<br>body_mass_kg=%{y}<extra></extra>",
         "legendgroup": "skin",
         "marker": {
          "color": "#ab63fa"
         },
         "name": "skin",
         "notched": false,
         "offsetgroup": "skin",
         "orientation": "v",
         "showlegend": true,
         "type": "box",
         "x": [
          "skin",
          "skin",
          "skin",
          "skin",
          "skin",
          "skin",
          "skin",
          "skin",
          "skin",
          "skin",
          "skin",
          "skin",
          "skin",
          "skin",
          "skin",
          "skin",
          "skin",
          "skin",
          "skin",
          "skin",
          "skin",
          "skin",
          "skin",
          "skin",
          "skin",
          "skin",
          "skin",
          "skin",
          "skin",
          "skin",
          "skin",
          "skin",
          "skin",
          "skin",
          "skin",
          "skin",
          "skin",
          "skin",
          "skin",
          "skin",
          "skin",
          "skin",
          "skin",
          "skin",
          "skin",
          "skin",
          "skin",
          "skin",
          "skin",
          "skin",
          "skin",
          "skin",
          "skin",
          "skin",
          "skin",
          "skin",
          "skin",
          "skin",
          "skin",
          "skin",
          "skin",
          "skin",
          "skin",
          "skin",
          "skin",
          "skin",
          "skin",
          "skin",
          "skin",
          "skin",
          "skin",
          "skin",
          "skin",
          "skin",
          "skin",
          "skin",
          "skin",
          "skin",
          "skin",
          "skin",
          "skin",
          "skin",
          "skin",
          "skin",
          "skin",
          "skin",
          "skin",
          "skin",
          "skin",
          "skin",
          "skin",
          "skin",
          "skin",
          "skin",
          "skin",
          "skin",
          "skin",
          "skin",
          "skin",
          "skin",
          "skin",
          "skin",
          "skin",
          "skin",
          "skin",
          "skin",
          "skin",
          "skin",
          "skin",
          "skin",
          "skin",
          "skin",
          "skin",
          "skin",
          "skin",
          "skin",
          "skin",
          "skin",
          "skin",
          "skin",
          "skin",
          "skin",
          "skin",
          "skin",
          "skin",
          "skin",
          "skin",
          "skin",
          "skin",
          "skin",
          "skin",
          "skin",
          "skin",
          "skin",
          "skin",
          "skin",
          "skin",
          "skin",
          "skin",
          "skin",
          "skin",
          "skin",
          "skin",
          "skin",
          "skin",
          "skin",
          "skin",
          "skin",
          "skin",
          "skin",
          "skin",
          "skin",
          "skin",
          "skin",
          "skin",
          "skin"
         ],
         "x0": " ",
         "xaxis": "x",
         "y": {
          "bdata": "O/80RCVORECkeayiAngnQNTFqmXXAC9AKdpz/k2+PUBH5+ZKAcE1QNSRcFZhjkNAPup3OvYbSkAX54mVQxVGQDjfTITbnFBAQrR62LAWS0CNFMP69vdKQJnTsOqztkpArpRqxsNkREDJFZGrpz1MQBhu22UUO0JAA7AZX1A1RECqWQ7JyZ1MQIHGCAxJpEhAzLcxWEt/JECB3+LUo81GQEh85aFB6kBAsEEkvoT4SUBaaQF8vvpBQCR9qicXDUlA3ens+XSnRkBQQ1w5VJNLQNCN2N0fvEhAQkfdrO/PP0Bpir5GAcE8QE56foHqP1RA6fbFw4XHRUAXwIokTEZLQBrTJZOv2TFAMkvY9s9COUB4UqwbQ5c3QAJ5b0zodkxAtmLn/TDUVUCMQr89oYE+QIqibZkAS1JA1UEMFx9RUUACYsrS1xpAQHxUV5KG10BA60MOFVTES0CjD+ELhsRTQNtaA9iORUhAlyzleRQkS0DhNwDaV7tKQE6LSL+bm05AUHe+NFVyNkApPRrOerVOQJRedESRRUFAJYY2CZnRSUD08IC72kdEQD8Dpo2OpElA5Q0E9ql0SUA1tTky53tCQNrXWJ/TYUJAC2diU0baR0CWg3qpKtRQQGLAQ9cjQERAjfWiC8hTVUBu3YMkXBxXQEJOpltcKERAu3gDcqXVUkC7LByALXBNQAAAAAAAABRAW9p4oSKDPUATCTyJfKlUQN0N1BetZTVAc4P4cXyZREALCg0lsk5KQOlm3sJiSDVAxivAVjIaSUAQ9Qzecf9CQFg/kn6xsklAAr+T4ZglRUCSdnf1DZ9PQK50gwA160ZAgFse43z/UEBCamLQrxJMQF7auqh2kFBAXZIkK4k8UEAUAk3GkxVDQB9v6DJv/lFAo76nSwMHU0CjXLIbmvNOQL0DnuRa0UBARQbR5TDhPUC5H2LFYUpSQL4+zim/PU9ABwkEwhohTUBEYT2kHcdAQM5iVOTOCTVAHl5cr45mR0CapPDVKDpMQH6lyybg/ERAWo22P609S0AGh9xOGEVBQN82Qt3dS1FAwLS3BpLcUEAcRgqg8nJXQIn3vORPmkBAqgOl0Z5oQUAzwT8y5WpMQEUfA/YOBEBA2v1J5vREU0Cze4HufjpPQOyK+PH0M0pAOr9govYkTkB7jhgkbeNSQIqMlk+5UkxA1e4H3d+DQUAKV0nhwc1WQBUPDNumgkZAXk6RhZezPkBIVtxbBANUQK21kkLMcUhAYNl9K02sSEAvigKaXLJPQNbyHeSzAEJAegvS38kjS0DOUTYFj7lUQKBI2q3+3jFAE+8WGBDGSUDlHTJMmR1UQBDLWQIvXEBA6Afd82N/SEDVYgskdztDQG4zIokAb05AAcCx5K5fQkAP8/Yc5uk/QMJgOrBMe0JATcd3MVd5SUDLX7StiSdFQKKy9iQoO0NAijlel6+tUEDzkaeh5mc7QJVNTndMTE5A35f0XXdxR0Dwa3LTwlZSQHDTjmK6H0RAyYhTnEfKRECPIMw3Yb1FQFz4K8eNgVJAyW+J0Zp5IkAMSk0cmdY9QNzq/jkXKylAAKVCqyYvSUDVSwZHGs9GQMqD756jpVBAHQVwAY1iTEBOuKnp3NhEQFveYudscEBAlodqajI5REDOPvY3MMpNQBVmFfibjkRA",
          "dtype": "f8"
         },
         "y0": " ",
         "yaxis": "y"
        }
       ],
       "layout": {
        "boxmode": "overlay",
        "legend": {
         "title": {
          "text": "skin_type"
         },
         "tracegroupgap": 0
        },
        "margin": {
         "t": 60
        },
        "template": {
         "data": {
          "bar": [
           {
            "error_x": {
             "color": "#2a3f5f"
            },
            "error_y": {
             "color": "#2a3f5f"
            },
            "marker": {
             "line": {
              "color": "#E5ECF6",
              "width": 0.5
             },
             "pattern": {
              "fillmode": "overlay",
              "size": 10,
              "solidity": 0.2
             }
            },
            "type": "bar"
           }
          ],
          "barpolar": [
           {
            "marker": {
             "line": {
              "color": "#E5ECF6",
              "width": 0.5
             },
             "pattern": {
              "fillmode": "overlay",
              "size": 10,
              "solidity": 0.2
             }
            },
            "type": "barpolar"
           }
          ],
          "carpet": [
           {
            "aaxis": {
             "endlinecolor": "#2a3f5f",
             "gridcolor": "white",
             "linecolor": "white",
             "minorgridcolor": "white",
             "startlinecolor": "#2a3f5f"
            },
            "baxis": {
             "endlinecolor": "#2a3f5f",
             "gridcolor": "white",
             "linecolor": "white",
             "minorgridcolor": "white",
             "startlinecolor": "#2a3f5f"
            },
            "type": "carpet"
           }
          ],
          "choropleth": [
           {
            "colorbar": {
             "outlinewidth": 0,
             "ticks": ""
            },
            "type": "choropleth"
           }
          ],
          "contour": [
           {
            "colorbar": {
             "outlinewidth": 0,
             "ticks": ""
            },
            "colorscale": [
             [
              0,
              "#0d0887"
             ],
             [
              0.1111111111111111,
              "#46039f"
             ],
             [
              0.2222222222222222,
              "#7201a8"
             ],
             [
              0.3333333333333333,
              "#9c179e"
             ],
             [
              0.4444444444444444,
              "#bd3786"
             ],
             [
              0.5555555555555556,
              "#d8576b"
             ],
             [
              0.6666666666666666,
              "#ed7953"
             ],
             [
              0.7777777777777778,
              "#fb9f3a"
             ],
             [
              0.8888888888888888,
              "#fdca26"
             ],
             [
              1,
              "#f0f921"
             ]
            ],
            "type": "contour"
           }
          ],
          "contourcarpet": [
           {
            "colorbar": {
             "outlinewidth": 0,
             "ticks": ""
            },
            "type": "contourcarpet"
           }
          ],
          "heatmap": [
           {
            "colorbar": {
             "outlinewidth": 0,
             "ticks": ""
            },
            "colorscale": [
             [
              0,
              "#0d0887"
             ],
             [
              0.1111111111111111,
              "#46039f"
             ],
             [
              0.2222222222222222,
              "#7201a8"
             ],
             [
              0.3333333333333333,
              "#9c179e"
             ],
             [
              0.4444444444444444,
              "#bd3786"
             ],
             [
              0.5555555555555556,
              "#d8576b"
             ],
             [
              0.6666666666666666,
              "#ed7953"
             ],
             [
              0.7777777777777778,
              "#fb9f3a"
             ],
             [
              0.8888888888888888,
              "#fdca26"
             ],
             [
              1,
              "#f0f921"
             ]
            ],
            "type": "heatmap"
           }
          ],
          "histogram": [
           {
            "marker": {
             "pattern": {
              "fillmode": "overlay",
              "size": 10,
              "solidity": 0.2
             }
            },
            "type": "histogram"
           }
          ],
          "histogram2d": [
           {
            "colorbar": {
             "outlinewidth": 0,
             "ticks": ""
            },
            "colorscale": [
             [
              0,
              "#0d0887"
             ],
             [
              0.1111111111111111,
              "#46039f"
             ],
             [
              0.2222222222222222,
              "#7201a8"
             ],
             [
              0.3333333333333333,
              "#9c179e"
             ],
             [
              0.4444444444444444,
              "#bd3786"
             ],
             [
              0.5555555555555556,
              "#d8576b"
             ],
             [
              0.6666666666666666,
              "#ed7953"
             ],
             [
              0.7777777777777778,
              "#fb9f3a"
             ],
             [
              0.8888888888888888,
              "#fdca26"
             ],
             [
              1,
              "#f0f921"
             ]
            ],
            "type": "histogram2d"
           }
          ],
          "histogram2dcontour": [
           {
            "colorbar": {
             "outlinewidth": 0,
             "ticks": ""
            },
            "colorscale": [
             [
              0,
              "#0d0887"
             ],
             [
              0.1111111111111111,
              "#46039f"
             ],
             [
              0.2222222222222222,
              "#7201a8"
             ],
             [
              0.3333333333333333,
              "#9c179e"
             ],
             [
              0.4444444444444444,
              "#bd3786"
             ],
             [
              0.5555555555555556,
              "#d8576b"
             ],
             [
              0.6666666666666666,
              "#ed7953"
             ],
             [
              0.7777777777777778,
              "#fb9f3a"
             ],
             [
              0.8888888888888888,
              "#fdca26"
             ],
             [
              1,
              "#f0f921"
             ]
            ],
            "type": "histogram2dcontour"
           }
          ],
          "mesh3d": [
           {
            "colorbar": {
             "outlinewidth": 0,
             "ticks": ""
            },
            "type": "mesh3d"
           }
          ],
          "parcoords": [
           {
            "line": {
             "colorbar": {
              "outlinewidth": 0,
              "ticks": ""
             }
            },
            "type": "parcoords"
           }
          ],
          "pie": [
           {
            "automargin": true,
            "type": "pie"
           }
          ],
          "scatter": [
           {
            "fillpattern": {
             "fillmode": "overlay",
             "size": 10,
             "solidity": 0.2
            },
            "type": "scatter"
           }
          ],
          "scatter3d": [
           {
            "line": {
             "colorbar": {
              "outlinewidth": 0,
              "ticks": ""
             }
            },
            "marker": {
             "colorbar": {
              "outlinewidth": 0,
              "ticks": ""
             }
            },
            "type": "scatter3d"
           }
          ],
          "scattercarpet": [
           {
            "marker": {
             "colorbar": {
              "outlinewidth": 0,
              "ticks": ""
             }
            },
            "type": "scattercarpet"
           }
          ],
          "scattergeo": [
           {
            "marker": {
             "colorbar": {
              "outlinewidth": 0,
              "ticks": ""
             }
            },
            "type": "scattergeo"
           }
          ],
          "scattergl": [
           {
            "marker": {
             "colorbar": {
              "outlinewidth": 0,
              "ticks": ""
             }
            },
            "type": "scattergl"
           }
          ],
          "scattermap": [
           {
            "marker": {
             "colorbar": {
              "outlinewidth": 0,
              "ticks": ""
             }
            },
            "type": "scattermap"
           }
          ],
          "scattermapbox": [
           {
            "marker": {
             "colorbar": {
              "outlinewidth": 0,
              "ticks": ""
             }
            },
            "type": "scattermapbox"
           }
          ],
          "scatterpolar": [
           {
            "marker": {
             "colorbar": {
              "outlinewidth": 0,
              "ticks": ""
             }
            },
            "type": "scatterpolar"
           }
          ],
          "scatterpolargl": [
           {
            "marker": {
             "colorbar": {
              "outlinewidth": 0,
              "ticks": ""
             }
            },
            "type": "scatterpolargl"
           }
          ],
          "scatterternary": [
           {
            "marker": {
             "colorbar": {
              "outlinewidth": 0,
              "ticks": ""
             }
            },
            "type": "scatterternary"
           }
          ],
          "surface": [
           {
            "colorbar": {
             "outlinewidth": 0,
             "ticks": ""
            },
            "colorscale": [
             [
              0,
              "#0d0887"
             ],
             [
              0.1111111111111111,
              "#46039f"
             ],
             [
              0.2222222222222222,
              "#7201a8"
             ],
             [
              0.3333333333333333,
              "#9c179e"
             ],
             [
              0.4444444444444444,
              "#bd3786"
             ],
             [
              0.5555555555555556,
              "#d8576b"
             ],
             [
              0.6666666666666666,
              "#ed7953"
             ],
             [
              0.7777777777777778,
              "#fb9f3a"
             ],
             [
              0.8888888888888888,
              "#fdca26"
             ],
             [
              1,
              "#f0f921"
             ]
            ],
            "type": "surface"
           }
          ],
          "table": [
           {
            "cells": {
             "fill": {
              "color": "#EBF0F8"
             },
             "line": {
              "color": "white"
             }
            },
            "header": {
             "fill": {
              "color": "#C8D4E3"
             },
             "line": {
              "color": "white"
             }
            },
            "type": "table"
           }
          ]
         },
         "layout": {
          "annotationdefaults": {
           "arrowcolor": "#2a3f5f",
           "arrowhead": 0,
           "arrowwidth": 1
          },
          "autotypenumbers": "strict",
          "coloraxis": {
           "colorbar": {
            "outlinewidth": 0,
            "ticks": ""
           }
          },
          "colorscale": {
           "diverging": [
            [
             0,
             "#8e0152"
            ],
            [
             0.1,
             "#c51b7d"
            ],
            [
             0.2,
             "#de77ae"
            ],
            [
             0.3,
             "#f1b6da"
            ],
            [
             0.4,
             "#fde0ef"
            ],
            [
             0.5,
             "#f7f7f7"
            ],
            [
             0.6,
             "#e6f5d0"
            ],
            [
             0.7,
             "#b8e186"
            ],
            [
             0.8,
             "#7fbc41"
            ],
            [
             0.9,
             "#4d9221"
            ],
            [
             1,
             "#276419"
            ]
           ],
           "sequential": [
            [
             0,
             "#0d0887"
            ],
            [
             0.1111111111111111,
             "#46039f"
            ],
            [
             0.2222222222222222,
             "#7201a8"
            ],
            [
             0.3333333333333333,
             "#9c179e"
            ],
            [
             0.4444444444444444,
             "#bd3786"
            ],
            [
             0.5555555555555556,
             "#d8576b"
            ],
            [
             0.6666666666666666,
             "#ed7953"
            ],
            [
             0.7777777777777778,
             "#fb9f3a"
            ],
            [
             0.8888888888888888,
             "#fdca26"
            ],
            [
             1,
             "#f0f921"
            ]
           ],
           "sequentialminus": [
            [
             0,
             "#0d0887"
            ],
            [
             0.1111111111111111,
             "#46039f"
            ],
            [
             0.2222222222222222,
             "#7201a8"
            ],
            [
             0.3333333333333333,
             "#9c179e"
            ],
            [
             0.4444444444444444,
             "#bd3786"
            ],
            [
             0.5555555555555556,
             "#d8576b"
            ],
            [
             0.6666666666666666,
             "#ed7953"
            ],
            [
             0.7777777777777778,
             "#fb9f3a"
            ],
            [
             0.8888888888888888,
             "#fdca26"
            ],
            [
             1,
             "#f0f921"
            ]
           ]
          },
          "colorway": [
           "#636efa",
           "#EF553B",
           "#00cc96",
           "#ab63fa",
           "#FFA15A",
           "#19d3f3",
           "#FF6692",
           "#B6E880",
           "#FF97FF",
           "#FECB52"
          ],
          "font": {
           "color": "#2a3f5f"
          },
          "geo": {
           "bgcolor": "white",
           "lakecolor": "white",
           "landcolor": "#E5ECF6",
           "showlakes": true,
           "showland": true,
           "subunitcolor": "white"
          },
          "hoverlabel": {
           "align": "left"
          },
          "hovermode": "closest",
          "mapbox": {
           "style": "light"
          },
          "paper_bgcolor": "white",
          "plot_bgcolor": "#E5ECF6",
          "polar": {
           "angularaxis": {
            "gridcolor": "white",
            "linecolor": "white",
            "ticks": ""
           },
           "bgcolor": "#E5ECF6",
           "radialaxis": {
            "gridcolor": "white",
            "linecolor": "white",
            "ticks": ""
           }
          },
          "scene": {
           "xaxis": {
            "backgroundcolor": "#E5ECF6",
            "gridcolor": "white",
            "gridwidth": 2,
            "linecolor": "white",
            "showbackground": true,
            "ticks": "",
            "zerolinecolor": "white"
           },
           "yaxis": {
            "backgroundcolor": "#E5ECF6",
            "gridcolor": "white",
            "gridwidth": 2,
            "linecolor": "white",
            "showbackground": true,
            "ticks": "",
            "zerolinecolor": "white"
           },
           "zaxis": {
            "backgroundcolor": "#E5ECF6",
            "gridcolor": "white",
            "gridwidth": 2,
            "linecolor": "white",
            "showbackground": true,
            "ticks": "",
            "zerolinecolor": "white"
           }
          },
          "shapedefaults": {
           "line": {
            "color": "#2a3f5f"
           }
          },
          "ternary": {
           "aaxis": {
            "gridcolor": "white",
            "linecolor": "white",
            "ticks": ""
           },
           "baxis": {
            "gridcolor": "white",
            "linecolor": "white",
            "ticks": ""
           },
           "bgcolor": "#E5ECF6",
           "caxis": {
            "gridcolor": "white",
            "linecolor": "white",
            "ticks": ""
           }
          },
          "title": {
           "x": 0.05
          },
          "xaxis": {
           "automargin": true,
           "gridcolor": "white",
           "linecolor": "white",
           "ticks": "",
           "title": {
            "standoff": 15
           },
           "zerolinecolor": "white",
           "zerolinewidth": 2
          },
          "yaxis": {
           "automargin": true,
           "gridcolor": "white",
           "linecolor": "white",
           "ticks": "",
           "title": {
            "standoff": 15
           },
           "zerolinecolor": "white",
           "zerolinewidth": 2
          }
         }
        },
        "xaxis": {
         "anchor": "y",
         "categoryarray": [
          "fur",
          "scales",
          "feathers",
          "skin"
         ],
         "categoryorder": "array",
         "domain": [
          0,
          1
         ],
         "title": {
          "text": "skin_type"
         }
        },
        "yaxis": {
         "anchor": "x",
         "domain": [
          0,
          1
         ],
         "title": {
          "text": "body_mass_kg"
         }
        }
       }
      }
     },
     "metadata": {},
     "output_type": "display_data"
    }
   ],
   "source": [
    "# Plot de distribuição (Boxplot) por 'skin_type' e 'body_mass_kg'\n",
    "px.box(df_species_eda, x='skin_type', y='body_mass_kg', color='skin_type')"
   ]
  },
  {
   "cell_type": "code",
   "execution_count": null,
   "metadata": {},
   "outputs": [
    {
     "data": {
      "application/vnd.plotly.v1+json": {
       "config": {
        "plotlyServerURL": "https://plot.ly"
       },
       "data": [
        {
         "hovertemplate": "skin_type=%{x}<br>body_mass_kg=%{y}<extra></extra>",
         "legendgroup": "fur",
         "marker": {
          "color": "#636efa",
          "symbol": "circle"
         },
         "mode": "markers",
         "name": "fur",
         "orientation": "v",
         "showlegend": true,
         "type": "scatter",
         "x": [
          "fur",
          "fur",
          "fur",
          "fur",
          "fur",
          "fur",
          "fur",
          "fur",
          "fur",
          "fur",
          "fur",
          "fur",
          "fur",
          "fur",
          "fur",
          "fur",
          "fur",
          "fur",
          "fur",
          "fur",
          "fur",
          "fur",
          "fur",
          "fur",
          "fur",
          "fur",
          "fur",
          "fur",
          "fur",
          "fur",
          "fur",
          "fur",
          "fur",
          "fur",
          "fur",
          "fur",
          "fur",
          "fur",
          "fur",
          "fur",
          "fur",
          "fur",
          "fur",
          "fur",
          "fur",
          "fur",
          "fur",
          "fur",
          "fur",
          "fur",
          "fur",
          "fur",
          "fur",
          "fur",
          "fur",
          "fur",
          "fur",
          "fur",
          "fur",
          "fur",
          "fur",
          "fur",
          "fur",
          "fur",
          "fur",
          "fur",
          "fur",
          "fur",
          "fur",
          "fur",
          "fur",
          "fur",
          "fur",
          "fur",
          "fur",
          "fur",
          "fur",
          "fur",
          "fur",
          "fur",
          "fur",
          "fur",
          "fur",
          "fur",
          "fur",
          "fur",
          "fur",
          "fur",
          "fur",
          "fur",
          "fur",
          "fur",
          "fur",
          "fur",
          "fur",
          "fur",
          "fur",
          "fur",
          "fur",
          "fur",
          "fur",
          "fur",
          "fur",
          "fur",
          "fur",
          "fur",
          "fur",
          "fur",
          "fur",
          "fur",
          "fur",
          "fur",
          "fur",
          "fur",
          "fur",
          "fur",
          "fur",
          "fur",
          "fur",
          "fur",
          "fur",
          "fur",
          "fur",
          "fur",
          "fur",
          "fur",
          "fur",
          "fur",
          "fur",
          "fur",
          "fur",
          "fur",
          "fur",
          "fur",
          "fur",
          "fur",
          "fur",
          "fur",
          "fur",
          "fur",
          "fur",
          "fur",
          "fur",
          "fur",
          "fur",
          "fur",
          "fur",
          "fur",
          "fur",
          "fur",
          "fur"
         ],
         "xaxis": "x",
         "y": {
          "bdata": "lG9alpb3TUCZp4obC55HQIBdCykVek9ALoVgbHodVEBCJJR0ZGVUQL6hFQNRVlBA9YTDIXkkTECEHQmv6tY/QKZNvbLp+jpA+8z3g+rCVUAYhrdZ+pwlQIZkm64s/UVADhozLOQdT0BWSWtnmptAQPZjas0IUExAZTN2iLYkR0CPTL4NbBM6QJhQXHKnR0hAPxPibr5SVEAAAAAAAAAUQGbBrlfo6klAiVV8SzWSTEABlxFStONTQO6qAIGA+0NABhlH97YTUUCU+1Ra0LNDQME86fH2IU5A7E7rr826NED10sbLG2NHQKhgZ2VR7lVAFzO/UOu+SkCqougfa0FIQLBgp2LIPydAvWmRUl6gOkCYNDFZhXRQQODiZMaF9jVACJKzHkdWQ0AdYwAyGvdDQGYVYW6Fr0lAx1GIRIycP0ArDu6F+WE5QJjmvMlMmUtAcH8d4Ef4S0ByLJH+QoFLQCB9m/8iM0JAWEGZp0LbQUB1Swnid29QQFoMuBu4IE1AtJpYrDycUED7Z71xzotGQJS4ondvdkFAMgs0aMuiUEBSRJGu6xFQQA/NdwJ9u01AyMEWcvuzM0Cs+AT264hEQAbExcEwyFBApFyi+P0jO0AxLkSG75NMQKDks/ZVPj9AaXpBg30mTkBULyMmhi1SQO6lQEwfRVFAO19iVTRPKUAr2prsQrJBQNG/tjeK/iJAPUzemyUTQUBiyEt+e/45QFrqI0Wtp0VADjwtFohfUEBRjbHvbHlGQIpJBSL8nk1AOiBPYEgqV0DDNXX1nuolQLDaO6v1kUxALuDUQYwaT0CNhl69kXhOQMJv4m2IoFBAngRo1kqRUEAVyVCDkEhPQNHABmAHB0BAaF04KLq+QECTByeTQMlFQAqMIXrdXENAkkDDSh1zS0B9DwZWJEpEQCPmNz8MUktAvDQpZcjQQUCwqS87m9BIQCRNpawIHUZAFwnI7Um6QEBoQxPj5ylUQBJZUMthBE1AUmXGvHbBU0DOu2EwEb5DQINeaBICgUpAEN+TayA7Q0Bm9fIlUOtNQLmVjGhEqFVA7HBS8K5lUkC4QLyegHkvQCHoK6ZnsFJAM76/lZkBQ0AW/9OCbA1JQI2psTNFeElASh9CLoKTR0BbGO0ZgGVSQIB2hF6cW1FAee4SlSl0T0DPJ/H1gaYtQGi1Ej90FlBAyC3zITXXTEDwNM6UZE0hQLmRmdN9qkxA+GxTLYDcQ0CVHhCn09A8QHKwdqCKX0hAoXZT3D4SQUBZeeMuj0s9QP2XSFJGWklAnMndSUQkT0Dqml0gnElQQHI+qB7eP0ZAAAAAAAAAFEBJFyZcmVVTQFQODl/8w05A8L+r7d0IS0DE+pz+xYhCQH3IK5KK71RAo8Eut3/oUECeMm4YVOZTQHFSebhMQT1Aw8+TvBBYNkB5SQ6lDQxWQLTKLIL1IERA7QjNmOZGUECXgowWWQJOQDaWV4jGQVBAgCOKbATFMEDbU6M0NbVTQAAAAAAAABRA2SqyufIHQUD43p1EzPVCQJj+bT5Ri0tA64TxJ8zxTEAYFX761uFUQCBsPunyGxdA9Ynr13F7S0D8lnj+ZYBAQG0MLcMeTUZALRKM0rpsPkA=",
          "dtype": "f8"
         },
         "yaxis": "y"
        },
        {
         "hovertemplate": "skin_type=%{x}<br>body_mass_kg=%{y}<extra></extra>",
         "legendgroup": "scales",
         "marker": {
          "color": "#EF553B",
          "symbol": "circle"
         },
         "mode": "markers",
         "name": "scales",
         "orientation": "v",
         "showlegend": true,
         "type": "scatter",
         "x": [
          "scales",
          "scales",
          "scales",
          "scales",
          "scales",
          "scales",
          "scales",
          "scales",
          "scales",
          "scales",
          "scales",
          "scales",
          "scales",
          "scales",
          "scales",
          "scales",
          "scales",
          "scales",
          "scales",
          "scales",
          "scales",
          "scales",
          "scales",
          "scales",
          "scales",
          "scales",
          "scales",
          "scales",
          "scales",
          "scales",
          "scales",
          "scales",
          "scales",
          "scales",
          "scales",
          "scales",
          "scales",
          "scales",
          "scales",
          "scales",
          "scales",
          "scales",
          "scales",
          "scales",
          "scales",
          "scales",
          "scales",
          "scales",
          "scales",
          "scales",
          "scales",
          "scales",
          "scales",
          "scales",
          "scales",
          "scales",
          "scales",
          "scales",
          "scales",
          "scales",
          "scales",
          "scales",
          "scales",
          "scales",
          "scales",
          "scales",
          "scales",
          "scales",
          "scales",
          "scales",
          "scales",
          "scales",
          "scales",
          "scales",
          "scales",
          "scales",
          "scales",
          "scales",
          "scales",
          "scales",
          "scales",
          "scales",
          "scales",
          "scales",
          "scales",
          "scales",
          "scales",
          "scales",
          "scales",
          "scales",
          "scales",
          "scales",
          "scales",
          "scales",
          "scales",
          "scales",
          "scales",
          "scales",
          "scales",
          "scales",
          "scales",
          "scales",
          "scales",
          "scales",
          "scales",
          "scales",
          "scales",
          "scales",
          "scales",
          "scales",
          "scales",
          "scales",
          "scales",
          "scales",
          "scales",
          "scales",
          "scales",
          "scales",
          "scales",
          "scales",
          "scales",
          "scales",
          "scales",
          "scales",
          "scales",
          "scales",
          "scales",
          "scales",
          "scales",
          "scales",
          "scales",
          "scales",
          "scales",
          "scales",
          "scales",
          "scales",
          "scales",
          "scales",
          "scales",
          "scales",
          "scales",
          "scales",
          "scales"
         ],
         "xaxis": "x",
         "y": {
          "bdata": "AyeNPpGoRkA3LnEm9GxOQLbTsZSmXURAfmvwZGxrS0AP/GM+A75GQMWOrw5KgTVArKoLdMnBTEBco3N1ct1IQKhAliGF2DxAXeekz0eVOUBBjmP7r283QBIK3b3w10dA+BkjqPdtNEAUTEvmMs1BQD0KqK6pb0xAQNCToLJgUUBfMIm7/EdTQCGI9KiFhFFACh510q8wVEDN9Kgq195JQNra9IqKAkZAMT0EbjrRQ0Bt3SqX3VdRQBhB6lUvuUVAK5zkLk2cS0D+EpvhJctEQHNF6Czz0FhAdmFwUY4TR0CSL/cQ9gNMQM1SCy7QNlJAUG3Ko5ODU0BI+jyqWt5OQCL33H/Ic1dA/kVZOnQwPkAwW3ltmvwyQGI7qIkkCVNA5Hnbnys4TkDk0HDIkVJLQOWHE/nGkE9ArufiH+X7VUB0CLRbWWlMQPDMbX96WkZAMHNSCNEZWkArYdhENYhAQF0oFZlp2kxAtOXLMFMpQEAOGhJJiYlKQCqtbKoDlUlA7bw9293EUUDWWdgl6dhFQH0NdnrT3E9ALqzkVNvxUUBNLVtd8nE8QJ81pI/S2EFAHoZkmT84V0B4rqMr1VZPQJrZ6lodw1BAwSuRdsQMTkDmjWjQwAxNQDo3uADdFlFAvg7yZdOcM0AiIDqxHXY/QHFRcHadZ0hAxa9tbtS0U0Cy/ZB/2VBSQJgiKXhiPjlA3EB/kBfiTkBBW4ek48VCQMZtT+jqEURAohiz6TkbQ0Bzl3qdfb9QQH21hMQmEkJAfM3OjtlLT0BgXYasWyxKQNgH4RPFNUlAfvMRlLflRUB64I5GT/hJQNxod/Sl4EhAP0x3Rg/CSUBchf1MdzpCQBMhdnmIh0dAqxzW2dZvS0CMgXi4Oe5DQJ715hTJ2TVAWznXYewbTEA4vqS5dOBTQATDw+fNyVBA4AQQtgzzPUAIk3vuhjFOQGmy+PKS6UdAgqH/KOD6TUAkTucZl1NBQM6MLwmOAUNAAAO+lZ0WHkAaEE/uZ5g3QJLOcMeHHDJAozQBjcilPEDFBg0e1YE7QFilQIcgKEpA+l9TMNlXU0DaqVCvStxPQNeFLYnIylFA2mp3iVFORkDy7fG9oKRUQEQLfrwd6TdAHHgTKBVJPkB2HqbsWwpOQO1aAl6KskNAr84oZKh2Q0AElxZ93Qo6QFOLebBw4EdAITmVxOqxQ0CO6P/B5z1DQHlQXcU4sjNAyMy5vXeCRkDzZLrmzBxMQAMrlk4OGVJA+BFg7Ye4R0AkRCWeD441QIsdExacY05AmqvYpLsYR0B6UUvSaj5AQLIDeIJVBzZAnmbahDOhTkAWc8K3eBNDQJW3UyI3fElAbhIeiMSwQEAuqAwCS5xGQOfdKShG2T9AlCMfyupyPkBQjHBrSv5JQEThGAcOiFFAVMDZKCK2TEAqjtZHQ2BMQHRIvU+Y4URAHvqAqqasREBU4o8kCttQQEdlgx8gfEVArNeoH+9ETEC5YFdbLFtLQCk1K1MBOFJAY8a7cNSmUECi8yCnW+ZDQA==",
          "dtype": "f8"
         },
         "yaxis": "y"
        },
        {
         "hovertemplate": "skin_type=%{x}<br>body_mass_kg=%{y}<extra></extra>",
         "legendgroup": "feathers",
         "marker": {
          "color": "#00cc96",
          "symbol": "circle"
         },
         "mode": "markers",
         "name": "feathers",
         "orientation": "v",
         "showlegend": true,
         "type": "scatter",
         "x": [
          "feathers",
          "feathers",
          "feathers",
          "feathers",
          "feathers",
          "feathers",
          "feathers",
          "feathers",
          "feathers",
          "feathers",
          "feathers",
          "feathers",
          "feathers",
          "feathers",
          "feathers",
          "feathers",
          "feathers",
          "feathers",
          "feathers",
          "feathers",
          "feathers",
          "feathers",
          "feathers",
          "feathers",
          "feathers",
          "feathers",
          "feathers",
          "feathers",
          "feathers",
          "feathers",
          "feathers",
          "feathers",
          "feathers",
          "feathers",
          "feathers",
          "feathers",
          "feathers",
          "feathers",
          "feathers",
          "feathers",
          "feathers",
          "feathers",
          "feathers",
          "feathers",
          "feathers",
          "feathers",
          "feathers",
          "feathers",
          "feathers",
          "feathers",
          "feathers",
          "feathers",
          "feathers",
          "feathers",
          "feathers",
          "feathers",
          "feathers",
          "feathers",
          "feathers",
          "feathers",
          "feathers",
          "feathers",
          "feathers",
          "feathers",
          "feathers",
          "feathers",
          "feathers",
          "feathers",
          "feathers",
          "feathers",
          "feathers",
          "feathers",
          "feathers",
          "feathers",
          "feathers",
          "feathers",
          "feathers",
          "feathers",
          "feathers",
          "feathers",
          "feathers",
          "feathers",
          "feathers",
          "feathers",
          "feathers",
          "feathers",
          "feathers",
          "feathers",
          "feathers",
          "feathers",
          "feathers",
          "feathers",
          "feathers",
          "feathers",
          "feathers",
          "feathers",
          "feathers",
          "feathers",
          "feathers",
          "feathers",
          "feathers",
          "feathers",
          "feathers",
          "feathers",
          "feathers",
          "feathers",
          "feathers",
          "feathers",
          "feathers",
          "feathers",
          "feathers",
          "feathers",
          "feathers",
          "feathers",
          "feathers",
          "feathers",
          "feathers",
          "feathers",
          "feathers",
          "feathers",
          "feathers",
          "feathers",
          "feathers",
          "feathers",
          "feathers",
          "feathers",
          "feathers",
          "feathers",
          "feathers",
          "feathers",
          "feathers",
          "feathers",
          "feathers",
          "feathers",
          "feathers",
          "feathers",
          "feathers",
          "feathers",
          "feathers",
          "feathers",
          "feathers",
          "feathers",
          "feathers",
          "feathers",
          "feathers",
          "feathers",
          "feathers",
          "feathers",
          "feathers",
          "feathers"
         ],
         "xaxis": "x",
         "y": {
          "bdata": "4C7/AJyoRkCEakRZu1dEQCKdrT6LYENAJLThyQfUU0Aa7MJI36xJQE7dnG1d/kJAvOD6jaH7QkCmWJu6PDFQQL5so88dyVFAvErfA3h6LUCebQl6MCZFQAKPbOytp1FAZRiT3gkoUUB4Ac6TauhFQEV2dJ+Q3ztAZLEjdgiQUECprE9RfoxCQH/EWTksnUxA3vU7AwmcUEDcHsVTmklMQDQGMgA0FEVAhr+AYhH2S0B7kM9CTbE1QN6HTJ2mkkVAibCfkSv6QEBoZP/EXgpNQHtHa3gwmklABkxrSyOnSEDm24hqeUJQQCGIxIQb/0lAzxwMiWW8TUC6UFEf3ypBQKOtYFJNkVBALU5BpanYSkDjvfe3u2hQQLbB4flD7ktAw9eeJAO9TUB9FR6uhiw6QEu9xqINy0BA3QGsn546SEBzBHzrSCFJQPJBYFq1QU9AWLpMOa1tQEBk6vHIB5U8QIbqPh8h001AJobTbe/DRkDrdZlE0RU5QFimOjtO6lFAOh/DwkojTkBBptWmhSZOQCMoCw5/w19A1pY8xY+DT0Ascr8Ie0tQQHys0Y6+oUZA4QgyJXglREBCWLJRwxJYQIYBpg3lvjFAthhFLsXLT0C+7R9NIipLQO1TIbNS3UpAVcB1J3p3QkCxmPEuRsg4QNGdcTeOqVFAOeUvvV3sQUA7PrOgWQs5QNQoHPusXj5A0WUYw5f9SkAZ1DW6miJKQG1Ahf0ZblRA6QTAHm57R0Cko5fUVs9LQOVsY9TFtUBAxiXlwO9lQ0Cr5W7ufcpIQOxKqTtp41JAnwz3BWP6RkAD2ldyvNJGQA84A7PM0U9AwgMoqd09TEB45Khy1bJHQI0tZnZB9lZAjAWSs1q3OUCbKxQIVHVQQEGR9zsnYFFAj7tPRpPdRkDio7mJUc9IQB5NM8TE5k9A/ltHjjwgSUBarggCDfpJQDyd4Py+PklAS6ri0xJEV0DsSlIEW9VKQBTevaLB6kBAnrQcqX/hVUBKvR/iikBRQOdObQvpTkRA1ILBKsfaR0DXYLUX1X9EQK2xl/bdDlBA9TTH31VRM0Cj+bV6eUFUQO1Rd+nYrElAHSJWFtZGVUDmvPtmt1U6QMjHLjNDbiJAhhJbwa69SUBFGqxq4WU2QGiOXyNd3S9AU754StobSEACDTfE0DM/QFDkGwmVRlFAISlTlQDuR0CWhq0h2VJWQCfy/VxRykZAh/zOqffkW0CZUKAIouM+QKb8vvm9b0FAEnGUZnlePEDr0r4Ml+tIQBZWK8kcY0BAfrDY24EhUUAEXcriWn5CQDUL2ZVetEtAzEckHKWcMEDUfB+Lu7ROQAHGqnoOXkFAh2e03QHOK0BKy2iT+3IxQMhnXfMYe0lAa0odveOYS0DjNSv0y2JPQMrVcvHVVkhAhOG92JjHOUAppDZ/V2VAQFi8QP1NxU5AoWoBLTT4RkAQo617q91JQFO7p9nS5UtASV9tVYPgVkDCsTm5U+tEQJrYUhu1WlBACDSZb6NtNECQSHzs61NPQD6nuaJ82ldA6jhx3pPRSkCWIqo9CWhEQPqMM6Y1t0lAMTgdzCxWTEAeaMQWDbBRQFPsr6bjxUxA",
          "dtype": "f8"
         },
         "yaxis": "y"
        },
        {
         "hovertemplate": "skin_type=%{x}<br>body_mass_kg=%{y}<extra></extra>",
         "legendgroup": "skin",
         "marker": {
          "color": "#ab63fa",
          "symbol": "circle"
         },
         "mode": "markers",
         "name": "skin",
         "orientation": "v",
         "showlegend": true,
         "type": "scatter",
         "x": [
          "skin",
          "skin",
          "skin",
          "skin",
          "skin",
          "skin",
          "skin",
          "skin",
          "skin",
          "skin",
          "skin",
          "skin",
          "skin",
          "skin",
          "skin",
          "skin",
          "skin",
          "skin",
          "skin",
          "skin",
          "skin",
          "skin",
          "skin",
          "skin",
          "skin",
          "skin",
          "skin",
          "skin",
          "skin",
          "skin",
          "skin",
          "skin",
          "skin",
          "skin",
          "skin",
          "skin",
          "skin",
          "skin",
          "skin",
          "skin",
          "skin",
          "skin",
          "skin",
          "skin",
          "skin",
          "skin",
          "skin",
          "skin",
          "skin",
          "skin",
          "skin",
          "skin",
          "skin",
          "skin",
          "skin",
          "skin",
          "skin",
          "skin",
          "skin",
          "skin",
          "skin",
          "skin",
          "skin",
          "skin",
          "skin",
          "skin",
          "skin",
          "skin",
          "skin",
          "skin",
          "skin",
          "skin",
          "skin",
          "skin",
          "skin",
          "skin",
          "skin",
          "skin",
          "skin",
          "skin",
          "skin",
          "skin",
          "skin",
          "skin",
          "skin",
          "skin",
          "skin",
          "skin",
          "skin",
          "skin",
          "skin",
          "skin",
          "skin",
          "skin",
          "skin",
          "skin",
          "skin",
          "skin",
          "skin",
          "skin",
          "skin",
          "skin",
          "skin",
          "skin",
          "skin",
          "skin",
          "skin",
          "skin",
          "skin",
          "skin",
          "skin",
          "skin",
          "skin",
          "skin",
          "skin",
          "skin",
          "skin",
          "skin",
          "skin",
          "skin",
          "skin",
          "skin",
          "skin",
          "skin",
          "skin",
          "skin",
          "skin",
          "skin",
          "skin",
          "skin",
          "skin",
          "skin",
          "skin",
          "skin",
          "skin",
          "skin",
          "skin",
          "skin",
          "skin",
          "skin",
          "skin",
          "skin",
          "skin",
          "skin",
          "skin",
          "skin",
          "skin",
          "skin",
          "skin",
          "skin",
          "skin",
          "skin",
          "skin",
          "skin",
          "skin",
          "skin"
         ],
         "xaxis": "x",
         "y": {
          "bdata": "O/80RCVORECkeayiAngnQNTFqmXXAC9AKdpz/k2+PUBH5+ZKAcE1QNSRcFZhjkNAPup3OvYbSkAX54mVQxVGQDjfTITbnFBAQrR62LAWS0CNFMP69vdKQJnTsOqztkpArpRqxsNkREDJFZGrpz1MQBhu22UUO0JAA7AZX1A1RECqWQ7JyZ1MQIHGCAxJpEhAzLcxWEt/JECB3+LUo81GQEh85aFB6kBAsEEkvoT4SUBaaQF8vvpBQCR9qicXDUlA3ens+XSnRkBQQ1w5VJNLQNCN2N0fvEhAQkfdrO/PP0Bpir5GAcE8QE56foHqP1RA6fbFw4XHRUAXwIokTEZLQBrTJZOv2TFAMkvY9s9COUB4UqwbQ5c3QAJ5b0zodkxAtmLn/TDUVUCMQr89oYE+QIqibZkAS1JA1UEMFx9RUUACYsrS1xpAQHxUV5KG10BA60MOFVTES0CjD+ELhsRTQNtaA9iORUhAlyzleRQkS0DhNwDaV7tKQE6LSL+bm05AUHe+NFVyNkApPRrOerVOQJRedESRRUFAJYY2CZnRSUD08IC72kdEQD8Dpo2OpElA5Q0E9ql0SUA1tTky53tCQNrXWJ/TYUJAC2diU0baR0CWg3qpKtRQQGLAQ9cjQERAjfWiC8hTVUBu3YMkXBxXQEJOpltcKERAu3gDcqXVUkC7LByALXBNQAAAAAAAABRAW9p4oSKDPUATCTyJfKlUQN0N1BetZTVAc4P4cXyZREALCg0lsk5KQOlm3sJiSDVAxivAVjIaSUAQ9Qzecf9CQFg/kn6xsklAAr+T4ZglRUCSdnf1DZ9PQK50gwA160ZAgFse43z/UEBCamLQrxJMQF7auqh2kFBAXZIkK4k8UEAUAk3GkxVDQB9v6DJv/lFAo76nSwMHU0CjXLIbmvNOQL0DnuRa0UBARQbR5TDhPUC5H2LFYUpSQL4+zim/PU9ABwkEwhohTUBEYT2kHcdAQM5iVOTOCTVAHl5cr45mR0CapPDVKDpMQH6lyybg/ERAWo22P609S0AGh9xOGEVBQN82Qt3dS1FAwLS3BpLcUEAcRgqg8nJXQIn3vORPmkBAqgOl0Z5oQUAzwT8y5WpMQEUfA/YOBEBA2v1J5vREU0Cze4HufjpPQOyK+PH0M0pAOr9govYkTkB7jhgkbeNSQIqMlk+5UkxA1e4H3d+DQUAKV0nhwc1WQBUPDNumgkZAXk6RhZezPkBIVtxbBANUQK21kkLMcUhAYNl9K02sSEAvigKaXLJPQNbyHeSzAEJAegvS38kjS0DOUTYFj7lUQKBI2q3+3jFAE+8WGBDGSUDlHTJMmR1UQBDLWQIvXEBA6Afd82N/SEDVYgskdztDQG4zIokAb05AAcCx5K5fQkAP8/Yc5uk/QMJgOrBMe0JATcd3MVd5SUDLX7StiSdFQKKy9iQoO0NAijlel6+tUEDzkaeh5mc7QJVNTndMTE5A35f0XXdxR0Dwa3LTwlZSQHDTjmK6H0RAyYhTnEfKRECPIMw3Yb1FQFz4K8eNgVJAyW+J0Zp5IkAMSk0cmdY9QNzq/jkXKylAAKVCqyYvSUDVSwZHGs9GQMqD756jpVBAHQVwAY1iTEBOuKnp3NhEQFveYudscEBAlodqajI5REDOPvY3MMpNQBVmFfibjkRA",
          "dtype": "f8"
         },
         "yaxis": "y"
        }
       ],
       "layout": {
        "legend": {
         "title": {
          "text": "skin_type"
         },
         "tracegroupgap": 0
        },
        "margin": {
         "t": 60
        },
        "template": {
         "data": {
          "bar": [
           {
            "error_x": {
             "color": "#2a3f5f"
            },
            "error_y": {
             "color": "#2a3f5f"
            },
            "marker": {
             "line": {
              "color": "#E5ECF6",
              "width": 0.5
             },
             "pattern": {
              "fillmode": "overlay",
              "size": 10,
              "solidity": 0.2
             }
            },
            "type": "bar"
           }
          ],
          "barpolar": [
           {
            "marker": {
             "line": {
              "color": "#E5ECF6",
              "width": 0.5
             },
             "pattern": {
              "fillmode": "overlay",
              "size": 10,
              "solidity": 0.2
             }
            },
            "type": "barpolar"
           }
          ],
          "carpet": [
           {
            "aaxis": {
             "endlinecolor": "#2a3f5f",
             "gridcolor": "white",
             "linecolor": "white",
             "minorgridcolor": "white",
             "startlinecolor": "#2a3f5f"
            },
            "baxis": {
             "endlinecolor": "#2a3f5f",
             "gridcolor": "white",
             "linecolor": "white",
             "minorgridcolor": "white",
             "startlinecolor": "#2a3f5f"
            },
            "type": "carpet"
           }
          ],
          "choropleth": [
           {
            "colorbar": {
             "outlinewidth": 0,
             "ticks": ""
            },
            "type": "choropleth"
           }
          ],
          "contour": [
           {
            "colorbar": {
             "outlinewidth": 0,
             "ticks": ""
            },
            "colorscale": [
             [
              0,
              "#0d0887"
             ],
             [
              0.1111111111111111,
              "#46039f"
             ],
             [
              0.2222222222222222,
              "#7201a8"
             ],
             [
              0.3333333333333333,
              "#9c179e"
             ],
             [
              0.4444444444444444,
              "#bd3786"
             ],
             [
              0.5555555555555556,
              "#d8576b"
             ],
             [
              0.6666666666666666,
              "#ed7953"
             ],
             [
              0.7777777777777778,
              "#fb9f3a"
             ],
             [
              0.8888888888888888,
              "#fdca26"
             ],
             [
              1,
              "#f0f921"
             ]
            ],
            "type": "contour"
           }
          ],
          "contourcarpet": [
           {
            "colorbar": {
             "outlinewidth": 0,
             "ticks": ""
            },
            "type": "contourcarpet"
           }
          ],
          "heatmap": [
           {
            "colorbar": {
             "outlinewidth": 0,
             "ticks": ""
            },
            "colorscale": [
             [
              0,
              "#0d0887"
             ],
             [
              0.1111111111111111,
              "#46039f"
             ],
             [
              0.2222222222222222,
              "#7201a8"
             ],
             [
              0.3333333333333333,
              "#9c179e"
             ],
             [
              0.4444444444444444,
              "#bd3786"
             ],
             [
              0.5555555555555556,
              "#d8576b"
             ],
             [
              0.6666666666666666,
              "#ed7953"
             ],
             [
              0.7777777777777778,
              "#fb9f3a"
             ],
             [
              0.8888888888888888,
              "#fdca26"
             ],
             [
              1,
              "#f0f921"
             ]
            ],
            "type": "heatmap"
           }
          ],
          "histogram": [
           {
            "marker": {
             "pattern": {
              "fillmode": "overlay",
              "size": 10,
              "solidity": 0.2
             }
            },
            "type": "histogram"
           }
          ],
          "histogram2d": [
           {
            "colorbar": {
             "outlinewidth": 0,
             "ticks": ""
            },
            "colorscale": [
             [
              0,
              "#0d0887"
             ],
             [
              0.1111111111111111,
              "#46039f"
             ],
             [
              0.2222222222222222,
              "#7201a8"
             ],
             [
              0.3333333333333333,
              "#9c179e"
             ],
             [
              0.4444444444444444,
              "#bd3786"
             ],
             [
              0.5555555555555556,
              "#d8576b"
             ],
             [
              0.6666666666666666,
              "#ed7953"
             ],
             [
              0.7777777777777778,
              "#fb9f3a"
             ],
             [
              0.8888888888888888,
              "#fdca26"
             ],
             [
              1,
              "#f0f921"
             ]
            ],
            "type": "histogram2d"
           }
          ],
          "histogram2dcontour": [
           {
            "colorbar": {
             "outlinewidth": 0,
             "ticks": ""
            },
            "colorscale": [
             [
              0,
              "#0d0887"
             ],
             [
              0.1111111111111111,
              "#46039f"
             ],
             [
              0.2222222222222222,
              "#7201a8"
             ],
             [
              0.3333333333333333,
              "#9c179e"
             ],
             [
              0.4444444444444444,
              "#bd3786"
             ],
             [
              0.5555555555555556,
              "#d8576b"
             ],
             [
              0.6666666666666666,
              "#ed7953"
             ],
             [
              0.7777777777777778,
              "#fb9f3a"
             ],
             [
              0.8888888888888888,
              "#fdca26"
             ],
             [
              1,
              "#f0f921"
             ]
            ],
            "type": "histogram2dcontour"
           }
          ],
          "mesh3d": [
           {
            "colorbar": {
             "outlinewidth": 0,
             "ticks": ""
            },
            "type": "mesh3d"
           }
          ],
          "parcoords": [
           {
            "line": {
             "colorbar": {
              "outlinewidth": 0,
              "ticks": ""
             }
            },
            "type": "parcoords"
           }
          ],
          "pie": [
           {
            "automargin": true,
            "type": "pie"
           }
          ],
          "scatter": [
           {
            "fillpattern": {
             "fillmode": "overlay",
             "size": 10,
             "solidity": 0.2
            },
            "type": "scatter"
           }
          ],
          "scatter3d": [
           {
            "line": {
             "colorbar": {
              "outlinewidth": 0,
              "ticks": ""
             }
            },
            "marker": {
             "colorbar": {
              "outlinewidth": 0,
              "ticks": ""
             }
            },
            "type": "scatter3d"
           }
          ],
          "scattercarpet": [
           {
            "marker": {
             "colorbar": {
              "outlinewidth": 0,
              "ticks": ""
             }
            },
            "type": "scattercarpet"
           }
          ],
          "scattergeo": [
           {
            "marker": {
             "colorbar": {
              "outlinewidth": 0,
              "ticks": ""
             }
            },
            "type": "scattergeo"
           }
          ],
          "scattergl": [
           {
            "marker": {
             "colorbar": {
              "outlinewidth": 0,
              "ticks": ""
             }
            },
            "type": "scattergl"
           }
          ],
          "scattermap": [
           {
            "marker": {
             "colorbar": {
              "outlinewidth": 0,
              "ticks": ""
             }
            },
            "type": "scattermap"
           }
          ],
          "scattermapbox": [
           {
            "marker": {
             "colorbar": {
              "outlinewidth": 0,
              "ticks": ""
             }
            },
            "type": "scattermapbox"
           }
          ],
          "scatterpolar": [
           {
            "marker": {
             "colorbar": {
              "outlinewidth": 0,
              "ticks": ""
             }
            },
            "type": "scatterpolar"
           }
          ],
          "scatterpolargl": [
           {
            "marker": {
             "colorbar": {
              "outlinewidth": 0,
              "ticks": ""
             }
            },
            "type": "scatterpolargl"
           }
          ],
          "scatterternary": [
           {
            "marker": {
             "colorbar": {
              "outlinewidth": 0,
              "ticks": ""
             }
            },
            "type": "scatterternary"
           }
          ],
          "surface": [
           {
            "colorbar": {
             "outlinewidth": 0,
             "ticks": ""
            },
            "colorscale": [
             [
              0,
              "#0d0887"
             ],
             [
              0.1111111111111111,
              "#46039f"
             ],
             [
              0.2222222222222222,
              "#7201a8"
             ],
             [
              0.3333333333333333,
              "#9c179e"
             ],
             [
              0.4444444444444444,
              "#bd3786"
             ],
             [
              0.5555555555555556,
              "#d8576b"
             ],
             [
              0.6666666666666666,
              "#ed7953"
             ],
             [
              0.7777777777777778,
              "#fb9f3a"
             ],
             [
              0.8888888888888888,
              "#fdca26"
             ],
             [
              1,
              "#f0f921"
             ]
            ],
            "type": "surface"
           }
          ],
          "table": [
           {
            "cells": {
             "fill": {
              "color": "#EBF0F8"
             },
             "line": {
              "color": "white"
             }
            },
            "header": {
             "fill": {
              "color": "#C8D4E3"
             },
             "line": {
              "color": "white"
             }
            },
            "type": "table"
           }
          ]
         },
         "layout": {
          "annotationdefaults": {
           "arrowcolor": "#2a3f5f",
           "arrowhead": 0,
           "arrowwidth": 1
          },
          "autotypenumbers": "strict",
          "coloraxis": {
           "colorbar": {
            "outlinewidth": 0,
            "ticks": ""
           }
          },
          "colorscale": {
           "diverging": [
            [
             0,
             "#8e0152"
            ],
            [
             0.1,
             "#c51b7d"
            ],
            [
             0.2,
             "#de77ae"
            ],
            [
             0.3,
             "#f1b6da"
            ],
            [
             0.4,
             "#fde0ef"
            ],
            [
             0.5,
             "#f7f7f7"
            ],
            [
             0.6,
             "#e6f5d0"
            ],
            [
             0.7,
             "#b8e186"
            ],
            [
             0.8,
             "#7fbc41"
            ],
            [
             0.9,
             "#4d9221"
            ],
            [
             1,
             "#276419"
            ]
           ],
           "sequential": [
            [
             0,
             "#0d0887"
            ],
            [
             0.1111111111111111,
             "#46039f"
            ],
            [
             0.2222222222222222,
             "#7201a8"
            ],
            [
             0.3333333333333333,
             "#9c179e"
            ],
            [
             0.4444444444444444,
             "#bd3786"
            ],
            [
             0.5555555555555556,
             "#d8576b"
            ],
            [
             0.6666666666666666,
             "#ed7953"
            ],
            [
             0.7777777777777778,
             "#fb9f3a"
            ],
            [
             0.8888888888888888,
             "#fdca26"
            ],
            [
             1,
             "#f0f921"
            ]
           ],
           "sequentialminus": [
            [
             0,
             "#0d0887"
            ],
            [
             0.1111111111111111,
             "#46039f"
            ],
            [
             0.2222222222222222,
             "#7201a8"
            ],
            [
             0.3333333333333333,
             "#9c179e"
            ],
            [
             0.4444444444444444,
             "#bd3786"
            ],
            [
             0.5555555555555556,
             "#d8576b"
            ],
            [
             0.6666666666666666,
             "#ed7953"
            ],
            [
             0.7777777777777778,
             "#fb9f3a"
            ],
            [
             0.8888888888888888,
             "#fdca26"
            ],
            [
             1,
             "#f0f921"
            ]
           ]
          },
          "colorway": [
           "#636efa",
           "#EF553B",
           "#00cc96",
           "#ab63fa",
           "#FFA15A",
           "#19d3f3",
           "#FF6692",
           "#B6E880",
           "#FF97FF",
           "#FECB52"
          ],
          "font": {
           "color": "#2a3f5f"
          },
          "geo": {
           "bgcolor": "white",
           "lakecolor": "white",
           "landcolor": "#E5ECF6",
           "showlakes": true,
           "showland": true,
           "subunitcolor": "white"
          },
          "hoverlabel": {
           "align": "left"
          },
          "hovermode": "closest",
          "mapbox": {
           "style": "light"
          },
          "paper_bgcolor": "white",
          "plot_bgcolor": "#E5ECF6",
          "polar": {
           "angularaxis": {
            "gridcolor": "white",
            "linecolor": "white",
            "ticks": ""
           },
           "bgcolor": "#E5ECF6",
           "radialaxis": {
            "gridcolor": "white",
            "linecolor": "white",
            "ticks": ""
           }
          },
          "scene": {
           "xaxis": {
            "backgroundcolor": "#E5ECF6",
            "gridcolor": "white",
            "gridwidth": 2,
            "linecolor": "white",
            "showbackground": true,
            "ticks": "",
            "zerolinecolor": "white"
           },
           "yaxis": {
            "backgroundcolor": "#E5ECF6",
            "gridcolor": "white",
            "gridwidth": 2,
            "linecolor": "white",
            "showbackground": true,
            "ticks": "",
            "zerolinecolor": "white"
           },
           "zaxis": {
            "backgroundcolor": "#E5ECF6",
            "gridcolor": "white",
            "gridwidth": 2,
            "linecolor": "white",
            "showbackground": true,
            "ticks": "",
            "zerolinecolor": "white"
           }
          },
          "shapedefaults": {
           "line": {
            "color": "#2a3f5f"
           }
          },
          "ternary": {
           "aaxis": {
            "gridcolor": "white",
            "linecolor": "white",
            "ticks": ""
           },
           "baxis": {
            "gridcolor": "white",
            "linecolor": "white",
            "ticks": ""
           },
           "bgcolor": "#E5ECF6",
           "caxis": {
            "gridcolor": "white",
            "linecolor": "white",
            "ticks": ""
           }
          },
          "title": {
           "x": 0.05
          },
          "xaxis": {
           "automargin": true,
           "gridcolor": "white",
           "linecolor": "white",
           "ticks": "",
           "title": {
            "standoff": 15
           },
           "zerolinecolor": "white",
           "zerolinewidth": 2
          },
          "yaxis": {
           "automargin": true,
           "gridcolor": "white",
           "linecolor": "white",
           "ticks": "",
           "title": {
            "standoff": 15
           },
           "zerolinecolor": "white",
           "zerolinewidth": 2
          }
         }
        },
        "xaxis": {
         "anchor": "y",
         "categoryarray": [
          "fur",
          "scales",
          "feathers",
          "skin"
         ],
         "categoryorder": "array",
         "domain": [
          0,
          1
         ],
         "title": {
          "text": "skin_type"
         }
        },
        "yaxis": {
         "anchor": "x",
         "domain": [
          0,
          1
         ],
         "title": {
          "text": "body_mass_kg"
         }
        }
       }
      }
     },
     "metadata": {},
     "output_type": "display_data"
    }
   ],
   "source": [
    "# Scatterplot de 'skin_type' e 'body_mass_kg' \n",
    "px.scatter(df_species_eda, x='skin_type', y='body_mass_kg', color='skin_type')"
   ]
  },
  {
   "cell_type": "markdown",
   "id": "2bddf4a8",
   "metadata": {},
   "source": [
    "### Conclusão do EDA\n",
    "- A análise exploratória dos dados (EDA) revelou uma grande diversidade morfológica, fisiológica e comportamental entre as espécies fictícias. As variáveis categóricas, como tipo de dieta, tipo de pele e comportamento social, apresentaram distribuição equilibrada entre suas categorias, indicando que o dataset foi construído para representar diferentes grupos taxonômicos. As variáveis numéricas, como massa corporal, comprimento da cauda e expectativa de vida, mostraram variações significativas, sugerindo que há espécies com características bem distintas. A análise bivariada evidenciou relações interessantes, como a influência do tipo de pele ou do comportamento noturno na massa corporal. Esses padrões reforçam o potencial do dataset para a aplicação de técnicas de clusterização e identificação de agrupamentos naturais entre as espécies."
   ]
  },
  {
   "cell_type": "markdown",
   "id": "cabd66f5",
   "metadata": {},
   "source": [
    "---"
   ]
  },
  {
   "cell_type": "markdown",
   "id": "63eb851f",
   "metadata": {},
   "source": [
    "### Teinar modelos clustering hierárquico"
   ]
  },
  {
   "cell_type": "code",
   "execution_count": 35,
   "metadata": {},
   "outputs": [],
   "source": [
    "# Selecionar as colunas para clusterização\n",
    "X = df_species.copy()\n",
    "\n",
    "# Remover colunas desnecessárias para treino e clustering\n",
    "X.drop(columns=['species_id'], axis=1, inplace=True)"
   ]
  },
  {
   "cell_type": "code",
   "execution_count": 36,
   "metadata": {},
   "outputs": [
    {
     "data": {
      "text/html": [
       "<div>\n",
       "<style scoped>\n",
       "    .dataframe tbody tr th:only-of-type {\n",
       "        vertical-align: middle;\n",
       "    }\n",
       "\n",
       "    .dataframe tbody tr th {\n",
       "        vertical-align: top;\n",
       "    }\n",
       "\n",
       "    .dataframe thead th {\n",
       "        text-align: right;\n",
       "    }\n",
       "</style>\n",
       "<table border=\"1\" class=\"dataframe\">\n",
       "  <thead>\n",
       "    <tr style=\"text-align: right;\">\n",
       "      <th></th>\n",
       "      <th>body_mass_kg</th>\n",
       "      <th>num_legs</th>\n",
       "      <th>has_wings</th>\n",
       "      <th>tail_length_cm</th>\n",
       "      <th>diet_type</th>\n",
       "      <th>eye_count</th>\n",
       "      <th>skin_type</th>\n",
       "      <th>nocturnal</th>\n",
       "      <th>avg_lifespan_years</th>\n",
       "      <th>has_venom</th>\n",
       "      <th>social_behavior</th>\n",
       "    </tr>\n",
       "  </thead>\n",
       "  <tbody>\n",
       "    <tr>\n",
       "      <th>0</th>\n",
       "      <td>59.934283</td>\n",
       "      <td>6</td>\n",
       "      <td>1</td>\n",
       "      <td>27.622702</td>\n",
       "      <td>carnivore</td>\n",
       "      <td>2</td>\n",
       "      <td>fur</td>\n",
       "      <td>0</td>\n",
       "      <td>118.957538</td>\n",
       "      <td>0</td>\n",
       "      <td>pair-living</td>\n",
       "    </tr>\n",
       "    <tr>\n",
       "      <th>1</th>\n",
       "      <td>47.234714</td>\n",
       "      <td>6</td>\n",
       "      <td>1</td>\n",
       "      <td>25.521165</td>\n",
       "      <td>carnivore</td>\n",
       "      <td>4</td>\n",
       "      <td>fur</td>\n",
       "      <td>0</td>\n",
       "      <td>121.226422</td>\n",
       "      <td>0</td>\n",
       "      <td>solitary</td>\n",
       "    </tr>\n",
       "    <tr>\n",
       "      <th>2</th>\n",
       "      <td>62.953771</td>\n",
       "      <td>8</td>\n",
       "      <td>1</td>\n",
       "      <td>50.794426</td>\n",
       "      <td>carnivore</td>\n",
       "      <td>2</td>\n",
       "      <td>fur</td>\n",
       "      <td>0</td>\n",
       "      <td>119.454890</td>\n",
       "      <td>0</td>\n",
       "      <td>pair-living</td>\n",
       "    </tr>\n",
       "    <tr>\n",
       "      <th>3</th>\n",
       "      <td>80.460597</td>\n",
       "      <td>2</td>\n",
       "      <td>1</td>\n",
       "      <td>46.476993</td>\n",
       "      <td>carnivore</td>\n",
       "      <td>4</td>\n",
       "      <td>fur</td>\n",
       "      <td>1</td>\n",
       "      <td>121.522981</td>\n",
       "      <td>0</td>\n",
       "      <td>solitary</td>\n",
       "    </tr>\n",
       "    <tr>\n",
       "      <th>4</th>\n",
       "      <td>45.316933</td>\n",
       "      <td>4</td>\n",
       "      <td>0</td>\n",
       "      <td>40.161889</td>\n",
       "      <td>herbivore</td>\n",
       "      <td>2</td>\n",
       "      <td>scales</td>\n",
       "      <td>0</td>\n",
       "      <td>120.060929</td>\n",
       "      <td>0</td>\n",
       "      <td>group-living</td>\n",
       "    </tr>\n",
       "    <tr>\n",
       "      <th>...</th>\n",
       "      <td>...</td>\n",
       "      <td>...</td>\n",
       "      <td>...</td>\n",
       "      <td>...</td>\n",
       "      <td>...</td>\n",
       "      <td>...</td>\n",
       "      <td>...</td>\n",
       "      <td>...</td>\n",
       "      <td>...</td>\n",
       "      <td>...</td>\n",
       "      <td>...</td>\n",
       "    </tr>\n",
       "    <tr>\n",
       "      <th>595</th>\n",
       "      <td>39.799672</td>\n",
       "      <td>4</td>\n",
       "      <td>0</td>\n",
       "      <td>55.037095</td>\n",
       "      <td>herbivore</td>\n",
       "      <td>2</td>\n",
       "      <td>scales</td>\n",
       "      <td>0</td>\n",
       "      <td>120.394072</td>\n",
       "      <td>0</td>\n",
       "      <td>group-living</td>\n",
       "    </tr>\n",
       "    <tr>\n",
       "      <th>596</th>\n",
       "      <td>44.602501</td>\n",
       "      <td>6</td>\n",
       "      <td>0</td>\n",
       "      <td>66.874888</td>\n",
       "      <td>herbivore</td>\n",
       "      <td>2</td>\n",
       "      <td>fur</td>\n",
       "      <td>1</td>\n",
       "      <td>120.294341</td>\n",
       "      <td>0</td>\n",
       "      <td>solitary</td>\n",
       "    </tr>\n",
       "    <tr>\n",
       "      <th>597</th>\n",
       "      <td>30.424726</td>\n",
       "      <td>0</td>\n",
       "      <td>1</td>\n",
       "      <td>32.096355</td>\n",
       "      <td>herbivore</td>\n",
       "      <td>2</td>\n",
       "      <td>fur</td>\n",
       "      <td>0</td>\n",
       "      <td>121.665309</td>\n",
       "      <td>1</td>\n",
       "      <td>pair-living</td>\n",
       "    </tr>\n",
       "    <tr>\n",
       "      <th>598</th>\n",
       "      <td>41.114135</td>\n",
       "      <td>0</td>\n",
       "      <td>0</td>\n",
       "      <td>38.510861</td>\n",
       "      <td>omnivore</td>\n",
       "      <td>2</td>\n",
       "      <td>skin</td>\n",
       "      <td>0</td>\n",
       "      <td>118.714197</td>\n",
       "      <td>0</td>\n",
       "      <td>group-living</td>\n",
       "    </tr>\n",
       "    <tr>\n",
       "      <th>599</th>\n",
       "      <td>57.546010</td>\n",
       "      <td>8</td>\n",
       "      <td>0</td>\n",
       "      <td>46.890925</td>\n",
       "      <td>carnivore</td>\n",
       "      <td>4</td>\n",
       "      <td>feathers</td>\n",
       "      <td>0</td>\n",
       "      <td>120.873772</td>\n",
       "      <td>0</td>\n",
       "      <td>pair-living</td>\n",
       "    </tr>\n",
       "  </tbody>\n",
       "</table>\n",
       "<p>600 rows × 11 columns</p>\n",
       "</div>"
      ],
      "text/plain": [
       "     body_mass_kg  num_legs  has_wings  tail_length_cm  diet_type  eye_count  \\\n",
       "0       59.934283         6          1       27.622702  carnivore          2   \n",
       "1       47.234714         6          1       25.521165  carnivore          4   \n",
       "2       62.953771         8          1       50.794426  carnivore          2   \n",
       "3       80.460597         2          1       46.476993  carnivore          4   \n",
       "4       45.316933         4          0       40.161889  herbivore          2   \n",
       "..            ...       ...        ...             ...        ...        ...   \n",
       "595     39.799672         4          0       55.037095  herbivore          2   \n",
       "596     44.602501         6          0       66.874888  herbivore          2   \n",
       "597     30.424726         0          1       32.096355  herbivore          2   \n",
       "598     41.114135         0          0       38.510861   omnivore          2   \n",
       "599     57.546010         8          0       46.890925  carnivore          4   \n",
       "\n",
       "    skin_type  nocturnal  avg_lifespan_years  has_venom social_behavior  \n",
       "0         fur          0          118.957538          0     pair-living  \n",
       "1         fur          0          121.226422          0        solitary  \n",
       "2         fur          0          119.454890          0     pair-living  \n",
       "3         fur          1          121.522981          0        solitary  \n",
       "4      scales          0          120.060929          0    group-living  \n",
       "..        ...        ...                 ...        ...             ...  \n",
       "595    scales          0          120.394072          0    group-living  \n",
       "596       fur          1          120.294341          0        solitary  \n",
       "597       fur          0          121.665309          1     pair-living  \n",
       "598      skin          0          118.714197          0    group-living  \n",
       "599  feathers          0          120.873772          0     pair-living  \n",
       "\n",
       "[600 rows x 11 columns]"
      ]
     },
     "execution_count": 36,
     "metadata": {},
     "output_type": "execute_result"
    }
   ],
   "source": [
    "# Validar X criado\n",
    "X"
   ]
  },
  {
   "cell_type": "code",
   "execution_count": 37,
   "metadata": {},
   "outputs": [],
   "source": [
    "# Separando variáveis numéricas e categoricas\n",
    "numeric_features = ['body_mass_kg', 'num_legs', 'has_wings', 'tail_length_cm', 'eye_count', 'nocturnal', 'avg_lifespan_years', 'has_venom']\n",
    "categorical_features = ['diet_type', 'skin_type', 'social_behavior']"
   ]
  },
  {
   "cell_type": "code",
   "execution_count": 38,
   "metadata": {},
   "outputs": [],
   "source": [
    "# Aplicar transformações por tipo\n",
    "numeric_transformer = StandardScaler()\n",
    "categorical_transformer = OneHotEncoder()"
   ]
  },
  {
   "cell_type": "code",
   "execution_count": 39,
   "metadata": {},
   "outputs": [],
   "source": [
    "# Criar preprocessador de transformações\n",
    "preprocessor = ColumnTransformer(\n",
    "    transformers=[\n",
    "        ('num', numeric_transformer, numeric_features),\n",
    "        ('cat', categorical_transformer, categorical_features)\n",
    "    ]\n",
    ")"
   ]
  },
  {
   "cell_type": "code",
   "execution_count": 40,
   "metadata": {},
   "outputs": [],
   "source": [
    "# Transformar os dados\n",
    "X_transformed = preprocessor.fit_transform(X)"
   ]
  },
  {
   "cell_type": "code",
   "execution_count": 41,
   "metadata": {},
   "outputs": [
    {
     "data": {
      "text/plain": [
       "array([[ 0.5264221 ,  0.72399302,  1.58391033, ...,  0.        ,\n",
       "         1.        ,  0.        ],\n",
       "       [-0.13221963,  0.72399302,  1.58391033, ...,  0.        ,\n",
       "         0.        ,  1.        ],\n",
       "       [ 0.68302273,  1.43032767,  1.58391033, ...,  0.        ,\n",
       "         1.        ,  0.        ],\n",
       "       ...,\n",
       "       [-1.00404132, -1.39501093,  1.58391033, ...,  0.        ,\n",
       "         1.        ,  0.        ],\n",
       "       [-0.44965315, -1.39501093, -0.63134887, ...,  1.        ,\n",
       "         0.        ,  0.        ],\n",
       "       [ 0.40255834,  1.43032767, -0.63134887, ...,  0.        ,\n",
       "         1.        ,  0.        ]])"
      ]
     },
     "execution_count": 41,
     "metadata": {},
     "output_type": "execute_result"
    }
   ],
   "source": [
    "# Verificar X_transformed\n",
    "X_transformed"
   ]
  },
  {
   "cell_type": "code",
   "execution_count": 45,
   "metadata": {},
   "outputs": [],
   "source": [
    "# Função para otimização do modelo - AGLOMERATIVO\n",
    "\n",
    "def hierachical_aglorerative_objective(trial):\n",
    "    # Definindos os hiperparâmetros a serem ajustados\n",
    "    n_clusters = trial.suggest_int('n_clusters', 10, 150)\n",
    "\n",
    "    # Linkage = Critério de distância entre dois conjuntos para formar os clusters\n",
    "    # Ward = Variância\n",
    "    # Average = Média\n",
    "    # Complete = Máxima\n",
    "    # Single = Miníma\n",
    "    linkage = trial.suggest_categorical('linkage', ['ward', 'average', 'complete', 'single'])\n",
    "\n",
    "    # Instanciar o modelo\n",
    "    hierachica_model = AgglomerativeClustering(linkage=linkage, n_clusters=n_clusters)\n",
    "\n",
    "    # Treinar o modelo e já executar a clusterização \n",
    "    y = hierachica_model.fit_predict(X_transformed)\n",
    "\n",
    "    # Calcular o Silhoutte Score - Varia de -1 (ruim) a 1 (bom). Quanto maior, melhor a separação entre os clusters.\n",
    "    silhouette_avg = silhouette_score(X_transformed, y)\n",
    "\n",
    "    return silhouette_avg"
   ]
  },
  {
   "cell_type": "code",
   "execution_count": 46,
   "metadata": {},
   "outputs": [
    {
     "name": "stderr",
     "output_type": "stream",
     "text": [
      "[I 2025-07-23 23:43:03,055] A new study created in memory with name: no-name-8fdc6c22-bbba-47d7-ab57-e4a9b53212f7\n"
     ]
    }
   ],
   "source": [
    "# Criar estudo no Optuna (Aglomerative)\n",
    "search_space_ag = {'n_clusters': range(10, 151), 'linkage': ['ward', 'average', 'complete', 'single']}\n",
    "sampler_ag = optuna.samplers.GridSampler(search_space=search_space_ag)\n",
    "estudo_ag = optuna.create_study(direction='maximize', sampler=sampler_ag)"
   ]
  },
  {
   "cell_type": "code",
   "execution_count": 47,
   "metadata": {},
   "outputs": [
    {
     "name": "stderr",
     "output_type": "stream",
     "text": [
      "[I 2025-07-23 23:43:04,907] Trial 0 finished with value: 0.08920742549638573 and parameters: {'n_clusters': 108, 'linkage': 'average'}. Best is trial 0 with value: 0.08920742549638573.\n",
      "[I 2025-07-23 23:43:04,926] Trial 1 finished with value: 0.06952264766223992 and parameters: {'n_clusters': 44, 'linkage': 'complete'}. Best is trial 0 with value: 0.08920742549638573.\n",
      "[I 2025-07-23 23:43:04,951] Trial 2 finished with value: 0.07090101644156098 and parameters: {'n_clusters': 57, 'linkage': 'average'}. Best is trial 0 with value: 0.08920742549638573.\n",
      "[I 2025-07-23 23:43:04,973] Trial 3 finished with value: 0.06751505762324567 and parameters: {'n_clusters': 46, 'linkage': 'complete'}. Best is trial 0 with value: 0.08920742549638573.\n",
      "[I 2025-07-23 23:43:05,000] Trial 4 finished with value: 0.11399187022420045 and parameters: {'n_clusters': 140, 'linkage': 'complete'}. Best is trial 4 with value: 0.11399187022420045.\n",
      "[I 2025-07-23 23:43:05,024] Trial 5 finished with value: 0.0990955747361001 and parameters: {'n_clusters': 150, 'linkage': 'average'}. Best is trial 4 with value: 0.11399187022420045.\n",
      "[I 2025-07-23 23:43:05,049] Trial 6 finished with value: 0.11365035349814018 and parameters: {'n_clusters': 145, 'linkage': 'complete'}. Best is trial 4 with value: 0.11399187022420045.\n",
      "[I 2025-07-23 23:43:05,076] Trial 7 finished with value: 0.09626353167471194 and parameters: {'n_clusters': 112, 'linkage': 'complete'}. Best is trial 4 with value: 0.11399187022420045.\n",
      "[I 2025-07-23 23:43:05,109] Trial 8 finished with value: -0.1760176513817061 and parameters: {'n_clusters': 103, 'linkage': 'single'}. Best is trial 4 with value: 0.11399187022420045.\n",
      "[I 2025-07-23 23:43:05,138] Trial 9 finished with value: 0.09221484044188469 and parameters: {'n_clusters': 111, 'linkage': 'average'}. Best is trial 4 with value: 0.11399187022420045.\n",
      "[I 2025-07-23 23:43:05,164] Trial 10 finished with value: 0.0803223472919918 and parameters: {'n_clusters': 75, 'linkage': 'complete'}. Best is trial 4 with value: 0.11399187022420045.\n",
      "[I 2025-07-23 23:43:05,192] Trial 11 finished with value: 0.0927516692965339 and parameters: {'n_clusters': 114, 'linkage': 'average'}. Best is trial 4 with value: 0.11399187022420045.\n",
      "[I 2025-07-23 23:43:05,217] Trial 12 finished with value: -0.17318610727112732 and parameters: {'n_clusters': 98, 'linkage': 'single'}. Best is trial 4 with value: 0.11399187022420045.\n",
      "[I 2025-07-23 23:43:05,247] Trial 13 finished with value: 0.09487138436025044 and parameters: {'n_clusters': 119, 'linkage': 'average'}. Best is trial 4 with value: 0.11399187022420045.\n",
      "[I 2025-07-23 23:43:05,277] Trial 14 finished with value: 0.08304502237594771 and parameters: {'n_clusters': 73, 'linkage': 'complete'}. Best is trial 4 with value: 0.11399187022420045.\n",
      "[I 2025-07-23 23:43:05,306] Trial 15 finished with value: 0.08005037304437293 and parameters: {'n_clusters': 76, 'linkage': 'complete'}. Best is trial 4 with value: 0.11399187022420045.\n",
      "[I 2025-07-23 23:43:05,335] Trial 16 finished with value: 0.11200301901968722 and parameters: {'n_clusters': 138, 'linkage': 'complete'}. Best is trial 4 with value: 0.11399187022420045.\n",
      "[I 2025-07-23 23:43:05,367] Trial 17 finished with value: 0.10200216640894681 and parameters: {'n_clusters': 120, 'linkage': 'complete'}. Best is trial 4 with value: 0.11399187022420045.\n",
      "[I 2025-07-23 23:43:05,399] Trial 18 finished with value: 0.0875315494911424 and parameters: {'n_clusters': 100, 'linkage': 'average'}. Best is trial 4 with value: 0.11399187022420045.\n",
      "[I 2025-07-23 23:43:05,434] Trial 19 finished with value: 0.050315799545952784 and parameters: {'n_clusters': 24, 'linkage': 'average'}. Best is trial 4 with value: 0.11399187022420045.\n",
      "[I 2025-07-23 23:43:05,486] Trial 20 finished with value: -0.12884078099103818 and parameters: {'n_clusters': 43, 'linkage': 'single'}. Best is trial 4 with value: 0.11399187022420045.\n",
      "[I 2025-07-23 23:43:05,544] Trial 21 finished with value: 0.09272617607054601 and parameters: {'n_clusters': 41, 'linkage': 'ward'}. Best is trial 4 with value: 0.11399187022420045.\n",
      "[I 2025-07-23 23:43:05,589] Trial 22 finished with value: 0.10655439354161586 and parameters: {'n_clusters': 85, 'linkage': 'ward'}. Best is trial 4 with value: 0.11399187022420045.\n",
      "[I 2025-07-23 23:43:05,640] Trial 23 finished with value: 0.11958865187799167 and parameters: {'n_clusters': 117, 'linkage': 'ward'}. Best is trial 23 with value: 0.11958865187799167.\n",
      "[I 2025-07-23 23:43:05,682] Trial 24 finished with value: 0.08604513494454769 and parameters: {'n_clusters': 88, 'linkage': 'average'}. Best is trial 23 with value: 0.11958865187799167.\n",
      "[I 2025-07-23 23:43:05,718] Trial 25 finished with value: 0.09613093860502407 and parameters: {'n_clusters': 47, 'linkage': 'ward'}. Best is trial 23 with value: 0.11958865187799167.\n",
      "[I 2025-07-23 23:43:05,753] Trial 26 finished with value: 0.0334606478807099 and parameters: {'n_clusters': 12, 'linkage': 'single'}. Best is trial 23 with value: 0.11958865187799167.\n",
      "[I 2025-07-23 23:43:05,790] Trial 27 finished with value: -0.17424876868732644 and parameters: {'n_clusters': 99, 'linkage': 'single'}. Best is trial 23 with value: 0.11958865187799167.\n",
      "[I 2025-07-23 23:43:05,826] Trial 28 finished with value: 0.07050178796764982 and parameters: {'n_clusters': 40, 'linkage': 'complete'}. Best is trial 23 with value: 0.11958865187799167.\n",
      "[I 2025-07-23 23:43:05,867] Trial 29 finished with value: 0.10872014097532037 and parameters: {'n_clusters': 88, 'linkage': 'ward'}. Best is trial 23 with value: 0.11958865187799167.\n",
      "[I 2025-07-23 23:43:05,904] Trial 30 finished with value: 0.07127283030030662 and parameters: {'n_clusters': 65, 'linkage': 'average'}. Best is trial 23 with value: 0.11958865187799167.\n",
      "[I 2025-07-23 23:43:05,943] Trial 31 finished with value: 0.07942679264529871 and parameters: {'n_clusters': 78, 'linkage': 'complete'}. Best is trial 23 with value: 0.11958865187799167.\n",
      "[I 2025-07-23 23:43:05,984] Trial 32 finished with value: 0.07671617806453464 and parameters: {'n_clusters': 20, 'linkage': 'ward'}. Best is trial 23 with value: 0.11958865187799167.\n",
      "[I 2025-07-23 23:43:06,025] Trial 33 finished with value: -0.1776009011958354 and parameters: {'n_clusters': 129, 'linkage': 'single'}. Best is trial 23 with value: 0.11958865187799167.\n",
      "[I 2025-07-23 23:43:06,067] Trial 34 finished with value: 0.11309800805073185 and parameters: {'n_clusters': 144, 'linkage': 'complete'}. Best is trial 23 with value: 0.11958865187799167.\n",
      "[I 2025-07-23 23:43:06,109] Trial 35 finished with value: 0.11950282458049746 and parameters: {'n_clusters': 112, 'linkage': 'ward'}. Best is trial 23 with value: 0.11958865187799167.\n",
      "[I 2025-07-23 23:43:06,153] Trial 36 finished with value: 0.11954693700553719 and parameters: {'n_clusters': 113, 'linkage': 'ward'}. Best is trial 23 with value: 0.11958865187799167.\n",
      "[I 2025-07-23 23:43:06,199] Trial 37 finished with value: 0.10701013391623143 and parameters: {'n_clusters': 131, 'linkage': 'complete'}. Best is trial 23 with value: 0.11958865187799167.\n",
      "[I 2025-07-23 23:43:06,244] Trial 38 finished with value: 0.11150035373265851 and parameters: {'n_clusters': 137, 'linkage': 'complete'}. Best is trial 23 with value: 0.11958865187799167.\n",
      "[I 2025-07-23 23:43:06,286] Trial 39 finished with value: -0.12010472865954061 and parameters: {'n_clusters': 40, 'linkage': 'single'}. Best is trial 23 with value: 0.11958865187799167.\n",
      "[I 2025-07-23 23:43:06,335] Trial 40 finished with value: 0.11469322713009106 and parameters: {'n_clusters': 99, 'linkage': 'ward'}. Best is trial 23 with value: 0.11958865187799167.\n",
      "[I 2025-07-23 23:43:06,383] Trial 41 finished with value: 0.1119581962037191 and parameters: {'n_clusters': 136, 'linkage': 'complete'}. Best is trial 23 with value: 0.11958865187799167.\n",
      "[I 2025-07-23 23:43:06,424] Trial 42 finished with value: -0.1814049281453585 and parameters: {'n_clusters': 80, 'linkage': 'single'}. Best is trial 23 with value: 0.11958865187799167.\n",
      "[I 2025-07-23 23:43:06,469] Trial 43 finished with value: 0.06951508447953654 and parameters: {'n_clusters': 43, 'linkage': 'complete'}. Best is trial 23 with value: 0.11958865187799167.\n",
      "[I 2025-07-23 23:43:06,515] Trial 44 finished with value: 0.07463061715780107 and parameters: {'n_clusters': 75, 'linkage': 'average'}. Best is trial 23 with value: 0.11958865187799167.\n",
      "[I 2025-07-23 23:43:06,557] Trial 45 finished with value: -0.1446457944902942 and parameters: {'n_clusters': 51, 'linkage': 'single'}. Best is trial 23 with value: 0.11958865187799167.\n",
      "[I 2025-07-23 23:43:06,607] Trial 46 finished with value: 0.04794245338930521 and parameters: {'n_clusters': 28, 'linkage': 'average'}. Best is trial 23 with value: 0.11958865187799167.\n",
      "[I 2025-07-23 23:43:06,654] Trial 47 finished with value: 0.07183401182548034 and parameters: {'n_clusters': 59, 'linkage': 'average'}. Best is trial 23 with value: 0.11958865187799167.\n",
      "[I 2025-07-23 23:43:06,702] Trial 48 finished with value: 0.08670183522532403 and parameters: {'n_clusters': 92, 'linkage': 'complete'}. Best is trial 23 with value: 0.11958865187799167.\n",
      "[I 2025-07-23 23:43:06,750] Trial 49 finished with value: 0.05445688700827407 and parameters: {'n_clusters': 31, 'linkage': 'average'}. Best is trial 23 with value: 0.11958865187799167.\n",
      "[I 2025-07-23 23:43:06,795] Trial 50 finished with value: -0.17846581189715502 and parameters: {'n_clusters': 123, 'linkage': 'single'}. Best is trial 23 with value: 0.11958865187799167.\n",
      "[I 2025-07-23 23:43:06,843] Trial 51 finished with value: -0.13169758643066043 and parameters: {'n_clusters': 49, 'linkage': 'single'}. Best is trial 23 with value: 0.11958865187799167.\n",
      "[I 2025-07-23 23:43:06,892] Trial 52 finished with value: 0.1203441000216541 and parameters: {'n_clusters': 118, 'linkage': 'ward'}. Best is trial 52 with value: 0.1203441000216541.\n",
      "[I 2025-07-23 23:43:06,943] Trial 53 finished with value: 0.08028951378426949 and parameters: {'n_clusters': 25, 'linkage': 'ward'}. Best is trial 52 with value: 0.1203441000216541.\n",
      "[I 2025-07-23 23:43:07,000] Trial 54 finished with value: 0.09554954570949574 and parameters: {'n_clusters': 115, 'linkage': 'average'}. Best is trial 52 with value: 0.1203441000216541.\n",
      "[I 2025-07-23 23:43:07,053] Trial 55 finished with value: 0.059465152180445034 and parameters: {'n_clusters': 29, 'linkage': 'complete'}. Best is trial 52 with value: 0.1203441000216541.\n",
      "[I 2025-07-23 23:43:07,105] Trial 56 finished with value: 0.05420528042792718 and parameters: {'n_clusters': 21, 'linkage': 'complete'}. Best is trial 52 with value: 0.1203441000216541.\n",
      "[I 2025-07-23 23:43:07,159] Trial 57 finished with value: 0.13129813063305099 and parameters: {'n_clusters': 150, 'linkage': 'ward'}. Best is trial 57 with value: 0.13129813063305099.\n",
      "[I 2025-07-23 23:43:07,212] Trial 58 finished with value: 0.08311123244251752 and parameters: {'n_clusters': 27, 'linkage': 'ward'}. Best is trial 57 with value: 0.13129813063305099.\n",
      "[I 2025-07-23 23:43:07,266] Trial 59 finished with value: 0.11169784692405611 and parameters: {'n_clusters': 135, 'linkage': 'complete'}. Best is trial 57 with value: 0.13129813063305099.\n",
      "[I 2025-07-23 23:43:07,330] Trial 60 finished with value: 0.08369326831836449 and parameters: {'n_clusters': 86, 'linkage': 'complete'}. Best is trial 57 with value: 0.13129813063305099.\n",
      "[I 2025-07-23 23:43:07,386] Trial 61 finished with value: 0.10519309652838627 and parameters: {'n_clusters': 76, 'linkage': 'ward'}. Best is trial 57 with value: 0.13129813063305099.\n",
      "[I 2025-07-23 23:43:07,440] Trial 62 finished with value: 0.09365387933139178 and parameters: {'n_clusters': 112, 'linkage': 'average'}. Best is trial 57 with value: 0.13129813063305099.\n",
      "[I 2025-07-23 23:43:07,496] Trial 63 finished with value: 0.09897206604241736 and parameters: {'n_clusters': 117, 'linkage': 'complete'}. Best is trial 57 with value: 0.13129813063305099.\n",
      "[I 2025-07-23 23:43:07,554] Trial 64 finished with value: 0.0982375855761375 and parameters: {'n_clusters': 55, 'linkage': 'ward'}. Best is trial 57 with value: 0.13129813063305099.\n",
      "[I 2025-07-23 23:43:07,607] Trial 65 finished with value: -0.11928056340338127 and parameters: {'n_clusters': 36, 'linkage': 'single'}. Best is trial 57 with value: 0.13129813063305099.\n",
      "[I 2025-07-23 23:43:07,661] Trial 66 finished with value: -0.17980335911704626 and parameters: {'n_clusters': 109, 'linkage': 'single'}. Best is trial 57 with value: 0.13129813063305099.\n",
      "[I 2025-07-23 23:43:07,720] Trial 67 finished with value: 0.09392838333482928 and parameters: {'n_clusters': 132, 'linkage': 'average'}. Best is trial 57 with value: 0.13129813063305099.\n",
      "[I 2025-07-23 23:43:07,778] Trial 68 finished with value: 0.09501535469908613 and parameters: {'n_clusters': 116, 'linkage': 'average'}. Best is trial 57 with value: 0.13129813063305099.\n",
      "[I 2025-07-23 23:43:07,871] Trial 69 finished with value: -0.1611524521926612 and parameters: {'n_clusters': 134, 'linkage': 'single'}. Best is trial 57 with value: 0.13129813063305099.\n",
      "[I 2025-07-23 23:43:07,954] Trial 70 finished with value: 0.03735569549616969 and parameters: {'n_clusters': 10, 'linkage': 'complete'}. Best is trial 57 with value: 0.13129813063305099.\n",
      "[I 2025-07-23 23:43:08,016] Trial 71 finished with value: 0.06714790991867908 and parameters: {'n_clusters': 48, 'linkage': 'average'}. Best is trial 57 with value: 0.13129813063305099.\n",
      "[I 2025-07-23 23:43:08,079] Trial 72 finished with value: -0.18314184950837722 and parameters: {'n_clusters': 76, 'linkage': 'single'}. Best is trial 57 with value: 0.13129813063305099.\n",
      "[I 2025-07-23 23:43:08,137] Trial 73 finished with value: -0.11810505577374085 and parameters: {'n_clusters': 41, 'linkage': 'single'}. Best is trial 57 with value: 0.13129813063305099.\n",
      "[I 2025-07-23 23:43:08,199] Trial 74 finished with value: 0.09804213021860288 and parameters: {'n_clusters': 56, 'linkage': 'ward'}. Best is trial 57 with value: 0.13129813063305099.\n",
      "[I 2025-07-23 23:43:08,261] Trial 75 finished with value: 0.12403980238082724 and parameters: {'n_clusters': 128, 'linkage': 'ward'}. Best is trial 57 with value: 0.13129813063305099.\n",
      "[I 2025-07-23 23:43:08,326] Trial 76 finished with value: 0.06666720843893166 and parameters: {'n_clusters': 41, 'linkage': 'average'}. Best is trial 57 with value: 0.13129813063305099.\n",
      "[I 2025-07-23 23:43:08,396] Trial 77 finished with value: 0.08429169251445238 and parameters: {'n_clusters': 31, 'linkage': 'ward'}. Best is trial 57 with value: 0.13129813063305099.\n",
      "[I 2025-07-23 23:43:08,472] Trial 78 finished with value: 0.09696725182370365 and parameters: {'n_clusters': 114, 'linkage': 'complete'}. Best is trial 57 with value: 0.13129813063305099.\n",
      "[I 2025-07-23 23:43:08,540] Trial 79 finished with value: -0.1488739002007592 and parameters: {'n_clusters': 149, 'linkage': 'single'}. Best is trial 57 with value: 0.13129813063305099.\n",
      "[I 2025-07-23 23:43:08,603] Trial 80 finished with value: -0.1766182766453794 and parameters: {'n_clusters': 111, 'linkage': 'single'}. Best is trial 57 with value: 0.13129813063305099.\n",
      "[I 2025-07-23 23:43:08,670] Trial 81 finished with value: 0.08886323774043924 and parameters: {'n_clusters': 94, 'linkage': 'average'}. Best is trial 57 with value: 0.13129813063305099.\n",
      "[I 2025-07-23 23:43:08,736] Trial 82 finished with value: 0.12884557396879123 and parameters: {'n_clusters': 144, 'linkage': 'ward'}. Best is trial 57 with value: 0.13129813063305099.\n",
      "[I 2025-07-23 23:43:08,806] Trial 83 finished with value: 0.10556811736843578 and parameters: {'n_clusters': 81, 'linkage': 'ward'}. Best is trial 57 with value: 0.13129813063305099.\n",
      "[I 2025-07-23 23:43:08,876] Trial 84 finished with value: 0.10102936202088306 and parameters: {'n_clusters': 121, 'linkage': 'complete'}. Best is trial 57 with value: 0.13129813063305099.\n",
      "[I 2025-07-23 23:43:08,947] Trial 85 finished with value: 0.11136219716865645 and parameters: {'n_clusters': 95, 'linkage': 'ward'}. Best is trial 57 with value: 0.13129813063305099.\n",
      "[I 2025-07-23 23:43:09,021] Trial 86 finished with value: 0.07444377241052878 and parameters: {'n_clusters': 61, 'linkage': 'complete'}. Best is trial 57 with value: 0.13129813063305099.\n",
      "[I 2025-07-23 23:43:09,093] Trial 87 finished with value: 0.1156025563933478 and parameters: {'n_clusters': 100, 'linkage': 'ward'}. Best is trial 57 with value: 0.13129813063305099.\n",
      "[I 2025-07-23 23:43:09,161] Trial 88 finished with value: -0.17514308235527673 and parameters: {'n_clusters': 102, 'linkage': 'single'}. Best is trial 57 with value: 0.13129813063305099.\n",
      "[I 2025-07-23 23:43:09,229] Trial 89 finished with value: -0.14939566322702283 and parameters: {'n_clusters': 142, 'linkage': 'single'}. Best is trial 57 with value: 0.13129813063305099.\n",
      "[I 2025-07-23 23:43:09,300] Trial 90 finished with value: -0.17333894050102625 and parameters: {'n_clusters': 115, 'linkage': 'single'}. Best is trial 57 with value: 0.13129813063305099.\n",
      "[I 2025-07-23 23:43:09,369] Trial 91 finished with value: 0.09303157540235475 and parameters: {'n_clusters': 104, 'linkage': 'complete'}. Best is trial 57 with value: 0.13129813063305099.\n",
      "[I 2025-07-23 23:43:09,440] Trial 92 finished with value: 0.09993580455830471 and parameters: {'n_clusters': 118, 'linkage': 'complete'}. Best is trial 57 with value: 0.13129813063305099.\n",
      "[I 2025-07-23 23:43:09,516] Trial 93 finished with value: 0.06161462504199894 and parameters: {'n_clusters': 34, 'linkage': 'complete'}. Best is trial 57 with value: 0.13129813063305099.\n",
      "[I 2025-07-23 23:43:09,588] Trial 94 finished with value: 0.07469854212112573 and parameters: {'n_clusters': 58, 'linkage': 'complete'}. Best is trial 57 with value: 0.13129813063305099.\n",
      "[I 2025-07-23 23:43:09,665] Trial 95 finished with value: 0.07351456275045912 and parameters: {'n_clusters': 74, 'linkage': 'average'}. Best is trial 57 with value: 0.13129813063305099.\n",
      "[I 2025-07-23 23:43:09,739] Trial 96 finished with value: 0.11630313704225581 and parameters: {'n_clusters': 106, 'linkage': 'ward'}. Best is trial 57 with value: 0.13129813063305099.\n",
      "[I 2025-07-23 23:43:09,814] Trial 97 finished with value: 0.0941736421027184 and parameters: {'n_clusters': 109, 'linkage': 'complete'}. Best is trial 57 with value: 0.13129813063305099.\n",
      "[I 2025-07-23 23:43:09,889] Trial 98 finished with value: 0.058381442201211275 and parameters: {'n_clusters': 44, 'linkage': 'average'}. Best is trial 57 with value: 0.13129813063305099.\n",
      "[I 2025-07-23 23:43:09,965] Trial 99 finished with value: 0.10657917838765722 and parameters: {'n_clusters': 130, 'linkage': 'complete'}. Best is trial 57 with value: 0.13129813063305099.\n",
      "[I 2025-07-23 23:43:10,045] Trial 100 finished with value: 0.11032282289548717 and parameters: {'n_clusters': 134, 'linkage': 'complete'}. Best is trial 57 with value: 0.13129813063305099.\n",
      "[I 2025-07-23 23:43:10,127] Trial 101 finished with value: 0.08837706818676629 and parameters: {'n_clusters': 109, 'linkage': 'average'}. Best is trial 57 with value: 0.13129813063305099.\n",
      "[I 2025-07-23 23:43:10,210] Trial 102 finished with value: 0.08978242904719898 and parameters: {'n_clusters': 100, 'linkage': 'complete'}. Best is trial 57 with value: 0.13129813063305099.\n",
      "[I 2025-07-23 23:43:10,290] Trial 103 finished with value: -0.17980061632253952 and parameters: {'n_clusters': 90, 'linkage': 'single'}. Best is trial 57 with value: 0.13129813063305099.\n",
      "[I 2025-07-23 23:43:10,372] Trial 104 finished with value: -0.019447010641351115 and parameters: {'n_clusters': 11, 'linkage': 'average'}. Best is trial 57 with value: 0.13129813063305099.\n",
      "[I 2025-07-23 23:43:10,448] Trial 105 finished with value: -0.1786101849321544 and parameters: {'n_clusters': 86, 'linkage': 'single'}. Best is trial 57 with value: 0.13129813063305099.\n",
      "[I 2025-07-23 23:43:10,528] Trial 106 finished with value: -0.17780859629510964 and parameters: {'n_clusters': 128, 'linkage': 'single'}. Best is trial 57 with value: 0.13129813063305099.\n",
      "[I 2025-07-23 23:43:10,616] Trial 107 finished with value: -0.16068483486772675 and parameters: {'n_clusters': 132, 'linkage': 'single'}. Best is trial 57 with value: 0.13129813063305099.\n",
      "[I 2025-07-23 23:43:10,697] Trial 108 finished with value: 0.07503984387526583 and parameters: {'n_clusters': 54, 'linkage': 'average'}. Best is trial 57 with value: 0.13129813063305099.\n",
      "[I 2025-07-23 23:43:10,776] Trial 109 finished with value: -0.17698489950690424 and parameters: {'n_clusters': 70, 'linkage': 'single'}. Best is trial 57 with value: 0.13129813063305099.\n",
      "[I 2025-07-23 23:43:10,858] Trial 110 finished with value: 0.06826762906582598 and parameters: {'n_clusters': 34, 'linkage': 'average'}. Best is trial 57 with value: 0.13129813063305099.\n",
      "[I 2025-07-23 23:43:10,939] Trial 111 finished with value: 0.048447005494177076 and parameters: {'n_clusters': 11, 'linkage': 'complete'}. Best is trial 57 with value: 0.13129813063305099.\n",
      "[I 2025-07-23 23:43:11,021] Trial 112 finished with value: 0.088509018342439 and parameters: {'n_clusters': 93, 'linkage': 'average'}. Best is trial 57 with value: 0.13129813063305099.\n",
      "[I 2025-07-23 23:43:11,103] Trial 113 finished with value: 0.0811655858338508 and parameters: {'n_clusters': 11, 'linkage': 'ward'}. Best is trial 57 with value: 0.13129813063305099.\n",
      "[I 2025-07-23 23:43:11,185] Trial 114 finished with value: 0.07170038521238943 and parameters: {'n_clusters': 55, 'linkage': 'average'}. Best is trial 57 with value: 0.13129813063305099.\n",
      "[I 2025-07-23 23:43:11,268] Trial 115 finished with value: -0.14007246336691187 and parameters: {'n_clusters': 50, 'linkage': 'single'}. Best is trial 57 with value: 0.13129813063305099.\n",
      "[I 2025-07-23 23:43:11,424] Trial 116 finished with value: 0.07613522800400169 and parameters: {'n_clusters': 22, 'linkage': 'ward'}. Best is trial 57 with value: 0.13129813063305099.\n",
      "[I 2025-07-23 23:43:11,507] Trial 117 finished with value: -0.17927063618813105 and parameters: {'n_clusters': 68, 'linkage': 'single'}. Best is trial 57 with value: 0.13129813063305099.\n",
      "[I 2025-07-23 23:43:11,590] Trial 118 finished with value: -0.17529831482025632 and parameters: {'n_clusters': 96, 'linkage': 'single'}. Best is trial 57 with value: 0.13129813063305099.\n",
      "[I 2025-07-23 23:43:11,678] Trial 119 finished with value: 0.08282531999076587 and parameters: {'n_clusters': 72, 'linkage': 'complete'}. Best is trial 57 with value: 0.13129813063305099.\n",
      "[I 2025-07-23 23:43:11,765] Trial 120 finished with value: -0.17502376819484936 and parameters: {'n_clusters': 95, 'linkage': 'single'}. Best is trial 57 with value: 0.13129813063305099.\n",
      "[I 2025-07-23 23:43:11,851] Trial 121 finished with value: 0.08263854296513701 and parameters: {'n_clusters': 82, 'linkage': 'average'}. Best is trial 57 with value: 0.13129813063305099.\n",
      "[I 2025-07-23 23:43:11,940] Trial 122 finished with value: 0.12322722423895378 and parameters: {'n_clusters': 123, 'linkage': 'ward'}. Best is trial 57 with value: 0.13129813063305099.\n",
      "[I 2025-07-23 23:43:12,031] Trial 123 finished with value: 0.07695737107263703 and parameters: {'n_clusters': 66, 'linkage': 'complete'}. Best is trial 57 with value: 0.13129813063305099.\n",
      "[I 2025-07-23 23:43:12,121] Trial 124 finished with value: 0.10793372292236446 and parameters: {'n_clusters': 86, 'linkage': 'ward'}. Best is trial 57 with value: 0.13129813063305099.\n",
      "[I 2025-07-23 23:43:12,208] Trial 125 finished with value: -0.18293850088893493 and parameters: {'n_clusters': 78, 'linkage': 'single'}. Best is trial 57 with value: 0.13129813063305099.\n",
      "[I 2025-07-23 23:43:12,300] Trial 126 finished with value: 0.07465307075542846 and parameters: {'n_clusters': 60, 'linkage': 'complete'}. Best is trial 57 with value: 0.13129813063305099.\n",
      "[I 2025-07-23 23:43:12,388] Trial 127 finished with value: 0.045748830241667926 and parameters: {'n_clusters': 13, 'linkage': 'complete'}. Best is trial 57 with value: 0.13129813063305099.\n",
      "[I 2025-07-23 23:43:12,477] Trial 128 finished with value: 0.1280913526165009 and parameters: {'n_clusters': 142, 'linkage': 'ward'}. Best is trial 57 with value: 0.13129813063305099.\n",
      "[I 2025-07-23 23:43:12,568] Trial 129 finished with value: -0.15042043883537545 and parameters: {'n_clusters': 147, 'linkage': 'single'}. Best is trial 57 with value: 0.13129813063305099.\n",
      "[I 2025-07-23 23:43:12,659] Trial 130 finished with value: -0.1700055232697918 and parameters: {'n_clusters': 60, 'linkage': 'single'}. Best is trial 57 with value: 0.13129813063305099.\n",
      "[I 2025-07-23 23:43:12,758] Trial 131 finished with value: 0.1022977028286518 and parameters: {'n_clusters': 147, 'linkage': 'average'}. Best is trial 57 with value: 0.13129813063305099.\n",
      "[I 2025-07-23 23:43:12,849] Trial 132 finished with value: 0.04594730855377755 and parameters: {'n_clusters': 12, 'linkage': 'complete'}. Best is trial 57 with value: 0.13129813063305099.\n",
      "[I 2025-07-23 23:43:12,941] Trial 133 finished with value: 0.08821211276202462 and parameters: {'n_clusters': 95, 'linkage': 'complete'}. Best is trial 57 with value: 0.13129813063305099.\n",
      "[I 2025-07-23 23:43:13,038] Trial 134 finished with value: 0.12239253140491968 and parameters: {'n_clusters': 122, 'linkage': 'ward'}. Best is trial 57 with value: 0.13129813063305099.\n",
      "[I 2025-07-23 23:43:13,133] Trial 135 finished with value: -0.1507907963640332 and parameters: {'n_clusters': 148, 'linkage': 'single'}. Best is trial 57 with value: 0.13129813063305099.\n",
      "[I 2025-07-23 23:43:13,225] Trial 136 finished with value: 0.07037240353280871 and parameters: {'n_clusters': 41, 'linkage': 'complete'}. Best is trial 57 with value: 0.13129813063305099.\n",
      "[I 2025-07-23 23:43:13,324] Trial 137 finished with value: 0.05157250989394419 and parameters: {'n_clusters': 26, 'linkage': 'average'}. Best is trial 57 with value: 0.13129813063305099.\n",
      "[I 2025-07-23 23:43:13,419] Trial 138 finished with value: 0.10382189119865565 and parameters: {'n_clusters': 75, 'linkage': 'ward'}. Best is trial 57 with value: 0.13129813063305099.\n",
      "[I 2025-07-23 23:43:13,515] Trial 139 finished with value: 0.020529027084368975 and parameters: {'n_clusters': 15, 'linkage': 'single'}. Best is trial 57 with value: 0.13129813063305099.\n",
      "[I 2025-07-23 23:43:13,610] Trial 140 finished with value: 0.12759403350552095 and parameters: {'n_clusters': 136, 'linkage': 'ward'}. Best is trial 57 with value: 0.13129813063305099.\n",
      "[I 2025-07-23 23:43:13,707] Trial 141 finished with value: 0.11235400040217006 and parameters: {'n_clusters': 148, 'linkage': 'complete'}. Best is trial 57 with value: 0.13129813063305099.\n",
      "[I 2025-07-23 23:43:13,803] Trial 142 finished with value: 0.06908050210928808 and parameters: {'n_clusters': 39, 'linkage': 'complete'}. Best is trial 57 with value: 0.13129813063305099.\n",
      "[I 2025-07-23 23:43:13,983] Trial 143 finished with value: 0.09490202012257293 and parameters: {'n_clusters': 118, 'linkage': 'average'}. Best is trial 57 with value: 0.13129813063305099.\n",
      "[I 2025-07-23 23:43:14,084] Trial 144 finished with value: 0.08619964446813544 and parameters: {'n_clusters': 99, 'linkage': 'average'}. Best is trial 57 with value: 0.13129813063305099.\n",
      "[I 2025-07-23 23:43:14,184] Trial 145 finished with value: -0.014970246950731585 and parameters: {'n_clusters': 19, 'linkage': 'single'}. Best is trial 57 with value: 0.13129813063305099.\n",
      "[I 2025-07-23 23:43:14,285] Trial 146 finished with value: 0.12954353509106414 and parameters: {'n_clusters': 147, 'linkage': 'ward'}. Best is trial 57 with value: 0.13129813063305099.\n",
      "[I 2025-07-23 23:43:14,384] Trial 147 finished with value: 0.09557476835019345 and parameters: {'n_clusters': 141, 'linkage': 'average'}. Best is trial 57 with value: 0.13129813063305099.\n",
      "[I 2025-07-23 23:43:14,485] Trial 148 finished with value: 0.07824979520957522 and parameters: {'n_clusters': 17, 'linkage': 'ward'}. Best is trial 57 with value: 0.13129813063305099.\n",
      "[I 2025-07-23 23:43:14,588] Trial 149 finished with value: 0.10440313770460558 and parameters: {'n_clusters': 128, 'linkage': 'complete'}. Best is trial 57 with value: 0.13129813063305099.\n",
      "[I 2025-07-23 23:43:14,688] Trial 150 finished with value: -0.17771960576327278 and parameters: {'n_clusters': 107, 'linkage': 'single'}. Best is trial 57 with value: 0.13129813063305099.\n",
      "[I 2025-07-23 23:43:14,790] Trial 151 finished with value: 0.07236665944272445 and parameters: {'n_clusters': 63, 'linkage': 'average'}. Best is trial 57 with value: 0.13129813063305099.\n",
      "[I 2025-07-23 23:43:14,891] Trial 152 finished with value: -0.16311328931377514 and parameters: {'n_clusters': 135, 'linkage': 'single'}. Best is trial 57 with value: 0.13129813063305099.\n",
      "[I 2025-07-23 23:43:14,997] Trial 153 finished with value: -0.1812376643150822 and parameters: {'n_clusters': 84, 'linkage': 'single'}. Best is trial 57 with value: 0.13129813063305099.\n",
      "[I 2025-07-23 23:43:15,103] Trial 154 finished with value: -0.1767437711790757 and parameters: {'n_clusters': 71, 'linkage': 'single'}. Best is trial 57 with value: 0.13129813063305099.\n",
      "[I 2025-07-23 23:43:15,208] Trial 155 finished with value: 0.1188737374907193 and parameters: {'n_clusters': 111, 'linkage': 'ward'}. Best is trial 57 with value: 0.13129813063305099.\n",
      "[I 2025-07-23 23:43:15,315] Trial 156 finished with value: 0.117342475919012 and parameters: {'n_clusters': 107, 'linkage': 'ward'}. Best is trial 57 with value: 0.13129813063305099.\n",
      "[I 2025-07-23 23:43:15,423] Trial 157 finished with value: 0.08902992443140584 and parameters: {'n_clusters': 105, 'linkage': 'average'}. Best is trial 57 with value: 0.13129813063305099.\n",
      "[I 2025-07-23 23:43:15,530] Trial 158 finished with value: 0.037042483296920566 and parameters: {'n_clusters': 22, 'linkage': 'average'}. Best is trial 57 with value: 0.13129813063305099.\n",
      "[I 2025-07-23 23:43:15,637] Trial 159 finished with value: 0.09775083540064496 and parameters: {'n_clusters': 64, 'linkage': 'ward'}. Best is trial 57 with value: 0.13129813063305099.\n",
      "[I 2025-07-23 23:43:15,746] Trial 160 finished with value: 0.09080555697952854 and parameters: {'n_clusters': 40, 'linkage': 'ward'}. Best is trial 57 with value: 0.13129813063305099.\n",
      "[I 2025-07-23 23:43:15,855] Trial 161 finished with value: 0.06874009121926118 and parameters: {'n_clusters': 38, 'linkage': 'complete'}. Best is trial 57 with value: 0.13129813063305099.\n",
      "[I 2025-07-23 23:43:15,966] Trial 162 finished with value: 0.09962012401201036 and parameters: {'n_clusters': 59, 'linkage': 'ward'}. Best is trial 57 with value: 0.13129813063305099.\n",
      "[I 2025-07-23 23:43:16,081] Trial 163 finished with value: 0.1189745769347024 and parameters: {'n_clusters': 110, 'linkage': 'ward'}. Best is trial 57 with value: 0.13129813063305099.\n",
      "[I 2025-07-23 23:43:16,195] Trial 164 finished with value: 0.09313074317364167 and parameters: {'n_clusters': 106, 'linkage': 'complete'}. Best is trial 57 with value: 0.13129813063305099.\n",
      "[I 2025-07-23 23:43:16,306] Trial 165 finished with value: -0.17444349625063327 and parameters: {'n_clusters': 100, 'linkage': 'single'}. Best is trial 57 with value: 0.13129813063305099.\n",
      "[I 2025-07-23 23:43:16,418] Trial 166 finished with value: 0.07834480716168839 and parameters: {'n_clusters': 67, 'linkage': 'complete'}. Best is trial 57 with value: 0.13129813063305099.\n",
      "[I 2025-07-23 23:43:16,532] Trial 167 finished with value: 0.07389176903410231 and parameters: {'n_clusters': 57, 'linkage': 'complete'}. Best is trial 57 with value: 0.13129813063305099.\n",
      "[I 2025-07-23 23:43:16,646] Trial 168 finished with value: 0.10007014697111778 and parameters: {'n_clusters': 66, 'linkage': 'ward'}. Best is trial 57 with value: 0.13129813063305099.\n",
      "[I 2025-07-23 23:43:16,760] Trial 169 finished with value: -0.014868791959174113 and parameters: {'n_clusters': 13, 'linkage': 'average'}. Best is trial 57 with value: 0.13129813063305099.\n",
      "[I 2025-07-23 23:43:16,873] Trial 170 finished with value: 0.10193815870926329 and parameters: {'n_clusters': 70, 'linkage': 'ward'}. Best is trial 57 with value: 0.13129813063305099.\n",
      "[I 2025-07-23 23:43:16,987] Trial 171 finished with value: 0.07641192629076245 and parameters: {'n_clusters': 16, 'linkage': 'ward'}. Best is trial 57 with value: 0.13129813063305099.\n",
      "[I 2025-07-23 23:43:17,102] Trial 172 finished with value: 0.07415753614180667 and parameters: {'n_clusters': 18, 'linkage': 'ward'}. Best is trial 57 with value: 0.13129813063305099.\n",
      "[I 2025-07-23 23:43:17,220] Trial 173 finished with value: 0.09192145907768788 and parameters: {'n_clusters': 103, 'linkage': 'complete'}. Best is trial 57 with value: 0.13129813063305099.\n",
      "[I 2025-07-23 23:43:17,339] Trial 174 finished with value: 0.08742622814006488 and parameters: {'n_clusters': 102, 'linkage': 'average'}. Best is trial 57 with value: 0.13129813063305099.\n",
      "[I 2025-07-23 23:43:17,457] Trial 175 finished with value: 0.08663147405471093 and parameters: {'n_clusters': 98, 'linkage': 'average'}. Best is trial 57 with value: 0.13129813063305099.\n",
      "[I 2025-07-23 23:43:17,574] Trial 176 finished with value: 0.08095006257935543 and parameters: {'n_clusters': 74, 'linkage': 'complete'}. Best is trial 57 with value: 0.13129813063305099.\n",
      "[I 2025-07-23 23:43:17,690] Trial 177 finished with value: 0.08728241441716876 and parameters: {'n_clusters': 93, 'linkage': 'complete'}. Best is trial 57 with value: 0.13129813063305099.\n",
      "[I 2025-07-23 23:43:17,809] Trial 178 finished with value: 0.07768787342397701 and parameters: {'n_clusters': 68, 'linkage': 'complete'}. Best is trial 57 with value: 0.13129813063305099.\n",
      "[I 2025-07-23 23:43:17,927] Trial 179 finished with value: 0.09469300529880656 and parameters: {'n_clusters': 48, 'linkage': 'ward'}. Best is trial 57 with value: 0.13129813063305099.\n",
      "[I 2025-07-23 23:43:18,053] Trial 180 finished with value: 0.09443616239552284 and parameters: {'n_clusters': 131, 'linkage': 'average'}. Best is trial 57 with value: 0.13129813063305099.\n",
      "[I 2025-07-23 23:43:18,224] Trial 181 finished with value: 0.09475330116745372 and parameters: {'n_clusters': 110, 'linkage': 'complete'}. Best is trial 57 with value: 0.13129813063305099.\n",
      "[I 2025-07-23 23:43:18,351] Trial 182 finished with value: 0.09284345476104931 and parameters: {'n_clusters': 121, 'linkage': 'average'}. Best is trial 57 with value: 0.13129813063305099.\n",
      "[I 2025-07-23 23:43:18,469] Trial 183 finished with value: 0.07280595209000428 and parameters: {'n_clusters': 53, 'linkage': 'complete'}. Best is trial 57 with value: 0.13129813063305099.\n",
      "[I 2025-07-23 23:43:18,590] Trial 184 finished with value: 0.09406139051436548 and parameters: {'n_clusters': 137, 'linkage': 'average'}. Best is trial 57 with value: 0.13129813063305099.\n",
      "[I 2025-07-23 23:43:18,715] Trial 185 finished with value: 0.08105320027967335 and parameters: {'n_clusters': 80, 'linkage': 'average'}. Best is trial 57 with value: 0.13129813063305099.\n",
      "[I 2025-07-23 23:43:18,838] Trial 186 finished with value: 0.07529552135493281 and parameters: {'n_clusters': 71, 'linkage': 'average'}. Best is trial 57 with value: 0.13129813063305099.\n",
      "[I 2025-07-23 23:43:18,959] Trial 187 finished with value: -0.1831379954385807 and parameters: {'n_clusters': 77, 'linkage': 'single'}. Best is trial 57 with value: 0.13129813063305099.\n",
      "[I 2025-07-23 23:43:19,140] Trial 188 finished with value: 0.12683359058338145 and parameters: {'n_clusters': 134, 'linkage': 'ward'}. Best is trial 57 with value: 0.13129813063305099.\n",
      "[I 2025-07-23 23:43:19,269] Trial 189 finished with value: 0.03803801007018856 and parameters: {'n_clusters': 23, 'linkage': 'average'}. Best is trial 57 with value: 0.13129813063305099.\n",
      "[I 2025-07-23 23:43:19,395] Trial 190 finished with value: 0.06704444162889037 and parameters: {'n_clusters': 36, 'linkage': 'complete'}. Best is trial 57 with value: 0.13129813063305099.\n",
      "[I 2025-07-23 23:43:19,520] Trial 191 finished with value: 0.100845894508548 and parameters: {'n_clusters': 69, 'linkage': 'ward'}. Best is trial 57 with value: 0.13129813063305099.\n",
      "[I 2025-07-23 23:43:19,644] Trial 192 finished with value: -0.14882647044386307 and parameters: {'n_clusters': 53, 'linkage': 'single'}. Best is trial 57 with value: 0.13129813063305099.\n",
      "[I 2025-07-23 23:43:19,769] Trial 193 finished with value: -0.18189397038874436 and parameters: {'n_clusters': 81, 'linkage': 'single'}. Best is trial 57 with value: 0.13129813063305099.\n",
      "[I 2025-07-23 23:43:19,893] Trial 194 finished with value: -0.17572385708521945 and parameters: {'n_clusters': 118, 'linkage': 'single'}. Best is trial 57 with value: 0.13129813063305099.\n",
      "[I 2025-07-23 23:43:20,018] Trial 195 finished with value: -0.15160439188608887 and parameters: {'n_clusters': 145, 'linkage': 'single'}. Best is trial 57 with value: 0.13129813063305099.\n",
      "[I 2025-07-23 23:43:20,143] Trial 196 finished with value: -0.09955863697817498 and parameters: {'n_clusters': 31, 'linkage': 'single'}. Best is trial 57 with value: 0.13129813063305099.\n",
      "[I 2025-07-23 23:43:20,271] Trial 197 finished with value: 0.1135503613956304 and parameters: {'n_clusters': 142, 'linkage': 'complete'}. Best is trial 57 with value: 0.13129813063305099.\n",
      "[I 2025-07-23 23:43:20,399] Trial 198 finished with value: 0.08115107055650933 and parameters: {'n_clusters': 81, 'linkage': 'complete'}. Best is trial 57 with value: 0.13129813063305099.\n",
      "[I 2025-07-23 23:43:20,537] Trial 199 finished with value: 0.07678116566776846 and parameters: {'n_clusters': 77, 'linkage': 'average'}. Best is trial 57 with value: 0.13129813063305099.\n",
      "[I 2025-07-23 23:43:20,668] Trial 200 finished with value: 0.09870236686988831 and parameters: {'n_clusters': 65, 'linkage': 'ward'}. Best is trial 57 with value: 0.13129813063305099.\n",
      "[I 2025-07-23 23:43:20,798] Trial 201 finished with value: 0.06703913101453234 and parameters: {'n_clusters': 40, 'linkage': 'average'}. Best is trial 57 with value: 0.13129813063305099.\n",
      "[I 2025-07-23 23:43:20,930] Trial 202 finished with value: -0.14512319378775018 and parameters: {'n_clusters': 52, 'linkage': 'single'}. Best is trial 57 with value: 0.13129813063305099.\n",
      "[I 2025-07-23 23:43:21,063] Trial 203 finished with value: -0.17851687356904086 and parameters: {'n_clusters': 126, 'linkage': 'single'}. Best is trial 57 with value: 0.13129813063305099.\n",
      "[I 2025-07-23 23:43:21,196] Trial 204 finished with value: 0.04883492349840213 and parameters: {'n_clusters': 27, 'linkage': 'average'}. Best is trial 57 with value: 0.13129813063305099.\n",
      "[I 2025-07-23 23:43:21,331] Trial 205 finished with value: 0.08468165997139702 and parameters: {'n_clusters': 104, 'linkage': 'average'}. Best is trial 57 with value: 0.13129813063305099.\n",
      "[I 2025-07-23 23:43:21,465] Trial 206 finished with value: 0.09452738594039206 and parameters: {'n_clusters': 44, 'linkage': 'ward'}. Best is trial 57 with value: 0.13129813063305099.\n",
      "[I 2025-07-23 23:43:21,602] Trial 207 finished with value: -0.17448936418608577 and parameters: {'n_clusters': 114, 'linkage': 'single'}. Best is trial 57 with value: 0.13129813063305099.\n",
      "[I 2025-07-23 23:43:21,734] Trial 208 finished with value: 0.0831582927177686 and parameters: {'n_clusters': 28, 'linkage': 'ward'}. Best is trial 57 with value: 0.13129813063305099.\n",
      "[I 2025-07-23 23:43:21,871] Trial 209 finished with value: 0.0947184654078512 and parameters: {'n_clusters': 140, 'linkage': 'average'}. Best is trial 57 with value: 0.13129813063305099.\n",
      "[I 2025-07-23 23:43:22,014] Trial 210 finished with value: 0.09819654172128267 and parameters: {'n_clusters': 61, 'linkage': 'ward'}. Best is trial 57 with value: 0.13129813063305099.\n",
      "[I 2025-07-23 23:43:22,146] Trial 211 finished with value: -0.177543950411012 and parameters: {'n_clusters': 131, 'linkage': 'single'}. Best is trial 57 with value: 0.13129813063305099.\n",
      "[I 2025-07-23 23:43:22,287] Trial 212 finished with value: 0.0984839975359851 and parameters: {'n_clusters': 62, 'linkage': 'ward'}. Best is trial 57 with value: 0.13129813063305099.\n",
      "[I 2025-07-23 23:43:22,431] Trial 213 finished with value: 0.1058153504907295 and parameters: {'n_clusters': 84, 'linkage': 'ward'}. Best is trial 57 with value: 0.13129813063305099.\n",
      "[I 2025-07-23 23:43:22,585] Trial 214 finished with value: 0.08724550377310795 and parameters: {'n_clusters': 36, 'linkage': 'ward'}. Best is trial 57 with value: 0.13129813063305099.\n",
      "[I 2025-07-23 23:43:22,735] Trial 215 finished with value: 0.06337384866542446 and parameters: {'n_clusters': 42, 'linkage': 'average'}. Best is trial 57 with value: 0.13129813063305099.\n",
      "[I 2025-07-23 23:43:22,883] Trial 216 finished with value: 0.11614830469472295 and parameters: {'n_clusters': 102, 'linkage': 'ward'}. Best is trial 57 with value: 0.13129813063305099.\n",
      "[I 2025-07-23 23:43:23,028] Trial 217 finished with value: 0.06961513902870588 and parameters: {'n_clusters': 36, 'linkage': 'average'}. Best is trial 57 with value: 0.13129813063305099.\n",
      "[I 2025-07-23 23:43:23,167] Trial 218 finished with value: 0.08010276198289559 and parameters: {'n_clusters': 14, 'linkage': 'ward'}. Best is trial 57 with value: 0.13129813063305099.\n",
      "[I 2025-07-23 23:43:23,311] Trial 219 finished with value: 0.1062922113574518 and parameters: {'n_clusters': 129, 'linkage': 'complete'}. Best is trial 57 with value: 0.13129813063305099.\n",
      "[I 2025-07-23 23:43:23,456] Trial 220 finished with value: 0.07247422069383058 and parameters: {'n_clusters': 50, 'linkage': 'average'}. Best is trial 57 with value: 0.13129813063305099.\n",
      "[I 2025-07-23 23:43:23,623] Trial 221 finished with value: -0.128822039999713 and parameters: {'n_clusters': 44, 'linkage': 'single'}. Best is trial 57 with value: 0.13129813063305099.\n",
      "[I 2025-07-23 23:43:23,786] Trial 222 finished with value: 0.026851303378729673 and parameters: {'n_clusters': 14, 'linkage': 'single'}. Best is trial 57 with value: 0.13129813063305099.\n",
      "[I 2025-07-23 23:43:24,009] Trial 223 finished with value: 0.09379696510050393 and parameters: {'n_clusters': 130, 'linkage': 'average'}. Best is trial 57 with value: 0.13129813063305099.\n",
      "[I 2025-07-23 23:43:24,166] Trial 224 finished with value: -0.15932965633092447 and parameters: {'n_clusters': 57, 'linkage': 'single'}. Best is trial 57 with value: 0.13129813063305099.\n",
      "[I 2025-07-23 23:43:24,320] Trial 225 finished with value: 0.07587535988601313 and parameters: {'n_clusters': 15, 'linkage': 'ward'}. Best is trial 57 with value: 0.13129813063305099.\n",
      "[I 2025-07-23 23:43:24,471] Trial 226 finished with value: 0.0004494680819199 and parameters: {'n_clusters': 10, 'linkage': 'average'}. Best is trial 57 with value: 0.13129813063305099.\n",
      "[I 2025-07-23 23:43:24,617] Trial 227 finished with value: -0.1772976563930234 and parameters: {'n_clusters': 110, 'linkage': 'single'}. Best is trial 57 with value: 0.13129813063305099.\n",
      "[I 2025-07-23 23:43:24,766] Trial 228 finished with value: 0.07597526663489705 and parameters: {'n_clusters': 69, 'linkage': 'average'}. Best is trial 57 with value: 0.13129813063305099.\n",
      "[I 2025-07-23 23:43:24,919] Trial 229 finished with value: 0.1286917283212885 and parameters: {'n_clusters': 145, 'linkage': 'ward'}. Best is trial 57 with value: 0.13129813063305099.\n",
      "[I 2025-07-23 23:43:25,069] Trial 230 finished with value: -0.14883920060700986 and parameters: {'n_clusters': 150, 'linkage': 'single'}. Best is trial 57 with value: 0.13129813063305099.\n",
      "[I 2025-07-23 23:43:25,222] Trial 231 finished with value: 0.12557075429657977 and parameters: {'n_clusters': 132, 'linkage': 'ward'}. Best is trial 57 with value: 0.13129813063305099.\n",
      "[I 2025-07-23 23:43:25,370] Trial 232 finished with value: -0.11965107688891725 and parameters: {'n_clusters': 39, 'linkage': 'single'}. Best is trial 57 with value: 0.13129813063305099.\n",
      "[I 2025-07-23 23:43:25,519] Trial 233 finished with value: 0.0846672012230631 and parameters: {'n_clusters': 32, 'linkage': 'ward'}. Best is trial 57 with value: 0.13129813063305099.\n",
      "[I 2025-07-23 23:43:25,672] Trial 234 finished with value: 0.10486463842944017 and parameters: {'n_clusters': 78, 'linkage': 'ward'}. Best is trial 57 with value: 0.13129813063305099.\n",
      "[I 2025-07-23 23:43:25,823] Trial 235 finished with value: 0.07877606621361136 and parameters: {'n_clusters': 79, 'linkage': 'average'}. Best is trial 57 with value: 0.13129813063305099.\n",
      "[I 2025-07-23 23:43:26,170] Trial 236 finished with value: 0.08162353065107855 and parameters: {'n_clusters': 30, 'linkage': 'ward'}. Best is trial 57 with value: 0.13129813063305099.\n",
      "[I 2025-07-23 23:43:26,388] Trial 237 finished with value: 0.05785473292437779 and parameters: {'n_clusters': 26, 'linkage': 'complete'}. Best is trial 57 with value: 0.13129813063305099.\n",
      "[I 2025-07-23 23:43:26,566] Trial 238 finished with value: -0.18021478868113547 and parameters: {'n_clusters': 94, 'linkage': 'single'}. Best is trial 57 with value: 0.13129813063305099.\n",
      "[I 2025-07-23 23:43:26,732] Trial 239 finished with value: 0.07983097147656937 and parameters: {'n_clusters': 24, 'linkage': 'ward'}. Best is trial 57 with value: 0.13129813063305099.\n",
      "[I 2025-07-23 23:43:26,920] Trial 240 finished with value: 0.07004298985416742 and parameters: {'n_clusters': 39, 'linkage': 'average'}. Best is trial 57 with value: 0.13129813063305099.\n",
      "[I 2025-07-23 23:43:27,092] Trial 241 finished with value: 0.07973818928870542 and parameters: {'n_clusters': 79, 'linkage': 'complete'}. Best is trial 57 with value: 0.13129813063305099.\n",
      "[I 2025-07-23 23:43:27,262] Trial 242 finished with value: 0.0568289012971243 and parameters: {'n_clusters': 27, 'linkage': 'complete'}. Best is trial 57 with value: 0.13129813063305099.\n",
      "[I 2025-07-23 23:43:27,423] Trial 243 finished with value: -0.15598151433638013 and parameters: {'n_clusters': 55, 'linkage': 'single'}. Best is trial 57 with value: 0.13129813063305099.\n",
      "[I 2025-07-23 23:43:27,628] Trial 244 finished with value: 0.08408875884728206 and parameters: {'n_clusters': 89, 'linkage': 'average'}. Best is trial 57 with value: 0.13129813063305099.\n",
      "[I 2025-07-23 23:43:27,780] Trial 245 finished with value: -0.17439838585245201 and parameters: {'n_clusters': 101, 'linkage': 'single'}. Best is trial 57 with value: 0.13129813063305099.\n",
      "[I 2025-07-23 23:43:27,936] Trial 246 finished with value: 0.10413985844430743 and parameters: {'n_clusters': 74, 'linkage': 'ward'}. Best is trial 57 with value: 0.13129813063305099.\n",
      "[I 2025-07-23 23:43:28,095] Trial 247 finished with value: -0.17728383711877568 and parameters: {'n_clusters': 122, 'linkage': 'single'}. Best is trial 57 with value: 0.13129813063305099.\n",
      "[I 2025-07-23 23:43:28,254] Trial 248 finished with value: 0.09426045859454182 and parameters: {'n_clusters': 133, 'linkage': 'average'}. Best is trial 57 with value: 0.13129813063305099.\n",
      "[I 2025-07-23 23:43:28,418] Trial 249 finished with value: 0.12493424532841317 and parameters: {'n_clusters': 130, 'linkage': 'ward'}. Best is trial 57 with value: 0.13129813063305099.\n",
      "[I 2025-07-23 23:43:28,581] Trial 250 finished with value: 0.10983641463358242 and parameters: {'n_clusters': 91, 'linkage': 'ward'}. Best is trial 57 with value: 0.13129813063305099.\n",
      "[I 2025-07-23 23:43:28,744] Trial 251 finished with value: -0.09955232963307428 and parameters: {'n_clusters': 32, 'linkage': 'single'}. Best is trial 57 with value: 0.13129813063305099.\n",
      "[I 2025-07-23 23:43:28,904] Trial 252 finished with value: 0.09406863218226594 and parameters: {'n_clusters': 107, 'linkage': 'complete'}. Best is trial 57 with value: 0.13129813063305099.\n",
      "[I 2025-07-23 23:43:29,069] Trial 253 finished with value: 0.08201472310922026 and parameters: {'n_clusters': 70, 'linkage': 'complete'}. Best is trial 57 with value: 0.13129813063305099.\n",
      "[I 2025-07-23 23:43:29,230] Trial 254 finished with value: 0.07147082792151999 and parameters: {'n_clusters': 50, 'linkage': 'complete'}. Best is trial 57 with value: 0.13129813063305099.\n",
      "[I 2025-07-23 23:43:29,399] Trial 255 finished with value: -0.16387728820731529 and parameters: {'n_clusters': 136, 'linkage': 'single'}. Best is trial 57 with value: 0.13129813063305099.\n",
      "[I 2025-07-23 23:43:29,555] Trial 256 finished with value: -0.17819854520034475 and parameters: {'n_clusters': 130, 'linkage': 'single'}. Best is trial 57 with value: 0.13129813063305099.\n",
      "[I 2025-07-23 23:43:29,719] Trial 257 finished with value: 0.05691270209042616 and parameters: {'n_clusters': 29, 'linkage': 'average'}. Best is trial 57 with value: 0.13129813063305099.\n",
      "[I 2025-07-23 23:43:29,875] Trial 258 finished with value: -0.16998170170596727 and parameters: {'n_clusters': 139, 'linkage': 'single'}. Best is trial 57 with value: 0.13129813063305099.\n",
      "[I 2025-07-23 23:43:30,093] Trial 259 finished with value: 0.09071130433539082 and parameters: {'n_clusters': 107, 'linkage': 'average'}. Best is trial 57 with value: 0.13129813063305099.\n",
      "[I 2025-07-23 23:43:30,269] Trial 260 finished with value: 0.10364705938009398 and parameters: {'n_clusters': 145, 'linkage': 'average'}. Best is trial 57 with value: 0.13129813063305099.\n",
      "[I 2025-07-23 23:43:30,472] Trial 261 finished with value: 0.0776695851232409 and parameters: {'n_clusters': 65, 'linkage': 'complete'}. Best is trial 57 with value: 0.13129813063305099.\n",
      "[I 2025-07-23 23:43:30,676] Trial 262 finished with value: 0.07131916575223077 and parameters: {'n_clusters': 64, 'linkage': 'average'}. Best is trial 57 with value: 0.13129813063305099.\n",
      "[I 2025-07-23 23:43:30,862] Trial 263 finished with value: 0.07300844713737999 and parameters: {'n_clusters': 60, 'linkage': 'average'}. Best is trial 57 with value: 0.13129813063305099.\n",
      "[I 2025-07-23 23:43:31,051] Trial 264 finished with value: 0.12403823465759288 and parameters: {'n_clusters': 126, 'linkage': 'ward'}. Best is trial 57 with value: 0.13129813063305099.\n",
      "[I 2025-07-23 23:43:31,232] Trial 265 finished with value: 0.08531323677973016 and parameters: {'n_clusters': 90, 'linkage': 'complete'}. Best is trial 57 with value: 0.13129813063305099.\n",
      "[I 2025-07-23 23:43:31,432] Trial 266 finished with value: -0.12703082136182403 and parameters: {'n_clusters': 45, 'linkage': 'single'}. Best is trial 57 with value: 0.13129813063305099.\n",
      "[I 2025-07-23 23:43:31,621] Trial 267 finished with value: 0.06305271521290488 and parameters: {'n_clusters': 33, 'linkage': 'average'}. Best is trial 57 with value: 0.13129813063305099.\n",
      "[I 2025-07-23 23:43:31,798] Trial 268 finished with value: 0.11922136073136941 and parameters: {'n_clusters': 116, 'linkage': 'ward'}. Best is trial 57 with value: 0.13129813063305099.\n",
      "[I 2025-07-23 23:43:31,967] Trial 269 finished with value: 0.10203473768829724 and parameters: {'n_clusters': 123, 'linkage': 'complete'}. Best is trial 57 with value: 0.13129813063305099.\n",
      "[I 2025-07-23 23:43:32,143] Trial 270 finished with value: 0.104204063534561 and parameters: {'n_clusters': 73, 'linkage': 'ward'}. Best is trial 57 with value: 0.13129813063305099.\n",
      "[I 2025-07-23 23:43:32,312] Trial 271 finished with value: 0.11904320265267174 and parameters: {'n_clusters': 115, 'linkage': 'ward'}. Best is trial 57 with value: 0.13129813063305099.\n",
      "[I 2025-07-23 23:43:32,478] Trial 272 finished with value: -0.17956885839426914 and parameters: {'n_clusters': 67, 'linkage': 'single'}. Best is trial 57 with value: 0.13129813063305099.\n",
      "[I 2025-07-23 23:43:32,649] Trial 273 finished with value: -0.17762322051542656 and parameters: {'n_clusters': 121, 'linkage': 'single'}. Best is trial 57 with value: 0.13129813063305099.\n",
      "[I 2025-07-23 23:43:32,819] Trial 274 finished with value: -0.15094529917110203 and parameters: {'n_clusters': 144, 'linkage': 'single'}. Best is trial 57 with value: 0.13129813063305099.\n",
      "[I 2025-07-23 23:43:32,991] Trial 275 finished with value: 0.07492004039999688 and parameters: {'n_clusters': 64, 'linkage': 'complete'}. Best is trial 57 with value: 0.13129813063305099.\n",
      "[I 2025-07-23 23:43:33,165] Trial 276 finished with value: 0.11551593034841647 and parameters: {'n_clusters': 103, 'linkage': 'ward'}. Best is trial 57 with value: 0.13129813063305099.\n",
      "[I 2025-07-23 23:43:33,336] Trial 277 finished with value: -0.17900528463308574 and parameters: {'n_clusters': 65, 'linkage': 'single'}. Best is trial 57 with value: 0.13129813063305099.\n",
      "[I 2025-07-23 23:43:33,508] Trial 278 finished with value: 0.10866492148662729 and parameters: {'n_clusters': 132, 'linkage': 'complete'}. Best is trial 57 with value: 0.13129813063305099.\n",
      "[I 2025-07-23 23:43:33,683] Trial 279 finished with value: -0.18024932419071954 and parameters: {'n_clusters': 83, 'linkage': 'single'}. Best is trial 57 with value: 0.13129813063305099.\n",
      "[I 2025-07-23 23:43:33,860] Trial 280 finished with value: 0.08086105924225416 and parameters: {'n_clusters': 67, 'linkage': 'average'}. Best is trial 57 with value: 0.13129813063305099.\n",
      "[I 2025-07-23 23:43:34,041] Trial 281 finished with value: 0.028012122108338845 and parameters: {'n_clusters': 14, 'linkage': 'average'}. Best is trial 57 with value: 0.13129813063305099.\n",
      "[I 2025-07-23 23:43:34,218] Trial 282 finished with value: 0.007834102601028407 and parameters: {'n_clusters': 19, 'linkage': 'average'}. Best is trial 57 with value: 0.13129813063305099.\n",
      "[I 2025-07-23 23:43:34,398] Trial 283 finished with value: 0.09562182012817494 and parameters: {'n_clusters': 49, 'linkage': 'ward'}. Best is trial 57 with value: 0.13129813063305099.\n",
      "[I 2025-07-23 23:43:34,572] Trial 284 finished with value: -0.1753975600686531 and parameters: {'n_clusters': 104, 'linkage': 'single'}. Best is trial 57 with value: 0.13129813063305099.\n",
      "[I 2025-07-23 23:43:34,756] Trial 285 finished with value: 0.08206821874938468 and parameters: {'n_clusters': 71, 'linkage': 'complete'}. Best is trial 57 with value: 0.13129813063305099.\n",
      "[I 2025-07-23 23:43:34,944] Trial 286 finished with value: 0.09212324998702687 and parameters: {'n_clusters': 122, 'linkage': 'average'}. Best is trial 57 with value: 0.13129813063305099.\n",
      "[I 2025-07-23 23:43:35,125] Trial 287 finished with value: 0.06678901167899644 and parameters: {'n_clusters': 48, 'linkage': 'complete'}. Best is trial 57 with value: 0.13129813063305099.\n",
      "[I 2025-07-23 23:43:35,378] Trial 288 finished with value: -0.18461008466825182 and parameters: {'n_clusters': 79, 'linkage': 'single'}. Best is trial 57 with value: 0.13129813063305099.\n",
      "[I 2025-07-23 23:43:35,565] Trial 289 finished with value: 0.08606451468929154 and parameters: {'n_clusters': 12, 'linkage': 'ward'}. Best is trial 57 with value: 0.13129813063305099.\n",
      "[I 2025-07-23 23:43:35,763] Trial 290 finished with value: 0.08750658997151768 and parameters: {'n_clusters': 90, 'linkage': 'average'}. Best is trial 57 with value: 0.13129813063305099.\n",
      "[I 2025-07-23 23:43:35,948] Trial 291 finished with value: -0.17467642664157806 and parameters: {'n_clusters': 116, 'linkage': 'single'}. Best is trial 57 with value: 0.13129813063305099.\n",
      "[I 2025-07-23 23:43:36,157] Trial 292 finished with value: 0.020857236810548626 and parameters: {'n_clusters': 15, 'linkage': 'average'}. Best is trial 57 with value: 0.13129813063305099.\n",
      "[I 2025-07-23 23:43:36,343] Trial 293 finished with value: 0.048234560912610955 and parameters: {'n_clusters': 17, 'linkage': 'complete'}. Best is trial 57 with value: 0.13129813063305099.\n",
      "[I 2025-07-23 23:43:36,533] Trial 294 finished with value: 0.08830092943344325 and parameters: {'n_clusters': 110, 'linkage': 'average'}. Best is trial 57 with value: 0.13129813063305099.\n",
      "[I 2025-07-23 23:43:36,734] Trial 295 finished with value: -0.1809018081687726 and parameters: {'n_clusters': 91, 'linkage': 'single'}. Best is trial 57 with value: 0.13129813063305099.\n",
      "[I 2025-07-23 23:43:36,923] Trial 296 finished with value: 0.03552454360666637 and parameters: {'n_clusters': 11, 'linkage': 'single'}. Best is trial 57 with value: 0.13129813063305099.\n",
      "[I 2025-07-23 23:43:37,120] Trial 297 finished with value: 0.1230650525635526 and parameters: {'n_clusters': 124, 'linkage': 'ward'}. Best is trial 57 with value: 0.13129813063305099.\n",
      "[I 2025-07-23 23:43:37,304] Trial 298 finished with value: 0.059383659653164216 and parameters: {'n_clusters': 31, 'linkage': 'complete'}. Best is trial 57 with value: 0.13129813063305099.\n",
      "[I 2025-07-23 23:43:37,489] Trial 299 finished with value: 0.10113104464769722 and parameters: {'n_clusters': 119, 'linkage': 'complete'}. Best is trial 57 with value: 0.13129813063305099.\n",
      "[I 2025-07-23 23:43:37,749] Trial 300 finished with value: 0.06567697113453022 and parameters: {'n_clusters': 45, 'linkage': 'average'}. Best is trial 57 with value: 0.13129813063305099.\n",
      "[I 2025-07-23 23:43:37,947] Trial 301 finished with value: -0.17273522153988888 and parameters: {'n_clusters': 69, 'linkage': 'single'}. Best is trial 57 with value: 0.13129813063305099.\n",
      "[I 2025-07-23 23:43:38,147] Trial 302 finished with value: 0.07078980991685 and parameters: {'n_clusters': 37, 'linkage': 'average'}. Best is trial 57 with value: 0.13129813063305099.\n",
      "[I 2025-07-23 23:43:38,337] Trial 303 finished with value: 0.08329974418451708 and parameters: {'n_clusters': 85, 'linkage': 'complete'}. Best is trial 57 with value: 0.13129813063305099.\n",
      "[I 2025-07-23 23:43:38,525] Trial 304 finished with value: -0.11830949266137357 and parameters: {'n_clusters': 37, 'linkage': 'single'}. Best is trial 57 with value: 0.13129813063305099.\n",
      "[I 2025-07-23 23:43:38,719] Trial 305 finished with value: 0.08781405070481671 and parameters: {'n_clusters': 94, 'linkage': 'complete'}. Best is trial 57 with value: 0.13129813063305099.\n",
      "[I 2025-07-23 23:43:38,909] Trial 306 finished with value: 0.08323068768885394 and parameters: {'n_clusters': 83, 'linkage': 'complete'}. Best is trial 57 with value: 0.13129813063305099.\n",
      "[I 2025-07-23 23:43:39,098] Trial 307 finished with value: 0.12916833380186513 and parameters: {'n_clusters': 146, 'linkage': 'ward'}. Best is trial 57 with value: 0.13129813063305099.\n",
      "[I 2025-07-23 23:43:39,292] Trial 308 finished with value: -0.048586490474122265 and parameters: {'n_clusters': 22, 'linkage': 'single'}. Best is trial 57 with value: 0.13129813063305099.\n",
      "[I 2025-07-23 23:43:39,488] Trial 309 finished with value: 0.09202993706844632 and parameters: {'n_clusters': 123, 'linkage': 'average'}. Best is trial 57 with value: 0.13129813063305099.\n",
      "[I 2025-07-23 23:43:39,675] Trial 310 finished with value: 0.08302589757301122 and parameters: {'n_clusters': 82, 'linkage': 'complete'}. Best is trial 57 with value: 0.13129813063305099.\n",
      "[I 2025-07-23 23:43:39,891] Trial 311 finished with value: 0.06809111707936609 and parameters: {'n_clusters': 47, 'linkage': 'complete'}. Best is trial 57 with value: 0.13129813063305099.\n",
      "[I 2025-07-23 23:43:40,086] Trial 312 finished with value: -0.17787067769432904 and parameters: {'n_clusters': 72, 'linkage': 'single'}. Best is trial 57 with value: 0.13129813063305099.\n",
      "[I 2025-07-23 23:43:40,284] Trial 313 finished with value: -0.09538815396715096 and parameters: {'n_clusters': 30, 'linkage': 'single'}. Best is trial 57 with value: 0.13129813063305099.\n",
      "[I 2025-07-23 23:43:40,476] Trial 314 finished with value: 0.09273506579444035 and parameters: {'n_clusters': 124, 'linkage': 'average'}. Best is trial 57 with value: 0.13129813063305099.\n",
      "[I 2025-07-23 23:43:40,672] Trial 315 finished with value: 0.08759216266265141 and parameters: {'n_clusters': 101, 'linkage': 'average'}. Best is trial 57 with value: 0.13129813063305099.\n",
      "[I 2025-07-23 23:43:40,869] Trial 316 finished with value: 0.12883101702507885 and parameters: {'n_clusters': 143, 'linkage': 'ward'}. Best is trial 57 with value: 0.13129813063305099.\n",
      "[I 2025-07-23 23:43:41,133] Trial 317 finished with value: 0.09454234128291951 and parameters: {'n_clusters': 43, 'linkage': 'ward'}. Best is trial 57 with value: 0.13129813063305099.\n",
      "[I 2025-07-23 23:43:41,332] Trial 318 finished with value: 0.11319457523764058 and parameters: {'n_clusters': 98, 'linkage': 'ward'}. Best is trial 57 with value: 0.13129813063305099.\n",
      "[I 2025-07-23 23:43:41,527] Trial 319 finished with value: 0.04449603395697406 and parameters: {'n_clusters': 18, 'linkage': 'complete'}. Best is trial 57 with value: 0.13129813063305099.\n",
      "[I 2025-07-23 23:43:41,725] Trial 320 finished with value: 0.09843966971915452 and parameters: {'n_clusters': 54, 'linkage': 'ward'}. Best is trial 57 with value: 0.13129813063305099.\n",
      "[I 2025-07-23 23:43:41,922] Trial 321 finished with value: 0.10265600782411269 and parameters: {'n_clusters': 71, 'linkage': 'ward'}. Best is trial 57 with value: 0.13129813063305099.\n",
      "[I 2025-07-23 23:43:42,122] Trial 322 finished with value: 0.07660896712032374 and parameters: {'n_clusters': 68, 'linkage': 'average'}. Best is trial 57 with value: 0.13129813063305099.\n",
      "[I 2025-07-23 23:43:42,323] Trial 323 finished with value: -0.18174522147158628 and parameters: {'n_clusters': 82, 'linkage': 'single'}. Best is trial 57 with value: 0.13129813063305099.\n",
      "[I 2025-07-23 23:43:42,526] Trial 324 finished with value: -0.17655927981429942 and parameters: {'n_clusters': 127, 'linkage': 'single'}. Best is trial 57 with value: 0.13129813063305099.\n",
      "[I 2025-07-23 23:43:42,725] Trial 325 finished with value: 0.09416840659924147 and parameters: {'n_clusters': 108, 'linkage': 'complete'}. Best is trial 57 with value: 0.13129813063305099.\n",
      "[I 2025-07-23 23:43:42,922] Trial 326 finished with value: 0.09683579462486869 and parameters: {'n_clusters': 113, 'linkage': 'complete'}. Best is trial 57 with value: 0.13129813063305099.\n",
      "[I 2025-07-23 23:43:43,126] Trial 327 finished with value: 0.08578044891780232 and parameters: {'n_clusters': 87, 'linkage': 'average'}. Best is trial 57 with value: 0.13129813063305099.\n",
      "[I 2025-07-23 23:43:43,327] Trial 328 finished with value: 0.05912407144818328 and parameters: {'n_clusters': 30, 'linkage': 'complete'}. Best is trial 57 with value: 0.13129813063305099.\n",
      "[I 2025-07-23 23:43:43,535] Trial 329 finished with value: 0.0548246242991463 and parameters: {'n_clusters': 25, 'linkage': 'complete'}. Best is trial 57 with value: 0.13129813063305099.\n",
      "[I 2025-07-23 23:43:43,736] Trial 330 finished with value: 0.10568550612221694 and parameters: {'n_clusters': 83, 'linkage': 'ward'}. Best is trial 57 with value: 0.13129813063305099.\n",
      "[I 2025-07-23 23:43:43,940] Trial 331 finished with value: 0.05155067812849667 and parameters: {'n_clusters': 23, 'linkage': 'complete'}. Best is trial 57 with value: 0.13129813063305099.\n",
      "[I 2025-07-23 23:43:44,143] Trial 332 finished with value: 0.09471921350956097 and parameters: {'n_clusters': 45, 'linkage': 'ward'}. Best is trial 57 with value: 0.13129813063305099.\n",
      "[I 2025-07-23 23:43:44,347] Trial 333 finished with value: 0.08614632235507727 and parameters: {'n_clusters': 89, 'linkage': 'complete'}. Best is trial 57 with value: 0.13129813063305099.\n",
      "[I 2025-07-23 23:43:44,554] Trial 334 finished with value: 0.08963807946129738 and parameters: {'n_clusters': 39, 'linkage': 'ward'}. Best is trial 57 with value: 0.13129813063305099.\n",
      "[I 2025-07-23 23:43:44,759] Trial 335 finished with value: -0.12827826565448172 and parameters: {'n_clusters': 42, 'linkage': 'single'}. Best is trial 57 with value: 0.13129813063305099.\n",
      "[I 2025-07-23 23:43:44,960] Trial 336 finished with value: 0.0014019205473570072 and parameters: {'n_clusters': 16, 'linkage': 'single'}. Best is trial 57 with value: 0.13129813063305099.\n",
      "[I 2025-07-23 23:43:45,164] Trial 337 finished with value: -0.06122231278086711 and parameters: {'n_clusters': 23, 'linkage': 'single'}. Best is trial 57 with value: 0.13129813063305099.\n",
      "[I 2025-07-23 23:43:45,371] Trial 338 finished with value: 0.0671759532312727 and parameters: {'n_clusters': 37, 'linkage': 'complete'}. Best is trial 57 with value: 0.13129813063305099.\n",
      "[I 2025-07-23 23:43:45,574] Trial 339 finished with value: -0.17944240428419736 and parameters: {'n_clusters': 125, 'linkage': 'single'}. Best is trial 57 with value: 0.13129813063305099.\n",
      "[I 2025-07-23 23:43:45,788] Trial 340 finished with value: 0.08587263083132773 and parameters: {'n_clusters': 86, 'linkage': 'average'}. Best is trial 57 with value: 0.13129813063305099.\n",
      "[I 2025-07-23 23:43:45,999] Trial 341 finished with value: 0.08776287062562714 and parameters: {'n_clusters': 37, 'linkage': 'ward'}. Best is trial 57 with value: 0.13129813063305099.\n",
      "[I 2025-07-23 23:43:46,205] Trial 342 finished with value: 0.11239540956757146 and parameters: {'n_clusters': 149, 'linkage': 'complete'}. Best is trial 57 with value: 0.13129813063305099.\n",
      "[I 2025-07-23 23:43:46,470] Trial 343 finished with value: 0.11336126774865932 and parameters: {'n_clusters': 143, 'linkage': 'complete'}. Best is trial 57 with value: 0.13129813063305099.\n",
      "[I 2025-07-23 23:43:46,678] Trial 344 finished with value: 0.05550939790059496 and parameters: {'n_clusters': 25, 'linkage': 'average'}. Best is trial 57 with value: 0.13129813063305099.\n",
      "[I 2025-07-23 23:43:46,891] Trial 345 finished with value: 0.11312121859437932 and parameters: {'n_clusters': 150, 'linkage': 'complete'}. Best is trial 57 with value: 0.13129813063305099.\n",
      "[I 2025-07-23 23:43:47,100] Trial 346 finished with value: -0.0213677036285335 and parameters: {'n_clusters': 20, 'linkage': 'single'}. Best is trial 57 with value: 0.13129813063305099.\n",
      "[I 2025-07-23 23:43:47,312] Trial 347 finished with value: 0.13014329713901504 and parameters: {'n_clusters': 148, 'linkage': 'ward'}. Best is trial 57 with value: 0.13129813063305099.\n",
      "[I 2025-07-23 23:43:47,524] Trial 348 finished with value: 0.0824290600802137 and parameters: {'n_clusters': 81, 'linkage': 'average'}. Best is trial 57 with value: 0.13129813063305099.\n",
      "[I 2025-07-23 23:43:47,736] Trial 349 finished with value: 0.11946938050144863 and parameters: {'n_clusters': 114, 'linkage': 'ward'}. Best is trial 57 with value: 0.13129813063305099.\n",
      "[I 2025-07-23 23:43:47,950] Trial 350 finished with value: -0.06837281097373445 and parameters: {'n_clusters': 25, 'linkage': 'single'}. Best is trial 57 with value: 0.13129813063305099.\n",
      "[I 2025-07-23 23:43:48,169] Trial 351 finished with value: -0.0388690477783462 and parameters: {'n_clusters': 21, 'linkage': 'single'}. Best is trial 57 with value: 0.13129813063305099.\n",
      "[I 2025-07-23 23:43:48,380] Trial 352 finished with value: -0.07804636556018747 and parameters: {'n_clusters': 27, 'linkage': 'single'}. Best is trial 57 with value: 0.13129813063305099.\n",
      "[I 2025-07-23 23:43:48,596] Trial 353 finished with value: 0.08274514262572089 and parameters: {'n_clusters': 84, 'linkage': 'average'}. Best is trial 57 with value: 0.13129813063305099.\n",
      "[I 2025-07-23 23:43:48,812] Trial 354 finished with value: -0.18179905152462236 and parameters: {'n_clusters': 74, 'linkage': 'single'}. Best is trial 57 with value: 0.13129813063305099.\n",
      "[I 2025-07-23 23:43:49,037] Trial 355 finished with value: 0.07188763455244664 and parameters: {'n_clusters': 58, 'linkage': 'average'}. Best is trial 57 with value: 0.13129813063305099.\n",
      "[I 2025-07-23 23:43:49,258] Trial 356 finished with value: 0.08195372481908218 and parameters: {'n_clusters': 83, 'linkage': 'average'}. Best is trial 57 with value: 0.13129813063305099.\n",
      "[I 2025-07-23 23:43:49,472] Trial 357 finished with value: -0.17949148010456875 and parameters: {'n_clusters': 108, 'linkage': 'single'}. Best is trial 57 with value: 0.13129813063305099.\n",
      "[I 2025-07-23 23:43:49,689] Trial 358 finished with value: 0.07439831922949722 and parameters: {'n_clusters': 73, 'linkage': 'average'}. Best is trial 57 with value: 0.13129813063305099.\n",
      "[I 2025-07-23 23:43:49,909] Trial 359 finished with value: 0.08678464919683283 and parameters: {'n_clusters': 103, 'linkage': 'average'}. Best is trial 57 with value: 0.13129813063305099.\n",
      "[I 2025-07-23 23:43:50,143] Trial 360 finished with value: 0.09199421223897221 and parameters: {'n_clusters': 128, 'linkage': 'average'}. Best is trial 57 with value: 0.13129813063305099.\n",
      "[I 2025-07-23 23:43:50,362] Trial 361 finished with value: 0.10522163053402539 and parameters: {'n_clusters': 77, 'linkage': 'ward'}. Best is trial 57 with value: 0.13129813063305099.\n",
      "[I 2025-07-23 23:43:50,581] Trial 362 finished with value: 0.08548764383583017 and parameters: {'n_clusters': 34, 'linkage': 'ward'}. Best is trial 57 with value: 0.13129813063305099.\n",
      "[I 2025-07-23 23:43:50,799] Trial 363 finished with value: 0.08217159159889025 and parameters: {'n_clusters': 85, 'linkage': 'average'}. Best is trial 57 with value: 0.13129813063305099.\n",
      "[I 2025-07-23 23:43:51,087] Trial 364 finished with value: 0.05909776286361203 and parameters: {'n_clusters': 28, 'linkage': 'complete'}. Best is trial 57 with value: 0.13129813063305099.\n",
      "[I 2025-07-23 23:43:51,315] Trial 365 finished with value: 0.08831433026955207 and parameters: {'n_clusters': 92, 'linkage': 'average'}. Best is trial 57 with value: 0.13129813063305099.\n",
      "[I 2025-07-23 23:43:51,537] Trial 366 finished with value: 0.12681537368410753 and parameters: {'n_clusters': 139, 'linkage': 'ward'}. Best is trial 57 with value: 0.13129813063305099.\n",
      "[I 2025-07-23 23:43:51,754] Trial 367 finished with value: -0.18174237821619627 and parameters: {'n_clusters': 66, 'linkage': 'single'}. Best is trial 57 with value: 0.13129813063305099.\n",
      "[I 2025-07-23 23:43:52,046] Trial 368 finished with value: 0.1217647347497392 and parameters: {'n_clusters': 121, 'linkage': 'ward'}. Best is trial 57 with value: 0.13129813063305099.\n",
      "[I 2025-07-23 23:43:52,278] Trial 369 finished with value: 0.06870922854309458 and parameters: {'n_clusters': 35, 'linkage': 'average'}. Best is trial 57 with value: 0.13129813063305099.\n",
      "[I 2025-07-23 23:43:52,503] Trial 370 finished with value: 0.09512761011945539 and parameters: {'n_clusters': 136, 'linkage': 'average'}. Best is trial 57 with value: 0.13129813063305099.\n",
      "[I 2025-07-23 23:43:52,721] Trial 371 finished with value: -0.17807020001413013 and parameters: {'n_clusters': 85, 'linkage': 'single'}. Best is trial 57 with value: 0.13129813063305099.\n",
      "[I 2025-07-23 23:43:52,948] Trial 372 finished with value: 0.09643682796395422 and parameters: {'n_clusters': 50, 'linkage': 'ward'}. Best is trial 57 with value: 0.13129813063305099.\n",
      "[I 2025-07-23 23:43:53,175] Trial 373 finished with value: 0.09985853137085011 and parameters: {'n_clusters': 143, 'linkage': 'average'}. Best is trial 57 with value: 0.13129813063305099.\n",
      "[I 2025-07-23 23:43:53,404] Trial 374 finished with value: -0.10567120554823246 and parameters: {'n_clusters': 33, 'linkage': 'single'}. Best is trial 57 with value: 0.13129813063305099.\n",
      "[I 2025-07-23 23:43:53,630] Trial 375 finished with value: 0.10913294596559792 and parameters: {'n_clusters': 89, 'linkage': 'ward'}. Best is trial 57 with value: 0.13129813063305099.\n",
      "[I 2025-07-23 23:43:53,854] Trial 376 finished with value: -0.15769012587180187 and parameters: {'n_clusters': 56, 'linkage': 'single'}. Best is trial 57 with value: 0.13129813063305099.\n",
      "[I 2025-07-23 23:43:54,076] Trial 377 finished with value: -0.15091101468843396 and parameters: {'n_clusters': 143, 'linkage': 'single'}. Best is trial 57 with value: 0.13129813063305099.\n",
      "[I 2025-07-23 23:43:54,303] Trial 378 finished with value: 0.07243805715353904 and parameters: {'n_clusters': 55, 'linkage': 'complete'}. Best is trial 57 with value: 0.13129813063305099.\n",
      "[I 2025-07-23 23:43:54,543] Trial 379 finished with value: 0.07769235193844717 and parameters: {'n_clusters': 23, 'linkage': 'ward'}. Best is trial 57 with value: 0.13129813063305099.\n",
      "[I 2025-07-23 23:43:54,771] Trial 380 finished with value: 0.04500706396383362 and parameters: {'n_clusters': 15, 'linkage': 'complete'}. Best is trial 57 with value: 0.13129813063305099.\n",
      "[I 2025-07-23 23:43:55,001] Trial 381 finished with value: 0.0723084538224038 and parameters: {'n_clusters': 54, 'linkage': 'complete'}. Best is trial 57 with value: 0.13129813063305099.\n",
      "[I 2025-07-23 23:43:55,228] Trial 382 finished with value: 0.12563903861194944 and parameters: {'n_clusters': 131, 'linkage': 'ward'}. Best is trial 57 with value: 0.13129813063305099.\n",
      "[I 2025-07-23 23:43:55,462] Trial 383 finished with value: 0.09335568357155104 and parameters: {'n_clusters': 120, 'linkage': 'average'}. Best is trial 57 with value: 0.13129813063305099.\n",
      "[I 2025-07-23 23:43:55,697] Trial 384 finished with value: 0.08784707032917058 and parameters: {'n_clusters': 97, 'linkage': 'average'}. Best is trial 57 with value: 0.13129813063305099.\n",
      "[I 2025-07-23 23:43:55,925] Trial 385 finished with value: -0.06888114141013349 and parameters: {'n_clusters': 26, 'linkage': 'single'}. Best is trial 57 with value: 0.13129813063305099.\n",
      "[I 2025-07-23 23:43:56,156] Trial 386 finished with value: 0.05737771389372656 and parameters: {'n_clusters': 30, 'linkage': 'average'}. Best is trial 57 with value: 0.13129813063305099.\n",
      "[I 2025-07-23 23:43:56,391] Trial 387 finished with value: 0.11056262978064685 and parameters: {'n_clusters': 93, 'linkage': 'ward'}. Best is trial 57 with value: 0.13129813063305099.\n",
      "[I 2025-07-23 23:43:56,631] Trial 388 finished with value: 0.12426703886684945 and parameters: {'n_clusters': 127, 'linkage': 'ward'}. Best is trial 57 with value: 0.13129813063305099.\n",
      "[I 2025-07-23 23:43:56,866] Trial 389 finished with value: 0.09051466361982641 and parameters: {'n_clusters': 102, 'linkage': 'complete'}. Best is trial 57 with value: 0.13129813063305099.\n",
      "[I 2025-07-23 23:43:57,112] Trial 390 finished with value: 0.10374340772444145 and parameters: {'n_clusters': 127, 'linkage': 'complete'}. Best is trial 57 with value: 0.13129813063305099.\n",
      "[I 2025-07-23 23:43:57,399] Trial 391 finished with value: 0.08491133926343139 and parameters: {'n_clusters': 35, 'linkage': 'ward'}. Best is trial 57 with value: 0.13129813063305099.\n",
      "[I 2025-07-23 23:43:57,636] Trial 392 finished with value: 0.12140863618500722 and parameters: {'n_clusters': 120, 'linkage': 'ward'}. Best is trial 57 with value: 0.13129813063305099.\n",
      "[I 2025-07-23 23:43:57,882] Trial 393 finished with value: 0.00887631290048682 and parameters: {'n_clusters': 18, 'linkage': 'average'}. Best is trial 57 with value: 0.13129813063305099.\n",
      "[I 2025-07-23 23:43:58,157] Trial 394 finished with value: 0.038962308476669365 and parameters: {'n_clusters': 21, 'linkage': 'average'}. Best is trial 57 with value: 0.13129813063305099.\n",
      "[I 2025-07-23 23:43:58,397] Trial 395 finished with value: 0.08100319659944528 and parameters: {'n_clusters': 26, 'linkage': 'ward'}. Best is trial 57 with value: 0.13129813063305099.\n",
      "[I 2025-07-23 23:43:58,638] Trial 396 finished with value: 0.028556595782025945 and parameters: {'n_clusters': 13, 'linkage': 'single'}. Best is trial 57 with value: 0.13129813063305099.\n",
      "[I 2025-07-23 23:43:58,882] Trial 397 finished with value: 0.07365568972743981 and parameters: {'n_clusters': 59, 'linkage': 'complete'}. Best is trial 57 with value: 0.13129813063305099.\n",
      "[I 2025-07-23 23:43:59,126] Trial 398 finished with value: 0.12068884157739085 and parameters: {'n_clusters': 119, 'linkage': 'ward'}. Best is trial 57 with value: 0.13129813063305099.\n",
      "[I 2025-07-23 23:43:59,365] Trial 399 finished with value: -0.17091163560187064 and parameters: {'n_clusters': 62, 'linkage': 'single'}. Best is trial 57 with value: 0.13129813063305099.\n",
      "[I 2025-07-23 23:43:59,601] Trial 400 finished with value: -0.0799971117025716 and parameters: {'n_clusters': 28, 'linkage': 'single'}. Best is trial 57 with value: 0.13129813063305099.\n",
      "[I 2025-07-23 23:43:59,845] Trial 401 finished with value: 0.13066468901939982 and parameters: {'n_clusters': 149, 'linkage': 'ward'}. Best is trial 57 with value: 0.13129813063305099.\n",
      "[I 2025-07-23 23:44:00,093] Trial 402 finished with value: 0.09015051218416123 and parameters: {'n_clusters': 106, 'linkage': 'average'}. Best is trial 57 with value: 0.13129813063305099.\n",
      "[I 2025-07-23 23:44:00,335] Trial 403 finished with value: 0.09304874849256511 and parameters: {'n_clusters': 129, 'linkage': 'average'}. Best is trial 57 with value: 0.13129813063305099.\n",
      "[I 2025-07-23 23:44:00,576] Trial 404 finished with value: 0.08038259302493843 and parameters: {'n_clusters': 80, 'linkage': 'complete'}. Best is trial 57 with value: 0.13129813063305099.\n",
      "[I 2025-07-23 23:44:00,814] Trial 405 finished with value: -0.11376264206297819 and parameters: {'n_clusters': 34, 'linkage': 'single'}. Best is trial 57 with value: 0.13129813063305099.\n",
      "[I 2025-07-23 23:44:01,065] Trial 406 finished with value: 0.07054684423346264 and parameters: {'n_clusters': 45, 'linkage': 'complete'}. Best is trial 57 with value: 0.13129813063305099.\n",
      "[I 2025-07-23 23:44:01,307] Trial 407 finished with value: 0.07268472725580616 and parameters: {'n_clusters': 51, 'linkage': 'complete'}. Best is trial 57 with value: 0.13129813063305099.\n",
      "[I 2025-07-23 23:44:01,546] Trial 408 finished with value: -0.17975765980145927 and parameters: {'n_clusters': 93, 'linkage': 'single'}. Best is trial 57 with value: 0.13129813063305099.\n",
      "[I 2025-07-23 23:44:01,787] Trial 409 finished with value: 0.09469661388007308 and parameters: {'n_clusters': 117, 'linkage': 'average'}. Best is trial 57 with value: 0.13129813063305099.\n",
      "[I 2025-07-23 23:44:02,034] Trial 410 finished with value: 0.11312490338840889 and parameters: {'n_clusters': 141, 'linkage': 'complete'}. Best is trial 57 with value: 0.13129813063305099.\n",
      "[I 2025-07-23 23:44:02,286] Trial 411 finished with value: -0.18106946926937126 and parameters: {'n_clusters': 92, 'linkage': 'single'}. Best is trial 57 with value: 0.13129813063305099.\n",
      "[I 2025-07-23 23:44:02,530] Trial 412 finished with value: 0.0845871577518826 and parameters: {'n_clusters': 29, 'linkage': 'ward'}. Best is trial 57 with value: 0.13129813063305099.\n",
      "[I 2025-07-23 23:44:02,830] Trial 413 finished with value: 0.07336075928476364 and parameters: {'n_clusters': 56, 'linkage': 'complete'}. Best is trial 57 with value: 0.13129813063305099.\n",
      "[I 2025-07-23 23:44:03,078] Trial 414 finished with value: 0.052909824922957836 and parameters: {'n_clusters': 24, 'linkage': 'complete'}. Best is trial 57 with value: 0.13129813063305099.\n",
      "[I 2025-07-23 23:44:03,326] Trial 415 finished with value: -0.17071047192109656 and parameters: {'n_clusters': 61, 'linkage': 'single'}. Best is trial 57 with value: 0.13129813063305099.\n",
      "[I 2025-07-23 23:44:03,574] Trial 416 finished with value: 0.09468608676929241 and parameters: {'n_clusters': 138, 'linkage': 'average'}. Best is trial 57 with value: 0.13129813063305099.\n",
      "[I 2025-07-23 23:44:03,824] Trial 417 finished with value: 0.08617723440571234 and parameters: {'n_clusters': 91, 'linkage': 'complete'}. Best is trial 57 with value: 0.13129813063305099.\n",
      "[I 2025-07-23 23:44:04,072] Trial 418 finished with value: 0.08989225538809757 and parameters: {'n_clusters': 95, 'linkage': 'average'}. Best is trial 57 with value: 0.13129813063305099.\n",
      "[I 2025-07-23 23:44:04,323] Trial 419 finished with value: -0.1459893507509225 and parameters: {'n_clusters': 141, 'linkage': 'single'}. Best is trial 57 with value: 0.13129813063305099.\n",
      "[I 2025-07-23 23:44:04,579] Trial 420 finished with value: 0.083860566485371 and parameters: {'n_clusters': 13, 'linkage': 'ward'}. Best is trial 57 with value: 0.13129813063305099.\n",
      "[I 2025-07-23 23:44:04,826] Trial 421 finished with value: -0.06319457286182484 and parameters: {'n_clusters': 24, 'linkage': 'single'}. Best is trial 57 with value: 0.13129813063305099.\n",
      "[I 2025-07-23 23:44:05,085] Trial 422 finished with value: 0.1271035603532354 and parameters: {'n_clusters': 135, 'linkage': 'ward'}. Best is trial 57 with value: 0.13129813063305099.\n",
      "[I 2025-07-23 23:44:05,349] Trial 423 finished with value: 0.09999861609070057 and parameters: {'n_clusters': 149, 'linkage': 'average'}. Best is trial 57 with value: 0.13129813063305099.\n",
      "[I 2025-07-23 23:44:05,602] Trial 424 finished with value: 0.04359235149937747 and parameters: {'n_clusters': 14, 'linkage': 'complete'}. Best is trial 57 with value: 0.13129813063305099.\n",
      "[I 2025-07-23 23:44:05,856] Trial 425 finished with value: 0.10861462337341661 and parameters: {'n_clusters': 87, 'linkage': 'ward'}. Best is trial 57 with value: 0.13129813063305099.\n",
      "[I 2025-07-23 23:44:06,111] Trial 426 finished with value: 0.0734551709943738 and parameters: {'n_clusters': 53, 'linkage': 'average'}. Best is trial 57 with value: 0.13129813063305099.\n",
      "[I 2025-07-23 23:44:06,411] Trial 427 finished with value: 0.0892493782292983 and parameters: {'n_clusters': 99, 'linkage': 'complete'}. Best is trial 57 with value: 0.13129813063305099.\n",
      "[I 2025-07-23 23:44:06,666] Trial 428 finished with value: -0.17165498947667154 and parameters: {'n_clusters': 63, 'linkage': 'single'}. Best is trial 57 with value: 0.13129813063305099.\n",
      "[I 2025-07-23 23:44:06,921] Trial 429 finished with value: -0.169957704322404 and parameters: {'n_clusters': 140, 'linkage': 'single'}. Best is trial 57 with value: 0.13129813063305099.\n",
      "[I 2025-07-23 23:44:07,179] Trial 430 finished with value: 0.10142065727621487 and parameters: {'n_clusters': 144, 'linkage': 'average'}. Best is trial 57 with value: 0.13129813063305099.\n",
      "[I 2025-07-23 23:44:07,440] Trial 431 finished with value: 0.054550560602492755 and parameters: {'n_clusters': 22, 'linkage': 'complete'}. Best is trial 57 with value: 0.13129813063305099.\n",
      "[I 2025-07-23 23:44:07,701] Trial 432 finished with value: -0.1767904600365421 and parameters: {'n_clusters': 119, 'linkage': 'single'}. Best is trial 57 with value: 0.13129813063305099.\n",
      "[I 2025-07-23 23:44:07,958] Trial 433 finished with value: 0.07335446759903036 and parameters: {'n_clusters': 51, 'linkage': 'average'}. Best is trial 57 with value: 0.13129813063305099.\n",
      "[I 2025-07-23 23:44:08,273] Trial 434 finished with value: 0.0937041877255313 and parameters: {'n_clusters': 42, 'linkage': 'ward'}. Best is trial 57 with value: 0.13129813063305099.\n",
      "[I 2025-07-23 23:44:08,535] Trial 435 finished with value: 0.10849941129503257 and parameters: {'n_clusters': 90, 'linkage': 'ward'}. Best is trial 57 with value: 0.13129813063305099.\n",
      "[I 2025-07-23 23:44:08,800] Trial 436 finished with value: 0.06573127289473181 and parameters: {'n_clusters': 35, 'linkage': 'complete'}. Best is trial 57 with value: 0.13129813063305099.\n",
      "[I 2025-07-23 23:44:09,057] Trial 437 finished with value: 0.09300775931667798 and parameters: {'n_clusters': 127, 'linkage': 'average'}. Best is trial 57 with value: 0.13129813063305099.\n",
      "[I 2025-07-23 23:44:09,313] Trial 438 finished with value: 0.0760741728771634 and parameters: {'n_clusters': 21, 'linkage': 'ward'}. Best is trial 57 with value: 0.13129813063305099.\n",
      "[I 2025-07-23 23:44:09,576] Trial 439 finished with value: 0.08412514977102764 and parameters: {'n_clusters': 88, 'linkage': 'complete'}. Best is trial 57 with value: 0.13129813063305099.\n",
      "[I 2025-07-23 23:44:09,846] Trial 440 finished with value: -0.15136571699912693 and parameters: {'n_clusters': 54, 'linkage': 'single'}. Best is trial 57 with value: 0.13129813063305099.\n",
      "[I 2025-07-23 23:44:10,112] Trial 441 finished with value: 0.11202433988244852 and parameters: {'n_clusters': 96, 'linkage': 'ward'}. Best is trial 57 with value: 0.13129813063305099.\n",
      "[I 2025-07-23 23:44:10,379] Trial 442 finished with value: 0.0959102788537187 and parameters: {'n_clusters': 135, 'linkage': 'average'}. Best is trial 57 with value: 0.13129813063305099.\n",
      "[I 2025-07-23 23:44:10,642] Trial 443 finished with value: 0.09563848086930656 and parameters: {'n_clusters': 46, 'linkage': 'ward'}. Best is trial 57 with value: 0.13129813063305099.\n",
      "[I 2025-07-23 23:44:10,911] Trial 444 finished with value: 0.07267073252921669 and parameters: {'n_clusters': 62, 'linkage': 'average'}. Best is trial 57 with value: 0.13129813063305099.\n",
      "[I 2025-07-23 23:44:11,178] Trial 445 finished with value: 0.09991269225410385 and parameters: {'n_clusters': 68, 'linkage': 'ward'}. Best is trial 57 with value: 0.13129813063305099.\n",
      "[I 2025-07-23 23:44:11,441] Trial 446 finished with value: 0.09778837333945439 and parameters: {'n_clusters': 51, 'linkage': 'ward'}. Best is trial 57 with value: 0.13129813063305099.\n",
      "[I 2025-07-23 23:44:11,708] Trial 447 finished with value: 0.09504310000265782 and parameters: {'n_clusters': 139, 'linkage': 'average'}. Best is trial 57 with value: 0.13129813063305099.\n",
      "[I 2025-07-23 23:44:11,983] Trial 448 finished with value: 0.11317057334474001 and parameters: {'n_clusters': 139, 'linkage': 'complete'}. Best is trial 57 with value: 0.13129813063305099.\n",
      "[I 2025-07-23 23:44:12,249] Trial 449 finished with value: 0.09931848436433635 and parameters: {'n_clusters': 60, 'linkage': 'ward'}. Best is trial 57 with value: 0.13129813063305099.\n",
      "[I 2025-07-23 23:44:12,513] Trial 450 finished with value: 0.07753933685576211 and parameters: {'n_clusters': 78, 'linkage': 'average'}. Best is trial 57 with value: 0.13129813063305099.\n",
      "[I 2025-07-23 23:44:12,780] Trial 451 finished with value: -0.18187049399676547 and parameters: {'n_clusters': 89, 'linkage': 'single'}. Best is trial 57 with value: 0.13129813063305099.\n",
      "[I 2025-07-23 23:44:13,061] Trial 452 finished with value: -0.18088057169104366 and parameters: {'n_clusters': 88, 'linkage': 'single'}. Best is trial 57 with value: 0.13129813063305099.\n",
      "[I 2025-07-23 23:44:13,328] Trial 453 finished with value: -0.17609276228808307 and parameters: {'n_clusters': 106, 'linkage': 'single'}. Best is trial 57 with value: 0.13129813063305099.\n",
      "[I 2025-07-23 23:44:13,648] Trial 454 finished with value: -0.1786439563902533 and parameters: {'n_clusters': 105, 'linkage': 'single'}. Best is trial 57 with value: 0.13129813063305099.\n",
      "[I 2025-07-23 23:44:13,914] Trial 455 finished with value: -0.11813100257466326 and parameters: {'n_clusters': 38, 'linkage': 'single'}. Best is trial 57 with value: 0.13129813063305099.\n",
      "[I 2025-07-23 23:44:14,185] Trial 456 finished with value: 0.1261871590521184 and parameters: {'n_clusters': 133, 'linkage': 'ward'}. Best is trial 57 with value: 0.13129813063305099.\n",
      "[I 2025-07-23 23:44:14,455] Trial 457 finished with value: 0.08594116793701116 and parameters: {'n_clusters': 91, 'linkage': 'average'}. Best is trial 57 with value: 0.13129813063305099.\n",
      "[I 2025-07-23 23:44:14,726] Trial 458 finished with value: 0.11235763593514207 and parameters: {'n_clusters': 147, 'linkage': 'complete'}. Best is trial 57 with value: 0.13129813063305099.\n",
      "[I 2025-07-23 23:44:15,002] Trial 459 finished with value: 0.10361590047715606 and parameters: {'n_clusters': 72, 'linkage': 'ward'}. Best is trial 57 with value: 0.13129813063305099.\n",
      "[I 2025-07-23 23:44:15,280] Trial 460 finished with value: -0.17486688367211956 and parameters: {'n_clusters': 64, 'linkage': 'single'}. Best is trial 57 with value: 0.13129813063305099.\n",
      "[I 2025-07-23 23:44:15,556] Trial 461 finished with value: 0.09237603714683433 and parameters: {'n_clusters': 105, 'linkage': 'complete'}. Best is trial 57 with value: 0.13129813063305099.\n",
      "[I 2025-07-23 23:44:15,830] Trial 462 finished with value: 0.12726153419785144 and parameters: {'n_clusters': 140, 'linkage': 'ward'}. Best is trial 57 with value: 0.13129813063305099.\n",
      "[I 2025-07-23 23:44:16,105] Trial 463 finished with value: 0.06875207973766213 and parameters: {'n_clusters': 56, 'linkage': 'average'}. Best is trial 57 with value: 0.13129813063305099.\n",
      "[I 2025-07-23 23:44:16,384] Trial 464 finished with value: 0.08653184319460076 and parameters: {'n_clusters': 33, 'linkage': 'ward'}. Best is trial 57 with value: 0.13129813063305099.\n",
      "[I 2025-07-23 23:44:16,657] Trial 465 finished with value: -0.1626390583068437 and parameters: {'n_clusters': 58, 'linkage': 'single'}. Best is trial 57 with value: 0.13129813063305099.\n",
      "[I 2025-07-23 23:44:16,933] Trial 466 finished with value: -0.16748545383865884 and parameters: {'n_clusters': 137, 'linkage': 'single'}. Best is trial 57 with value: 0.13129813063305099.\n",
      "[I 2025-07-23 23:44:17,210] Trial 467 finished with value: 0.09807529991670966 and parameters: {'n_clusters': 53, 'linkage': 'ward'}. Best is trial 57 with value: 0.13129813063305099.\n",
      "[I 2025-07-23 23:44:17,495] Trial 468 finished with value: 0.08804261252772666 and parameters: {'n_clusters': 98, 'linkage': 'complete'}. Best is trial 57 with value: 0.13129813063305099.\n",
      "[I 2025-07-23 23:44:17,778] Trial 469 finished with value: 0.10162910510463154 and parameters: {'n_clusters': 122, 'linkage': 'complete'}. Best is trial 57 with value: 0.13129813063305099.\n",
      "[I 2025-07-23 23:44:18,055] Trial 470 finished with value: 0.0791380087698405 and parameters: {'n_clusters': 10, 'linkage': 'ward'}. Best is trial 57 with value: 0.13129813063305099.\n",
      "[I 2025-07-23 23:44:18,335] Trial 471 finished with value: 0.09618813856847544 and parameters: {'n_clusters': 111, 'linkage': 'complete'}. Best is trial 57 with value: 0.13129813063305099.\n",
      "[I 2025-07-23 23:44:18,626] Trial 472 finished with value: 0.07574602261271278 and parameters: {'n_clusters': 70, 'linkage': 'average'}. Best is trial 57 with value: 0.13129813063305099.\n",
      "[I 2025-07-23 23:44:18,963] Trial 473 finished with value: 0.11005327880892113 and parameters: {'n_clusters': 133, 'linkage': 'complete'}. Best is trial 57 with value: 0.13129813063305099.\n",
      "[I 2025-07-23 23:44:19,241] Trial 474 finished with value: 0.08914124886410912 and parameters: {'n_clusters': 96, 'linkage': 'complete'}. Best is trial 57 with value: 0.13129813063305099.\n",
      "[I 2025-07-23 23:44:19,528] Trial 475 finished with value: -0.13147031098339348 and parameters: {'n_clusters': 48, 'linkage': 'single'}. Best is trial 57 with value: 0.13129813063305099.\n",
      "[I 2025-07-23 23:44:19,808] Trial 476 finished with value: -0.17653958348249027 and parameters: {'n_clusters': 113, 'linkage': 'single'}. Best is trial 57 with value: 0.13129813063305099.\n",
      "[I 2025-07-23 23:44:20,092] Trial 477 finished with value: 0.11819093558083556 and parameters: {'n_clusters': 108, 'linkage': 'ward'}. Best is trial 57 with value: 0.13129813063305099.\n",
      "[I 2025-07-23 23:44:20,379] Trial 478 finished with value: 0.09698156252601976 and parameters: {'n_clusters': 115, 'linkage': 'complete'}. Best is trial 57 with value: 0.13129813063305099.\n",
      "[I 2025-07-23 23:44:20,667] Trial 479 finished with value: 0.07947874318810505 and parameters: {'n_clusters': 77, 'linkage': 'complete'}. Best is trial 57 with value: 0.13129813063305099.\n",
      "[I 2025-07-23 23:44:20,949] Trial 480 finished with value: 0.05851664702532333 and parameters: {'n_clusters': 32, 'linkage': 'complete'}. Best is trial 57 with value: 0.13129813063305099.\n",
      "[I 2025-07-23 23:44:21,238] Trial 481 finished with value: 0.11259487480079158 and parameters: {'n_clusters': 146, 'linkage': 'complete'}. Best is trial 57 with value: 0.13129813063305099.\n",
      "[I 2025-07-23 23:44:21,524] Trial 482 finished with value: 0.04752811307069246 and parameters: {'n_clusters': 20, 'linkage': 'complete'}. Best is trial 57 with value: 0.13129813063305099.\n",
      "[I 2025-07-23 23:44:21,845] Trial 483 finished with value: 0.06437210531360392 and parameters: {'n_clusters': 47, 'linkage': 'average'}. Best is trial 57 with value: 0.13129813063305099.\n",
      "[I 2025-07-23 23:44:22,137] Trial 484 finished with value: 0.08905780726574913 and parameters: {'n_clusters': 97, 'linkage': 'complete'}. Best is trial 57 with value: 0.13129813063305099.\n",
      "[I 2025-07-23 23:44:22,422] Trial 485 finished with value: 0.09313282418284584 and parameters: {'n_clusters': 125, 'linkage': 'average'}. Best is trial 57 with value: 0.13129813063305099.\n",
      "[I 2025-07-23 23:44:22,712] Trial 486 finished with value: 0.1152196744876466 and parameters: {'n_clusters': 104, 'linkage': 'ward'}. Best is trial 57 with value: 0.13129813063305099.\n",
      "[I 2025-07-23 23:44:23,007] Trial 487 finished with value: 0.0795363624758927 and parameters: {'n_clusters': 66, 'linkage': 'average'}. Best is trial 57 with value: 0.13129813063305099.\n",
      "[I 2025-07-23 23:44:23,360] Trial 488 finished with value: 0.11551687726880842 and parameters: {'n_clusters': 105, 'linkage': 'ward'}. Best is trial 57 with value: 0.13129813063305099.\n",
      "[I 2025-07-23 23:44:23,649] Trial 489 finished with value: -0.16104919201489398 and parameters: {'n_clusters': 133, 'linkage': 'single'}. Best is trial 57 with value: 0.13129813063305099.\n",
      "[I 2025-07-23 23:44:23,937] Trial 490 finished with value: 0.06610106333179255 and parameters: {'n_clusters': 32, 'linkage': 'average'}. Best is trial 57 with value: 0.13129813063305099.\n",
      "[I 2025-07-23 23:44:24,269] Trial 491 finished with value: 0.07050087564797156 and parameters: {'n_clusters': 38, 'linkage': 'average'}. Best is trial 57 with value: 0.13129813063305099.\n",
      "[I 2025-07-23 23:44:24,559] Trial 492 finished with value: 0.1042547111582721 and parameters: {'n_clusters': 79, 'linkage': 'ward'}. Best is trial 57 with value: 0.13129813063305099.\n",
      "[I 2025-07-23 23:44:24,848] Trial 493 finished with value: 0.05963531199633614 and parameters: {'n_clusters': 33, 'linkage': 'complete'}. Best is trial 57 with value: 0.13129813063305099.\n",
      "[I 2025-07-23 23:44:25,144] Trial 494 finished with value: 0.0995354216162362 and parameters: {'n_clusters': 58, 'linkage': 'ward'}. Best is trial 57 with value: 0.13129813063305099.\n",
      "[I 2025-07-23 23:44:25,434] Trial 495 finished with value: 0.07845225663044914 and parameters: {'n_clusters': 69, 'linkage': 'complete'}. Best is trial 57 with value: 0.13129813063305099.\n",
      "[I 2025-07-23 23:44:25,726] Trial 496 finished with value: 0.08970120204504696 and parameters: {'n_clusters': 101, 'linkage': 'complete'}. Best is trial 57 with value: 0.13129813063305099.\n",
      "[I 2025-07-23 23:44:26,019] Trial 497 finished with value: 0.1023093372632498 and parameters: {'n_clusters': 125, 'linkage': 'complete'}. Best is trial 57 with value: 0.13129813063305099.\n",
      "[I 2025-07-23 23:44:26,311] Trial 498 finished with value: 0.07522818202239134 and parameters: {'n_clusters': 76, 'linkage': 'average'}. Best is trial 57 with value: 0.13129813063305099.\n",
      "[I 2025-07-23 23:44:26,606] Trial 499 finished with value: 0.10073039269815252 and parameters: {'n_clusters': 148, 'linkage': 'average'}. Best is trial 57 with value: 0.13129813063305099.\n",
      "[I 2025-07-23 23:44:26,901] Trial 500 finished with value: -0.1758498006670157 and parameters: {'n_clusters': 112, 'linkage': 'single'}. Best is trial 57 with value: 0.13129813063305099.\n",
      "[I 2025-07-23 23:44:27,202] Trial 501 finished with value: 0.08990842973715762 and parameters: {'n_clusters': 96, 'linkage': 'average'}. Best is trial 57 with value: 0.13129813063305099.\n",
      "[I 2025-07-23 23:44:27,495] Trial 502 finished with value: 0.012758714235713437 and parameters: {'n_clusters': 17, 'linkage': 'average'}. Best is trial 57 with value: 0.13129813063305099.\n",
      "[I 2025-07-23 23:44:27,789] Trial 503 finished with value: -0.014256241218663777 and parameters: {'n_clusters': 12, 'linkage': 'average'}. Best is trial 57 with value: 0.13129813063305099.\n",
      "[I 2025-07-23 23:44:28,083] Trial 504 finished with value: 0.07468931325334852 and parameters: {'n_clusters': 62, 'linkage': 'complete'}. Best is trial 57 with value: 0.13129813063305099.\n",
      "[I 2025-07-23 23:44:28,381] Trial 505 finished with value: -0.17538168472275847 and parameters: {'n_clusters': 117, 'linkage': 'single'}. Best is trial 57 with value: 0.13129813063305099.\n",
      "[I 2025-07-23 23:44:28,709] Trial 506 finished with value: 0.0728410105083598 and parameters: {'n_clusters': 49, 'linkage': 'average'}. Best is trial 57 with value: 0.13129813063305099.\n",
      "[I 2025-07-23 23:44:29,009] Trial 507 finished with value: 0.08355743042059459 and parameters: {'n_clusters': 84, 'linkage': 'complete'}. Best is trial 57 with value: 0.13129813063305099.\n",
      "[I 2025-07-23 23:44:29,308] Trial 508 finished with value: -0.12983099388695749 and parameters: {'n_clusters': 47, 'linkage': 'single'}. Best is trial 57 with value: 0.13129813063305099.\n",
      "[I 2025-07-23 23:44:29,654] Trial 509 finished with value: 0.1275569959767319 and parameters: {'n_clusters': 141, 'linkage': 'ward'}. Best is trial 57 with value: 0.13129813063305099.\n",
      "[I 2025-07-23 23:44:29,952] Trial 510 finished with value: -0.17949851689783505 and parameters: {'n_clusters': 87, 'linkage': 'single'}. Best is trial 57 with value: 0.13129813063305099.\n",
      "[I 2025-07-23 23:44:30,253] Trial 511 finished with value: 0.12750771273649478 and parameters: {'n_clusters': 137, 'linkage': 'ward'}. Best is trial 57 with value: 0.13129813063305099.\n",
      "[I 2025-07-23 23:44:30,555] Trial 512 finished with value: 0.09905864000657402 and parameters: {'n_clusters': 57, 'linkage': 'ward'}. Best is trial 57 with value: 0.13129813063305099.\n",
      "[I 2025-07-23 23:44:30,874] Trial 513 finished with value: 0.07320335081812145 and parameters: {'n_clusters': 52, 'linkage': 'complete'}. Best is trial 57 with value: 0.13129813063305099.\n",
      "[I 2025-07-23 23:44:31,204] Trial 514 finished with value: 0.07417028108297151 and parameters: {'n_clusters': 72, 'linkage': 'average'}. Best is trial 57 with value: 0.13129813063305099.\n",
      "[I 2025-07-23 23:44:31,521] Trial 515 finished with value: 0.11129841159583245 and parameters: {'n_clusters': 94, 'linkage': 'ward'}. Best is trial 57 with value: 0.13129813063305099.\n",
      "[I 2025-07-23 23:44:31,885] Trial 516 finished with value: 0.10257182618904506 and parameters: {'n_clusters': 126, 'linkage': 'complete'}. Best is trial 57 with value: 0.13129813063305099.\n",
      "[I 2025-07-23 23:44:32,204] Trial 517 finished with value: 0.11634771583385697 and parameters: {'n_clusters': 101, 'linkage': 'ward'}. Best is trial 57 with value: 0.13129813063305099.\n",
      "[I 2025-07-23 23:44:32,508] Trial 518 finished with value: 0.10927049269255325 and parameters: {'n_clusters': 92, 'linkage': 'ward'}. Best is trial 57 with value: 0.13129813063305099.\n",
      "[I 2025-07-23 23:44:32,823] Trial 519 finished with value: -0.012181149978898133 and parameters: {'n_clusters': 17, 'linkage': 'single'}. Best is trial 57 with value: 0.13129813063305099.\n",
      "[I 2025-07-23 23:44:33,177] Trial 520 finished with value: 0.12478425379310508 and parameters: {'n_clusters': 129, 'linkage': 'ward'}. Best is trial 57 with value: 0.13129813063305099.\n",
      "[I 2025-07-23 23:44:33,477] Trial 521 finished with value: 0.046437658257183025 and parameters: {'n_clusters': 19, 'linkage': 'complete'}. Best is trial 57 with value: 0.13129813063305099.\n",
      "[I 2025-07-23 23:44:33,787] Trial 522 finished with value: 0.10064708798397089 and parameters: {'n_clusters': 67, 'linkage': 'ward'}. Best is trial 57 with value: 0.13129813063305099.\n",
      "[I 2025-07-23 23:44:34,132] Trial 523 finished with value: 0.06883427818315656 and parameters: {'n_clusters': 49, 'linkage': 'complete'}. Best is trial 57 with value: 0.13129813063305099.\n",
      "[I 2025-07-23 23:44:34,455] Trial 524 finished with value: 0.09365069660576583 and parameters: {'n_clusters': 126, 'linkage': 'average'}. Best is trial 57 with value: 0.13129813063305099.\n",
      "[I 2025-07-23 23:44:34,779] Trial 525 finished with value: -0.08285125112969854 and parameters: {'n_clusters': 29, 'linkage': 'single'}. Best is trial 57 with value: 0.13129813063305099.\n",
      "[I 2025-07-23 23:44:35,161] Trial 526 finished with value: 0.09832100617859613 and parameters: {'n_clusters': 52, 'linkage': 'ward'}. Best is trial 57 with value: 0.13129813063305099.\n",
      "[I 2025-07-23 23:44:35,499] Trial 527 finished with value: 0.0984428947981716 and parameters: {'n_clusters': 116, 'linkage': 'complete'}. Best is trial 57 with value: 0.13129813063305099.\n",
      "[I 2025-07-23 23:44:35,834] Trial 528 finished with value: 0.07350678151682244 and parameters: {'n_clusters': 63, 'linkage': 'complete'}. Best is trial 57 with value: 0.13129813063305099.\n",
      "[I 2025-07-23 23:44:36,174] Trial 529 finished with value: 0.09857519255445539 and parameters: {'n_clusters': 142, 'linkage': 'average'}. Best is trial 57 with value: 0.13129813063305099.\n",
      "[I 2025-07-23 23:44:36,494] Trial 530 finished with value: -0.18293035354858905 and parameters: {'n_clusters': 75, 'linkage': 'single'}. Best is trial 57 with value: 0.13129813063305099.\n",
      "[I 2025-07-23 23:44:36,819] Trial 531 finished with value: 0.09921788505705219 and parameters: {'n_clusters': 63, 'linkage': 'ward'}. Best is trial 57 with value: 0.13129813063305099.\n",
      "[I 2025-07-23 23:44:37,149] Trial 532 finished with value: -0.17679459278598492 and parameters: {'n_clusters': 120, 'linkage': 'single'}. Best is trial 57 with value: 0.13129813063305099.\n",
      "[I 2025-07-23 23:44:37,473] Trial 533 finished with value: 0.12740051807315875 and parameters: {'n_clusters': 138, 'linkage': 'ward'}. Best is trial 57 with value: 0.13129813063305099.\n",
      "[I 2025-07-23 23:44:37,801] Trial 534 finished with value: 0.08987384143592254 and parameters: {'n_clusters': 38, 'linkage': 'ward'}. Best is trial 57 with value: 0.13129813063305099.\n",
      "[I 2025-07-23 23:44:38,154] Trial 535 finished with value: 0.07318657852595012 and parameters: {'n_clusters': 52, 'linkage': 'average'}. Best is trial 57 with value: 0.13129813063305099.\n",
      "[I 2025-07-23 23:44:38,502] Trial 536 finished with value: -0.12812996535822524 and parameters: {'n_clusters': 46, 'linkage': 'single'}. Best is trial 57 with value: 0.13129813063305099.\n",
      "[I 2025-07-23 23:44:38,852] Trial 537 finished with value: -0.17520386038884775 and parameters: {'n_clusters': 97, 'linkage': 'single'}. Best is trial 57 with value: 0.13129813063305099.\n",
      "[I 2025-07-23 23:44:39,171] Trial 538 finished with value: 0.04115650252150501 and parameters: {'n_clusters': 20, 'linkage': 'average'}. Best is trial 57 with value: 0.13129813063305099.\n",
      "[I 2025-07-23 23:44:39,487] Trial 539 finished with value: 0.09378124693683083 and parameters: {'n_clusters': 113, 'linkage': 'average'}. Best is trial 57 with value: 0.13129813063305099.\n",
      "[I 2025-07-23 23:44:39,805] Trial 540 finished with value: 0.09497935844993233 and parameters: {'n_clusters': 134, 'linkage': 'average'}. Best is trial 57 with value: 0.13129813063305099.\n",
      "[I 2025-07-23 23:44:40,121] Trial 541 finished with value: 0.048968848392153125 and parameters: {'n_clusters': 16, 'linkage': 'complete'}. Best is trial 57 with value: 0.13129813063305099.\n",
      "[I 2025-07-23 23:44:40,445] Trial 542 finished with value: -0.0034402679231110124 and parameters: {'n_clusters': 10, 'linkage': 'single'}. Best is trial 57 with value: 0.13129813063305099.\n",
      "[I 2025-07-23 23:44:40,818] Trial 543 finished with value: 0.015222502808194751 and parameters: {'n_clusters': 16, 'linkage': 'average'}. Best is trial 57 with value: 0.13129813063305099.\n",
      "[I 2025-07-23 23:44:41,134] Trial 544 finished with value: 0.06727086459945539 and parameters: {'n_clusters': 46, 'linkage': 'average'}. Best is trial 57 with value: 0.13129813063305099.\n",
      "[I 2025-07-23 23:44:41,453] Trial 545 finished with value: 0.11865246675163799 and parameters: {'n_clusters': 109, 'linkage': 'ward'}. Best is trial 57 with value: 0.13129813063305099.\n",
      "[I 2025-07-23 23:44:41,774] Trial 546 finished with value: -0.11810796605300238 and parameters: {'n_clusters': 35, 'linkage': 'single'}. Best is trial 57 with value: 0.13129813063305099.\n",
      "[I 2025-07-23 23:44:42,095] Trial 547 finished with value: -0.015092638038825233 and parameters: {'n_clusters': 18, 'linkage': 'single'}. Best is trial 57 with value: 0.13129813063305099.\n",
      "[I 2025-07-23 23:44:42,469] Trial 548 finished with value: 0.12397117171736123 and parameters: {'n_clusters': 125, 'linkage': 'ward'}. Best is trial 57 with value: 0.13129813063305099.\n",
      "[I 2025-07-23 23:44:42,799] Trial 549 finished with value: 0.10538576923520473 and parameters: {'n_clusters': 82, 'linkage': 'ward'}. Best is trial 57 with value: 0.13129813063305099.\n",
      "[I 2025-07-23 23:44:43,118] Trial 550 finished with value: -0.17907661968054578 and parameters: {'n_clusters': 124, 'linkage': 'single'}. Best is trial 57 with value: 0.13129813063305099.\n",
      "[I 2025-07-23 23:44:43,443] Trial 551 finished with value: 0.06432705660228054 and parameters: {'n_clusters': 43, 'linkage': 'average'}. Best is trial 57 with value: 0.13129813063305099.\n",
      "[I 2025-07-23 23:44:43,767] Trial 552 finished with value: 0.11278002682457607 and parameters: {'n_clusters': 97, 'linkage': 'ward'}. Best is trial 57 with value: 0.13129813063305099.\n",
      "[I 2025-07-23 23:44:44,094] Trial 553 finished with value: -0.16954304197345998 and parameters: {'n_clusters': 138, 'linkage': 'single'}. Best is trial 57 with value: 0.13129813063305099.\n",
      "[I 2025-07-23 23:44:44,416] Trial 554 finished with value: -0.17830143380752786 and parameters: {'n_clusters': 73, 'linkage': 'single'}. Best is trial 57 with value: 0.13129813063305099.\n",
      "[I 2025-07-23 23:44:44,742] Trial 555 finished with value: 0.06959849560717962 and parameters: {'n_clusters': 42, 'linkage': 'complete'}. Best is trial 57 with value: 0.13129813063305099.\n",
      "[I 2025-07-23 23:44:45,070] Trial 556 finished with value: 0.10304885877593864 and parameters: {'n_clusters': 124, 'linkage': 'complete'}. Best is trial 57 with value: 0.13129813063305099.\n",
      "[I 2025-07-23 23:44:45,394] Trial 557 finished with value: -0.16237218947630908 and parameters: {'n_clusters': 59, 'linkage': 'single'}. Best is trial 57 with value: 0.13129813063305099.\n",
      "[I 2025-07-23 23:44:45,725] Trial 558 finished with value: 0.10541447000485209 and parameters: {'n_clusters': 80, 'linkage': 'ward'}. Best is trial 57 with value: 0.13129813063305099.\n",
      "[I 2025-07-23 23:44:46,142] Trial 559 finished with value: 0.10305092061750935 and parameters: {'n_clusters': 146, 'linkage': 'average'}. Best is trial 57 with value: 0.13129813063305099.\n",
      "[I 2025-07-23 23:44:46,485] Trial 560 finished with value: 0.0746339261600022 and parameters: {'n_clusters': 19, 'linkage': 'ward'}. Best is trial 57 with value: 0.13129813063305099.\n",
      "[I 2025-07-23 23:44:46,824] Trial 561 finished with value: 0.08320659595584988 and parameters: {'n_clusters': 87, 'linkage': 'complete'}. Best is trial 57 with value: 0.13129813063305099.\n",
      "[I 2025-07-23 23:44:47,156] Trial 562 finished with value: 0.074989336556847 and parameters: {'n_clusters': 61, 'linkage': 'average'}. Best is trial 57 with value: 0.13129813063305099.\n",
      "[I 2025-07-23 23:44:47,490] Trial 563 finished with value: -0.1498284626370417 and parameters: {'n_clusters': 146, 'linkage': 'single'}. Best is trial 57 with value: 0.13129813063305099.\n"
     ]
    }
   ],
   "source": [
    "# Executar estudo do Optuna para Aglomerative (Aglomerative)\n",
    "estudo_ag.optimize(hierachical_aglorerative_objective, n_trials=600)"
   ]
  },
  {
   "cell_type": "code",
   "execution_count": 48,
   "metadata": {},
   "outputs": [
    {
     "name": "stdout",
     "output_type": "stream",
     "text": [
      "Clusters = 150\n",
      "Linkage = ward\n"
     ]
    }
   ],
   "source": [
    "# Mostrar melhor configuração do Optuna (Aglomerative)\n",
    "best_params_ag = estudo_ag.best_params\n",
    "\n",
    "print(f'Clusters = {best_params_ag[\"n_clusters\"]}')\n",
    "print(f'Linkage = {best_params_ag[\"linkage\"]}')"
   ]
  },
  {
   "cell_type": "code",
   "execution_count": 49,
   "metadata": {},
   "outputs": [],
   "source": [
    "# Função para otimização do modelo - DIVISIVO\n",
    "\n",
    "def hierachical_divisive_objective(trial):\n",
    "    # Definindos os hiperparâmetros a serem ajustados\n",
    "    n_clusters = trial.suggest_int('n_clusters', 10, 150)\n",
    "\n",
    "    # Instanciar o modelo\n",
    "    hierachica_model = BisectingKMeans(n_clusters=n_clusters)\n",
    "\n",
    "    # Treinar o modelo e já executar a clusterização \n",
    "    y = hierachica_model.fit_predict(X_transformed)\n",
    "\n",
    "    # Calcular o Silhoutte Score\n",
    "    silhouette_avg = silhouette_score(X_transformed, y)\n",
    "\n",
    "    return silhouette_avg"
   ]
  },
  {
   "cell_type": "code",
   "execution_count": 50,
   "metadata": {},
   "outputs": [
    {
     "name": "stderr",
     "output_type": "stream",
     "text": [
      "[I 2025-07-23 23:46:15,265] A new study created in memory with name: no-name-68605030-4959-43f4-a5e0-6429cfa3c5d3\n"
     ]
    }
   ],
   "source": [
    "# Criar estudo no Optuna (Divisive)\n",
    "search_space_di = {'n_clusters': range(10, 151)}\n",
    "sampler_di = optuna.samplers.GridSampler(search_space=search_space_di)\n",
    "estudo_di = optuna.create_study(direction='maximize', sampler=sampler_di)"
   ]
  },
  {
   "cell_type": "code",
   "execution_count": 51,
   "metadata": {},
   "outputs": [
    {
     "name": "stderr",
     "output_type": "stream",
     "text": [
      "[I 2025-07-23 23:46:26,050] Trial 0 finished with value: 0.053536286732362395 and parameters: {'n_clusters': 55}. Best is trial 0 with value: 0.053536286732362395.\n",
      "[I 2025-07-23 23:46:26,340] Trial 1 finished with value: 0.043254449832710866 and parameters: {'n_clusters': 70}. Best is trial 0 with value: 0.053536286732362395.\n",
      "[I 2025-07-23 23:46:26,437] Trial 2 finished with value: 0.06701697658197678 and parameters: {'n_clusters': 17}. Best is trial 2 with value: 0.06701697658197678.\n",
      "[I 2025-07-23 23:46:26,680] Trial 3 finished with value: 0.05283925137764129 and parameters: {'n_clusters': 61}. Best is trial 2 with value: 0.06701697658197678.\n",
      "[I 2025-07-23 23:46:26,973] Trial 4 finished with value: 0.042114933325166394 and parameters: {'n_clusters': 76}. Best is trial 2 with value: 0.06701697658197678.\n",
      "[I 2025-07-23 23:46:27,134] Trial 5 finished with value: 0.06069698716640187 and parameters: {'n_clusters': 37}. Best is trial 2 with value: 0.06701697658197678.\n",
      "[I 2025-07-23 23:46:27,460] Trial 6 finished with value: 0.05020178751460867 and parameters: {'n_clusters': 81}. Best is trial 2 with value: 0.06701697658197678.\n",
      "[I 2025-07-23 23:46:27,727] Trial 7 finished with value: 0.046869505595495596 and parameters: {'n_clusters': 64}. Best is trial 2 with value: 0.06701697658197678.\n",
      "[I 2025-07-23 23:46:28,296] Trial 8 finished with value: 0.025868177027966417 and parameters: {'n_clusters': 133}. Best is trial 2 with value: 0.06701697658197678.\n",
      "[I 2025-07-23 23:46:28,390] Trial 9 finished with value: 0.062198261179078215 and parameters: {'n_clusters': 18}. Best is trial 2 with value: 0.06701697658197678.\n",
      "[I 2025-07-23 23:46:28,822] Trial 10 finished with value: 0.04007802284260891 and parameters: {'n_clusters': 86}. Best is trial 2 with value: 0.06701697658197678.\n",
      "[I 2025-07-23 23:46:28,944] Trial 11 finished with value: 0.04604241415469281 and parameters: {'n_clusters': 26}. Best is trial 2 with value: 0.06701697658197678.\n",
      "[I 2025-07-23 23:46:29,455] Trial 12 finished with value: 0.020991590932435945 and parameters: {'n_clusters': 135}. Best is trial 2 with value: 0.06701697658197678.\n",
      "[I 2025-07-23 23:46:30,000] Trial 13 finished with value: 0.028692551109605596 and parameters: {'n_clusters': 132}. Best is trial 2 with value: 0.06701697658197678.\n",
      "[I 2025-07-23 23:46:30,504] Trial 14 finished with value: 0.006442848133997252 and parameters: {'n_clusters': 134}. Best is trial 2 with value: 0.06701697658197678.\n",
      "[I 2025-07-23 23:46:30,930] Trial 15 finished with value: 0.034759740297677165 and parameters: {'n_clusters': 108}. Best is trial 2 with value: 0.06701697658197678.\n",
      "[I 2025-07-23 23:46:31,436] Trial 16 finished with value: 0.039797923843307166 and parameters: {'n_clusters': 115}. Best is trial 2 with value: 0.06701697658197678.\n",
      "[I 2025-07-23 23:46:31,859] Trial 17 finished with value: 0.044683326653118235 and parameters: {'n_clusters': 93}. Best is trial 2 with value: 0.06701697658197678.\n",
      "[I 2025-07-23 23:46:32,085] Trial 18 finished with value: 0.06728232385018415 and parameters: {'n_clusters': 43}. Best is trial 18 with value: 0.06728232385018415.\n",
      "[I 2025-07-23 23:46:32,408] Trial 19 finished with value: 0.05662365706125772 and parameters: {'n_clusters': 66}. Best is trial 18 with value: 0.06728232385018415.\n",
      "[I 2025-07-23 23:46:33,050] Trial 20 finished with value: 0.04778901146011778 and parameters: {'n_clusters': 101}. Best is trial 18 with value: 0.06728232385018415.\n",
      "[I 2025-07-23 23:46:33,241] Trial 21 finished with value: 0.06811676494567866 and parameters: {'n_clusters': 32}. Best is trial 21 with value: 0.06811676494567866.\n",
      "[I 2025-07-23 23:46:33,809] Trial 22 finished with value: 0.01974019898465421 and parameters: {'n_clusters': 147}. Best is trial 21 with value: 0.06811676494567866.\n",
      "[I 2025-07-23 23:46:33,977] Trial 23 finished with value: 0.06197705166795886 and parameters: {'n_clusters': 34}. Best is trial 21 with value: 0.06811676494567866.\n",
      "[I 2025-07-23 23:46:34,170] Trial 24 finished with value: 0.08107213602177277 and parameters: {'n_clusters': 12}. Best is trial 24 with value: 0.08107213602177277.\n",
      "[I 2025-07-23 23:46:34,694] Trial 25 finished with value: 0.017713497520877492 and parameters: {'n_clusters': 121}. Best is trial 24 with value: 0.08107213602177277.\n",
      "[I 2025-07-23 23:46:34,879] Trial 26 finished with value: 0.06300971169924309 and parameters: {'n_clusters': 36}. Best is trial 24 with value: 0.08107213602177277.\n",
      "[I 2025-07-23 23:46:35,480] Trial 27 finished with value: 0.021898894095301446 and parameters: {'n_clusters': 131}. Best is trial 24 with value: 0.08107213602177277.\n",
      "[I 2025-07-23 23:46:35,663] Trial 28 finished with value: 0.05968348160385774 and parameters: {'n_clusters': 28}. Best is trial 24 with value: 0.08107213602177277.\n",
      "[I 2025-07-23 23:46:35,791] Trial 29 finished with value: 0.05834926467024674 and parameters: {'n_clusters': 20}. Best is trial 24 with value: 0.08107213602177277.\n",
      "[I 2025-07-23 23:46:36,221] Trial 30 finished with value: 0.03652713922999741 and parameters: {'n_clusters': 106}. Best is trial 24 with value: 0.08107213602177277.\n",
      "[I 2025-07-23 23:46:36,469] Trial 31 finished with value: 0.057104236182976206 and parameters: {'n_clusters': 53}. Best is trial 24 with value: 0.08107213602177277.\n",
      "[I 2025-07-23 23:46:36,918] Trial 32 finished with value: 0.035054224199802884 and parameters: {'n_clusters': 110}. Best is trial 24 with value: 0.08107213602177277.\n",
      "[I 2025-07-23 23:46:37,404] Trial 33 finished with value: 0.03985177753479859 and parameters: {'n_clusters': 118}. Best is trial 24 with value: 0.08107213602177277.\n",
      "[I 2025-07-23 23:46:37,771] Trial 34 finished with value: 0.04497664666642882 and parameters: {'n_clusters': 60}. Best is trial 24 with value: 0.08107213602177277.\n",
      "[I 2025-07-23 23:46:38,157] Trial 35 finished with value: 0.032112406160690506 and parameters: {'n_clusters': 94}. Best is trial 24 with value: 0.08107213602177277.\n",
      "[I 2025-07-23 23:46:38,465] Trial 36 finished with value: 0.030731412276159168 and parameters: {'n_clusters': 71}. Best is trial 24 with value: 0.08107213602177277.\n",
      "[I 2025-07-23 23:46:38,938] Trial 37 finished with value: 0.027968905393984212 and parameters: {'n_clusters': 117}. Best is trial 24 with value: 0.08107213602177277.\n",
      "[I 2025-07-23 23:46:39,343] Trial 38 finished with value: 0.05763189835341291 and parameters: {'n_clusters': 100}. Best is trial 24 with value: 0.08107213602177277.\n",
      "[I 2025-07-23 23:46:39,666] Trial 39 finished with value: 0.044205648890326396 and parameters: {'n_clusters': 69}. Best is trial 24 with value: 0.08107213602177277.\n",
      "[I 2025-07-23 23:46:39,967] Trial 40 finished with value: 0.06791544430170682 and parameters: {'n_clusters': 54}. Best is trial 24 with value: 0.08107213602177277.\n",
      "[I 2025-07-23 23:46:40,162] Trial 41 finished with value: 0.06259076797561222 and parameters: {'n_clusters': 40}. Best is trial 24 with value: 0.08107213602177277.\n",
      "[I 2025-07-23 23:46:40,788] Trial 42 finished with value: 0.030568284403431078 and parameters: {'n_clusters': 122}. Best is trial 24 with value: 0.08107213602177277.\n",
      "[I 2025-07-23 23:46:41,212] Trial 43 finished with value: 0.03299548778584526 and parameters: {'n_clusters': 88}. Best is trial 24 with value: 0.08107213602177277.\n",
      "[I 2025-07-23 23:46:41,783] Trial 44 finished with value: 0.05021394438587599 and parameters: {'n_clusters': 142}. Best is trial 24 with value: 0.08107213602177277.\n",
      "[I 2025-07-23 23:46:42,149] Trial 45 finished with value: 0.045939187894060124 and parameters: {'n_clusters': 78}. Best is trial 24 with value: 0.08107213602177277.\n",
      "[I 2025-07-23 23:46:42,611] Trial 46 finished with value: 0.04251947593169712 and parameters: {'n_clusters': 103}. Best is trial 24 with value: 0.08107213602177277.\n",
      "[I 2025-07-23 23:46:43,062] Trial 47 finished with value: 0.039593241866512 and parameters: {'n_clusters': 95}. Best is trial 24 with value: 0.08107213602177277.\n",
      "[I 2025-07-23 23:46:43,351] Trial 48 finished with value: 0.04233872273413184 and parameters: {'n_clusters': 58}. Best is trial 24 with value: 0.08107213602177277.\n",
      "[I 2025-07-23 23:46:43,968] Trial 49 finished with value: 0.016681759745146987 and parameters: {'n_clusters': 145}. Best is trial 24 with value: 0.08107213602177277.\n",
      "[I 2025-07-23 23:46:44,175] Trial 50 finished with value: 0.0716285846321545 and parameters: {'n_clusters': 23}. Best is trial 24 with value: 0.08107213602177277.\n",
      "[I 2025-07-23 23:46:44,951] Trial 51 finished with value: 0.04298339075972378 and parameters: {'n_clusters': 102}. Best is trial 24 with value: 0.08107213602177277.\n",
      "[I 2025-07-23 23:46:45,865] Trial 52 finished with value: 0.03707960121589051 and parameters: {'n_clusters': 105}. Best is trial 24 with value: 0.08107213602177277.\n",
      "[I 2025-07-23 23:46:46,493] Trial 53 finished with value: 0.039792903422507485 and parameters: {'n_clusters': 83}. Best is trial 24 with value: 0.08107213602177277.\n",
      "[I 2025-07-23 23:46:47,352] Trial 54 finished with value: 0.032922726349121106 and parameters: {'n_clusters': 129}. Best is trial 24 with value: 0.08107213602177277.\n",
      "[I 2025-07-23 23:46:47,509] Trial 55 finished with value: 0.06689571753315622 and parameters: {'n_clusters': 25}. Best is trial 24 with value: 0.08107213602177277.\n",
      "[I 2025-07-23 23:46:48,221] Trial 56 finished with value: 0.03230358082441111 and parameters: {'n_clusters': 126}. Best is trial 24 with value: 0.08107213602177277.\n",
      "[I 2025-07-23 23:46:48,475] Trial 57 finished with value: 0.04474262296418446 and parameters: {'n_clusters': 50}. Best is trial 24 with value: 0.08107213602177277.\n",
      "[I 2025-07-23 23:46:48,798] Trial 58 finished with value: 0.041239370719432 and parameters: {'n_clusters': 72}. Best is trial 24 with value: 0.08107213602177277.\n",
      "[I 2025-07-23 23:46:49,378] Trial 59 finished with value: 0.035291614133685846 and parameters: {'n_clusters': 138}. Best is trial 24 with value: 0.08107213602177277.\n",
      "[I 2025-07-23 23:46:50,134] Trial 60 finished with value: 0.022840902089120305 and parameters: {'n_clusters': 148}. Best is trial 24 with value: 0.08107213602177277.\n",
      "[I 2025-07-23 23:46:50,292] Trial 61 finished with value: 0.06482760620191008 and parameters: {'n_clusters': 13}. Best is trial 24 with value: 0.08107213602177277.\n",
      "[I 2025-07-23 23:46:50,810] Trial 62 finished with value: 0.05026279599351222 and parameters: {'n_clusters': 62}. Best is trial 24 with value: 0.08107213602177277.\n",
      "[I 2025-07-23 23:46:51,366] Trial 63 finished with value: 0.048486317720774566 and parameters: {'n_clusters': 73}. Best is trial 24 with value: 0.08107213602177277.\n",
      "[I 2025-07-23 23:46:52,032] Trial 64 finished with value: 0.03135871333987096 and parameters: {'n_clusters': 123}. Best is trial 24 with value: 0.08107213602177277.\n",
      "[I 2025-07-23 23:46:52,214] Trial 65 finished with value: 0.07179410020851638 and parameters: {'n_clusters': 16}. Best is trial 24 with value: 0.08107213602177277.\n",
      "[I 2025-07-23 23:46:53,036] Trial 66 finished with value: 0.015706222946577003 and parameters: {'n_clusters': 149}. Best is trial 24 with value: 0.08107213602177277.\n",
      "[I 2025-07-23 23:46:53,187] Trial 67 finished with value: 0.0700998154314179 and parameters: {'n_clusters': 22}. Best is trial 24 with value: 0.08107213602177277.\n",
      "[I 2025-07-23 23:46:53,704] Trial 68 finished with value: 0.03314030386200281 and parameters: {'n_clusters': 96}. Best is trial 24 with value: 0.08107213602177277.\n",
      "[I 2025-07-23 23:46:54,172] Trial 69 finished with value: 0.04077822118846521 and parameters: {'n_clusters': 114}. Best is trial 24 with value: 0.08107213602177277.\n",
      "[I 2025-07-23 23:46:54,733] Trial 70 finished with value: 0.026659793694487566 and parameters: {'n_clusters': 119}. Best is trial 24 with value: 0.08107213602177277.\n",
      "[I 2025-07-23 23:46:55,539] Trial 71 finished with value: 0.027746873753974714 and parameters: {'n_clusters': 137}. Best is trial 24 with value: 0.08107213602177277.\n",
      "[I 2025-07-23 23:46:55,696] Trial 72 finished with value: 0.06220704886936422 and parameters: {'n_clusters': 21}. Best is trial 24 with value: 0.08107213602177277.\n",
      "[I 2025-07-23 23:46:56,151] Trial 73 finished with value: 0.029048236042597667 and parameters: {'n_clusters': 104}. Best is trial 24 with value: 0.08107213602177277.\n",
      "[I 2025-07-23 23:46:56,736] Trial 74 finished with value: 0.04063281614599589 and parameters: {'n_clusters': 120}. Best is trial 24 with value: 0.08107213602177277.\n",
      "[I 2025-07-23 23:46:57,020] Trial 75 finished with value: 0.052075555805516545 and parameters: {'n_clusters': 51}. Best is trial 24 with value: 0.08107213602177277.\n",
      "[I 2025-07-23 23:46:57,515] Trial 76 finished with value: 0.028763022800934603 and parameters: {'n_clusters': 111}. Best is trial 24 with value: 0.08107213602177277.\n",
      "[I 2025-07-23 23:46:57,626] Trial 77 finished with value: 0.06248613288685932 and parameters: {'n_clusters': 11}. Best is trial 24 with value: 0.08107213602177277.\n",
      "[I 2025-07-23 23:46:58,294] Trial 78 finished with value: 0.015152546740693005 and parameters: {'n_clusters': 107}. Best is trial 24 with value: 0.08107213602177277.\n",
      "[I 2025-07-23 23:46:59,028] Trial 79 finished with value: 0.04181944532157817 and parameters: {'n_clusters': 140}. Best is trial 24 with value: 0.08107213602177277.\n",
      "[I 2025-07-23 23:46:59,335] Trial 80 finished with value: 0.07042196374263149 and parameters: {'n_clusters': 52}. Best is trial 24 with value: 0.08107213602177277.\n",
      "[I 2025-07-23 23:46:59,470] Trial 81 finished with value: 0.07637456864350119 and parameters: {'n_clusters': 14}. Best is trial 24 with value: 0.08107213602177277.\n",
      "[I 2025-07-23 23:47:00,028] Trial 82 finished with value: 0.026343301925872052 and parameters: {'n_clusters': 124}. Best is trial 24 with value: 0.08107213602177277.\n",
      "[I 2025-07-23 23:47:00,220] Trial 83 finished with value: 0.06859949561845353 and parameters: {'n_clusters': 27}. Best is trial 24 with value: 0.08107213602177277.\n",
      "[I 2025-07-23 23:47:00,481] Trial 84 finished with value: 0.05917461233476627 and parameters: {'n_clusters': 48}. Best is trial 24 with value: 0.08107213602177277.\n",
      "[I 2025-07-23 23:47:00,615] Trial 85 finished with value: 0.07785732535154487 and parameters: {'n_clusters': 15}. Best is trial 24 with value: 0.08107213602177277.\n",
      "[I 2025-07-23 23:47:00,931] Trial 86 finished with value: 0.03752508125825161 and parameters: {'n_clusters': 63}. Best is trial 24 with value: 0.08107213602177277.\n",
      "[I 2025-07-23 23:47:01,563] Trial 87 finished with value: 0.030396103727610774 and parameters: {'n_clusters': 144}. Best is trial 24 with value: 0.08107213602177277.\n",
      "[I 2025-07-23 23:47:02,023] Trial 88 finished with value: 0.0456008721045984 and parameters: {'n_clusters': 99}. Best is trial 24 with value: 0.08107213602177277.\n",
      "[I 2025-07-23 23:47:02,146] Trial 89 finished with value: 0.0785731407297913 and parameters: {'n_clusters': 10}. Best is trial 24 with value: 0.08107213602177277.\n",
      "[I 2025-07-23 23:47:02,426] Trial 90 finished with value: 0.05622909782046862 and parameters: {'n_clusters': 44}. Best is trial 24 with value: 0.08107213602177277.\n",
      "[I 2025-07-23 23:47:02,655] Trial 91 finished with value: 0.06773433782590847 and parameters: {'n_clusters': 38}. Best is trial 24 with value: 0.08107213602177277.\n",
      "[I 2025-07-23 23:47:02,998] Trial 92 finished with value: 0.05178403945108784 and parameters: {'n_clusters': 65}. Best is trial 24 with value: 0.08107213602177277.\n",
      "[I 2025-07-23 23:47:03,440] Trial 93 finished with value: 0.03745460897113281 and parameters: {'n_clusters': 85}. Best is trial 24 with value: 0.08107213602177277.\n",
      "[I 2025-07-23 23:47:03,701] Trial 94 finished with value: 0.06204120028482791 and parameters: {'n_clusters': 45}. Best is trial 24 with value: 0.08107213602177277.\n",
      "[I 2025-07-23 23:47:03,907] Trial 95 finished with value: 0.05817529743988494 and parameters: {'n_clusters': 33}. Best is trial 24 with value: 0.08107213602177277.\n",
      "[I 2025-07-23 23:47:04,316] Trial 96 finished with value: 0.04522360483119943 and parameters: {'n_clusters': 84}. Best is trial 24 with value: 0.08107213602177277.\n",
      "[I 2025-07-23 23:47:04,568] Trial 97 finished with value: 0.060371581295591954 and parameters: {'n_clusters': 41}. Best is trial 24 with value: 0.08107213602177277.\n",
      "[I 2025-07-23 23:47:05,104] Trial 98 finished with value: 0.032535201501262205 and parameters: {'n_clusters': 112}. Best is trial 24 with value: 0.08107213602177277.\n",
      "[I 2025-07-23 23:47:05,470] Trial 99 finished with value: 0.05541697492211883 and parameters: {'n_clusters': 67}. Best is trial 24 with value: 0.08107213602177277.\n",
      "[I 2025-07-23 23:47:06,060] Trial 100 finished with value: 0.033525985432371695 and parameters: {'n_clusters': 130}. Best is trial 24 with value: 0.08107213602177277.\n",
      "[I 2025-07-23 23:47:06,429] Trial 101 finished with value: 0.051181237982412704 and parameters: {'n_clusters': 75}. Best is trial 24 with value: 0.08107213602177277.\n",
      "[I 2025-07-23 23:47:06,682] Trial 102 finished with value: 0.04637676152846921 and parameters: {'n_clusters': 42}. Best is trial 24 with value: 0.08107213602177277.\n",
      "[I 2025-07-23 23:47:07,458] Trial 103 finished with value: 0.0073346717429329245 and parameters: {'n_clusters': 139}. Best is trial 24 with value: 0.08107213602177277.\n",
      "[I 2025-07-23 23:47:07,673] Trial 104 finished with value: 0.07452229733900671 and parameters: {'n_clusters': 24}. Best is trial 24 with value: 0.08107213602177277.\n",
      "[I 2025-07-23 23:47:08,258] Trial 105 finished with value: 0.025700643762326045 and parameters: {'n_clusters': 116}. Best is trial 24 with value: 0.08107213602177277.\n",
      "[I 2025-07-23 23:47:08,541] Trial 106 finished with value: 0.05764706136022594 and parameters: {'n_clusters': 29}. Best is trial 24 with value: 0.08107213602177277.\n",
      "[I 2025-07-23 23:47:08,776] Trial 107 finished with value: 0.06141046488494344 and parameters: {'n_clusters': 39}. Best is trial 24 with value: 0.08107213602177277.\n",
      "[I 2025-07-23 23:47:09,091] Trial 108 finished with value: 0.04942520563070711 and parameters: {'n_clusters': 59}. Best is trial 24 with value: 0.08107213602177277.\n",
      "[I 2025-07-23 23:47:09,647] Trial 109 finished with value: 0.016734330955173363 and parameters: {'n_clusters': 136}. Best is trial 24 with value: 0.08107213602177277.\n",
      "[I 2025-07-23 23:47:10,143] Trial 110 finished with value: 0.027098915455006808 and parameters: {'n_clusters': 109}. Best is trial 24 with value: 0.08107213602177277.\n",
      "[I 2025-07-23 23:47:10,562] Trial 111 finished with value: 0.03119383615418214 and parameters: {'n_clusters': 92}. Best is trial 24 with value: 0.08107213602177277.\n",
      "[I 2025-07-23 23:47:10,914] Trial 112 finished with value: 0.04579958667524565 and parameters: {'n_clusters': 74}. Best is trial 24 with value: 0.08107213602177277.\n",
      "[I 2025-07-23 23:47:11,553] Trial 113 finished with value: 0.01203904082215744 and parameters: {'n_clusters': 150}. Best is trial 24 with value: 0.08107213602177277.\n",
      "[I 2025-07-23 23:47:11,958] Trial 114 finished with value: 0.0432153942974317 and parameters: {'n_clusters': 89}. Best is trial 24 with value: 0.08107213602177277.\n",
      "[I 2025-07-23 23:47:12,336] Trial 115 finished with value: 0.04669455923262582 and parameters: {'n_clusters': 79}. Best is trial 24 with value: 0.08107213602177277.\n",
      "[I 2025-07-23 23:47:12,871] Trial 116 finished with value: 0.027640101013086612 and parameters: {'n_clusters': 128}. Best is trial 24 with value: 0.08107213602177277.\n",
      "[I 2025-07-23 23:47:13,319] Trial 117 finished with value: 0.036995396098130934 and parameters: {'n_clusters': 90}. Best is trial 24 with value: 0.08107213602177277.\n",
      "[I 2025-07-23 23:47:13,935] Trial 118 finished with value: 0.04890731317563201 and parameters: {'n_clusters': 125}. Best is trial 24 with value: 0.08107213602177277.\n",
      "[I 2025-07-23 23:47:14,150] Trial 119 finished with value: 0.06911908743059957 and parameters: {'n_clusters': 30}. Best is trial 24 with value: 0.08107213602177277.\n",
      "[I 2025-07-23 23:47:14,923] Trial 120 finished with value: 0.012640049454767923 and parameters: {'n_clusters': 146}. Best is trial 24 with value: 0.08107213602177277.\n",
      "[I 2025-07-23 23:47:15,394] Trial 121 finished with value: 0.04835087535712874 and parameters: {'n_clusters': 82}. Best is trial 24 with value: 0.08107213602177277.\n",
      "[I 2025-07-23 23:47:15,994] Trial 122 finished with value: 0.04367284359185894 and parameters: {'n_clusters': 87}. Best is trial 24 with value: 0.08107213602177277.\n",
      "[I 2025-07-23 23:47:16,251] Trial 123 finished with value: 0.04995788447505519 and parameters: {'n_clusters': 35}. Best is trial 24 with value: 0.08107213602177277.\n",
      "[I 2025-07-23 23:47:16,598] Trial 124 finished with value: 0.06049625077079681 and parameters: {'n_clusters': 47}. Best is trial 24 with value: 0.08107213602177277.\n",
      "[I 2025-07-23 23:47:17,097] Trial 125 finished with value: 0.04462559494137724 and parameters: {'n_clusters': 91}. Best is trial 24 with value: 0.08107213602177277.\n",
      "[I 2025-07-23 23:47:17,771] Trial 126 finished with value: 0.027562775616389708 and parameters: {'n_clusters': 141}. Best is trial 24 with value: 0.08107213602177277.\n",
      "[I 2025-07-23 23:47:18,096] Trial 127 finished with value: 0.04397890234545936 and parameters: {'n_clusters': 56}. Best is trial 24 with value: 0.08107213602177277.\n",
      "[I 2025-07-23 23:47:18,790] Trial 128 finished with value: 0.035213238070002074 and parameters: {'n_clusters': 143}. Best is trial 24 with value: 0.08107213602177277.\n",
      "[I 2025-07-23 23:47:19,143] Trial 129 finished with value: 0.05361649494268004 and parameters: {'n_clusters': 49}. Best is trial 24 with value: 0.08107213602177277.\n",
      "[I 2025-07-23 23:47:19,654] Trial 130 finished with value: 0.05274942304214928 and parameters: {'n_clusters': 68}. Best is trial 24 with value: 0.08107213602177277.\n",
      "[I 2025-07-23 23:47:20,288] Trial 131 finished with value: 0.044429241149801825 and parameters: {'n_clusters': 98}. Best is trial 24 with value: 0.08107213602177277.\n",
      "[I 2025-07-23 23:47:20,853] Trial 132 finished with value: 0.04758170242562897 and parameters: {'n_clusters': 80}. Best is trial 24 with value: 0.08107213602177277.\n",
      "[I 2025-07-23 23:47:21,410] Trial 133 finished with value: 0.04440031843223873 and parameters: {'n_clusters': 97}. Best is trial 24 with value: 0.08107213602177277.\n",
      "[I 2025-07-23 23:47:21,756] Trial 134 finished with value: 0.052859707479408685 and parameters: {'n_clusters': 46}. Best is trial 24 with value: 0.08107213602177277.\n",
      "[I 2025-07-23 23:47:22,027] Trial 135 finished with value: 0.05375602741872002 and parameters: {'n_clusters': 31}. Best is trial 24 with value: 0.08107213602177277.\n",
      "[I 2025-07-23 23:47:22,223] Trial 136 finished with value: 0.06544189498434119 and parameters: {'n_clusters': 19}. Best is trial 24 with value: 0.08107213602177277.\n",
      "[I 2025-07-23 23:47:22,849] Trial 137 finished with value: 0.03790146913382585 and parameters: {'n_clusters': 113}. Best is trial 24 with value: 0.08107213602177277.\n",
      "[I 2025-07-23 23:47:23,284] Trial 138 finished with value: 0.054930768377754915 and parameters: {'n_clusters': 77}. Best is trial 24 with value: 0.08107213602177277.\n",
      "[I 2025-07-23 23:47:23,919] Trial 139 finished with value: 0.03812453905652771 and parameters: {'n_clusters': 127}. Best is trial 24 with value: 0.08107213602177277.\n",
      "[I 2025-07-23 23:47:24,269] Trial 140 finished with value: 0.058429931422469085 and parameters: {'n_clusters': 57}. Best is trial 24 with value: 0.08107213602177277.\n"
     ]
    }
   ],
   "source": [
    "# Executar estudo do Optuna para Divisive (Divisive)\n",
    "estudo_di.optimize(hierachical_divisive_objective, n_trials=200)"
   ]
  },
  {
   "cell_type": "code",
   "execution_count": 52,
   "metadata": {},
   "outputs": [
    {
     "name": "stdout",
     "output_type": "stream",
     "text": [
      "Clusters = 12\n"
     ]
    }
   ],
   "source": [
    "# Mostrar melhor configuração do Optuna (Divisive)\n",
    "best_params_di = estudo_di.best_params\n",
    "\n",
    "print(f'Clusters = {best_params_di[\"n_clusters\"]}')"
   ]
  },
  {
   "cell_type": "code",
   "execution_count": 53,
   "metadata": {},
   "outputs": [],
   "source": [
    "# Criar modelo com melhor configuração (Aglomerative)\n",
    "\n",
    "best_model = AgglomerativeClustering(\n",
    "    n_clusters=best_params_ag['n_clusters'],\n",
    "    linkage=best_params_ag['linkage']\n",
    ")"
   ]
  },
  {
   "cell_type": "code",
   "execution_count": 55,
   "metadata": {},
   "outputs": [
    {
     "data": {
      "text/html": [
       "<style>#sk-container-id-1 {\n",
       "  /* Definition of color scheme common for light and dark mode */\n",
       "  --sklearn-color-text: #000;\n",
       "  --sklearn-color-text-muted: #666;\n",
       "  --sklearn-color-line: gray;\n",
       "  /* Definition of color scheme for unfitted estimators */\n",
       "  --sklearn-color-unfitted-level-0: #fff5e6;\n",
       "  --sklearn-color-unfitted-level-1: #f6e4d2;\n",
       "  --sklearn-color-unfitted-level-2: #ffe0b3;\n",
       "  --sklearn-color-unfitted-level-3: chocolate;\n",
       "  /* Definition of color scheme for fitted estimators */\n",
       "  --sklearn-color-fitted-level-0: #f0f8ff;\n",
       "  --sklearn-color-fitted-level-1: #d4ebff;\n",
       "  --sklearn-color-fitted-level-2: #b3dbfd;\n",
       "  --sklearn-color-fitted-level-3: cornflowerblue;\n",
       "\n",
       "  /* Specific color for light theme */\n",
       "  --sklearn-color-text-on-default-background: var(--sg-text-color, var(--theme-code-foreground, var(--jp-content-font-color1, black)));\n",
       "  --sklearn-color-background: var(--sg-background-color, var(--theme-background, var(--jp-layout-color0, white)));\n",
       "  --sklearn-color-border-box: var(--sg-text-color, var(--theme-code-foreground, var(--jp-content-font-color1, black)));\n",
       "  --sklearn-color-icon: #696969;\n",
       "\n",
       "  @media (prefers-color-scheme: dark) {\n",
       "    /* Redefinition of color scheme for dark theme */\n",
       "    --sklearn-color-text-on-default-background: var(--sg-text-color, var(--theme-code-foreground, var(--jp-content-font-color1, white)));\n",
       "    --sklearn-color-background: var(--sg-background-color, var(--theme-background, var(--jp-layout-color0, #111)));\n",
       "    --sklearn-color-border-box: var(--sg-text-color, var(--theme-code-foreground, var(--jp-content-font-color1, white)));\n",
       "    --sklearn-color-icon: #878787;\n",
       "  }\n",
       "}\n",
       "\n",
       "#sk-container-id-1 {\n",
       "  color: var(--sklearn-color-text);\n",
       "}\n",
       "\n",
       "#sk-container-id-1 pre {\n",
       "  padding: 0;\n",
       "}\n",
       "\n",
       "#sk-container-id-1 input.sk-hidden--visually {\n",
       "  border: 0;\n",
       "  clip: rect(1px 1px 1px 1px);\n",
       "  clip: rect(1px, 1px, 1px, 1px);\n",
       "  height: 1px;\n",
       "  margin: -1px;\n",
       "  overflow: hidden;\n",
       "  padding: 0;\n",
       "  position: absolute;\n",
       "  width: 1px;\n",
       "}\n",
       "\n",
       "#sk-container-id-1 div.sk-dashed-wrapped {\n",
       "  border: 1px dashed var(--sklearn-color-line);\n",
       "  margin: 0 0.4em 0.5em 0.4em;\n",
       "  box-sizing: border-box;\n",
       "  padding-bottom: 0.4em;\n",
       "  background-color: var(--sklearn-color-background);\n",
       "}\n",
       "\n",
       "#sk-container-id-1 div.sk-container {\n",
       "  /* jupyter's `normalize.less` sets `[hidden] { display: none; }`\n",
       "     but bootstrap.min.css set `[hidden] { display: none !important; }`\n",
       "     so we also need the `!important` here to be able to override the\n",
       "     default hidden behavior on the sphinx rendered scikit-learn.org.\n",
       "     See: https://github.com/scikit-learn/scikit-learn/issues/21755 */\n",
       "  display: inline-block !important;\n",
       "  position: relative;\n",
       "}\n",
       "\n",
       "#sk-container-id-1 div.sk-text-repr-fallback {\n",
       "  display: none;\n",
       "}\n",
       "\n",
       "div.sk-parallel-item,\n",
       "div.sk-serial,\n",
       "div.sk-item {\n",
       "  /* draw centered vertical line to link estimators */\n",
       "  background-image: linear-gradient(var(--sklearn-color-text-on-default-background), var(--sklearn-color-text-on-default-background));\n",
       "  background-size: 2px 100%;\n",
       "  background-repeat: no-repeat;\n",
       "  background-position: center center;\n",
       "}\n",
       "\n",
       "/* Parallel-specific style estimator block */\n",
       "\n",
       "#sk-container-id-1 div.sk-parallel-item::after {\n",
       "  content: \"\";\n",
       "  width: 100%;\n",
       "  border-bottom: 2px solid var(--sklearn-color-text-on-default-background);\n",
       "  flex-grow: 1;\n",
       "}\n",
       "\n",
       "#sk-container-id-1 div.sk-parallel {\n",
       "  display: flex;\n",
       "  align-items: stretch;\n",
       "  justify-content: center;\n",
       "  background-color: var(--sklearn-color-background);\n",
       "  position: relative;\n",
       "}\n",
       "\n",
       "#sk-container-id-1 div.sk-parallel-item {\n",
       "  display: flex;\n",
       "  flex-direction: column;\n",
       "}\n",
       "\n",
       "#sk-container-id-1 div.sk-parallel-item:first-child::after {\n",
       "  align-self: flex-end;\n",
       "  width: 50%;\n",
       "}\n",
       "\n",
       "#sk-container-id-1 div.sk-parallel-item:last-child::after {\n",
       "  align-self: flex-start;\n",
       "  width: 50%;\n",
       "}\n",
       "\n",
       "#sk-container-id-1 div.sk-parallel-item:only-child::after {\n",
       "  width: 0;\n",
       "}\n",
       "\n",
       "/* Serial-specific style estimator block */\n",
       "\n",
       "#sk-container-id-1 div.sk-serial {\n",
       "  display: flex;\n",
       "  flex-direction: column;\n",
       "  align-items: center;\n",
       "  background-color: var(--sklearn-color-background);\n",
       "  padding-right: 1em;\n",
       "  padding-left: 1em;\n",
       "}\n",
       "\n",
       "\n",
       "/* Toggleable style: style used for estimator/Pipeline/ColumnTransformer box that is\n",
       "clickable and can be expanded/collapsed.\n",
       "- Pipeline and ColumnTransformer use this feature and define the default style\n",
       "- Estimators will overwrite some part of the style using the `sk-estimator` class\n",
       "*/\n",
       "\n",
       "/* Pipeline and ColumnTransformer style (default) */\n",
       "\n",
       "#sk-container-id-1 div.sk-toggleable {\n",
       "  /* Default theme specific background. It is overwritten whether we have a\n",
       "  specific estimator or a Pipeline/ColumnTransformer */\n",
       "  background-color: var(--sklearn-color-background);\n",
       "}\n",
       "\n",
       "/* Toggleable label */\n",
       "#sk-container-id-1 label.sk-toggleable__label {\n",
       "  cursor: pointer;\n",
       "  display: flex;\n",
       "  width: 100%;\n",
       "  margin-bottom: 0;\n",
       "  padding: 0.5em;\n",
       "  box-sizing: border-box;\n",
       "  text-align: center;\n",
       "  align-items: start;\n",
       "  justify-content: space-between;\n",
       "  gap: 0.5em;\n",
       "}\n",
       "\n",
       "#sk-container-id-1 label.sk-toggleable__label .caption {\n",
       "  font-size: 0.6rem;\n",
       "  font-weight: lighter;\n",
       "  color: var(--sklearn-color-text-muted);\n",
       "}\n",
       "\n",
       "#sk-container-id-1 label.sk-toggleable__label-arrow:before {\n",
       "  /* Arrow on the left of the label */\n",
       "  content: \"▸\";\n",
       "  float: left;\n",
       "  margin-right: 0.25em;\n",
       "  color: var(--sklearn-color-icon);\n",
       "}\n",
       "\n",
       "#sk-container-id-1 label.sk-toggleable__label-arrow:hover:before {\n",
       "  color: var(--sklearn-color-text);\n",
       "}\n",
       "\n",
       "/* Toggleable content - dropdown */\n",
       "\n",
       "#sk-container-id-1 div.sk-toggleable__content {\n",
       "  max-height: 0;\n",
       "  max-width: 0;\n",
       "  overflow: hidden;\n",
       "  text-align: left;\n",
       "  /* unfitted */\n",
       "  background-color: var(--sklearn-color-unfitted-level-0);\n",
       "}\n",
       "\n",
       "#sk-container-id-1 div.sk-toggleable__content.fitted {\n",
       "  /* fitted */\n",
       "  background-color: var(--sklearn-color-fitted-level-0);\n",
       "}\n",
       "\n",
       "#sk-container-id-1 div.sk-toggleable__content pre {\n",
       "  margin: 0.2em;\n",
       "  border-radius: 0.25em;\n",
       "  color: var(--sklearn-color-text);\n",
       "  /* unfitted */\n",
       "  background-color: var(--sklearn-color-unfitted-level-0);\n",
       "}\n",
       "\n",
       "#sk-container-id-1 div.sk-toggleable__content.fitted pre {\n",
       "  /* unfitted */\n",
       "  background-color: var(--sklearn-color-fitted-level-0);\n",
       "}\n",
       "\n",
       "#sk-container-id-1 input.sk-toggleable__control:checked~div.sk-toggleable__content {\n",
       "  /* Expand drop-down */\n",
       "  max-height: 200px;\n",
       "  max-width: 100%;\n",
       "  overflow: auto;\n",
       "}\n",
       "\n",
       "#sk-container-id-1 input.sk-toggleable__control:checked~label.sk-toggleable__label-arrow:before {\n",
       "  content: \"▾\";\n",
       "}\n",
       "\n",
       "/* Pipeline/ColumnTransformer-specific style */\n",
       "\n",
       "#sk-container-id-1 div.sk-label input.sk-toggleable__control:checked~label.sk-toggleable__label {\n",
       "  color: var(--sklearn-color-text);\n",
       "  background-color: var(--sklearn-color-unfitted-level-2);\n",
       "}\n",
       "\n",
       "#sk-container-id-1 div.sk-label.fitted input.sk-toggleable__control:checked~label.sk-toggleable__label {\n",
       "  background-color: var(--sklearn-color-fitted-level-2);\n",
       "}\n",
       "\n",
       "/* Estimator-specific style */\n",
       "\n",
       "/* Colorize estimator box */\n",
       "#sk-container-id-1 div.sk-estimator input.sk-toggleable__control:checked~label.sk-toggleable__label {\n",
       "  /* unfitted */\n",
       "  background-color: var(--sklearn-color-unfitted-level-2);\n",
       "}\n",
       "\n",
       "#sk-container-id-1 div.sk-estimator.fitted input.sk-toggleable__control:checked~label.sk-toggleable__label {\n",
       "  /* fitted */\n",
       "  background-color: var(--sklearn-color-fitted-level-2);\n",
       "}\n",
       "\n",
       "#sk-container-id-1 div.sk-label label.sk-toggleable__label,\n",
       "#sk-container-id-1 div.sk-label label {\n",
       "  /* The background is the default theme color */\n",
       "  color: var(--sklearn-color-text-on-default-background);\n",
       "}\n",
       "\n",
       "/* On hover, darken the color of the background */\n",
       "#sk-container-id-1 div.sk-label:hover label.sk-toggleable__label {\n",
       "  color: var(--sklearn-color-text);\n",
       "  background-color: var(--sklearn-color-unfitted-level-2);\n",
       "}\n",
       "\n",
       "/* Label box, darken color on hover, fitted */\n",
       "#sk-container-id-1 div.sk-label.fitted:hover label.sk-toggleable__label.fitted {\n",
       "  color: var(--sklearn-color-text);\n",
       "  background-color: var(--sklearn-color-fitted-level-2);\n",
       "}\n",
       "\n",
       "/* Estimator label */\n",
       "\n",
       "#sk-container-id-1 div.sk-label label {\n",
       "  font-family: monospace;\n",
       "  font-weight: bold;\n",
       "  display: inline-block;\n",
       "  line-height: 1.2em;\n",
       "}\n",
       "\n",
       "#sk-container-id-1 div.sk-label-container {\n",
       "  text-align: center;\n",
       "}\n",
       "\n",
       "/* Estimator-specific */\n",
       "#sk-container-id-1 div.sk-estimator {\n",
       "  font-family: monospace;\n",
       "  border: 1px dotted var(--sklearn-color-border-box);\n",
       "  border-radius: 0.25em;\n",
       "  box-sizing: border-box;\n",
       "  margin-bottom: 0.5em;\n",
       "  /* unfitted */\n",
       "  background-color: var(--sklearn-color-unfitted-level-0);\n",
       "}\n",
       "\n",
       "#sk-container-id-1 div.sk-estimator.fitted {\n",
       "  /* fitted */\n",
       "  background-color: var(--sklearn-color-fitted-level-0);\n",
       "}\n",
       "\n",
       "/* on hover */\n",
       "#sk-container-id-1 div.sk-estimator:hover {\n",
       "  /* unfitted */\n",
       "  background-color: var(--sklearn-color-unfitted-level-2);\n",
       "}\n",
       "\n",
       "#sk-container-id-1 div.sk-estimator.fitted:hover {\n",
       "  /* fitted */\n",
       "  background-color: var(--sklearn-color-fitted-level-2);\n",
       "}\n",
       "\n",
       "/* Specification for estimator info (e.g. \"i\" and \"?\") */\n",
       "\n",
       "/* Common style for \"i\" and \"?\" */\n",
       "\n",
       ".sk-estimator-doc-link,\n",
       "a:link.sk-estimator-doc-link,\n",
       "a:visited.sk-estimator-doc-link {\n",
       "  float: right;\n",
       "  font-size: smaller;\n",
       "  line-height: 1em;\n",
       "  font-family: monospace;\n",
       "  background-color: var(--sklearn-color-background);\n",
       "  border-radius: 1em;\n",
       "  height: 1em;\n",
       "  width: 1em;\n",
       "  text-decoration: none !important;\n",
       "  margin-left: 0.5em;\n",
       "  text-align: center;\n",
       "  /* unfitted */\n",
       "  border: var(--sklearn-color-unfitted-level-1) 1pt solid;\n",
       "  color: var(--sklearn-color-unfitted-level-1);\n",
       "}\n",
       "\n",
       ".sk-estimator-doc-link.fitted,\n",
       "a:link.sk-estimator-doc-link.fitted,\n",
       "a:visited.sk-estimator-doc-link.fitted {\n",
       "  /* fitted */\n",
       "  border: var(--sklearn-color-fitted-level-1) 1pt solid;\n",
       "  color: var(--sklearn-color-fitted-level-1);\n",
       "}\n",
       "\n",
       "/* On hover */\n",
       "div.sk-estimator:hover .sk-estimator-doc-link:hover,\n",
       ".sk-estimator-doc-link:hover,\n",
       "div.sk-label-container:hover .sk-estimator-doc-link:hover,\n",
       ".sk-estimator-doc-link:hover {\n",
       "  /* unfitted */\n",
       "  background-color: var(--sklearn-color-unfitted-level-3);\n",
       "  color: var(--sklearn-color-background);\n",
       "  text-decoration: none;\n",
       "}\n",
       "\n",
       "div.sk-estimator.fitted:hover .sk-estimator-doc-link.fitted:hover,\n",
       ".sk-estimator-doc-link.fitted:hover,\n",
       "div.sk-label-container:hover .sk-estimator-doc-link.fitted:hover,\n",
       ".sk-estimator-doc-link.fitted:hover {\n",
       "  /* fitted */\n",
       "  background-color: var(--sklearn-color-fitted-level-3);\n",
       "  color: var(--sklearn-color-background);\n",
       "  text-decoration: none;\n",
       "}\n",
       "\n",
       "/* Span, style for the box shown on hovering the info icon */\n",
       ".sk-estimator-doc-link span {\n",
       "  display: none;\n",
       "  z-index: 9999;\n",
       "  position: relative;\n",
       "  font-weight: normal;\n",
       "  right: .2ex;\n",
       "  padding: .5ex;\n",
       "  margin: .5ex;\n",
       "  width: min-content;\n",
       "  min-width: 20ex;\n",
       "  max-width: 50ex;\n",
       "  color: var(--sklearn-color-text);\n",
       "  box-shadow: 2pt 2pt 4pt #999;\n",
       "  /* unfitted */\n",
       "  background: var(--sklearn-color-unfitted-level-0);\n",
       "  border: .5pt solid var(--sklearn-color-unfitted-level-3);\n",
       "}\n",
       "\n",
       ".sk-estimator-doc-link.fitted span {\n",
       "  /* fitted */\n",
       "  background: var(--sklearn-color-fitted-level-0);\n",
       "  border: var(--sklearn-color-fitted-level-3);\n",
       "}\n",
       "\n",
       ".sk-estimator-doc-link:hover span {\n",
       "  display: block;\n",
       "}\n",
       "\n",
       "/* \"?\"-specific style due to the `<a>` HTML tag */\n",
       "\n",
       "#sk-container-id-1 a.estimator_doc_link {\n",
       "  float: right;\n",
       "  font-size: 1rem;\n",
       "  line-height: 1em;\n",
       "  font-family: monospace;\n",
       "  background-color: var(--sklearn-color-background);\n",
       "  border-radius: 1rem;\n",
       "  height: 1rem;\n",
       "  width: 1rem;\n",
       "  text-decoration: none;\n",
       "  /* unfitted */\n",
       "  color: var(--sklearn-color-unfitted-level-1);\n",
       "  border: var(--sklearn-color-unfitted-level-1) 1pt solid;\n",
       "}\n",
       "\n",
       "#sk-container-id-1 a.estimator_doc_link.fitted {\n",
       "  /* fitted */\n",
       "  border: var(--sklearn-color-fitted-level-1) 1pt solid;\n",
       "  color: var(--sklearn-color-fitted-level-1);\n",
       "}\n",
       "\n",
       "/* On hover */\n",
       "#sk-container-id-1 a.estimator_doc_link:hover {\n",
       "  /* unfitted */\n",
       "  background-color: var(--sklearn-color-unfitted-level-3);\n",
       "  color: var(--sklearn-color-background);\n",
       "  text-decoration: none;\n",
       "}\n",
       "\n",
       "#sk-container-id-1 a.estimator_doc_link.fitted:hover {\n",
       "  /* fitted */\n",
       "  background-color: var(--sklearn-color-fitted-level-3);\n",
       "}\n",
       "</style><div id=\"sk-container-id-1\" class=\"sk-top-container\"><div class=\"sk-text-repr-fallback\"><pre>AgglomerativeClustering(n_clusters=150)</pre><b>In a Jupyter environment, please rerun this cell to show the HTML representation or trust the notebook. <br />On GitHub, the HTML representation is unable to render, please try loading this page with nbviewer.org.</b></div><div class=\"sk-container\" hidden><div class=\"sk-item\"><div class=\"sk-estimator fitted sk-toggleable\"><input class=\"sk-toggleable__control sk-hidden--visually\" id=\"sk-estimator-id-1\" type=\"checkbox\" checked><label for=\"sk-estimator-id-1\" class=\"sk-toggleable__label fitted sk-toggleable__label-arrow\"><div><div>AgglomerativeClustering</div></div><div><a class=\"sk-estimator-doc-link fitted\" rel=\"noreferrer\" target=\"_blank\" href=\"https://scikit-learn.org/1.6/modules/generated/sklearn.cluster.AgglomerativeClustering.html\">?<span>Documentation for AgglomerativeClustering</span></a><span class=\"sk-estimator-doc-link fitted\">i<span>Fitted</span></span></div></label><div class=\"sk-toggleable__content fitted\"><pre>AgglomerativeClustering(n_clusters=150)</pre></div> </div></div></div></div>"
      ],
      "text/plain": [
       "AgglomerativeClustering(n_clusters=150)"
      ]
     },
     "execution_count": 55,
     "metadata": {},
     "output_type": "execute_result"
    }
   ],
   "source": [
    "# Treinar melhor modelo\n",
    "best_model.fit(X_transformed)"
   ]
  },
  {
   "cell_type": "code",
   "execution_count": 56,
   "metadata": {},
   "outputs": [
    {
     "data": {
      "text/plain": [
       "np.float64(0.13129813063305099)"
      ]
     },
     "execution_count": 56,
     "metadata": {},
     "output_type": "execute_result"
    }
   ],
   "source": [
    "# Verificar Silhoutte Score\n",
    "best_score = silhouette_score(X_transformed, best_model.labels_)\n",
    "best_score"
   ]
  },
  {
   "cell_type": "code",
   "execution_count": 57,
   "metadata": {},
   "outputs": [],
   "source": [
    "# Criar coluna com cluster escolhido no Dataframe original \n",
    "df_species['cluster'] = best_model.labels_"
   ]
  },
  {
   "cell_type": "code",
   "execution_count": 58,
   "metadata": {},
   "outputs": [
    {
     "name": "stdout",
     "output_type": "stream",
     "text": [
      "<class 'pandas.core.frame.DataFrame'>\n",
      "RangeIndex: 600 entries, 0 to 599\n",
      "Data columns (total 13 columns):\n",
      " #   Column              Non-Null Count  Dtype  \n",
      "---  ------              --------------  -----  \n",
      " 0   species_id          600 non-null    object \n",
      " 1   body_mass_kg        600 non-null    float64\n",
      " 2   num_legs            600 non-null    int64  \n",
      " 3   has_wings           600 non-null    int64  \n",
      " 4   tail_length_cm      600 non-null    float64\n",
      " 5   diet_type           600 non-null    object \n",
      " 6   eye_count           600 non-null    int64  \n",
      " 7   skin_type           600 non-null    object \n",
      " 8   nocturnal           600 non-null    int64  \n",
      " 9   avg_lifespan_years  600 non-null    float64\n",
      " 10  has_venom           600 non-null    int64  \n",
      " 11  social_behavior     600 non-null    object \n",
      " 12  cluster             600 non-null    int64  \n",
      "dtypes: float64(3), int64(6), object(4)\n",
      "memory usage: 61.1+ KB\n"
     ]
    }
   ],
   "source": [
    "# Checar estrutura com a coluna 'cluster'\n",
    "df_species.info()"
   ]
  },
  {
   "cell_type": "code",
   "execution_count": 59,
   "metadata": {},
   "outputs": [
    {
     "data": {
      "text/html": [
       "<div>\n",
       "<style scoped>\n",
       "    .dataframe tbody tr th:only-of-type {\n",
       "        vertical-align: middle;\n",
       "    }\n",
       "\n",
       "    .dataframe tbody tr th {\n",
       "        vertical-align: top;\n",
       "    }\n",
       "\n",
       "    .dataframe thead th {\n",
       "        text-align: right;\n",
       "    }\n",
       "</style>\n",
       "<table border=\"1\" class=\"dataframe\">\n",
       "  <thead>\n",
       "    <tr style=\"text-align: right;\">\n",
       "      <th></th>\n",
       "      <th>species_id</th>\n",
       "      <th>body_mass_kg</th>\n",
       "      <th>num_legs</th>\n",
       "      <th>has_wings</th>\n",
       "      <th>tail_length_cm</th>\n",
       "      <th>diet_type</th>\n",
       "      <th>eye_count</th>\n",
       "      <th>skin_type</th>\n",
       "      <th>nocturnal</th>\n",
       "      <th>avg_lifespan_years</th>\n",
       "      <th>has_venom</th>\n",
       "      <th>social_behavior</th>\n",
       "      <th>cluster</th>\n",
       "    </tr>\n",
       "  </thead>\n",
       "  <tbody>\n",
       "    <tr>\n",
       "      <th>0</th>\n",
       "      <td>SP000</td>\n",
       "      <td>59.934283</td>\n",
       "      <td>6</td>\n",
       "      <td>1</td>\n",
       "      <td>27.622702</td>\n",
       "      <td>carnivore</td>\n",
       "      <td>2</td>\n",
       "      <td>fur</td>\n",
       "      <td>0</td>\n",
       "      <td>118.957538</td>\n",
       "      <td>0</td>\n",
       "      <td>pair-living</td>\n",
       "      <td>46</td>\n",
       "    </tr>\n",
       "    <tr>\n",
       "      <th>1</th>\n",
       "      <td>SP001</td>\n",
       "      <td>47.234714</td>\n",
       "      <td>6</td>\n",
       "      <td>1</td>\n",
       "      <td>25.521165</td>\n",
       "      <td>carnivore</td>\n",
       "      <td>4</td>\n",
       "      <td>fur</td>\n",
       "      <td>0</td>\n",
       "      <td>121.226422</td>\n",
       "      <td>0</td>\n",
       "      <td>solitary</td>\n",
       "      <td>30</td>\n",
       "    </tr>\n",
       "    <tr>\n",
       "      <th>2</th>\n",
       "      <td>SP002</td>\n",
       "      <td>62.953771</td>\n",
       "      <td>8</td>\n",
       "      <td>1</td>\n",
       "      <td>50.794426</td>\n",
       "      <td>carnivore</td>\n",
       "      <td>2</td>\n",
       "      <td>fur</td>\n",
       "      <td>0</td>\n",
       "      <td>119.454890</td>\n",
       "      <td>0</td>\n",
       "      <td>pair-living</td>\n",
       "      <td>47</td>\n",
       "    </tr>\n",
       "    <tr>\n",
       "      <th>3</th>\n",
       "      <td>SP003</td>\n",
       "      <td>80.460597</td>\n",
       "      <td>2</td>\n",
       "      <td>1</td>\n",
       "      <td>46.476993</td>\n",
       "      <td>carnivore</td>\n",
       "      <td>4</td>\n",
       "      <td>fur</td>\n",
       "      <td>1</td>\n",
       "      <td>121.522981</td>\n",
       "      <td>0</td>\n",
       "      <td>solitary</td>\n",
       "      <td>3</td>\n",
       "    </tr>\n",
       "    <tr>\n",
       "      <th>4</th>\n",
       "      <td>SP004</td>\n",
       "      <td>45.316933</td>\n",
       "      <td>4</td>\n",
       "      <td>0</td>\n",
       "      <td>40.161889</td>\n",
       "      <td>herbivore</td>\n",
       "      <td>2</td>\n",
       "      <td>scales</td>\n",
       "      <td>0</td>\n",
       "      <td>120.060929</td>\n",
       "      <td>0</td>\n",
       "      <td>group-living</td>\n",
       "      <td>122</td>\n",
       "    </tr>\n",
       "    <tr>\n",
       "      <th>5</th>\n",
       "      <td>SP005</td>\n",
       "      <td>45.317261</td>\n",
       "      <td>4</td>\n",
       "      <td>0</td>\n",
       "      <td>41.685437</td>\n",
       "      <td>omnivore</td>\n",
       "      <td>4</td>\n",
       "      <td>feathers</td>\n",
       "      <td>0</td>\n",
       "      <td>118.593000</td>\n",
       "      <td>1</td>\n",
       "      <td>group-living</td>\n",
       "      <td>56</td>\n",
       "    </tr>\n",
       "    <tr>\n",
       "      <th>6</th>\n",
       "      <td>SP006</td>\n",
       "      <td>81.584256</td>\n",
       "      <td>4</td>\n",
       "      <td>0</td>\n",
       "      <td>47.104705</td>\n",
       "      <td>carnivore</td>\n",
       "      <td>4</td>\n",
       "      <td>fur</td>\n",
       "      <td>1</td>\n",
       "      <td>119.828973</td>\n",
       "      <td>0</td>\n",
       "      <td>pair-living</td>\n",
       "      <td>34</td>\n",
       "    </tr>\n",
       "    <tr>\n",
       "      <th>7</th>\n",
       "      <td>SP007</td>\n",
       "      <td>65.348695</td>\n",
       "      <td>6</td>\n",
       "      <td>1</td>\n",
       "      <td>43.354369</td>\n",
       "      <td>carnivore</td>\n",
       "      <td>2</td>\n",
       "      <td>fur</td>\n",
       "      <td>1</td>\n",
       "      <td>118.937223</td>\n",
       "      <td>0</td>\n",
       "      <td>pair-living</td>\n",
       "      <td>111</td>\n",
       "    </tr>\n",
       "    <tr>\n",
       "      <th>8</th>\n",
       "      <td>SP008</td>\n",
       "      <td>40.610512</td>\n",
       "      <td>6</td>\n",
       "      <td>0</td>\n",
       "      <td>31.594468</td>\n",
       "      <td>omnivore</td>\n",
       "      <td>2</td>\n",
       "      <td>skin</td>\n",
       "      <td>0</td>\n",
       "      <td>120.589349</td>\n",
       "      <td>0</td>\n",
       "      <td>solitary</td>\n",
       "      <td>60</td>\n",
       "    </tr>\n",
       "    <tr>\n",
       "      <th>9</th>\n",
       "      <td>SP009</td>\n",
       "      <td>60.851201</td>\n",
       "      <td>2</td>\n",
       "      <td>1</td>\n",
       "      <td>54.130002</td>\n",
       "      <td>herbivore</td>\n",
       "      <td>2</td>\n",
       "      <td>scales</td>\n",
       "      <td>1</td>\n",
       "      <td>119.738637</td>\n",
       "      <td>0</td>\n",
       "      <td>pair-living</td>\n",
       "      <td>97</td>\n",
       "    </tr>\n",
       "  </tbody>\n",
       "</table>\n",
       "</div>"
      ],
      "text/plain": [
       "  species_id  body_mass_kg  num_legs  has_wings  tail_length_cm  diet_type  \\\n",
       "0      SP000     59.934283         6          1       27.622702  carnivore   \n",
       "1      SP001     47.234714         6          1       25.521165  carnivore   \n",
       "2      SP002     62.953771         8          1       50.794426  carnivore   \n",
       "3      SP003     80.460597         2          1       46.476993  carnivore   \n",
       "4      SP004     45.316933         4          0       40.161889  herbivore   \n",
       "5      SP005     45.317261         4          0       41.685437   omnivore   \n",
       "6      SP006     81.584256         4          0       47.104705  carnivore   \n",
       "7      SP007     65.348695         6          1       43.354369  carnivore   \n",
       "8      SP008     40.610512         6          0       31.594468   omnivore   \n",
       "9      SP009     60.851201         2          1       54.130002  herbivore   \n",
       "\n",
       "   eye_count skin_type  nocturnal  avg_lifespan_years  has_venom  \\\n",
       "0          2       fur          0          118.957538          0   \n",
       "1          4       fur          0          121.226422          0   \n",
       "2          2       fur          0          119.454890          0   \n",
       "3          4       fur          1          121.522981          0   \n",
       "4          2    scales          0          120.060929          0   \n",
       "5          4  feathers          0          118.593000          1   \n",
       "6          4       fur          1          119.828973          0   \n",
       "7          2       fur          1          118.937223          0   \n",
       "8          2      skin          0          120.589349          0   \n",
       "9          2    scales          1          119.738637          0   \n",
       "\n",
       "  social_behavior  cluster  \n",
       "0     pair-living       46  \n",
       "1        solitary       30  \n",
       "2     pair-living       47  \n",
       "3        solitary        3  \n",
       "4    group-living      122  \n",
       "5    group-living       56  \n",
       "6     pair-living       34  \n",
       "7     pair-living      111  \n",
       "8        solitary       60  \n",
       "9     pair-living       97  "
      ]
     },
     "execution_count": 59,
     "metadata": {},
     "output_type": "execute_result"
    }
   ],
   "source": [
    "# Checar primeiros registros com a coluna 'cluster'\n",
    "df_species.head(10)"
   ]
  },
  {
   "cell_type": "markdown",
   "id": "4a46527a",
   "metadata": {},
   "source": [
    "### Visualizar resultados"
   ]
  },
  {
   "cell_type": "code",
   "execution_count": 67,
   "metadata": {},
   "outputs": [
    {
     "data": {
      "application/vnd.plotly.v1+json": {
       "config": {
        "plotlyServerURL": "https://plot.ly"
       },
       "data": [
        {
         "mode": "markers",
         "name": "Objective Value",
         "type": "scatter",
         "x": [
          0,
          1,
          2,
          3,
          4,
          5,
          6,
          7,
          8,
          9,
          10,
          11,
          12,
          13,
          14,
          15,
          16,
          17,
          18,
          19,
          20,
          21,
          22,
          23,
          24,
          25,
          26,
          27,
          28,
          29,
          30,
          31,
          32,
          33,
          34,
          35,
          36,
          37,
          38,
          39,
          40,
          41,
          42,
          43,
          44,
          45,
          46,
          47,
          48,
          49,
          50,
          51,
          52,
          53,
          54,
          55,
          56,
          57,
          58,
          59,
          60,
          61,
          62,
          63,
          64,
          65,
          66,
          67,
          68,
          69,
          70,
          71,
          72,
          73,
          74,
          75,
          76,
          77,
          78,
          79,
          80,
          81,
          82,
          83,
          84,
          85,
          86,
          87,
          88,
          89,
          90,
          91,
          92,
          93,
          94,
          95,
          96,
          97,
          98,
          99,
          100,
          101,
          102,
          103,
          104,
          105,
          106,
          107,
          108,
          109,
          110,
          111,
          112,
          113,
          114,
          115,
          116,
          117,
          118,
          119,
          120,
          121,
          122,
          123,
          124,
          125,
          126,
          127,
          128,
          129,
          130,
          131,
          132,
          133,
          134,
          135,
          136,
          137,
          138,
          139,
          140,
          141,
          142,
          143,
          144,
          145,
          146,
          147,
          148,
          149,
          150,
          151,
          152,
          153,
          154,
          155,
          156,
          157,
          158,
          159,
          160,
          161,
          162,
          163,
          164,
          165,
          166,
          167,
          168,
          169,
          170,
          171,
          172,
          173,
          174,
          175,
          176,
          177,
          178,
          179,
          180,
          181,
          182,
          183,
          184,
          185,
          186,
          187,
          188,
          189,
          190,
          191,
          192,
          193,
          194,
          195,
          196,
          197,
          198,
          199,
          200,
          201,
          202,
          203,
          204,
          205,
          206,
          207,
          208,
          209,
          210,
          211,
          212,
          213,
          214,
          215,
          216,
          217,
          218,
          219,
          220,
          221,
          222,
          223,
          224,
          225,
          226,
          227,
          228,
          229,
          230,
          231,
          232,
          233,
          234,
          235,
          236,
          237,
          238,
          239,
          240,
          241,
          242,
          243,
          244,
          245,
          246,
          247,
          248,
          249,
          250,
          251,
          252,
          253,
          254,
          255,
          256,
          257,
          258,
          259,
          260,
          261,
          262,
          263,
          264,
          265,
          266,
          267,
          268,
          269,
          270,
          271,
          272,
          273,
          274,
          275,
          276,
          277,
          278,
          279,
          280,
          281,
          282,
          283,
          284,
          285,
          286,
          287,
          288,
          289,
          290,
          291,
          292,
          293,
          294,
          295,
          296,
          297,
          298,
          299,
          300,
          301,
          302,
          303,
          304,
          305,
          306,
          307,
          308,
          309,
          310,
          311,
          312,
          313,
          314,
          315,
          316,
          317,
          318,
          319,
          320,
          321,
          322,
          323,
          324,
          325,
          326,
          327,
          328,
          329,
          330,
          331,
          332,
          333,
          334,
          335,
          336,
          337,
          338,
          339,
          340,
          341,
          342,
          343,
          344,
          345,
          346,
          347,
          348,
          349,
          350,
          351,
          352,
          353,
          354,
          355,
          356,
          357,
          358,
          359,
          360,
          361,
          362,
          363,
          364,
          365,
          366,
          367,
          368,
          369,
          370,
          371,
          372,
          373,
          374,
          375,
          376,
          377,
          378,
          379,
          380,
          381,
          382,
          383,
          384,
          385,
          386,
          387,
          388,
          389,
          390,
          391,
          392,
          393,
          394,
          395,
          396,
          397,
          398,
          399,
          400,
          401,
          402,
          403,
          404,
          405,
          406,
          407,
          408,
          409,
          410,
          411,
          412,
          413,
          414,
          415,
          416,
          417,
          418,
          419,
          420,
          421,
          422,
          423,
          424,
          425,
          426,
          427,
          428,
          429,
          430,
          431,
          432,
          433,
          434,
          435,
          436,
          437,
          438,
          439,
          440,
          441,
          442,
          443,
          444,
          445,
          446,
          447,
          448,
          449,
          450,
          451,
          452,
          453,
          454,
          455,
          456,
          457,
          458,
          459,
          460,
          461,
          462,
          463,
          464,
          465,
          466,
          467,
          468,
          469,
          470,
          471,
          472,
          473,
          474,
          475,
          476,
          477,
          478,
          479,
          480,
          481,
          482,
          483,
          484,
          485,
          486,
          487,
          488,
          489,
          490,
          491,
          492,
          493,
          494,
          495,
          496,
          497,
          498,
          499,
          500,
          501,
          502,
          503,
          504,
          505,
          506,
          507,
          508,
          509,
          510,
          511,
          512,
          513,
          514,
          515,
          516,
          517,
          518,
          519,
          520,
          521,
          522,
          523,
          524,
          525,
          526,
          527,
          528,
          529,
          530,
          531,
          532,
          533,
          534,
          535,
          536,
          537,
          538,
          539,
          540,
          541,
          542,
          543,
          544,
          545,
          546,
          547,
          548,
          549,
          550,
          551,
          552,
          553,
          554,
          555,
          556,
          557,
          558,
          559,
          560,
          561,
          562,
          563
         ],
         "y": [
          0.08920742549638573,
          0.06952264766223992,
          0.07090101644156098,
          0.06751505762324567,
          0.11399187022420045,
          0.0990955747361001,
          0.11365035349814018,
          0.09626353167471194,
          -0.1760176513817061,
          0.09221484044188469,
          0.0803223472919918,
          0.0927516692965339,
          -0.17318610727112732,
          0.09487138436025044,
          0.08304502237594771,
          0.08005037304437293,
          0.11200301901968722,
          0.10200216640894681,
          0.0875315494911424,
          0.050315799545952784,
          -0.12884078099103818,
          0.09272617607054601,
          0.10655439354161586,
          0.11958865187799167,
          0.08604513494454769,
          0.09613093860502407,
          0.0334606478807099,
          -0.17424876868732644,
          0.07050178796764982,
          0.10872014097532037,
          0.07127283030030662,
          0.07942679264529871,
          0.07671617806453464,
          -0.1776009011958354,
          0.11309800805073185,
          0.11950282458049746,
          0.11954693700553719,
          0.10701013391623143,
          0.11150035373265851,
          -0.12010472865954061,
          0.11469322713009106,
          0.1119581962037191,
          -0.1814049281453585,
          0.06951508447953654,
          0.07463061715780107,
          -0.1446457944902942,
          0.04794245338930521,
          0.07183401182548034,
          0.08670183522532403,
          0.05445688700827407,
          -0.17846581189715502,
          -0.13169758643066043,
          0.1203441000216541,
          0.08028951378426949,
          0.09554954570949574,
          0.059465152180445034,
          0.05420528042792718,
          0.13129813063305099,
          0.08311123244251752,
          0.11169784692405611,
          0.08369326831836449,
          0.10519309652838627,
          0.09365387933139178,
          0.09897206604241736,
          0.0982375855761375,
          -0.11928056340338127,
          -0.17980335911704626,
          0.09392838333482928,
          0.09501535469908613,
          -0.1611524521926612,
          0.03735569549616969,
          0.06714790991867908,
          -0.18314184950837722,
          -0.11810505577374085,
          0.09804213021860288,
          0.12403980238082724,
          0.06666720843893166,
          0.08429169251445238,
          0.09696725182370365,
          -0.1488739002007592,
          -0.1766182766453794,
          0.08886323774043924,
          0.12884557396879123,
          0.10556811736843578,
          0.10102936202088306,
          0.11136219716865645,
          0.07444377241052878,
          0.1156025563933478,
          -0.17514308235527673,
          -0.14939566322702283,
          -0.17333894050102625,
          0.09303157540235475,
          0.09993580455830471,
          0.06161462504199894,
          0.07469854212112573,
          0.07351456275045912,
          0.11630313704225581,
          0.0941736421027184,
          0.058381442201211275,
          0.10657917838765722,
          0.11032282289548717,
          0.08837706818676629,
          0.08978242904719898,
          -0.17980061632253952,
          -0.019447010641351115,
          -0.1786101849321544,
          -0.17780859629510964,
          -0.16068483486772675,
          0.07503984387526583,
          -0.17698489950690424,
          0.06826762906582598,
          0.048447005494177076,
          0.088509018342439,
          0.0811655858338508,
          0.07170038521238943,
          -0.14007246336691187,
          0.07613522800400169,
          -0.17927063618813105,
          -0.17529831482025632,
          0.08282531999076587,
          -0.17502376819484936,
          0.08263854296513701,
          0.12322722423895378,
          0.07695737107263703,
          0.10793372292236446,
          -0.18293850088893493,
          0.07465307075542846,
          0.045748830241667926,
          0.1280913526165009,
          -0.15042043883537545,
          -0.1700055232697918,
          0.1022977028286518,
          0.04594730855377755,
          0.08821211276202462,
          0.12239253140491968,
          -0.1507907963640332,
          0.07037240353280871,
          0.05157250989394419,
          0.10382189119865565,
          0.020529027084368975,
          0.12759403350552095,
          0.11235400040217006,
          0.06908050210928808,
          0.09490202012257293,
          0.08619964446813544,
          -0.014970246950731585,
          0.12954353509106414,
          0.09557476835019345,
          0.07824979520957522,
          0.10440313770460558,
          -0.17771960576327278,
          0.07236665944272445,
          -0.16311328931377514,
          -0.1812376643150822,
          -0.1767437711790757,
          0.1188737374907193,
          0.117342475919012,
          0.08902992443140584,
          0.037042483296920566,
          0.09775083540064496,
          0.09080555697952854,
          0.06874009121926118,
          0.09962012401201036,
          0.1189745769347024,
          0.09313074317364167,
          -0.17444349625063327,
          0.07834480716168839,
          0.07389176903410231,
          0.10007014697111778,
          -0.014868791959174113,
          0.10193815870926329,
          0.07641192629076245,
          0.07415753614180667,
          0.09192145907768788,
          0.08742622814006488,
          0.08663147405471093,
          0.08095006257935543,
          0.08728241441716876,
          0.07768787342397701,
          0.09469300529880656,
          0.09443616239552284,
          0.09475330116745372,
          0.09284345476104931,
          0.07280595209000428,
          0.09406139051436548,
          0.08105320027967335,
          0.07529552135493281,
          -0.1831379954385807,
          0.12683359058338145,
          0.03803801007018856,
          0.06704444162889037,
          0.100845894508548,
          -0.14882647044386307,
          -0.18189397038874436,
          -0.17572385708521945,
          -0.15160439188608887,
          -0.09955863697817498,
          0.1135503613956304,
          0.08115107055650933,
          0.07678116566776846,
          0.09870236686988831,
          0.06703913101453234,
          -0.14512319378775018,
          -0.17851687356904086,
          0.04883492349840213,
          0.08468165997139702,
          0.09452738594039206,
          -0.17448936418608577,
          0.0831582927177686,
          0.0947184654078512,
          0.09819654172128267,
          -0.177543950411012,
          0.0984839975359851,
          0.1058153504907295,
          0.08724550377310795,
          0.06337384866542446,
          0.11614830469472295,
          0.06961513902870588,
          0.08010276198289559,
          0.1062922113574518,
          0.07247422069383058,
          -0.128822039999713,
          0.026851303378729673,
          0.09379696510050393,
          -0.15932965633092447,
          0.07587535988601313,
          0.0004494680819199,
          -0.1772976563930234,
          0.07597526663489705,
          0.1286917283212885,
          -0.14883920060700986,
          0.12557075429657977,
          -0.11965107688891725,
          0.0846672012230631,
          0.10486463842944017,
          0.07877606621361136,
          0.08162353065107855,
          0.05785473292437779,
          -0.18021478868113547,
          0.07983097147656937,
          0.07004298985416742,
          0.07973818928870542,
          0.0568289012971243,
          -0.15598151433638013,
          0.08408875884728206,
          -0.17439838585245201,
          0.10413985844430743,
          -0.17728383711877568,
          0.09426045859454182,
          0.12493424532841317,
          0.10983641463358242,
          -0.09955232963307428,
          0.09406863218226594,
          0.08201472310922026,
          0.07147082792151999,
          -0.16387728820731529,
          -0.17819854520034475,
          0.05691270209042616,
          -0.16998170170596727,
          0.09071130433539082,
          0.10364705938009398,
          0.0776695851232409,
          0.07131916575223077,
          0.07300844713737999,
          0.12403823465759288,
          0.08531323677973016,
          -0.12703082136182403,
          0.06305271521290488,
          0.11922136073136941,
          0.10203473768829724,
          0.104204063534561,
          0.11904320265267174,
          -0.17956885839426914,
          -0.17762322051542656,
          -0.15094529917110203,
          0.07492004039999688,
          0.11551593034841647,
          -0.17900528463308574,
          0.10866492148662729,
          -0.18024932419071954,
          0.08086105924225416,
          0.028012122108338845,
          0.007834102601028407,
          0.09562182012817494,
          -0.1753975600686531,
          0.08206821874938468,
          0.09212324998702687,
          0.06678901167899644,
          -0.18461008466825182,
          0.08606451468929154,
          0.08750658997151768,
          -0.17467642664157806,
          0.020857236810548626,
          0.048234560912610955,
          0.08830092943344325,
          -0.1809018081687726,
          0.03552454360666637,
          0.1230650525635526,
          0.059383659653164216,
          0.10113104464769722,
          0.06567697113453022,
          -0.17273522153988888,
          0.07078980991685,
          0.08329974418451708,
          -0.11830949266137357,
          0.08781405070481671,
          0.08323068768885394,
          0.12916833380186513,
          -0.048586490474122265,
          0.09202993706844632,
          0.08302589757301122,
          0.06809111707936609,
          -0.17787067769432904,
          -0.09538815396715096,
          0.09273506579444035,
          0.08759216266265141,
          0.12883101702507885,
          0.09454234128291951,
          0.11319457523764058,
          0.04449603395697406,
          0.09843966971915452,
          0.10265600782411269,
          0.07660896712032374,
          -0.18174522147158628,
          -0.17655927981429942,
          0.09416840659924147,
          0.09683579462486869,
          0.08578044891780232,
          0.05912407144818328,
          0.0548246242991463,
          0.10568550612221694,
          0.05155067812849667,
          0.09471921350956097,
          0.08614632235507727,
          0.08963807946129738,
          -0.12827826565448172,
          0.0014019205473570072,
          -0.06122231278086711,
          0.0671759532312727,
          -0.17944240428419736,
          0.08587263083132773,
          0.08776287062562714,
          0.11239540956757146,
          0.11336126774865932,
          0.05550939790059496,
          0.11312121859437932,
          -0.0213677036285335,
          0.13014329713901504,
          0.0824290600802137,
          0.11946938050144863,
          -0.06837281097373445,
          -0.0388690477783462,
          -0.07804636556018747,
          0.08274514262572089,
          -0.18179905152462236,
          0.07188763455244664,
          0.08195372481908218,
          -0.17949148010456875,
          0.07439831922949722,
          0.08678464919683283,
          0.09199421223897221,
          0.10522163053402539,
          0.08548764383583017,
          0.08217159159889025,
          0.05909776286361203,
          0.08831433026955207,
          0.12681537368410753,
          -0.18174237821619627,
          0.1217647347497392,
          0.06870922854309458,
          0.09512761011945539,
          -0.17807020001413013,
          0.09643682796395422,
          0.09985853137085011,
          -0.10567120554823246,
          0.10913294596559792,
          -0.15769012587180187,
          -0.15091101468843396,
          0.07243805715353904,
          0.07769235193844717,
          0.04500706396383362,
          0.0723084538224038,
          0.12563903861194944,
          0.09335568357155104,
          0.08784707032917058,
          -0.06888114141013349,
          0.05737771389372656,
          0.11056262978064685,
          0.12426703886684945,
          0.09051466361982641,
          0.10374340772444145,
          0.08491133926343139,
          0.12140863618500722,
          0.00887631290048682,
          0.038962308476669365,
          0.08100319659944528,
          0.028556595782025945,
          0.07365568972743981,
          0.12068884157739085,
          -0.17091163560187064,
          -0.0799971117025716,
          0.13066468901939982,
          0.09015051218416123,
          0.09304874849256511,
          0.08038259302493843,
          -0.11376264206297819,
          0.07054684423346264,
          0.07268472725580616,
          -0.17975765980145927,
          0.09469661388007308,
          0.11312490338840889,
          -0.18106946926937126,
          0.0845871577518826,
          0.07336075928476364,
          0.052909824922957836,
          -0.17071047192109656,
          0.09468608676929241,
          0.08617723440571234,
          0.08989225538809757,
          -0.1459893507509225,
          0.083860566485371,
          -0.06319457286182484,
          0.1271035603532354,
          0.09999861609070057,
          0.04359235149937747,
          0.10861462337341661,
          0.0734551709943738,
          0.0892493782292983,
          -0.17165498947667154,
          -0.169957704322404,
          0.10142065727621487,
          0.054550560602492755,
          -0.1767904600365421,
          0.07335446759903036,
          0.0937041877255313,
          0.10849941129503257,
          0.06573127289473181,
          0.09300775931667798,
          0.0760741728771634,
          0.08412514977102764,
          -0.15136571699912693,
          0.11202433988244852,
          0.0959102788537187,
          0.09563848086930656,
          0.07267073252921669,
          0.09991269225410385,
          0.09778837333945439,
          0.09504310000265782,
          0.11317057334474001,
          0.09931848436433635,
          0.07753933685576211,
          -0.18187049399676547,
          -0.18088057169104366,
          -0.17609276228808307,
          -0.1786439563902533,
          -0.11813100257466326,
          0.1261871590521184,
          0.08594116793701116,
          0.11235763593514207,
          0.10361590047715606,
          -0.17486688367211956,
          0.09237603714683433,
          0.12726153419785144,
          0.06875207973766213,
          0.08653184319460076,
          -0.1626390583068437,
          -0.16748545383865884,
          0.09807529991670966,
          0.08804261252772666,
          0.10162910510463154,
          0.0791380087698405,
          0.09618813856847544,
          0.07574602261271278,
          0.11005327880892113,
          0.08914124886410912,
          -0.13147031098339348,
          -0.17653958348249027,
          0.11819093558083556,
          0.09698156252601976,
          0.07947874318810505,
          0.05851664702532333,
          0.11259487480079158,
          0.04752811307069246,
          0.06437210531360392,
          0.08905780726574913,
          0.09313282418284584,
          0.1152196744876466,
          0.0795363624758927,
          0.11551687726880842,
          -0.16104919201489398,
          0.06610106333179255,
          0.07050087564797156,
          0.1042547111582721,
          0.05963531199633614,
          0.0995354216162362,
          0.07845225663044914,
          0.08970120204504696,
          0.1023093372632498,
          0.07522818202239134,
          0.10073039269815252,
          -0.1758498006670157,
          0.08990842973715762,
          0.012758714235713437,
          -0.014256241218663777,
          0.07468931325334852,
          -0.17538168472275847,
          0.0728410105083598,
          0.08355743042059459,
          -0.12983099388695749,
          0.1275569959767319,
          -0.17949851689783505,
          0.12750771273649478,
          0.09905864000657402,
          0.07320335081812145,
          0.07417028108297151,
          0.11129841159583245,
          0.10257182618904506,
          0.11634771583385697,
          0.10927049269255325,
          -0.012181149978898133,
          0.12478425379310508,
          0.046437658257183025,
          0.10064708798397089,
          0.06883427818315656,
          0.09365069660576583,
          -0.08285125112969854,
          0.09832100617859613,
          0.0984428947981716,
          0.07350678151682244,
          0.09857519255445539,
          -0.18293035354858905,
          0.09921788505705219,
          -0.17679459278598492,
          0.12740051807315875,
          0.08987384143592254,
          0.07318657852595012,
          -0.12812996535822524,
          -0.17520386038884775,
          0.04115650252150501,
          0.09378124693683083,
          0.09497935844993233,
          0.048968848392153125,
          -0.0034402679231110124,
          0.015222502808194751,
          0.06727086459945539,
          0.11865246675163799,
          -0.11810796605300238,
          -0.015092638038825233,
          0.12397117171736123,
          0.10538576923520473,
          -0.17907661968054578,
          0.06432705660228054,
          0.11278002682457607,
          -0.16954304197345998,
          -0.17830143380752786,
          0.06959849560717962,
          0.10304885877593864,
          -0.16237218947630908,
          0.10541447000485209,
          0.10305092061750935,
          0.0746339261600022,
          0.08320659595584988,
          0.074989336556847,
          -0.1498284626370417
         ]
        },
        {
         "mode": "lines",
         "name": "Best Value",
         "type": "scatter",
         "x": [
          0,
          1,
          2,
          3,
          4,
          5,
          6,
          7,
          8,
          9,
          10,
          11,
          12,
          13,
          14,
          15,
          16,
          17,
          18,
          19,
          20,
          21,
          22,
          23,
          24,
          25,
          26,
          27,
          28,
          29,
          30,
          31,
          32,
          33,
          34,
          35,
          36,
          37,
          38,
          39,
          40,
          41,
          42,
          43,
          44,
          45,
          46,
          47,
          48,
          49,
          50,
          51,
          52,
          53,
          54,
          55,
          56,
          57,
          58,
          59,
          60,
          61,
          62,
          63,
          64,
          65,
          66,
          67,
          68,
          69,
          70,
          71,
          72,
          73,
          74,
          75,
          76,
          77,
          78,
          79,
          80,
          81,
          82,
          83,
          84,
          85,
          86,
          87,
          88,
          89,
          90,
          91,
          92,
          93,
          94,
          95,
          96,
          97,
          98,
          99,
          100,
          101,
          102,
          103,
          104,
          105,
          106,
          107,
          108,
          109,
          110,
          111,
          112,
          113,
          114,
          115,
          116,
          117,
          118,
          119,
          120,
          121,
          122,
          123,
          124,
          125,
          126,
          127,
          128,
          129,
          130,
          131,
          132,
          133,
          134,
          135,
          136,
          137,
          138,
          139,
          140,
          141,
          142,
          143,
          144,
          145,
          146,
          147,
          148,
          149,
          150,
          151,
          152,
          153,
          154,
          155,
          156,
          157,
          158,
          159,
          160,
          161,
          162,
          163,
          164,
          165,
          166,
          167,
          168,
          169,
          170,
          171,
          172,
          173,
          174,
          175,
          176,
          177,
          178,
          179,
          180,
          181,
          182,
          183,
          184,
          185,
          186,
          187,
          188,
          189,
          190,
          191,
          192,
          193,
          194,
          195,
          196,
          197,
          198,
          199,
          200,
          201,
          202,
          203,
          204,
          205,
          206,
          207,
          208,
          209,
          210,
          211,
          212,
          213,
          214,
          215,
          216,
          217,
          218,
          219,
          220,
          221,
          222,
          223,
          224,
          225,
          226,
          227,
          228,
          229,
          230,
          231,
          232,
          233,
          234,
          235,
          236,
          237,
          238,
          239,
          240,
          241,
          242,
          243,
          244,
          245,
          246,
          247,
          248,
          249,
          250,
          251,
          252,
          253,
          254,
          255,
          256,
          257,
          258,
          259,
          260,
          261,
          262,
          263,
          264,
          265,
          266,
          267,
          268,
          269,
          270,
          271,
          272,
          273,
          274,
          275,
          276,
          277,
          278,
          279,
          280,
          281,
          282,
          283,
          284,
          285,
          286,
          287,
          288,
          289,
          290,
          291,
          292,
          293,
          294,
          295,
          296,
          297,
          298,
          299,
          300,
          301,
          302,
          303,
          304,
          305,
          306,
          307,
          308,
          309,
          310,
          311,
          312,
          313,
          314,
          315,
          316,
          317,
          318,
          319,
          320,
          321,
          322,
          323,
          324,
          325,
          326,
          327,
          328,
          329,
          330,
          331,
          332,
          333,
          334,
          335,
          336,
          337,
          338,
          339,
          340,
          341,
          342,
          343,
          344,
          345,
          346,
          347,
          348,
          349,
          350,
          351,
          352,
          353,
          354,
          355,
          356,
          357,
          358,
          359,
          360,
          361,
          362,
          363,
          364,
          365,
          366,
          367,
          368,
          369,
          370,
          371,
          372,
          373,
          374,
          375,
          376,
          377,
          378,
          379,
          380,
          381,
          382,
          383,
          384,
          385,
          386,
          387,
          388,
          389,
          390,
          391,
          392,
          393,
          394,
          395,
          396,
          397,
          398,
          399,
          400,
          401,
          402,
          403,
          404,
          405,
          406,
          407,
          408,
          409,
          410,
          411,
          412,
          413,
          414,
          415,
          416,
          417,
          418,
          419,
          420,
          421,
          422,
          423,
          424,
          425,
          426,
          427,
          428,
          429,
          430,
          431,
          432,
          433,
          434,
          435,
          436,
          437,
          438,
          439,
          440,
          441,
          442,
          443,
          444,
          445,
          446,
          447,
          448,
          449,
          450,
          451,
          452,
          453,
          454,
          455,
          456,
          457,
          458,
          459,
          460,
          461,
          462,
          463,
          464,
          465,
          466,
          467,
          468,
          469,
          470,
          471,
          472,
          473,
          474,
          475,
          476,
          477,
          478,
          479,
          480,
          481,
          482,
          483,
          484,
          485,
          486,
          487,
          488,
          489,
          490,
          491,
          492,
          493,
          494,
          495,
          496,
          497,
          498,
          499,
          500,
          501,
          502,
          503,
          504,
          505,
          506,
          507,
          508,
          509,
          510,
          511,
          512,
          513,
          514,
          515,
          516,
          517,
          518,
          519,
          520,
          521,
          522,
          523,
          524,
          525,
          526,
          527,
          528,
          529,
          530,
          531,
          532,
          533,
          534,
          535,
          536,
          537,
          538,
          539,
          540,
          541,
          542,
          543,
          544,
          545,
          546,
          547,
          548,
          549,
          550,
          551,
          552,
          553,
          554,
          555,
          556,
          557,
          558,
          559,
          560,
          561,
          562,
          563
         ],
         "y": [
          0.08920742549638573,
          0.08920742549638573,
          0.08920742549638573,
          0.08920742549638573,
          0.11399187022420045,
          0.11399187022420045,
          0.11399187022420045,
          0.11399187022420045,
          0.11399187022420045,
          0.11399187022420045,
          0.11399187022420045,
          0.11399187022420045,
          0.11399187022420045,
          0.11399187022420045,
          0.11399187022420045,
          0.11399187022420045,
          0.11399187022420045,
          0.11399187022420045,
          0.11399187022420045,
          0.11399187022420045,
          0.11399187022420045,
          0.11399187022420045,
          0.11399187022420045,
          0.11958865187799167,
          0.11958865187799167,
          0.11958865187799167,
          0.11958865187799167,
          0.11958865187799167,
          0.11958865187799167,
          0.11958865187799167,
          0.11958865187799167,
          0.11958865187799167,
          0.11958865187799167,
          0.11958865187799167,
          0.11958865187799167,
          0.11958865187799167,
          0.11958865187799167,
          0.11958865187799167,
          0.11958865187799167,
          0.11958865187799167,
          0.11958865187799167,
          0.11958865187799167,
          0.11958865187799167,
          0.11958865187799167,
          0.11958865187799167,
          0.11958865187799167,
          0.11958865187799167,
          0.11958865187799167,
          0.11958865187799167,
          0.11958865187799167,
          0.11958865187799167,
          0.11958865187799167,
          0.1203441000216541,
          0.1203441000216541,
          0.1203441000216541,
          0.1203441000216541,
          0.1203441000216541,
          0.13129813063305099,
          0.13129813063305099,
          0.13129813063305099,
          0.13129813063305099,
          0.13129813063305099,
          0.13129813063305099,
          0.13129813063305099,
          0.13129813063305099,
          0.13129813063305099,
          0.13129813063305099,
          0.13129813063305099,
          0.13129813063305099,
          0.13129813063305099,
          0.13129813063305099,
          0.13129813063305099,
          0.13129813063305099,
          0.13129813063305099,
          0.13129813063305099,
          0.13129813063305099,
          0.13129813063305099,
          0.13129813063305099,
          0.13129813063305099,
          0.13129813063305099,
          0.13129813063305099,
          0.13129813063305099,
          0.13129813063305099,
          0.13129813063305099,
          0.13129813063305099,
          0.13129813063305099,
          0.13129813063305099,
          0.13129813063305099,
          0.13129813063305099,
          0.13129813063305099,
          0.13129813063305099,
          0.13129813063305099,
          0.13129813063305099,
          0.13129813063305099,
          0.13129813063305099,
          0.13129813063305099,
          0.13129813063305099,
          0.13129813063305099,
          0.13129813063305099,
          0.13129813063305099,
          0.13129813063305099,
          0.13129813063305099,
          0.13129813063305099,
          0.13129813063305099,
          0.13129813063305099,
          0.13129813063305099,
          0.13129813063305099,
          0.13129813063305099,
          0.13129813063305099,
          0.13129813063305099,
          0.13129813063305099,
          0.13129813063305099,
          0.13129813063305099,
          0.13129813063305099,
          0.13129813063305099,
          0.13129813063305099,
          0.13129813063305099,
          0.13129813063305099,
          0.13129813063305099,
          0.13129813063305099,
          0.13129813063305099,
          0.13129813063305099,
          0.13129813063305099,
          0.13129813063305099,
          0.13129813063305099,
          0.13129813063305099,
          0.13129813063305099,
          0.13129813063305099,
          0.13129813063305099,
          0.13129813063305099,
          0.13129813063305099,
          0.13129813063305099,
          0.13129813063305099,
          0.13129813063305099,
          0.13129813063305099,
          0.13129813063305099,
          0.13129813063305099,
          0.13129813063305099,
          0.13129813063305099,
          0.13129813063305099,
          0.13129813063305099,
          0.13129813063305099,
          0.13129813063305099,
          0.13129813063305099,
          0.13129813063305099,
          0.13129813063305099,
          0.13129813063305099,
          0.13129813063305099,
          0.13129813063305099,
          0.13129813063305099,
          0.13129813063305099,
          0.13129813063305099,
          0.13129813063305099,
          0.13129813063305099,
          0.13129813063305099,
          0.13129813063305099,
          0.13129813063305099,
          0.13129813063305099,
          0.13129813063305099,
          0.13129813063305099,
          0.13129813063305099,
          0.13129813063305099,
          0.13129813063305099,
          0.13129813063305099,
          0.13129813063305099,
          0.13129813063305099,
          0.13129813063305099,
          0.13129813063305099,
          0.13129813063305099,
          0.13129813063305099,
          0.13129813063305099,
          0.13129813063305099,
          0.13129813063305099,
          0.13129813063305099,
          0.13129813063305099,
          0.13129813063305099,
          0.13129813063305099,
          0.13129813063305099,
          0.13129813063305099,
          0.13129813063305099,
          0.13129813063305099,
          0.13129813063305099,
          0.13129813063305099,
          0.13129813063305099,
          0.13129813063305099,
          0.13129813063305099,
          0.13129813063305099,
          0.13129813063305099,
          0.13129813063305099,
          0.13129813063305099,
          0.13129813063305099,
          0.13129813063305099,
          0.13129813063305099,
          0.13129813063305099,
          0.13129813063305099,
          0.13129813063305099,
          0.13129813063305099,
          0.13129813063305099,
          0.13129813063305099,
          0.13129813063305099,
          0.13129813063305099,
          0.13129813063305099,
          0.13129813063305099,
          0.13129813063305099,
          0.13129813063305099,
          0.13129813063305099,
          0.13129813063305099,
          0.13129813063305099,
          0.13129813063305099,
          0.13129813063305099,
          0.13129813063305099,
          0.13129813063305099,
          0.13129813063305099,
          0.13129813063305099,
          0.13129813063305099,
          0.13129813063305099,
          0.13129813063305099,
          0.13129813063305099,
          0.13129813063305099,
          0.13129813063305099,
          0.13129813063305099,
          0.13129813063305099,
          0.13129813063305099,
          0.13129813063305099,
          0.13129813063305099,
          0.13129813063305099,
          0.13129813063305099,
          0.13129813063305099,
          0.13129813063305099,
          0.13129813063305099,
          0.13129813063305099,
          0.13129813063305099,
          0.13129813063305099,
          0.13129813063305099,
          0.13129813063305099,
          0.13129813063305099,
          0.13129813063305099,
          0.13129813063305099,
          0.13129813063305099,
          0.13129813063305099,
          0.13129813063305099,
          0.13129813063305099,
          0.13129813063305099,
          0.13129813063305099,
          0.13129813063305099,
          0.13129813063305099,
          0.13129813063305099,
          0.13129813063305099,
          0.13129813063305099,
          0.13129813063305099,
          0.13129813063305099,
          0.13129813063305099,
          0.13129813063305099,
          0.13129813063305099,
          0.13129813063305099,
          0.13129813063305099,
          0.13129813063305099,
          0.13129813063305099,
          0.13129813063305099,
          0.13129813063305099,
          0.13129813063305099,
          0.13129813063305099,
          0.13129813063305099,
          0.13129813063305099,
          0.13129813063305099,
          0.13129813063305099,
          0.13129813063305099,
          0.13129813063305099,
          0.13129813063305099,
          0.13129813063305099,
          0.13129813063305099,
          0.13129813063305099,
          0.13129813063305099,
          0.13129813063305099,
          0.13129813063305099,
          0.13129813063305099,
          0.13129813063305099,
          0.13129813063305099,
          0.13129813063305099,
          0.13129813063305099,
          0.13129813063305099,
          0.13129813063305099,
          0.13129813063305099,
          0.13129813063305099,
          0.13129813063305099,
          0.13129813063305099,
          0.13129813063305099,
          0.13129813063305099,
          0.13129813063305099,
          0.13129813063305099,
          0.13129813063305099,
          0.13129813063305099,
          0.13129813063305099,
          0.13129813063305099,
          0.13129813063305099,
          0.13129813063305099,
          0.13129813063305099,
          0.13129813063305099,
          0.13129813063305099,
          0.13129813063305099,
          0.13129813063305099,
          0.13129813063305099,
          0.13129813063305099,
          0.13129813063305099,
          0.13129813063305099,
          0.13129813063305099,
          0.13129813063305099,
          0.13129813063305099,
          0.13129813063305099,
          0.13129813063305099,
          0.13129813063305099,
          0.13129813063305099,
          0.13129813063305099,
          0.13129813063305099,
          0.13129813063305099,
          0.13129813063305099,
          0.13129813063305099,
          0.13129813063305099,
          0.13129813063305099,
          0.13129813063305099,
          0.13129813063305099,
          0.13129813063305099,
          0.13129813063305099,
          0.13129813063305099,
          0.13129813063305099,
          0.13129813063305099,
          0.13129813063305099,
          0.13129813063305099,
          0.13129813063305099,
          0.13129813063305099,
          0.13129813063305099,
          0.13129813063305099,
          0.13129813063305099,
          0.13129813063305099,
          0.13129813063305099,
          0.13129813063305099,
          0.13129813063305099,
          0.13129813063305099,
          0.13129813063305099,
          0.13129813063305099,
          0.13129813063305099,
          0.13129813063305099,
          0.13129813063305099,
          0.13129813063305099,
          0.13129813063305099,
          0.13129813063305099,
          0.13129813063305099,
          0.13129813063305099,
          0.13129813063305099,
          0.13129813063305099,
          0.13129813063305099,
          0.13129813063305099,
          0.13129813063305099,
          0.13129813063305099,
          0.13129813063305099,
          0.13129813063305099,
          0.13129813063305099,
          0.13129813063305099,
          0.13129813063305099,
          0.13129813063305099,
          0.13129813063305099,
          0.13129813063305099,
          0.13129813063305099,
          0.13129813063305099,
          0.13129813063305099,
          0.13129813063305099,
          0.13129813063305099,
          0.13129813063305099,
          0.13129813063305099,
          0.13129813063305099,
          0.13129813063305099,
          0.13129813063305099,
          0.13129813063305099,
          0.13129813063305099,
          0.13129813063305099,
          0.13129813063305099,
          0.13129813063305099,
          0.13129813063305099,
          0.13129813063305099,
          0.13129813063305099,
          0.13129813063305099,
          0.13129813063305099,
          0.13129813063305099,
          0.13129813063305099,
          0.13129813063305099,
          0.13129813063305099,
          0.13129813063305099,
          0.13129813063305099,
          0.13129813063305099,
          0.13129813063305099,
          0.13129813063305099,
          0.13129813063305099,
          0.13129813063305099,
          0.13129813063305099,
          0.13129813063305099,
          0.13129813063305099,
          0.13129813063305099,
          0.13129813063305099,
          0.13129813063305099,
          0.13129813063305099,
          0.13129813063305099,
          0.13129813063305099,
          0.13129813063305099,
          0.13129813063305099,
          0.13129813063305099,
          0.13129813063305099,
          0.13129813063305099,
          0.13129813063305099,
          0.13129813063305099,
          0.13129813063305099,
          0.13129813063305099,
          0.13129813063305099,
          0.13129813063305099,
          0.13129813063305099,
          0.13129813063305099,
          0.13129813063305099,
          0.13129813063305099,
          0.13129813063305099,
          0.13129813063305099,
          0.13129813063305099,
          0.13129813063305099,
          0.13129813063305099,
          0.13129813063305099,
          0.13129813063305099,
          0.13129813063305099,
          0.13129813063305099,
          0.13129813063305099,
          0.13129813063305099,
          0.13129813063305099,
          0.13129813063305099,
          0.13129813063305099,
          0.13129813063305099,
          0.13129813063305099,
          0.13129813063305099,
          0.13129813063305099,
          0.13129813063305099,
          0.13129813063305099,
          0.13129813063305099,
          0.13129813063305099,
          0.13129813063305099,
          0.13129813063305099,
          0.13129813063305099,
          0.13129813063305099,
          0.13129813063305099,
          0.13129813063305099,
          0.13129813063305099,
          0.13129813063305099,
          0.13129813063305099,
          0.13129813063305099,
          0.13129813063305099,
          0.13129813063305099,
          0.13129813063305099,
          0.13129813063305099,
          0.13129813063305099,
          0.13129813063305099,
          0.13129813063305099,
          0.13129813063305099,
          0.13129813063305099,
          0.13129813063305099,
          0.13129813063305099,
          0.13129813063305099,
          0.13129813063305099,
          0.13129813063305099,
          0.13129813063305099,
          0.13129813063305099,
          0.13129813063305099,
          0.13129813063305099,
          0.13129813063305099,
          0.13129813063305099,
          0.13129813063305099,
          0.13129813063305099,
          0.13129813063305099,
          0.13129813063305099,
          0.13129813063305099,
          0.13129813063305099,
          0.13129813063305099,
          0.13129813063305099,
          0.13129813063305099,
          0.13129813063305099,
          0.13129813063305099,
          0.13129813063305099,
          0.13129813063305099,
          0.13129813063305099,
          0.13129813063305099,
          0.13129813063305099,
          0.13129813063305099,
          0.13129813063305099,
          0.13129813063305099,
          0.13129813063305099,
          0.13129813063305099,
          0.13129813063305099,
          0.13129813063305099,
          0.13129813063305099,
          0.13129813063305099,
          0.13129813063305099,
          0.13129813063305099,
          0.13129813063305099,
          0.13129813063305099,
          0.13129813063305099,
          0.13129813063305099,
          0.13129813063305099,
          0.13129813063305099,
          0.13129813063305099,
          0.13129813063305099,
          0.13129813063305099,
          0.13129813063305099,
          0.13129813063305099,
          0.13129813063305099,
          0.13129813063305099,
          0.13129813063305099,
          0.13129813063305099,
          0.13129813063305099,
          0.13129813063305099,
          0.13129813063305099,
          0.13129813063305099,
          0.13129813063305099,
          0.13129813063305099,
          0.13129813063305099,
          0.13129813063305099,
          0.13129813063305099,
          0.13129813063305099,
          0.13129813063305099,
          0.13129813063305099,
          0.13129813063305099,
          0.13129813063305099,
          0.13129813063305099,
          0.13129813063305099,
          0.13129813063305099,
          0.13129813063305099,
          0.13129813063305099,
          0.13129813063305099,
          0.13129813063305099,
          0.13129813063305099,
          0.13129813063305099,
          0.13129813063305099,
          0.13129813063305099,
          0.13129813063305099,
          0.13129813063305099,
          0.13129813063305099,
          0.13129813063305099,
          0.13129813063305099,
          0.13129813063305099,
          0.13129813063305099,
          0.13129813063305099,
          0.13129813063305099,
          0.13129813063305099,
          0.13129813063305099,
          0.13129813063305099,
          0.13129813063305099,
          0.13129813063305099,
          0.13129813063305099,
          0.13129813063305099,
          0.13129813063305099,
          0.13129813063305099,
          0.13129813063305099,
          0.13129813063305099,
          0.13129813063305099,
          0.13129813063305099,
          0.13129813063305099,
          0.13129813063305099,
          0.13129813063305099,
          0.13129813063305099,
          0.13129813063305099,
          0.13129813063305099
         ]
        },
        {
         "marker": {
          "color": "#cccccc"
         },
         "mode": "markers",
         "name": "Infeasible Trial",
         "showlegend": false,
         "type": "scatter",
         "x": [],
         "y": []
        }
       ],
       "layout": {
        "template": {
         "data": {
          "bar": [
           {
            "error_x": {
             "color": "#2a3f5f"
            },
            "error_y": {
             "color": "#2a3f5f"
            },
            "marker": {
             "line": {
              "color": "#E5ECF6",
              "width": 0.5
             },
             "pattern": {
              "fillmode": "overlay",
              "size": 10,
              "solidity": 0.2
             }
            },
            "type": "bar"
           }
          ],
          "barpolar": [
           {
            "marker": {
             "line": {
              "color": "#E5ECF6",
              "width": 0.5
             },
             "pattern": {
              "fillmode": "overlay",
              "size": 10,
              "solidity": 0.2
             }
            },
            "type": "barpolar"
           }
          ],
          "carpet": [
           {
            "aaxis": {
             "endlinecolor": "#2a3f5f",
             "gridcolor": "white",
             "linecolor": "white",
             "minorgridcolor": "white",
             "startlinecolor": "#2a3f5f"
            },
            "baxis": {
             "endlinecolor": "#2a3f5f",
             "gridcolor": "white",
             "linecolor": "white",
             "minorgridcolor": "white",
             "startlinecolor": "#2a3f5f"
            },
            "type": "carpet"
           }
          ],
          "choropleth": [
           {
            "colorbar": {
             "outlinewidth": 0,
             "ticks": ""
            },
            "type": "choropleth"
           }
          ],
          "contour": [
           {
            "colorbar": {
             "outlinewidth": 0,
             "ticks": ""
            },
            "colorscale": [
             [
              0,
              "#0d0887"
             ],
             [
              0.1111111111111111,
              "#46039f"
             ],
             [
              0.2222222222222222,
              "#7201a8"
             ],
             [
              0.3333333333333333,
              "#9c179e"
             ],
             [
              0.4444444444444444,
              "#bd3786"
             ],
             [
              0.5555555555555556,
              "#d8576b"
             ],
             [
              0.6666666666666666,
              "#ed7953"
             ],
             [
              0.7777777777777778,
              "#fb9f3a"
             ],
             [
              0.8888888888888888,
              "#fdca26"
             ],
             [
              1,
              "#f0f921"
             ]
            ],
            "type": "contour"
           }
          ],
          "contourcarpet": [
           {
            "colorbar": {
             "outlinewidth": 0,
             "ticks": ""
            },
            "type": "contourcarpet"
           }
          ],
          "heatmap": [
           {
            "colorbar": {
             "outlinewidth": 0,
             "ticks": ""
            },
            "colorscale": [
             [
              0,
              "#0d0887"
             ],
             [
              0.1111111111111111,
              "#46039f"
             ],
             [
              0.2222222222222222,
              "#7201a8"
             ],
             [
              0.3333333333333333,
              "#9c179e"
             ],
             [
              0.4444444444444444,
              "#bd3786"
             ],
             [
              0.5555555555555556,
              "#d8576b"
             ],
             [
              0.6666666666666666,
              "#ed7953"
             ],
             [
              0.7777777777777778,
              "#fb9f3a"
             ],
             [
              0.8888888888888888,
              "#fdca26"
             ],
             [
              1,
              "#f0f921"
             ]
            ],
            "type": "heatmap"
           }
          ],
          "histogram": [
           {
            "marker": {
             "pattern": {
              "fillmode": "overlay",
              "size": 10,
              "solidity": 0.2
             }
            },
            "type": "histogram"
           }
          ],
          "histogram2d": [
           {
            "colorbar": {
             "outlinewidth": 0,
             "ticks": ""
            },
            "colorscale": [
             [
              0,
              "#0d0887"
             ],
             [
              0.1111111111111111,
              "#46039f"
             ],
             [
              0.2222222222222222,
              "#7201a8"
             ],
             [
              0.3333333333333333,
              "#9c179e"
             ],
             [
              0.4444444444444444,
              "#bd3786"
             ],
             [
              0.5555555555555556,
              "#d8576b"
             ],
             [
              0.6666666666666666,
              "#ed7953"
             ],
             [
              0.7777777777777778,
              "#fb9f3a"
             ],
             [
              0.8888888888888888,
              "#fdca26"
             ],
             [
              1,
              "#f0f921"
             ]
            ],
            "type": "histogram2d"
           }
          ],
          "histogram2dcontour": [
           {
            "colorbar": {
             "outlinewidth": 0,
             "ticks": ""
            },
            "colorscale": [
             [
              0,
              "#0d0887"
             ],
             [
              0.1111111111111111,
              "#46039f"
             ],
             [
              0.2222222222222222,
              "#7201a8"
             ],
             [
              0.3333333333333333,
              "#9c179e"
             ],
             [
              0.4444444444444444,
              "#bd3786"
             ],
             [
              0.5555555555555556,
              "#d8576b"
             ],
             [
              0.6666666666666666,
              "#ed7953"
             ],
             [
              0.7777777777777778,
              "#fb9f3a"
             ],
             [
              0.8888888888888888,
              "#fdca26"
             ],
             [
              1,
              "#f0f921"
             ]
            ],
            "type": "histogram2dcontour"
           }
          ],
          "mesh3d": [
           {
            "colorbar": {
             "outlinewidth": 0,
             "ticks": ""
            },
            "type": "mesh3d"
           }
          ],
          "parcoords": [
           {
            "line": {
             "colorbar": {
              "outlinewidth": 0,
              "ticks": ""
             }
            },
            "type": "parcoords"
           }
          ],
          "pie": [
           {
            "automargin": true,
            "type": "pie"
           }
          ],
          "scatter": [
           {
            "fillpattern": {
             "fillmode": "overlay",
             "size": 10,
             "solidity": 0.2
            },
            "type": "scatter"
           }
          ],
          "scatter3d": [
           {
            "line": {
             "colorbar": {
              "outlinewidth": 0,
              "ticks": ""
             }
            },
            "marker": {
             "colorbar": {
              "outlinewidth": 0,
              "ticks": ""
             }
            },
            "type": "scatter3d"
           }
          ],
          "scattercarpet": [
           {
            "marker": {
             "colorbar": {
              "outlinewidth": 0,
              "ticks": ""
             }
            },
            "type": "scattercarpet"
           }
          ],
          "scattergeo": [
           {
            "marker": {
             "colorbar": {
              "outlinewidth": 0,
              "ticks": ""
             }
            },
            "type": "scattergeo"
           }
          ],
          "scattergl": [
           {
            "marker": {
             "colorbar": {
              "outlinewidth": 0,
              "ticks": ""
             }
            },
            "type": "scattergl"
           }
          ],
          "scattermap": [
           {
            "marker": {
             "colorbar": {
              "outlinewidth": 0,
              "ticks": ""
             }
            },
            "type": "scattermap"
           }
          ],
          "scattermapbox": [
           {
            "marker": {
             "colorbar": {
              "outlinewidth": 0,
              "ticks": ""
             }
            },
            "type": "scattermapbox"
           }
          ],
          "scatterpolar": [
           {
            "marker": {
             "colorbar": {
              "outlinewidth": 0,
              "ticks": ""
             }
            },
            "type": "scatterpolar"
           }
          ],
          "scatterpolargl": [
           {
            "marker": {
             "colorbar": {
              "outlinewidth": 0,
              "ticks": ""
             }
            },
            "type": "scatterpolargl"
           }
          ],
          "scatterternary": [
           {
            "marker": {
             "colorbar": {
              "outlinewidth": 0,
              "ticks": ""
             }
            },
            "type": "scatterternary"
           }
          ],
          "surface": [
           {
            "colorbar": {
             "outlinewidth": 0,
             "ticks": ""
            },
            "colorscale": [
             [
              0,
              "#0d0887"
             ],
             [
              0.1111111111111111,
              "#46039f"
             ],
             [
              0.2222222222222222,
              "#7201a8"
             ],
             [
              0.3333333333333333,
              "#9c179e"
             ],
             [
              0.4444444444444444,
              "#bd3786"
             ],
             [
              0.5555555555555556,
              "#d8576b"
             ],
             [
              0.6666666666666666,
              "#ed7953"
             ],
             [
              0.7777777777777778,
              "#fb9f3a"
             ],
             [
              0.8888888888888888,
              "#fdca26"
             ],
             [
              1,
              "#f0f921"
             ]
            ],
            "type": "surface"
           }
          ],
          "table": [
           {
            "cells": {
             "fill": {
              "color": "#EBF0F8"
             },
             "line": {
              "color": "white"
             }
            },
            "header": {
             "fill": {
              "color": "#C8D4E3"
             },
             "line": {
              "color": "white"
             }
            },
            "type": "table"
           }
          ]
         },
         "layout": {
          "annotationdefaults": {
           "arrowcolor": "#2a3f5f",
           "arrowhead": 0,
           "arrowwidth": 1
          },
          "autotypenumbers": "strict",
          "coloraxis": {
           "colorbar": {
            "outlinewidth": 0,
            "ticks": ""
           }
          },
          "colorscale": {
           "diverging": [
            [
             0,
             "#8e0152"
            ],
            [
             0.1,
             "#c51b7d"
            ],
            [
             0.2,
             "#de77ae"
            ],
            [
             0.3,
             "#f1b6da"
            ],
            [
             0.4,
             "#fde0ef"
            ],
            [
             0.5,
             "#f7f7f7"
            ],
            [
             0.6,
             "#e6f5d0"
            ],
            [
             0.7,
             "#b8e186"
            ],
            [
             0.8,
             "#7fbc41"
            ],
            [
             0.9,
             "#4d9221"
            ],
            [
             1,
             "#276419"
            ]
           ],
           "sequential": [
            [
             0,
             "#0d0887"
            ],
            [
             0.1111111111111111,
             "#46039f"
            ],
            [
             0.2222222222222222,
             "#7201a8"
            ],
            [
             0.3333333333333333,
             "#9c179e"
            ],
            [
             0.4444444444444444,
             "#bd3786"
            ],
            [
             0.5555555555555556,
             "#d8576b"
            ],
            [
             0.6666666666666666,
             "#ed7953"
            ],
            [
             0.7777777777777778,
             "#fb9f3a"
            ],
            [
             0.8888888888888888,
             "#fdca26"
            ],
            [
             1,
             "#f0f921"
            ]
           ],
           "sequentialminus": [
            [
             0,
             "#0d0887"
            ],
            [
             0.1111111111111111,
             "#46039f"
            ],
            [
             0.2222222222222222,
             "#7201a8"
            ],
            [
             0.3333333333333333,
             "#9c179e"
            ],
            [
             0.4444444444444444,
             "#bd3786"
            ],
            [
             0.5555555555555556,
             "#d8576b"
            ],
            [
             0.6666666666666666,
             "#ed7953"
            ],
            [
             0.7777777777777778,
             "#fb9f3a"
            ],
            [
             0.8888888888888888,
             "#fdca26"
            ],
            [
             1,
             "#f0f921"
            ]
           ]
          },
          "colorway": [
           "#636efa",
           "#EF553B",
           "#00cc96",
           "#ab63fa",
           "#FFA15A",
           "#19d3f3",
           "#FF6692",
           "#B6E880",
           "#FF97FF",
           "#FECB52"
          ],
          "font": {
           "color": "#2a3f5f"
          },
          "geo": {
           "bgcolor": "white",
           "lakecolor": "white",
           "landcolor": "#E5ECF6",
           "showlakes": true,
           "showland": true,
           "subunitcolor": "white"
          },
          "hoverlabel": {
           "align": "left"
          },
          "hovermode": "closest",
          "mapbox": {
           "style": "light"
          },
          "paper_bgcolor": "white",
          "plot_bgcolor": "#E5ECF6",
          "polar": {
           "angularaxis": {
            "gridcolor": "white",
            "linecolor": "white",
            "ticks": ""
           },
           "bgcolor": "#E5ECF6",
           "radialaxis": {
            "gridcolor": "white",
            "linecolor": "white",
            "ticks": ""
           }
          },
          "scene": {
           "xaxis": {
            "backgroundcolor": "#E5ECF6",
            "gridcolor": "white",
            "gridwidth": 2,
            "linecolor": "white",
            "showbackground": true,
            "ticks": "",
            "zerolinecolor": "white"
           },
           "yaxis": {
            "backgroundcolor": "#E5ECF6",
            "gridcolor": "white",
            "gridwidth": 2,
            "linecolor": "white",
            "showbackground": true,
            "ticks": "",
            "zerolinecolor": "white"
           },
           "zaxis": {
            "backgroundcolor": "#E5ECF6",
            "gridcolor": "white",
            "gridwidth": 2,
            "linecolor": "white",
            "showbackground": true,
            "ticks": "",
            "zerolinecolor": "white"
           }
          },
          "shapedefaults": {
           "line": {
            "color": "#2a3f5f"
           }
          },
          "ternary": {
           "aaxis": {
            "gridcolor": "white",
            "linecolor": "white",
            "ticks": ""
           },
           "baxis": {
            "gridcolor": "white",
            "linecolor": "white",
            "ticks": ""
           },
           "bgcolor": "#E5ECF6",
           "caxis": {
            "gridcolor": "white",
            "linecolor": "white",
            "ticks": ""
           }
          },
          "title": {
           "x": 0.05
          },
          "xaxis": {
           "automargin": true,
           "gridcolor": "white",
           "linecolor": "white",
           "ticks": "",
           "title": {
            "standoff": 15
           },
           "zerolinecolor": "white",
           "zerolinewidth": 2
          },
          "yaxis": {
           "automargin": true,
           "gridcolor": "white",
           "linecolor": "white",
           "ticks": "",
           "title": {
            "standoff": 15
           },
           "zerolinecolor": "white",
           "zerolinewidth": 2
          }
         }
        },
        "title": {
         "text": "Optimization History Plot"
        },
        "xaxis": {
         "title": {
          "text": "Trial"
         }
        },
        "yaxis": {
         "title": {
          "text": "Objective Value"
         }
        }
       }
      }
     },
     "metadata": {},
     "output_type": "display_data"
    }
   ],
   "source": [
    "# Mostrar chart com trials do Optuna\n",
    "fig = optuna.visualization.plot_optimization_history(estudo_ag)\n",
    "fig.show()"
   ]
  },
  {
   "cell_type": "code",
   "execution_count": 66,
   "metadata": {},
   "outputs": [
    {
     "data": {
      "application/vnd.plotly.v1+json": {
       "config": {
        "plotlyServerURL": "https://plot.ly"
       },
       "data": [
        {
         "mode": "markers",
         "name": "Objective Value",
         "type": "scatter",
         "x": [
          0,
          1,
          2,
          3,
          4,
          5,
          6,
          7,
          8,
          9,
          10,
          11,
          12,
          13,
          14,
          15,
          16,
          17,
          18,
          19,
          20,
          21,
          22,
          23,
          24,
          25,
          26,
          27,
          28,
          29,
          30,
          31,
          32,
          33,
          34,
          35,
          36,
          37,
          38,
          39,
          40,
          41,
          42,
          43,
          44,
          45,
          46,
          47,
          48,
          49,
          50,
          51,
          52,
          53,
          54,
          55,
          56,
          57,
          58,
          59,
          60,
          61,
          62,
          63,
          64,
          65,
          66,
          67,
          68,
          69,
          70,
          71,
          72,
          73,
          74,
          75,
          76,
          77,
          78,
          79,
          80,
          81,
          82,
          83,
          84,
          85,
          86,
          87,
          88,
          89,
          90,
          91,
          92,
          93,
          94,
          95,
          96,
          97,
          98,
          99,
          100,
          101,
          102,
          103,
          104,
          105,
          106,
          107,
          108,
          109,
          110,
          111,
          112,
          113,
          114,
          115,
          116,
          117,
          118,
          119,
          120,
          121,
          122,
          123,
          124,
          125,
          126,
          127,
          128,
          129,
          130,
          131,
          132,
          133,
          134,
          135,
          136,
          137,
          138,
          139,
          140
         ],
         "y": [
          0.053536286732362395,
          0.043254449832710866,
          0.06701697658197678,
          0.05283925137764129,
          0.042114933325166394,
          0.06069698716640187,
          0.05020178751460867,
          0.046869505595495596,
          0.025868177027966417,
          0.062198261179078215,
          0.04007802284260891,
          0.04604241415469281,
          0.020991590932435945,
          0.028692551109605596,
          0.006442848133997252,
          0.034759740297677165,
          0.039797923843307166,
          0.044683326653118235,
          0.06728232385018415,
          0.05662365706125772,
          0.04778901146011778,
          0.06811676494567866,
          0.01974019898465421,
          0.06197705166795886,
          0.08107213602177277,
          0.017713497520877492,
          0.06300971169924309,
          0.021898894095301446,
          0.05968348160385774,
          0.05834926467024674,
          0.03652713922999741,
          0.057104236182976206,
          0.035054224199802884,
          0.03985177753479859,
          0.04497664666642882,
          0.032112406160690506,
          0.030731412276159168,
          0.027968905393984212,
          0.05763189835341291,
          0.044205648890326396,
          0.06791544430170682,
          0.06259076797561222,
          0.030568284403431078,
          0.03299548778584526,
          0.05021394438587599,
          0.045939187894060124,
          0.04251947593169712,
          0.039593241866512,
          0.04233872273413184,
          0.016681759745146987,
          0.0716285846321545,
          0.04298339075972378,
          0.03707960121589051,
          0.039792903422507485,
          0.032922726349121106,
          0.06689571753315622,
          0.03230358082441111,
          0.04474262296418446,
          0.041239370719432,
          0.035291614133685846,
          0.022840902089120305,
          0.06482760620191008,
          0.05026279599351222,
          0.048486317720774566,
          0.03135871333987096,
          0.07179410020851638,
          0.015706222946577003,
          0.0700998154314179,
          0.03314030386200281,
          0.04077822118846521,
          0.026659793694487566,
          0.027746873753974714,
          0.06220704886936422,
          0.029048236042597667,
          0.04063281614599589,
          0.052075555805516545,
          0.028763022800934603,
          0.06248613288685932,
          0.015152546740693005,
          0.04181944532157817,
          0.07042196374263149,
          0.07637456864350119,
          0.026343301925872052,
          0.06859949561845353,
          0.05917461233476627,
          0.07785732535154487,
          0.03752508125825161,
          0.030396103727610774,
          0.0456008721045984,
          0.0785731407297913,
          0.05622909782046862,
          0.06773433782590847,
          0.05178403945108784,
          0.03745460897113281,
          0.06204120028482791,
          0.05817529743988494,
          0.04522360483119943,
          0.060371581295591954,
          0.032535201501262205,
          0.05541697492211883,
          0.033525985432371695,
          0.051181237982412704,
          0.04637676152846921,
          0.0073346717429329245,
          0.07452229733900671,
          0.025700643762326045,
          0.05764706136022594,
          0.06141046488494344,
          0.04942520563070711,
          0.016734330955173363,
          0.027098915455006808,
          0.03119383615418214,
          0.04579958667524565,
          0.01203904082215744,
          0.0432153942974317,
          0.04669455923262582,
          0.027640101013086612,
          0.036995396098130934,
          0.04890731317563201,
          0.06911908743059957,
          0.012640049454767923,
          0.04835087535712874,
          0.04367284359185894,
          0.04995788447505519,
          0.06049625077079681,
          0.04462559494137724,
          0.027562775616389708,
          0.04397890234545936,
          0.035213238070002074,
          0.05361649494268004,
          0.05274942304214928,
          0.044429241149801825,
          0.04758170242562897,
          0.04440031843223873,
          0.052859707479408685,
          0.05375602741872002,
          0.06544189498434119,
          0.03790146913382585,
          0.054930768377754915,
          0.03812453905652771,
          0.058429931422469085
         ]
        },
        {
         "mode": "lines",
         "name": "Best Value",
         "type": "scatter",
         "x": [
          0,
          1,
          2,
          3,
          4,
          5,
          6,
          7,
          8,
          9,
          10,
          11,
          12,
          13,
          14,
          15,
          16,
          17,
          18,
          19,
          20,
          21,
          22,
          23,
          24,
          25,
          26,
          27,
          28,
          29,
          30,
          31,
          32,
          33,
          34,
          35,
          36,
          37,
          38,
          39,
          40,
          41,
          42,
          43,
          44,
          45,
          46,
          47,
          48,
          49,
          50,
          51,
          52,
          53,
          54,
          55,
          56,
          57,
          58,
          59,
          60,
          61,
          62,
          63,
          64,
          65,
          66,
          67,
          68,
          69,
          70,
          71,
          72,
          73,
          74,
          75,
          76,
          77,
          78,
          79,
          80,
          81,
          82,
          83,
          84,
          85,
          86,
          87,
          88,
          89,
          90,
          91,
          92,
          93,
          94,
          95,
          96,
          97,
          98,
          99,
          100,
          101,
          102,
          103,
          104,
          105,
          106,
          107,
          108,
          109,
          110,
          111,
          112,
          113,
          114,
          115,
          116,
          117,
          118,
          119,
          120,
          121,
          122,
          123,
          124,
          125,
          126,
          127,
          128,
          129,
          130,
          131,
          132,
          133,
          134,
          135,
          136,
          137,
          138,
          139,
          140
         ],
         "y": [
          0.053536286732362395,
          0.053536286732362395,
          0.06701697658197678,
          0.06701697658197678,
          0.06701697658197678,
          0.06701697658197678,
          0.06701697658197678,
          0.06701697658197678,
          0.06701697658197678,
          0.06701697658197678,
          0.06701697658197678,
          0.06701697658197678,
          0.06701697658197678,
          0.06701697658197678,
          0.06701697658197678,
          0.06701697658197678,
          0.06701697658197678,
          0.06701697658197678,
          0.06728232385018415,
          0.06728232385018415,
          0.06728232385018415,
          0.06811676494567866,
          0.06811676494567866,
          0.06811676494567866,
          0.08107213602177277,
          0.08107213602177277,
          0.08107213602177277,
          0.08107213602177277,
          0.08107213602177277,
          0.08107213602177277,
          0.08107213602177277,
          0.08107213602177277,
          0.08107213602177277,
          0.08107213602177277,
          0.08107213602177277,
          0.08107213602177277,
          0.08107213602177277,
          0.08107213602177277,
          0.08107213602177277,
          0.08107213602177277,
          0.08107213602177277,
          0.08107213602177277,
          0.08107213602177277,
          0.08107213602177277,
          0.08107213602177277,
          0.08107213602177277,
          0.08107213602177277,
          0.08107213602177277,
          0.08107213602177277,
          0.08107213602177277,
          0.08107213602177277,
          0.08107213602177277,
          0.08107213602177277,
          0.08107213602177277,
          0.08107213602177277,
          0.08107213602177277,
          0.08107213602177277,
          0.08107213602177277,
          0.08107213602177277,
          0.08107213602177277,
          0.08107213602177277,
          0.08107213602177277,
          0.08107213602177277,
          0.08107213602177277,
          0.08107213602177277,
          0.08107213602177277,
          0.08107213602177277,
          0.08107213602177277,
          0.08107213602177277,
          0.08107213602177277,
          0.08107213602177277,
          0.08107213602177277,
          0.08107213602177277,
          0.08107213602177277,
          0.08107213602177277,
          0.08107213602177277,
          0.08107213602177277,
          0.08107213602177277,
          0.08107213602177277,
          0.08107213602177277,
          0.08107213602177277,
          0.08107213602177277,
          0.08107213602177277,
          0.08107213602177277,
          0.08107213602177277,
          0.08107213602177277,
          0.08107213602177277,
          0.08107213602177277,
          0.08107213602177277,
          0.08107213602177277,
          0.08107213602177277,
          0.08107213602177277,
          0.08107213602177277,
          0.08107213602177277,
          0.08107213602177277,
          0.08107213602177277,
          0.08107213602177277,
          0.08107213602177277,
          0.08107213602177277,
          0.08107213602177277,
          0.08107213602177277,
          0.08107213602177277,
          0.08107213602177277,
          0.08107213602177277,
          0.08107213602177277,
          0.08107213602177277,
          0.08107213602177277,
          0.08107213602177277,
          0.08107213602177277,
          0.08107213602177277,
          0.08107213602177277,
          0.08107213602177277,
          0.08107213602177277,
          0.08107213602177277,
          0.08107213602177277,
          0.08107213602177277,
          0.08107213602177277,
          0.08107213602177277,
          0.08107213602177277,
          0.08107213602177277,
          0.08107213602177277,
          0.08107213602177277,
          0.08107213602177277,
          0.08107213602177277,
          0.08107213602177277,
          0.08107213602177277,
          0.08107213602177277,
          0.08107213602177277,
          0.08107213602177277,
          0.08107213602177277,
          0.08107213602177277,
          0.08107213602177277,
          0.08107213602177277,
          0.08107213602177277,
          0.08107213602177277,
          0.08107213602177277,
          0.08107213602177277,
          0.08107213602177277,
          0.08107213602177277,
          0.08107213602177277,
          0.08107213602177277
         ]
        },
        {
         "marker": {
          "color": "#cccccc"
         },
         "mode": "markers",
         "name": "Infeasible Trial",
         "showlegend": false,
         "type": "scatter",
         "x": [],
         "y": []
        }
       ],
       "layout": {
        "template": {
         "data": {
          "bar": [
           {
            "error_x": {
             "color": "#2a3f5f"
            },
            "error_y": {
             "color": "#2a3f5f"
            },
            "marker": {
             "line": {
              "color": "#E5ECF6",
              "width": 0.5
             },
             "pattern": {
              "fillmode": "overlay",
              "size": 10,
              "solidity": 0.2
             }
            },
            "type": "bar"
           }
          ],
          "barpolar": [
           {
            "marker": {
             "line": {
              "color": "#E5ECF6",
              "width": 0.5
             },
             "pattern": {
              "fillmode": "overlay",
              "size": 10,
              "solidity": 0.2
             }
            },
            "type": "barpolar"
           }
          ],
          "carpet": [
           {
            "aaxis": {
             "endlinecolor": "#2a3f5f",
             "gridcolor": "white",
             "linecolor": "white",
             "minorgridcolor": "white",
             "startlinecolor": "#2a3f5f"
            },
            "baxis": {
             "endlinecolor": "#2a3f5f",
             "gridcolor": "white",
             "linecolor": "white",
             "minorgridcolor": "white",
             "startlinecolor": "#2a3f5f"
            },
            "type": "carpet"
           }
          ],
          "choropleth": [
           {
            "colorbar": {
             "outlinewidth": 0,
             "ticks": ""
            },
            "type": "choropleth"
           }
          ],
          "contour": [
           {
            "colorbar": {
             "outlinewidth": 0,
             "ticks": ""
            },
            "colorscale": [
             [
              0,
              "#0d0887"
             ],
             [
              0.1111111111111111,
              "#46039f"
             ],
             [
              0.2222222222222222,
              "#7201a8"
             ],
             [
              0.3333333333333333,
              "#9c179e"
             ],
             [
              0.4444444444444444,
              "#bd3786"
             ],
             [
              0.5555555555555556,
              "#d8576b"
             ],
             [
              0.6666666666666666,
              "#ed7953"
             ],
             [
              0.7777777777777778,
              "#fb9f3a"
             ],
             [
              0.8888888888888888,
              "#fdca26"
             ],
             [
              1,
              "#f0f921"
             ]
            ],
            "type": "contour"
           }
          ],
          "contourcarpet": [
           {
            "colorbar": {
             "outlinewidth": 0,
             "ticks": ""
            },
            "type": "contourcarpet"
           }
          ],
          "heatmap": [
           {
            "colorbar": {
             "outlinewidth": 0,
             "ticks": ""
            },
            "colorscale": [
             [
              0,
              "#0d0887"
             ],
             [
              0.1111111111111111,
              "#46039f"
             ],
             [
              0.2222222222222222,
              "#7201a8"
             ],
             [
              0.3333333333333333,
              "#9c179e"
             ],
             [
              0.4444444444444444,
              "#bd3786"
             ],
             [
              0.5555555555555556,
              "#d8576b"
             ],
             [
              0.6666666666666666,
              "#ed7953"
             ],
             [
              0.7777777777777778,
              "#fb9f3a"
             ],
             [
              0.8888888888888888,
              "#fdca26"
             ],
             [
              1,
              "#f0f921"
             ]
            ],
            "type": "heatmap"
           }
          ],
          "histogram": [
           {
            "marker": {
             "pattern": {
              "fillmode": "overlay",
              "size": 10,
              "solidity": 0.2
             }
            },
            "type": "histogram"
           }
          ],
          "histogram2d": [
           {
            "colorbar": {
             "outlinewidth": 0,
             "ticks": ""
            },
            "colorscale": [
             [
              0,
              "#0d0887"
             ],
             [
              0.1111111111111111,
              "#46039f"
             ],
             [
              0.2222222222222222,
              "#7201a8"
             ],
             [
              0.3333333333333333,
              "#9c179e"
             ],
             [
              0.4444444444444444,
              "#bd3786"
             ],
             [
              0.5555555555555556,
              "#d8576b"
             ],
             [
              0.6666666666666666,
              "#ed7953"
             ],
             [
              0.7777777777777778,
              "#fb9f3a"
             ],
             [
              0.8888888888888888,
              "#fdca26"
             ],
             [
              1,
              "#f0f921"
             ]
            ],
            "type": "histogram2d"
           }
          ],
          "histogram2dcontour": [
           {
            "colorbar": {
             "outlinewidth": 0,
             "ticks": ""
            },
            "colorscale": [
             [
              0,
              "#0d0887"
             ],
             [
              0.1111111111111111,
              "#46039f"
             ],
             [
              0.2222222222222222,
              "#7201a8"
             ],
             [
              0.3333333333333333,
              "#9c179e"
             ],
             [
              0.4444444444444444,
              "#bd3786"
             ],
             [
              0.5555555555555556,
              "#d8576b"
             ],
             [
              0.6666666666666666,
              "#ed7953"
             ],
             [
              0.7777777777777778,
              "#fb9f3a"
             ],
             [
              0.8888888888888888,
              "#fdca26"
             ],
             [
              1,
              "#f0f921"
             ]
            ],
            "type": "histogram2dcontour"
           }
          ],
          "mesh3d": [
           {
            "colorbar": {
             "outlinewidth": 0,
             "ticks": ""
            },
            "type": "mesh3d"
           }
          ],
          "parcoords": [
           {
            "line": {
             "colorbar": {
              "outlinewidth": 0,
              "ticks": ""
             }
            },
            "type": "parcoords"
           }
          ],
          "pie": [
           {
            "automargin": true,
            "type": "pie"
           }
          ],
          "scatter": [
           {
            "fillpattern": {
             "fillmode": "overlay",
             "size": 10,
             "solidity": 0.2
            },
            "type": "scatter"
           }
          ],
          "scatter3d": [
           {
            "line": {
             "colorbar": {
              "outlinewidth": 0,
              "ticks": ""
             }
            },
            "marker": {
             "colorbar": {
              "outlinewidth": 0,
              "ticks": ""
             }
            },
            "type": "scatter3d"
           }
          ],
          "scattercarpet": [
           {
            "marker": {
             "colorbar": {
              "outlinewidth": 0,
              "ticks": ""
             }
            },
            "type": "scattercarpet"
           }
          ],
          "scattergeo": [
           {
            "marker": {
             "colorbar": {
              "outlinewidth": 0,
              "ticks": ""
             }
            },
            "type": "scattergeo"
           }
          ],
          "scattergl": [
           {
            "marker": {
             "colorbar": {
              "outlinewidth": 0,
              "ticks": ""
             }
            },
            "type": "scattergl"
           }
          ],
          "scattermap": [
           {
            "marker": {
             "colorbar": {
              "outlinewidth": 0,
              "ticks": ""
             }
            },
            "type": "scattermap"
           }
          ],
          "scattermapbox": [
           {
            "marker": {
             "colorbar": {
              "outlinewidth": 0,
              "ticks": ""
             }
            },
            "type": "scattermapbox"
           }
          ],
          "scatterpolar": [
           {
            "marker": {
             "colorbar": {
              "outlinewidth": 0,
              "ticks": ""
             }
            },
            "type": "scatterpolar"
           }
          ],
          "scatterpolargl": [
           {
            "marker": {
             "colorbar": {
              "outlinewidth": 0,
              "ticks": ""
             }
            },
            "type": "scatterpolargl"
           }
          ],
          "scatterternary": [
           {
            "marker": {
             "colorbar": {
              "outlinewidth": 0,
              "ticks": ""
             }
            },
            "type": "scatterternary"
           }
          ],
          "surface": [
           {
            "colorbar": {
             "outlinewidth": 0,
             "ticks": ""
            },
            "colorscale": [
             [
              0,
              "#0d0887"
             ],
             [
              0.1111111111111111,
              "#46039f"
             ],
             [
              0.2222222222222222,
              "#7201a8"
             ],
             [
              0.3333333333333333,
              "#9c179e"
             ],
             [
              0.4444444444444444,
              "#bd3786"
             ],
             [
              0.5555555555555556,
              "#d8576b"
             ],
             [
              0.6666666666666666,
              "#ed7953"
             ],
             [
              0.7777777777777778,
              "#fb9f3a"
             ],
             [
              0.8888888888888888,
              "#fdca26"
             ],
             [
              1,
              "#f0f921"
             ]
            ],
            "type": "surface"
           }
          ],
          "table": [
           {
            "cells": {
             "fill": {
              "color": "#EBF0F8"
             },
             "line": {
              "color": "white"
             }
            },
            "header": {
             "fill": {
              "color": "#C8D4E3"
             },
             "line": {
              "color": "white"
             }
            },
            "type": "table"
           }
          ]
         },
         "layout": {
          "annotationdefaults": {
           "arrowcolor": "#2a3f5f",
           "arrowhead": 0,
           "arrowwidth": 1
          },
          "autotypenumbers": "strict",
          "coloraxis": {
           "colorbar": {
            "outlinewidth": 0,
            "ticks": ""
           }
          },
          "colorscale": {
           "diverging": [
            [
             0,
             "#8e0152"
            ],
            [
             0.1,
             "#c51b7d"
            ],
            [
             0.2,
             "#de77ae"
            ],
            [
             0.3,
             "#f1b6da"
            ],
            [
             0.4,
             "#fde0ef"
            ],
            [
             0.5,
             "#f7f7f7"
            ],
            [
             0.6,
             "#e6f5d0"
            ],
            [
             0.7,
             "#b8e186"
            ],
            [
             0.8,
             "#7fbc41"
            ],
            [
             0.9,
             "#4d9221"
            ],
            [
             1,
             "#276419"
            ]
           ],
           "sequential": [
            [
             0,
             "#0d0887"
            ],
            [
             0.1111111111111111,
             "#46039f"
            ],
            [
             0.2222222222222222,
             "#7201a8"
            ],
            [
             0.3333333333333333,
             "#9c179e"
            ],
            [
             0.4444444444444444,
             "#bd3786"
            ],
            [
             0.5555555555555556,
             "#d8576b"
            ],
            [
             0.6666666666666666,
             "#ed7953"
            ],
            [
             0.7777777777777778,
             "#fb9f3a"
            ],
            [
             0.8888888888888888,
             "#fdca26"
            ],
            [
             1,
             "#f0f921"
            ]
           ],
           "sequentialminus": [
            [
             0,
             "#0d0887"
            ],
            [
             0.1111111111111111,
             "#46039f"
            ],
            [
             0.2222222222222222,
             "#7201a8"
            ],
            [
             0.3333333333333333,
             "#9c179e"
            ],
            [
             0.4444444444444444,
             "#bd3786"
            ],
            [
             0.5555555555555556,
             "#d8576b"
            ],
            [
             0.6666666666666666,
             "#ed7953"
            ],
            [
             0.7777777777777778,
             "#fb9f3a"
            ],
            [
             0.8888888888888888,
             "#fdca26"
            ],
            [
             1,
             "#f0f921"
            ]
           ]
          },
          "colorway": [
           "#636efa",
           "#EF553B",
           "#00cc96",
           "#ab63fa",
           "#FFA15A",
           "#19d3f3",
           "#FF6692",
           "#B6E880",
           "#FF97FF",
           "#FECB52"
          ],
          "font": {
           "color": "#2a3f5f"
          },
          "geo": {
           "bgcolor": "white",
           "lakecolor": "white",
           "landcolor": "#E5ECF6",
           "showlakes": true,
           "showland": true,
           "subunitcolor": "white"
          },
          "hoverlabel": {
           "align": "left"
          },
          "hovermode": "closest",
          "mapbox": {
           "style": "light"
          },
          "paper_bgcolor": "white",
          "plot_bgcolor": "#E5ECF6",
          "polar": {
           "angularaxis": {
            "gridcolor": "white",
            "linecolor": "white",
            "ticks": ""
           },
           "bgcolor": "#E5ECF6",
           "radialaxis": {
            "gridcolor": "white",
            "linecolor": "white",
            "ticks": ""
           }
          },
          "scene": {
           "xaxis": {
            "backgroundcolor": "#E5ECF6",
            "gridcolor": "white",
            "gridwidth": 2,
            "linecolor": "white",
            "showbackground": true,
            "ticks": "",
            "zerolinecolor": "white"
           },
           "yaxis": {
            "backgroundcolor": "#E5ECF6",
            "gridcolor": "white",
            "gridwidth": 2,
            "linecolor": "white",
            "showbackground": true,
            "ticks": "",
            "zerolinecolor": "white"
           },
           "zaxis": {
            "backgroundcolor": "#E5ECF6",
            "gridcolor": "white",
            "gridwidth": 2,
            "linecolor": "white",
            "showbackground": true,
            "ticks": "",
            "zerolinecolor": "white"
           }
          },
          "shapedefaults": {
           "line": {
            "color": "#2a3f5f"
           }
          },
          "ternary": {
           "aaxis": {
            "gridcolor": "white",
            "linecolor": "white",
            "ticks": ""
           },
           "baxis": {
            "gridcolor": "white",
            "linecolor": "white",
            "ticks": ""
           },
           "bgcolor": "#E5ECF6",
           "caxis": {
            "gridcolor": "white",
            "linecolor": "white",
            "ticks": ""
           }
          },
          "title": {
           "x": 0.05
          },
          "xaxis": {
           "automargin": true,
           "gridcolor": "white",
           "linecolor": "white",
           "ticks": "",
           "title": {
            "standoff": 15
           },
           "zerolinecolor": "white",
           "zerolinewidth": 2
          },
          "yaxis": {
           "automargin": true,
           "gridcolor": "white",
           "linecolor": "white",
           "ticks": "",
           "title": {
            "standoff": 15
           },
           "zerolinecolor": "white",
           "zerolinewidth": 2
          }
         }
        },
        "title": {
         "text": "Optimization History Plot"
        },
        "xaxis": {
         "title": {
          "text": "Trial"
         }
        },
        "yaxis": {
         "title": {
          "text": "Objective Value"
         }
        }
       }
      }
     },
     "metadata": {},
     "output_type": "display_data"
    }
   ],
   "source": [
    "# Mostrar chart com trials do Optuna\n",
    "fig = optuna.visualization.plot_optimization_history(estudo_di)\n",
    "fig.show()"
   ]
  },
  {
   "cell_type": "code",
   "execution_count": 61,
   "metadata": {},
   "outputs": [],
   "source": [
    "# Treinar modelo com Scipy\n",
    "modelo_de = linkage(X_transformed, method=best_params_ag['linkage'], optimal_ordering=True)"
   ]
  },
  {
   "cell_type": "code",
   "execution_count": 70,
   "metadata": {},
   "outputs": [
    {
     "data": {
      "image/png": "[encoded data removed]",
      "text/plain": [
       "<Figure size 3200x1000 with 1 Axes>"
      ]
     },
     "metadata": {},
     "output_type": "display_data"
    }
   ],
   "source": [
    "# Mostrar dendrograma\n",
    "plt.figure(figsize=(32,10))\n",
    "dendrogram(modelo_de, truncate_mode='lastp', p=200, leaf_rotation=90, leaf_font_size=10)\n",
    "plt.title('Dendrograma Clustering Hierárquico Aglomerativo')\n",
    "plt.xlabel('Tamanho do Cluster ou Objeto de dado')\n",
    "plt.ylabel('Distância')\n",
    "plt.show()"
   ]
  },
  {
   "cell_type": "code",
   "execution_count": 71,
   "metadata": {},
   "outputs": [
    {
     "data": {
      "text/plain": [
       "585"
      ]
     },
     "execution_count": 71,
     "metadata": {},
     "output_type": "execute_result"
    }
   ],
   "source": [
    "# Cortar dendrograma\n",
    "cluster_de_scipy = cut_tree(modelo_de, height=1)\n",
    "len(np.unique(cluster_de_scipy))"
   ]
  },
  {
   "cell_type": "code",
   "execution_count": null,
   "metadata": {},
   "outputs": [
    {
     "data": {
      "application/vnd.plotly.v1+json": {
       "config": {
        "plotlyServerURL": "https://plot.ly"
       },
       "data": [
        {
         "hovertemplate": "skin_type=%{x}<br>body_mass_kg=%{y}<br>cluster=%{marker.color}<extra></extra>",
         "legendgroup": "",
         "marker": {
          "color": {
           "bdata": "LgAeAC8AAwB6ADgAIgBvADwAYQAJABUAXABDABgABAAJAAsAFwBuAEwAMQB+AE0AQABkACcAjgCKAIQAUAAvABMAdwBpAIQAYQAJAEMANQCIADQARgBnAAkAQwBtAHQAEAAbAAQAAgCVAAMAOQAgACcAFgBIAHUASQB3ABcACgAkAA4AJAARAJAABACAABEAkABYAAUAQgBJACYAdwBXAH8ALwA1AFkAFQAFABQAcgB8AFEAFAAZAIMAWQCFACoAEAB6ABUANwAyAIEAOgBKAE0AHwBYAIgAAQBWAHwACQCAADAAkwBoADkACwAMADQAPgAWADMAZgAmAAMAawBeAHIARAAxAEUANwA+AEQAKABsAEMALQCGAAwAUwCSAHYAfABqAFcAgQCNAEAAiwABAD8APgCIAAkAMABjAGsAPgBlAAQADgAEAEsAiQAvAEcAFABXAH8APwACAD4ALABGAIcAkQAkAFgAjAAWAEIADwCQAIsANgBBAEgAUgCFACIAPAArAC0AJgCQABEAHQBgAGQAHwAMAA4AGwAqACQAbwBnADAAHQADAHsAHwBIACUAAgByAIoAMQCCACoAEQBEAJIADgAfABoAXQABAIkAbwBAAB8AeQBbABoAPQASADoAdwBDAEAAKACGACoAQwCKAAgAlAASACYAJQABAGUAGwALABcALAALAA0AIgBuAEEAXgBsACgAVAA9AAAAAABJACUACwCKACIALwBDAJMAfwBqAHMACAAnAFoAbgArAA4ASwAjABMASQCUAEYAIAAQACAAIABBADoAEgAcADUARQBLAGgAIAA3AEYAagBzAA4AVgCHABUAEABRAFAAPQB+ABcAeABXADYAZQAJAHMANAARAB0ASwApAFkATQB2AAsAfgB/AHsABQBfACAACwCQABUALQCVAE0AGgAbAA8AMAAtAIkABgATAEYAZwAvAFcAkQB0AAkAhQBLAAYASAATAHIAiQAiAHoAAAA7AHkATwA7ACMAcABXAFQAMgBiADEAJwAZAH8AJQB2AC4AAgBRAGYATAAhABUAGABTADoAGQBZAFcALQATABQAEQBmAC4ADwBkAAgAjQAYAAwAkwBSAHIAHAAIABUAWgBqAGMANgBgAEsACgBVAEUAMQCAAEoAWwAsACgAQgBVABgAXwBDABQAaQAKAB8AWQAkAIUAbAAeABcAHwABADMAJgAnABYAGABbAAcAGgBHAAcAMgAMAB8ABwCLAIcAEwAHABwAjwCEAGQALAAmAHUATgCCAI4AHAA8AA0AFQB3AD8ATgBdADkAZAAHABEAIQATAHEAOQAxACMAQAApAA8AAwAWADMABgAnAHoAHgAfAJUANwA3AE0AUABEACwAPgAWAJQANQAGAAEAZQB2AAYAfQASAAEASwAWAA8ACgB4AGIAHAA1ABIAXgAkAAIAgwAbADsAWgAaAB0AIgACAEAAKgBdAEAAewA5AFwAaACSABAADABhAEQAeQB6ADwADgA4AA0ALQBtABIAYQBYADgACwBMAAIAiQBLACsAOwA1AB0ALgAhAIUANwA9AAoAZwAKAFEAlQAOAC4AcgAmAAUATwAWAAcA",
           "dtype": "i2"
          },
          "coloraxis": "coloraxis",
          "symbol": "circle"
         },
         "mode": "markers",
         "name": "",
         "orientation": "v",
         "showlegend": false,
         "type": "scatter",
         "x": [
          "fur",
          "fur",
          "fur",
          "fur",
          "scales",
          "feathers",
          "fur",
          "fur",
          "skin",
          "scales",
          "scales",
          "feathers",
          "scales",
          "skin",
          "skin",
          "feathers",
          "skin",
          "fur",
          "fur",
          "skin",
          "feathers",
          "scales",
          "feathers",
          "scales",
          "skin",
          "skin",
          "fur",
          "scales",
          "feathers",
          "skin",
          "feathers",
          "fur",
          "scales",
          "scales",
          "skin",
          "scales",
          "skin",
          "fur",
          "scales",
          "skin",
          "feathers",
          "skin",
          "scales",
          "fur",
          "scales",
          "scales",
          "skin",
          "feathers",
          "scales",
          "feathers",
          "skin",
          "feathers",
          "skin",
          "fur",
          "feathers",
          "feathers",
          "fur",
          "feathers",
          "fur",
          "scales",
          "skin",
          "fur",
          "feathers",
          "fur",
          "feathers",
          "scales",
          "fur",
          "scales",
          "skin",
          "feathers",
          "feathers",
          "scales",
          "skin",
          "fur",
          "fur",
          "feathers",
          "scales",
          "scales",
          "fur",
          "skin",
          "skin",
          "fur",
          "fur",
          "scales",
          "skin",
          "fur",
          "fur",
          "feathers",
          "fur",
          "fur",
          "skin",
          "scales",
          "skin",
          "scales",
          "feathers",
          "fur",
          "feathers",
          "scales",
          "skin",
          "skin",
          "feathers",
          "scales",
          "feathers",
          "feathers",
          "fur",
          "feathers",
          "fur",
          "fur",
          "skin",
          "fur",
          "fur",
          "skin",
          "feathers",
          "scales",
          "scales",
          "scales",
          "feathers",
          "fur",
          "scales",
          "feathers",
          "fur",
          "skin",
          "scales",
          "fur",
          "scales",
          "scales",
          "scales",
          "fur",
          "feathers",
          "fur",
          "scales",
          "fur",
          "skin",
          "feathers",
          "fur",
          "skin",
          "feathers",
          "skin",
          "feathers",
          "fur",
          "skin",
          "scales",
          "skin",
          "feathers",
          "fur",
          "feathers",
          "skin",
          "skin",
          "scales",
          "fur",
          "fur",
          "skin",
          "fur",
          "scales",
          "feathers",
          "fur",
          "skin",
          "feathers",
          "feathers",
          "scales",
          "skin",
          "fur",
          "skin",
          "feathers",
          "skin",
          "fur",
          "fur",
          "scales",
          "fur",
          "fur",
          "skin",
          "skin",
          "feathers",
          "scales",
          "skin",
          "fur",
          "feathers",
          "skin",
          "scales",
          "scales",
          "feathers",
          "feathers",
          "feathers",
          "feathers",
          "feathers",
          "fur",
          "fur",
          "skin",
          "scales",
          "fur",
          "fur",
          "fur",
          "skin",
          "feathers",
          "skin",
          "scales",
          "scales",
          "scales",
          "scales",
          "fur",
          "fur",
          "skin",
          "feathers",
          "scales",
          "skin",
          "fur",
          "fur",
          "feathers",
          "feathers",
          "feathers",
          "skin",
          "fur",
          "fur",
          "feathers",
          "scales",
          "feathers",
          "skin",
          "feathers",
          "feathers",
          "skin",
          "feathers",
          "fur",
          "scales",
          "feathers",
          "skin",
          "scales",
          "skin",
          "scales",
          "scales",
          "feathers",
          "fur",
          "feathers",
          "skin",
          "skin",
          "scales",
          "scales",
          "fur",
          "feathers",
          "skin",
          "scales",
          "fur",
          "skin",
          "scales",
          "skin",
          "fur",
          "fur",
          "skin",
          "feathers",
          "skin",
          "scales",
          "feathers",
          "scales",
          "skin",
          "feathers",
          "scales",
          "skin",
          "skin",
          "feathers",
          "skin",
          "fur",
          "scales",
          "scales",
          "skin",
          "skin",
          "fur",
          "feathers",
          "skin",
          "skin",
          "skin",
          "skin",
          "scales",
          "skin",
          "scales",
          "skin",
          "feathers",
          "fur",
          "feathers",
          "skin",
          "skin",
          "skin",
          "feathers",
          "skin",
          "feathers",
          "scales",
          "fur",
          "fur",
          "feathers",
          "scales",
          "feathers",
          "scales",
          "skin",
          "scales",
          "scales",
          "scales",
          "fur",
          "scales",
          "skin",
          "skin",
          "skin",
          "scales",
          "feathers",
          "feathers",
          "skin",
          "fur",
          "feathers",
          "scales",
          "feathers",
          "skin",
          "fur",
          "feathers",
          "feathers",
          "skin",
          "fur",
          "fur",
          "skin",
          "scales",
          "feathers",
          "scales",
          "feathers",
          "feathers",
          "scales",
          "skin",
          "skin",
          "feathers",
          "skin",
          "feathers",
          "skin",
          "feathers",
          "skin",
          "fur",
          "scales",
          "fur",
          "scales",
          "scales",
          "feathers",
          "scales",
          "fur",
          "fur",
          "skin",
          "fur",
          "skin",
          "scales",
          "fur",
          "scales",
          "fur",
          "fur",
          "skin",
          "scales",
          "fur",
          "feathers",
          "scales",
          "scales",
          "scales",
          "skin",
          "feathers",
          "scales",
          "fur",
          "fur",
          "skin",
          "fur",
          "scales",
          "fur",
          "scales",
          "fur",
          "feathers",
          "skin",
          "skin",
          "feathers",
          "feathers",
          "skin",
          "feathers",
          "scales",
          "fur",
          "skin",
          "feathers",
          "scales",
          "skin",
          "feathers",
          "skin",
          "feathers",
          "skin",
          "scales",
          "scales",
          "fur",
          "skin",
          "fur",
          "skin",
          "feathers",
          "feathers",
          "fur",
          "skin",
          "fur",
          "scales",
          "fur",
          "fur",
          "feathers",
          "fur",
          "skin",
          "feathers",
          "fur",
          "scales",
          "fur",
          "fur",
          "fur",
          "feathers",
          "skin",
          "scales",
          "fur",
          "skin",
          "skin",
          "feathers",
          "scales",
          "feathers",
          "skin",
          "skin",
          "skin",
          "feathers",
          "scales",
          "fur",
          "feathers",
          "skin",
          "feathers",
          "skin",
          "fur",
          "fur",
          "scales",
          "skin",
          "scales",
          "scales",
          "fur",
          "feathers",
          "feathers",
          "scales",
          "fur",
          "skin",
          "feathers",
          "scales",
          "feathers",
          "feathers",
          "skin",
          "fur",
          "skin",
          "fur",
          "feathers",
          "scales",
          "skin",
          "fur",
          "feathers",
          "fur",
          "fur",
          "fur",
          "feathers",
          "scales",
          "scales",
          "scales",
          "fur",
          "feathers",
          "fur",
          "scales",
          "scales",
          "feathers",
          "fur",
          "skin",
          "skin",
          "scales",
          "feathers",
          "fur",
          "fur",
          "scales",
          "scales",
          "fur",
          "fur",
          "scales",
          "fur",
          "skin",
          "scales",
          "fur",
          "scales",
          "feathers",
          "scales",
          "scales",
          "feathers",
          "skin",
          "fur",
          "feathers",
          "scales",
          "fur",
          "feathers",
          "fur",
          "fur",
          "feathers",
          "fur",
          "skin",
          "feathers",
          "skin",
          "scales",
          "fur",
          "scales",
          "scales",
          "fur",
          "feathers",
          "fur",
          "scales",
          "scales",
          "feathers",
          "fur",
          "scales",
          "skin",
          "scales",
          "scales",
          "feathers",
          "skin",
          "scales",
          "scales",
          "skin",
          "fur",
          "fur",
          "scales",
          "scales",
          "fur",
          "feathers",
          "skin",
          "skin",
          "feathers",
          "feathers",
          "feathers",
          "feathers",
          "feathers",
          "feathers",
          "skin",
          "feathers",
          "fur",
          "feathers",
          "feathers",
          "skin",
          "skin",
          "feathers",
          "skin",
          "scales",
          "skin",
          "skin",
          "skin",
          "skin",
          "fur",
          "fur",
          "fur",
          "feathers",
          "feathers",
          "scales",
          "fur",
          "feathers",
          "skin",
          "skin",
          "fur",
          "scales",
          "scales",
          "skin",
          "scales",
          "fur",
          "skin",
          "feathers",
          "feathers",
          "scales",
          "skin",
          "skin",
          "feathers",
          "skin",
          "skin",
          "skin",
          "scales",
          "skin",
          "fur",
          "scales",
          "skin",
          "skin",
          "fur",
          "scales",
          "feathers",
          "feathers",
          "scales",
          "skin",
          "skin",
          "feathers",
          "feathers",
          "feathers",
          "fur",
          "feathers",
          "fur",
          "scales",
          "skin",
          "feathers",
          "skin",
          "skin",
          "feathers",
          "feathers",
          "scales",
          "fur",
          "fur",
          "skin",
          "feathers"
         ],
         "xaxis": "x",
         "y": {
          "bdata": "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",
          "dtype": "f8"
         },
         "yaxis": "y"
        }
       ],
       "layout": {
        "coloraxis": {
         "colorbar": {
          "title": {
           "text": "cluster"
          }
         },
         "colorscale": [
          [
           0,
           "#0d0887"
          ],
          [
           0.1111111111111111,
           "#46039f"
          ],
          [
           0.2222222222222222,
           "#7201a8"
          ],
          [
           0.3333333333333333,
           "#9c179e"
          ],
          [
           0.4444444444444444,
           "#bd3786"
          ],
          [
           0.5555555555555556,
           "#d8576b"
          ],
          [
           0.6666666666666666,
           "#ed7953"
          ],
          [
           0.7777777777777778,
           "#fb9f3a"
          ],
          [
           0.8888888888888888,
           "#fdca26"
          ],
          [
           1,
           "#f0f921"
          ]
         ]
        },
        "legend": {
         "tracegroupgap": 0
        },
        "margin": {
         "t": 60
        },
        "template": {
         "data": {
          "bar": [
           {
            "error_x": {
             "color": "#2a3f5f"
            },
            "error_y": {
             "color": "#2a3f5f"
            },
            "marker": {
             "line": {
              "color": "#E5ECF6",
              "width": 0.5
             },
             "pattern": {
              "fillmode": "overlay",
              "size": 10,
              "solidity": 0.2
             }
            },
            "type": "bar"
           }
          ],
          "barpolar": [
           {
            "marker": {
             "line": {
              "color": "#E5ECF6",
              "width": 0.5
             },
             "pattern": {
              "fillmode": "overlay",
              "size": 10,
              "solidity": 0.2
             }
            },
            "type": "barpolar"
           }
          ],
          "carpet": [
           {
            "aaxis": {
             "endlinecolor": "#2a3f5f",
             "gridcolor": "white",
             "linecolor": "white",
             "minorgridcolor": "white",
             "startlinecolor": "#2a3f5f"
            },
            "baxis": {
             "endlinecolor": "#2a3f5f",
             "gridcolor": "white",
             "linecolor": "white",
             "minorgridcolor": "white",
             "startlinecolor": "#2a3f5f"
            },
            "type": "carpet"
           }
          ],
          "choropleth": [
           {
            "colorbar": {
             "outlinewidth": 0,
             "ticks": ""
            },
            "type": "choropleth"
           }
          ],
          "contour": [
           {
            "colorbar": {
             "outlinewidth": 0,
             "ticks": ""
            },
            "colorscale": [
             [
              0,
              "#0d0887"
             ],
             [
              0.1111111111111111,
              "#46039f"
             ],
             [
              0.2222222222222222,
              "#7201a8"
             ],
             [
              0.3333333333333333,
              "#9c179e"
             ],
             [
              0.4444444444444444,
              "#bd3786"
             ],
             [
              0.5555555555555556,
              "#d8576b"
             ],
             [
              0.6666666666666666,
              "#ed7953"
             ],
             [
              0.7777777777777778,
              "#fb9f3a"
             ],
             [
              0.8888888888888888,
              "#fdca26"
             ],
             [
              1,
              "#f0f921"
             ]
            ],
            "type": "contour"
           }
          ],
          "contourcarpet": [
           {
            "colorbar": {
             "outlinewidth": 0,
             "ticks": ""
            },
            "type": "contourcarpet"
           }
          ],
          "heatmap": [
           {
            "colorbar": {
             "outlinewidth": 0,
             "ticks": ""
            },
            "colorscale": [
             [
              0,
              "#0d0887"
             ],
             [
              0.1111111111111111,
              "#46039f"
             ],
             [
              0.2222222222222222,
              "#7201a8"
             ],
             [
              0.3333333333333333,
              "#9c179e"
             ],
             [
              0.4444444444444444,
              "#bd3786"
             ],
             [
              0.5555555555555556,
              "#d8576b"
             ],
             [
              0.6666666666666666,
              "#ed7953"
             ],
             [
              0.7777777777777778,
              "#fb9f3a"
             ],
             [
              0.8888888888888888,
              "#fdca26"
             ],
             [
              1,
              "#f0f921"
             ]
            ],
            "type": "heatmap"
           }
          ],
          "histogram": [
           {
            "marker": {
             "pattern": {
              "fillmode": "overlay",
              "size": 10,
              "solidity": 0.2
             }
            },
            "type": "histogram"
           }
          ],
          "histogram2d": [
           {
            "colorbar": {
             "outlinewidth": 0,
             "ticks": ""
            },
            "colorscale": [
             [
              0,
              "#0d0887"
             ],
             [
              0.1111111111111111,
              "#46039f"
             ],
             [
              0.2222222222222222,
              "#7201a8"
             ],
             [
              0.3333333333333333,
              "#9c179e"
             ],
             [
              0.4444444444444444,
              "#bd3786"
             ],
             [
              0.5555555555555556,
              "#d8576b"
             ],
             [
              0.6666666666666666,
              "#ed7953"
             ],
             [
              0.7777777777777778,
              "#fb9f3a"
             ],
             [
              0.8888888888888888,
              "#fdca26"
             ],
             [
              1,
              "#f0f921"
             ]
            ],
            "type": "histogram2d"
           }
          ],
          "histogram2dcontour": [
           {
            "colorbar": {
             "outlinewidth": 0,
             "ticks": ""
            },
            "colorscale": [
             [
              0,
              "#0d0887"
             ],
             [
              0.1111111111111111,
              "#46039f"
             ],
             [
              0.2222222222222222,
              "#7201a8"
             ],
             [
              0.3333333333333333,
              "#9c179e"
             ],
             [
              0.4444444444444444,
              "#bd3786"
             ],
             [
              0.5555555555555556,
              "#d8576b"
             ],
             [
              0.6666666666666666,
              "#ed7953"
             ],
             [
              0.7777777777777778,
              "#fb9f3a"
             ],
             [
              0.8888888888888888,
              "#fdca26"
             ],
             [
              1,
              "#f0f921"
             ]
            ],
            "type": "histogram2dcontour"
           }
          ],
          "mesh3d": [
           {
            "colorbar": {
             "outlinewidth": 0,
             "ticks": ""
            },
            "type": "mesh3d"
           }
          ],
          "parcoords": [
           {
            "line": {
             "colorbar": {
              "outlinewidth": 0,
              "ticks": ""
             }
            },
            "type": "parcoords"
           }
          ],
          "pie": [
           {
            "automargin": true,
            "type": "pie"
           }
          ],
          "scatter": [
           {
            "fillpattern": {
             "fillmode": "overlay",
             "size": 10,
             "solidity": 0.2
            },
            "type": "scatter"
           }
          ],
          "scatter3d": [
           {
            "line": {
             "colorbar": {
              "outlinewidth": 0,
              "ticks": ""
             }
            },
            "marker": {
             "colorbar": {
              "outlinewidth": 0,
              "ticks": ""
             }
            },
            "type": "scatter3d"
           }
          ],
          "scattercarpet": [
           {
            "marker": {
             "colorbar": {
              "outlinewidth": 0,
              "ticks": ""
             }
            },
            "type": "scattercarpet"
           }
          ],
          "scattergeo": [
           {
            "marker": {
             "colorbar": {
              "outlinewidth": 0,
              "ticks": ""
             }
            },
            "type": "scattergeo"
           }
          ],
          "scattergl": [
           {
            "marker": {
             "colorbar": {
              "outlinewidth": 0,
              "ticks": ""
             }
            },
            "type": "scattergl"
           }
          ],
          "scattermap": [
           {
            "marker": {
             "colorbar": {
              "outlinewidth": 0,
              "ticks": ""
             }
            },
            "type": "scattermap"
           }
          ],
          "scattermapbox": [
           {
            "marker": {
             "colorbar": {
              "outlinewidth": 0,
              "ticks": ""
             }
            },
            "type": "scattermapbox"
           }
          ],
          "scatterpolar": [
           {
            "marker": {
             "colorbar": {
              "outlinewidth": 0,
              "ticks": ""
             }
            },
            "type": "scatterpolar"
           }
          ],
          "scatterpolargl": [
           {
            "marker": {
             "colorbar": {
              "outlinewidth": 0,
              "ticks": ""
             }
            },
            "type": "scatterpolargl"
           }
          ],
          "scatterternary": [
           {
            "marker": {
             "colorbar": {
              "outlinewidth": 0,
              "ticks": ""
             }
            },
            "type": "scatterternary"
           }
          ],
          "surface": [
           {
            "colorbar": {
             "outlinewidth": 0,
             "ticks": ""
            },
            "colorscale": [
             [
              0,
              "#0d0887"
             ],
             [
              0.1111111111111111,
              "#46039f"
             ],
             [
              0.2222222222222222,
              "#7201a8"
             ],
             [
              0.3333333333333333,
              "#9c179e"
             ],
             [
              0.4444444444444444,
              "#bd3786"
             ],
             [
              0.5555555555555556,
              "#d8576b"
             ],
             [
              0.6666666666666666,
              "#ed7953"
             ],
             [
              0.7777777777777778,
              "#fb9f3a"
             ],
             [
              0.8888888888888888,
              "#fdca26"
             ],
             [
              1,
              "#f0f921"
             ]
            ],
            "type": "surface"
           }
          ],
          "table": [
           {
            "cells": {
             "fill": {
              "color": "#EBF0F8"
             },
             "line": {
              "color": "white"
             }
            },
            "header": {
             "fill": {
              "color": "#C8D4E3"
             },
             "line": {
              "color": "white"
             }
            },
            "type": "table"
           }
          ]
         },
         "layout": {
          "annotationdefaults": {
           "arrowcolor": "#2a3f5f",
           "arrowhead": 0,
           "arrowwidth": 1
          },
          "autotypenumbers": "strict",
          "coloraxis": {
           "colorbar": {
            "outlinewidth": 0,
            "ticks": ""
           }
          },
          "colorscale": {
           "diverging": [
            [
             0,
             "#8e0152"
            ],
            [
             0.1,
             "#c51b7d"
            ],
            [
             0.2,
             "#de77ae"
            ],
            [
             0.3,
             "#f1b6da"
            ],
            [
             0.4,
             "#fde0ef"
            ],
            [
             0.5,
             "#f7f7f7"
            ],
            [
             0.6,
             "#e6f5d0"
            ],
            [
             0.7,
             "#b8e186"
            ],
            [
             0.8,
             "#7fbc41"
            ],
            [
             0.9,
             "#4d9221"
            ],
            [
             1,
             "#276419"
            ]
           ],
           "sequential": [
            [
             0,
             "#0d0887"
            ],
            [
             0.1111111111111111,
             "#46039f"
            ],
            [
             0.2222222222222222,
             "#7201a8"
            ],
            [
             0.3333333333333333,
             "#9c179e"
            ],
            [
             0.4444444444444444,
             "#bd3786"
            ],
            [
             0.5555555555555556,
             "#d8576b"
            ],
            [
             0.6666666666666666,
             "#ed7953"
            ],
            [
             0.7777777777777778,
             "#fb9f3a"
            ],
            [
             0.8888888888888888,
             "#fdca26"
            ],
            [
             1,
             "#f0f921"
            ]
           ],
           "sequentialminus": [
            [
             0,
             "#0d0887"
            ],
            [
             0.1111111111111111,
             "#46039f"
            ],
            [
             0.2222222222222222,
             "#7201a8"
            ],
            [
             0.3333333333333333,
             "#9c179e"
            ],
            [
             0.4444444444444444,
             "#bd3786"
            ],
            [
             0.5555555555555556,
             "#d8576b"
            ],
            [
             0.6666666666666666,
             "#ed7953"
            ],
            [
             0.7777777777777778,
             "#fb9f3a"
            ],
            [
             0.8888888888888888,
             "#fdca26"
            ],
            [
             1,
             "#f0f921"
            ]
           ]
          },
          "colorway": [
           "#636efa",
           "#EF553B",
           "#00cc96",
           "#ab63fa",
           "#FFA15A",
           "#19d3f3",
           "#FF6692",
           "#B6E880",
           "#FF97FF",
           "#FECB52"
          ],
          "font": {
           "color": "#2a3f5f"
          },
          "geo": {
           "bgcolor": "white",
           "lakecolor": "white",
           "landcolor": "#E5ECF6",
           "showlakes": true,
           "showland": true,
           "subunitcolor": "white"
          },
          "hoverlabel": {
           "align": "left"
          },
          "hovermode": "closest",
          "mapbox": {
           "style": "light"
          },
          "paper_bgcolor": "white",
          "plot_bgcolor": "#E5ECF6",
          "polar": {
           "angularaxis": {
            "gridcolor": "white",
            "linecolor": "white",
            "ticks": ""
           },
           "bgcolor": "#E5ECF6",
           "radialaxis": {
            "gridcolor": "white",
            "linecolor": "white",
            "ticks": ""
           }
          },
          "scene": {
           "xaxis": {
            "backgroundcolor": "#E5ECF6",
            "gridcolor": "white",
            "gridwidth": 2,
            "linecolor": "white",
            "showbackground": true,
            "ticks": "",
            "zerolinecolor": "white"
           },
           "yaxis": {
            "backgroundcolor": "#E5ECF6",
            "gridcolor": "white",
            "gridwidth": 2,
            "linecolor": "white",
            "showbackground": true,
            "ticks": "",
            "zerolinecolor": "white"
           },
           "zaxis": {
            "backgroundcolor": "#E5ECF6",
            "gridcolor": "white",
            "gridwidth": 2,
            "linecolor": "white",
            "showbackground": true,
            "ticks": "",
            "zerolinecolor": "white"
           }
          },
          "shapedefaults": {
           "line": {
            "color": "#2a3f5f"
           }
          },
          "ternary": {
           "aaxis": {
            "gridcolor": "white",
            "linecolor": "white",
            "ticks": ""
           },
           "baxis": {
            "gridcolor": "white",
            "linecolor": "white",
            "ticks": ""
           },
           "bgcolor": "#E5ECF6",
           "caxis": {
            "gridcolor": "white",
            "linecolor": "white",
            "ticks": ""
           }
          },
          "title": {
           "x": 0.05
          },
          "xaxis": {
           "automargin": true,
           "gridcolor": "white",
           "linecolor": "white",
           "ticks": "",
           "title": {
            "standoff": 15
           },
           "zerolinecolor": "white",
           "zerolinewidth": 2
          },
          "yaxis": {
           "automargin": true,
           "gridcolor": "white",
           "linecolor": "white",
           "ticks": "",
           "title": {
            "standoff": 15
           },
           "zerolinecolor": "white",
           "zerolinewidth": 2
          }
         }
        },
        "xaxis": {
         "anchor": "y",
         "domain": [
          0,
          1
         ],
         "title": {
          "text": "skin_type"
         }
        },
        "yaxis": {
         "anchor": "x",
         "domain": [
          0,
          1
         ],
         "title": {
          "text": "body_mass_kg"
         }
        }
       }
      }
     },
     "metadata": {},
     "output_type": "display_data"
    }
   ],
   "source": [
    "# Scatterplot de 'skin_type' e 'body_mass_kg' com o cluster \n",
    "px.scatter(df_species, x='skin_type', y='body_mass_kg', color='cluster')"
   ]
  },
  {
   "cell_type": "code",
   "execution_count": 74,
   "metadata": {},
   "outputs": [
    {
     "data": {
      "application/vnd.plotly.v1+json": {
       "config": {
        "plotlyServerURL": "https://plot.ly"
       },
       "data": [
        {
         "hovertemplate": "diet_type=%{x}<br>body_mass_kg=%{y}<br>cluster=%{marker.color}<extra></extra>",
         "legendgroup": "",
         "marker": {
          "color": {
           "bdata": "LgAeAC8AAwB6ADgAIgBvADwAYQAJABUAXABDABgABAAJAAsAFwBuAEwAMQB+AE0AQABkACcAjgCKAIQAUAAvABMAdwBpAIQAYQAJAEMANQCIADQARgBnAAkAQwBtAHQAEAAbAAQAAgCVAAMAOQAgACcAFgBIAHUASQB3ABcACgAkAA4AJAARAJAABACAABEAkABYAAUAQgBJACYAdwBXAH8ALwA1AFkAFQAFABQAcgB8AFEAFAAZAIMAWQCFACoAEAB6ABUANwAyAIEAOgBKAE0AHwBYAIgAAQBWAHwACQCAADAAkwBoADkACwAMADQAPgAWADMAZgAmAAMAawBeAHIARAAxAEUANwA+AEQAKABsAEMALQCGAAwAUwCSAHYAfABqAFcAgQCNAEAAiwABAD8APgCIAAkAMABjAGsAPgBlAAQADgAEAEsAiQAvAEcAFABXAH8APwACAD4ALABGAIcAkQAkAFgAjAAWAEIADwCQAIsANgBBAEgAUgCFACIAPAArAC0AJgCQABEAHQBgAGQAHwAMAA4AGwAqACQAbwBnADAAHQADAHsAHwBIACUAAgByAIoAMQCCACoAEQBEAJIADgAfABoAXQABAIkAbwBAAB8AeQBbABoAPQASADoAdwBDAEAAKACGACoAQwCKAAgAlAASACYAJQABAGUAGwALABcALAALAA0AIgBuAEEAXgBsACgAVAA9AAAAAABJACUACwCKACIALwBDAJMAfwBqAHMACAAnAFoAbgArAA4ASwAjABMASQCUAEYAIAAQACAAIABBADoAEgAcADUARQBLAGgAIAA3AEYAagBzAA4AVgCHABUAEABRAFAAPQB+ABcAeABXADYAZQAJAHMANAARAB0ASwApAFkATQB2AAsAfgB/AHsABQBfACAACwCQABUALQCVAE0AGgAbAA8AMAAtAIkABgATAEYAZwAvAFcAkQB0AAkAhQBLAAYASAATAHIAiQAiAHoAAAA7AHkATwA7ACMAcABXAFQAMgBiADEAJwAZAH8AJQB2AC4AAgBRAGYATAAhABUAGABTADoAGQBZAFcALQATABQAEQBmAC4ADwBkAAgAjQAYAAwAkwBSAHIAHAAIABUAWgBqAGMANgBgAEsACgBVAEUAMQCAAEoAWwAsACgAQgBVABgAXwBDABQAaQAKAB8AWQAkAIUAbAAeABcAHwABADMAJgAnABYAGABbAAcAGgBHAAcAMgAMAB8ABwCLAIcAEwAHABwAjwCEAGQALAAmAHUATgCCAI4AHAA8AA0AFQB3AD8ATgBdADkAZAAHABEAIQATAHEAOQAxACMAQAApAA8AAwAWADMABgAnAHoAHgAfAJUANwA3AE0AUABEACwAPgAWAJQANQAGAAEAZQB2AAYAfQASAAEASwAWAA8ACgB4AGIAHAA1ABIAXgAkAAIAgwAbADsAWgAaAB0AIgACAEAAKgBdAEAAewA5AFwAaACSABAADABhAEQAeQB6ADwADgA4AA0ALQBtABIAYQBYADgACwBMAAIAiQBLACsAOwA1AB0ALgAhAIUANwA9AAoAZwAKAFEAlQAOAC4AcgAmAAUATwAWAAcA",
           "dtype": "i2"
          },
          "coloraxis": "coloraxis",
          "symbol": "circle"
         },
         "mode": "markers",
         "name": "",
         "orientation": "v",
         "showlegend": false,
         "type": "scatter",
         "x": [
          "carnivore",
          "carnivore",
          "carnivore",
          "carnivore",
          "herbivore",
          "omnivore",
          "carnivore",
          "carnivore",
          "omnivore",
          "herbivore",
          "omnivore",
          "omnivore",
          "carnivore",
          "omnivore",
          "omnivore",
          "carnivore",
          "carnivore",
          "carnivore",
          "carnivore",
          "omnivore",
          "omnivore",
          "herbivore",
          "herbivore",
          "omnivore",
          "herbivore",
          "omnivore",
          "herbivore",
          "carnivore",
          "herbivore",
          "carnivore",
          "carnivore",
          "carnivore",
          "carnivore",
          "herbivore",
          "omnivore",
          "carnivore",
          "herbivore",
          "carnivore",
          "herbivore",
          "herbivore",
          "herbivore",
          "omnivore",
          "herbivore",
          "herbivore",
          "omnivore",
          "omnivore",
          "herbivore",
          "omnivore",
          "carnivore",
          "carnivore",
          "omnivore",
          "omnivore",
          "herbivore",
          "omnivore",
          "herbivore",
          "carnivore",
          "omnivore",
          "herbivore",
          "herbivore",
          "carnivore",
          "omnivore",
          "carnivore",
          "herbivore",
          "herbivore",
          "omnivore",
          "herbivore",
          "omnivore",
          "carnivore",
          "omnivore",
          "omnivore",
          "herbivore",
          "herbivore",
          "omnivore",
          "herbivore",
          "herbivore",
          "herbivore",
          "omnivore",
          "herbivore",
          "omnivore",
          "herbivore",
          "carnivore",
          "herbivore",
          "herbivore",
          "omnivore",
          "omnivore",
          "herbivore",
          "carnivore",
          "herbivore",
          "herbivore",
          "carnivore",
          "omnivore",
          "herbivore",
          "omnivore",
          "omnivore",
          "carnivore",
          "carnivore",
          "omnivore",
          "herbivore",
          "omnivore",
          "herbivore",
          "herbivore",
          "carnivore",
          "herbivore",
          "herbivore",
          "omnivore",
          "carnivore",
          "herbivore",
          "herbivore",
          "carnivore",
          "omnivore",
          "carnivore",
          "carnivore",
          "herbivore",
          "herbivore",
          "omnivore",
          "herbivore",
          "herbivore",
          "carnivore",
          "herbivore",
          "omnivore",
          "carnivore",
          "omnivore",
          "carnivore",
          "herbivore",
          "carnivore",
          "carnivore",
          "herbivore",
          "herbivore",
          "omnivore",
          "omnivore",
          "herbivore",
          "herbivore",
          "herbivore",
          "carnivore",
          "carnivore",
          "carnivore",
          "herbivore",
          "omnivore",
          "herbivore",
          "carnivore",
          "carnivore",
          "herbivore",
          "herbivore",
          "carnivore",
          "carnivore",
          "carnivore",
          "herbivore",
          "carnivore",
          "carnivore",
          "omnivore",
          "herbivore",
          "omnivore",
          "omnivore",
          "carnivore",
          "herbivore",
          "carnivore",
          "herbivore",
          "omnivore",
          "herbivore",
          "carnivore",
          "carnivore",
          "carnivore",
          "herbivore",
          "omnivore",
          "omnivore",
          "herbivore",
          "carnivore",
          "omnivore",
          "carnivore",
          "herbivore",
          "carnivore",
          "omnivore",
          "omnivore",
          "carnivore",
          "herbivore",
          "carnivore",
          "herbivore",
          "carnivore",
          "omnivore",
          "herbivore",
          "herbivore",
          "herbivore",
          "omnivore",
          "carnivore",
          "omnivore",
          "herbivore",
          "carnivore",
          "omnivore",
          "herbivore",
          "herbivore",
          "omnivore",
          "omnivore",
          "omnivore",
          "herbivore",
          "omnivore",
          "herbivore",
          "omnivore",
          "herbivore",
          "herbivore",
          "carnivore",
          "omnivore",
          "omnivore",
          "herbivore",
          "herbivore",
          "herbivore",
          "carnivore",
          "carnivore",
          "herbivore",
          "omnivore",
          "omnivore",
          "carnivore",
          "carnivore",
          "herbivore",
          "omnivore",
          "herbivore",
          "carnivore",
          "omnivore",
          "omnivore",
          "carnivore",
          "herbivore",
          "herbivore",
          "omnivore",
          "carnivore",
          "omnivore",
          "carnivore",
          "herbivore",
          "carnivore",
          "herbivore",
          "carnivore",
          "omnivore",
          "herbivore",
          "omnivore",
          "omnivore",
          "herbivore",
          "herbivore",
          "omnivore",
          "omnivore",
          "omnivore",
          "omnivore",
          "herbivore",
          "herbivore",
          "omnivore",
          "carnivore",
          "carnivore",
          "herbivore",
          "omnivore",
          "omnivore",
          "herbivore",
          "carnivore",
          "carnivore",
          "carnivore",
          "herbivore",
          "carnivore",
          "herbivore",
          "herbivore",
          "omnivore",
          "carnivore",
          "herbivore",
          "carnivore",
          "carnivore",
          "omnivore",
          "carnivore",
          "omnivore",
          "herbivore",
          "carnivore",
          "herbivore",
          "carnivore",
          "herbivore",
          "carnivore",
          "carnivore",
          "carnivore",
          "carnivore",
          "carnivore",
          "carnivore",
          "carnivore",
          "carnivore",
          "carnivore",
          "herbivore",
          "omnivore",
          "carnivore",
          "omnivore",
          "carnivore",
          "carnivore",
          "herbivore",
          "herbivore",
          "omnivore",
          "herbivore",
          "herbivore",
          "omnivore",
          "herbivore",
          "carnivore",
          "omnivore",
          "omnivore",
          "carnivore",
          "herbivore",
          "omnivore",
          "omnivore",
          "carnivore",
          "carnivore",
          "herbivore",
          "omnivore",
          "herbivore",
          "herbivore",
          "carnivore",
          "omnivore",
          "omnivore",
          "omnivore",
          "carnivore",
          "carnivore",
          "carnivore",
          "carnivore",
          "carnivore",
          "omnivore",
          "herbivore",
          "omnivore",
          "herbivore",
          "carnivore",
          "herbivore",
          "omnivore",
          "omnivore",
          "herbivore",
          "carnivore",
          "carnivore",
          "omnivore",
          "herbivore",
          "carnivore",
          "carnivore",
          "omnivore",
          "carnivore",
          "herbivore",
          "omnivore",
          "omnivore",
          "herbivore",
          "omnivore",
          "carnivore",
          "carnivore",
          "herbivore",
          "carnivore",
          "herbivore",
          "herbivore",
          "carnivore",
          "herbivore",
          "carnivore",
          "omnivore",
          "omnivore",
          "herbivore",
          "carnivore",
          "carnivore",
          "omnivore",
          "omnivore",
          "carnivore",
          "herbivore",
          "omnivore",
          "herbivore",
          "herbivore",
          "omnivore",
          "herbivore",
          "herbivore",
          "carnivore",
          "herbivore",
          "carnivore",
          "omnivore",
          "omnivore",
          "carnivore",
          "omnivore",
          "herbivore",
          "herbivore",
          "herbivore",
          "omnivore",
          "herbivore",
          "omnivore",
          "herbivore",
          "carnivore",
          "omnivore",
          "omnivore",
          "herbivore",
          "omnivore",
          "omnivore",
          "carnivore",
          "carnivore",
          "herbivore",
          "carnivore",
          "herbivore",
          "herbivore",
          "herbivore",
          "omnivore",
          "carnivore",
          "herbivore",
          "carnivore",
          "herbivore",
          "carnivore",
          "carnivore",
          "herbivore",
          "omnivore",
          "carnivore",
          "omnivore",
          "omnivore",
          "herbivore",
          "herbivore",
          "herbivore",
          "carnivore",
          "herbivore",
          "herbivore",
          "carnivore",
          "carnivore",
          "herbivore",
          "herbivore",
          "herbivore",
          "herbivore",
          "omnivore",
          "omnivore",
          "herbivore",
          "omnivore",
          "carnivore",
          "omnivore",
          "omnivore",
          "herbivore",
          "omnivore",
          "omnivore",
          "omnivore",
          "omnivore",
          "carnivore",
          "herbivore",
          "herbivore",
          "carnivore",
          "omnivore",
          "carnivore",
          "omnivore",
          "carnivore",
          "herbivore",
          "herbivore",
          "herbivore",
          "omnivore",
          "omnivore",
          "carnivore",
          "carnivore",
          "herbivore",
          "omnivore",
          "carnivore",
          "omnivore",
          "omnivore",
          "herbivore",
          "herbivore",
          "omnivore",
          "omnivore",
          "omnivore",
          "omnivore",
          "herbivore",
          "carnivore",
          "herbivore",
          "carnivore",
          "omnivore",
          "carnivore",
          "herbivore",
          "herbivore",
          "omnivore",
          "herbivore",
          "omnivore",
          "herbivore",
          "herbivore",
          "omnivore",
          "carnivore",
          "herbivore",
          "carnivore",
          "herbivore",
          "herbivore",
          "herbivore",
          "herbivore",
          "carnivore",
          "carnivore",
          "herbivore",
          "herbivore",
          "carnivore",
          "omnivore",
          "omnivore",
          "carnivore",
          "herbivore",
          "herbivore",
          "omnivore",
          "omnivore",
          "carnivore",
          "omnivore",
          "carnivore",
          "omnivore",
          "omnivore",
          "omnivore",
          "herbivore",
          "herbivore",
          "herbivore",
          "omnivore",
          "carnivore",
          "carnivore",
          "carnivore",
          "carnivore",
          "herbivore",
          "herbivore",
          "omnivore",
          "omnivore",
          "carnivore",
          "herbivore",
          "carnivore",
          "omnivore",
          "omnivore",
          "carnivore",
          "omnivore",
          "carnivore",
          "herbivore",
          "carnivore",
          "herbivore",
          "herbivore",
          "omnivore",
          "omnivore",
          "omnivore",
          "carnivore",
          "carnivore",
          "omnivore",
          "carnivore",
          "omnivore",
          "carnivore",
          "herbivore",
          "herbivore",
          "omnivore",
          "carnivore",
          "carnivore",
          "herbivore",
          "herbivore",
          "omnivore",
          "herbivore",
          "omnivore",
          "herbivore",
          "herbivore",
          "carnivore",
          "herbivore",
          "herbivore",
          "omnivore",
          "herbivore",
          "omnivore",
          "herbivore",
          "herbivore",
          "omnivore",
          "carnivore",
          "omnivore",
          "omnivore",
          "omnivore",
          "carnivore",
          "herbivore",
          "omnivore",
          "omnivore",
          "carnivore",
          "omnivore",
          "herbivore",
          "carnivore",
          "herbivore",
          "herbivore",
          "carnivore",
          "omnivore",
          "herbivore",
          "herbivore",
          "herbivore",
          "herbivore",
          "carnivore",
          "carnivore",
          "herbivore",
          "omnivore",
          "herbivore",
          "omnivore",
          "herbivore",
          "omnivore",
          "herbivore",
          "omnivore",
          "herbivore",
          "herbivore",
          "omnivore",
          "carnivore",
          "omnivore",
          "carnivore",
          "herbivore",
          "omnivore",
          "omnivore",
          "omnivore",
          "carnivore",
          "carnivore",
          "herbivore",
          "carnivore",
          "carnivore",
          "herbivore",
          "omnivore",
          "omnivore",
          "herbivore",
          "omnivore",
          "carnivore",
          "herbivore",
          "herbivore",
          "herbivore",
          "omnivore",
          "herbivore",
          "herbivore",
          "herbivore",
          "omnivore",
          "carnivore"
         ],
         "xaxis": "x",
         "y": {
          "bdata": "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",
          "dtype": "f8"
         },
         "yaxis": "y"
        }
       ],
       "layout": {
        "coloraxis": {
         "colorbar": {
          "title": {
           "text": "cluster"
          }
         },
         "colorscale": [
          [
           0,
           "#0d0887"
          ],
          [
           0.1111111111111111,
           "#46039f"
          ],
          [
           0.2222222222222222,
           "#7201a8"
          ],
          [
           0.3333333333333333,
           "#9c179e"
          ],
          [
           0.4444444444444444,
           "#bd3786"
          ],
          [
           0.5555555555555556,
           "#d8576b"
          ],
          [
           0.6666666666666666,
           "#ed7953"
          ],
          [
           0.7777777777777778,
           "#fb9f3a"
          ],
          [
           0.8888888888888888,
           "#fdca26"
          ],
          [
           1,
           "#f0f921"
          ]
         ]
        },
        "legend": {
         "tracegroupgap": 0
        },
        "margin": {
         "t": 60
        },
        "template": {
         "data": {
          "bar": [
           {
            "error_x": {
             "color": "#2a3f5f"
            },
            "error_y": {
             "color": "#2a3f5f"
            },
            "marker": {
             "line": {
              "color": "#E5ECF6",
              "width": 0.5
             },
             "pattern": {
              "fillmode": "overlay",
              "size": 10,
              "solidity": 0.2
             }
            },
            "type": "bar"
           }
          ],
          "barpolar": [
           {
            "marker": {
             "line": {
              "color": "#E5ECF6",
              "width": 0.5
             },
             "pattern": {
              "fillmode": "overlay",
              "size": 10,
              "solidity": 0.2
             }
            },
            "type": "barpolar"
           }
          ],
          "carpet": [
           {
            "aaxis": {
             "endlinecolor": "#2a3f5f",
             "gridcolor": "white",
             "linecolor": "white",
             "minorgridcolor": "white",
             "startlinecolor": "#2a3f5f"
            },
            "baxis": {
             "endlinecolor": "#2a3f5f",
             "gridcolor": "white",
             "linecolor": "white",
             "minorgridcolor": "white",
             "startlinecolor": "#2a3f5f"
            },
            "type": "carpet"
           }
          ],
          "choropleth": [
           {
            "colorbar": {
             "outlinewidth": 0,
             "ticks": ""
            },
            "type": "choropleth"
           }
          ],
          "contour": [
           {
            "colorbar": {
             "outlinewidth": 0,
             "ticks": ""
            },
            "colorscale": [
             [
              0,
              "#0d0887"
             ],
             [
              0.1111111111111111,
              "#46039f"
             ],
             [
              0.2222222222222222,
              "#7201a8"
             ],
             [
              0.3333333333333333,
              "#9c179e"
             ],
             [
              0.4444444444444444,
              "#bd3786"
             ],
             [
              0.5555555555555556,
              "#d8576b"
             ],
             [
              0.6666666666666666,
              "#ed7953"
             ],
             [
              0.7777777777777778,
              "#fb9f3a"
             ],
             [
              0.8888888888888888,
              "#fdca26"
             ],
             [
              1,
              "#f0f921"
             ]
            ],
            "type": "contour"
           }
          ],
          "contourcarpet": [
           {
            "colorbar": {
             "outlinewidth": 0,
             "ticks": ""
            },
            "type": "contourcarpet"
           }
          ],
          "heatmap": [
           {
            "colorbar": {
             "outlinewidth": 0,
             "ticks": ""
            },
            "colorscale": [
             [
              0,
              "#0d0887"
             ],
             [
              0.1111111111111111,
              "#46039f"
             ],
             [
              0.2222222222222222,
              "#7201a8"
             ],
             [
              0.3333333333333333,
              "#9c179e"
             ],
             [
              0.4444444444444444,
              "#bd3786"
             ],
             [
              0.5555555555555556,
              "#d8576b"
             ],
             [
              0.6666666666666666,
              "#ed7953"
             ],
             [
              0.7777777777777778,
              "#fb9f3a"
             ],
             [
              0.8888888888888888,
              "#fdca26"
             ],
             [
              1,
              "#f0f921"
             ]
            ],
            "type": "heatmap"
           }
          ],
          "histogram": [
           {
            "marker": {
             "pattern": {
              "fillmode": "overlay",
              "size": 10,
              "solidity": 0.2
             }
            },
            "type": "histogram"
           }
          ],
          "histogram2d": [
           {
            "colorbar": {
             "outlinewidth": 0,
             "ticks": ""
            },
            "colorscale": [
             [
              0,
              "#0d0887"
             ],
             [
              0.1111111111111111,
              "#46039f"
             ],
             [
              0.2222222222222222,
              "#7201a8"
             ],
             [
              0.3333333333333333,
              "#9c179e"
             ],
             [
              0.4444444444444444,
              "#bd3786"
             ],
             [
              0.5555555555555556,
              "#d8576b"
             ],
             [
              0.6666666666666666,
              "#ed7953"
             ],
             [
              0.7777777777777778,
              "#fb9f3a"
             ],
             [
              0.8888888888888888,
              "#fdca26"
             ],
             [
              1,
              "#f0f921"
             ]
            ],
            "type": "histogram2d"
           }
          ],
          "histogram2dcontour": [
           {
            "colorbar": {
             "outlinewidth": 0,
             "ticks": ""
            },
            "colorscale": [
             [
              0,
              "#0d0887"
             ],
             [
              0.1111111111111111,
              "#46039f"
             ],
             [
              0.2222222222222222,
              "#7201a8"
             ],
             [
              0.3333333333333333,
              "#9c179e"
             ],
             [
              0.4444444444444444,
              "#bd3786"
             ],
             [
              0.5555555555555556,
              "#d8576b"
             ],
             [
              0.6666666666666666,
              "#ed7953"
             ],
             [
              0.7777777777777778,
              "#fb9f3a"
             ],
             [
              0.8888888888888888,
              "#fdca26"
             ],
             [
              1,
              "#f0f921"
             ]
            ],
            "type": "histogram2dcontour"
           }
          ],
          "mesh3d": [
           {
            "colorbar": {
             "outlinewidth": 0,
             "ticks": ""
            },
            "type": "mesh3d"
           }
          ],
          "parcoords": [
           {
            "line": {
             "colorbar": {
              "outlinewidth": 0,
              "ticks": ""
             }
            },
            "type": "parcoords"
           }
          ],
          "pie": [
           {
            "automargin": true,
            "type": "pie"
           }
          ],
          "scatter": [
           {
            "fillpattern": {
             "fillmode": "overlay",
             "size": 10,
             "solidity": 0.2
            },
            "type": "scatter"
           }
          ],
          "scatter3d": [
           {
            "line": {
             "colorbar": {
              "outlinewidth": 0,
              "ticks": ""
             }
            },
            "marker": {
             "colorbar": {
              "outlinewidth": 0,
              "ticks": ""
             }
            },
            "type": "scatter3d"
           }
          ],
          "scattercarpet": [
           {
            "marker": {
             "colorbar": {
              "outlinewidth": 0,
              "ticks": ""
             }
            },
            "type": "scattercarpet"
           }
          ],
          "scattergeo": [
           {
            "marker": {
             "colorbar": {
              "outlinewidth": 0,
              "ticks": ""
             }
            },
            "type": "scattergeo"
           }
          ],
          "scattergl": [
           {
            "marker": {
             "colorbar": {
              "outlinewidth": 0,
              "ticks": ""
             }
            },
            "type": "scattergl"
           }
          ],
          "scattermap": [
           {
            "marker": {
             "colorbar": {
              "outlinewidth": 0,
              "ticks": ""
             }
            },
            "type": "scattermap"
           }
          ],
          "scattermapbox": [
           {
            "marker": {
             "colorbar": {
              "outlinewidth": 0,
              "ticks": ""
             }
            },
            "type": "scattermapbox"
           }
          ],
          "scatterpolar": [
           {
            "marker": {
             "colorbar": {
              "outlinewidth": 0,
              "ticks": ""
             }
            },
            "type": "scatterpolar"
           }
          ],
          "scatterpolargl": [
           {
            "marker": {
             "colorbar": {
              "outlinewidth": 0,
              "ticks": ""
             }
            },
            "type": "scatterpolargl"
           }
          ],
          "scatterternary": [
           {
            "marker": {
             "colorbar": {
              "outlinewidth": 0,
              "ticks": ""
             }
            },
            "type": "scatterternary"
           }
          ],
          "surface": [
           {
            "colorbar": {
             "outlinewidth": 0,
             "ticks": ""
            },
            "colorscale": [
             [
              0,
              "#0d0887"
             ],
             [
              0.1111111111111111,
              "#46039f"
             ],
             [
              0.2222222222222222,
              "#7201a8"
             ],
             [
              0.3333333333333333,
              "#9c179e"
             ],
             [
              0.4444444444444444,
              "#bd3786"
             ],
             [
              0.5555555555555556,
              "#d8576b"
             ],
             [
              0.6666666666666666,
              "#ed7953"
             ],
             [
              0.7777777777777778,
              "#fb9f3a"
             ],
             [
              0.8888888888888888,
              "#fdca26"
             ],
             [
              1,
              "#f0f921"
             ]
            ],
            "type": "surface"
           }
          ],
          "table": [
           {
            "cells": {
             "fill": {
              "color": "#EBF0F8"
             },
             "line": {
              "color": "white"
             }
            },
            "header": {
             "fill": {
              "color": "#C8D4E3"
             },
             "line": {
              "color": "white"
             }
            },
            "type": "table"
           }
          ]
         },
         "layout": {
          "annotationdefaults": {
           "arrowcolor": "#2a3f5f",
           "arrowhead": 0,
           "arrowwidth": 1
          },
          "autotypenumbers": "strict",
          "coloraxis": {
           "colorbar": {
            "outlinewidth": 0,
            "ticks": ""
           }
          },
          "colorscale": {
           "diverging": [
            [
             0,
             "#8e0152"
            ],
            [
             0.1,
             "#c51b7d"
            ],
            [
             0.2,
             "#de77ae"
            ],
            [
             0.3,
             "#f1b6da"
            ],
            [
             0.4,
             "#fde0ef"
            ],
            [
             0.5,
             "#f7f7f7"
            ],
            [
             0.6,
             "#e6f5d0"
            ],
            [
             0.7,
             "#b8e186"
            ],
            [
             0.8,
             "#7fbc41"
            ],
            [
             0.9,
             "#4d9221"
            ],
            [
             1,
             "#276419"
            ]
           ],
           "sequential": [
            [
             0,
             "#0d0887"
            ],
            [
             0.1111111111111111,
             "#46039f"
            ],
            [
             0.2222222222222222,
             "#7201a8"
            ],
            [
             0.3333333333333333,
             "#9c179e"
            ],
            [
             0.4444444444444444,
             "#bd3786"
            ],
            [
             0.5555555555555556,
             "#d8576b"
            ],
            [
             0.6666666666666666,
             "#ed7953"
            ],
            [
             0.7777777777777778,
             "#fb9f3a"
            ],
            [
             0.8888888888888888,
             "#fdca26"
            ],
            [
             1,
             "#f0f921"
            ]
           ],
           "sequentialminus": [
            [
             0,
             "#0d0887"
            ],
            [
             0.1111111111111111,
             "#46039f"
            ],
            [
             0.2222222222222222,
             "#7201a8"
            ],
            [
             0.3333333333333333,
             "#9c179e"
            ],
            [
             0.4444444444444444,
             "#bd3786"
            ],
            [
             0.5555555555555556,
             "#d8576b"
            ],
            [
             0.6666666666666666,
             "#ed7953"
            ],
            [
             0.7777777777777778,
             "#fb9f3a"
            ],
            [
             0.8888888888888888,
             "#fdca26"
            ],
            [
             1,
             "#f0f921"
            ]
           ]
          },
          "colorway": [
           "#636efa",
           "#EF553B",
           "#00cc96",
           "#ab63fa",
           "#FFA15A",
           "#19d3f3",
           "#FF6692",
           "#B6E880",
           "#FF97FF",
           "#FECB52"
          ],
          "font": {
           "color": "#2a3f5f"
          },
          "geo": {
           "bgcolor": "white",
           "lakecolor": "white",
           "landcolor": "#E5ECF6",
           "showlakes": true,
           "showland": true,
           "subunitcolor": "white"
          },
          "hoverlabel": {
           "align": "left"
          },
          "hovermode": "closest",
          "mapbox": {
           "style": "light"
          },
          "paper_bgcolor": "white",
          "plot_bgcolor": "#E5ECF6",
          "polar": {
           "angularaxis": {
            "gridcolor": "white",
            "linecolor": "white",
            "ticks": ""
           },
           "bgcolor": "#E5ECF6",
           "radialaxis": {
            "gridcolor": "white",
            "linecolor": "white",
            "ticks": ""
           }
          },
          "scene": {
           "xaxis": {
            "backgroundcolor": "#E5ECF6",
            "gridcolor": "white",
            "gridwidth": 2,
            "linecolor": "white",
            "showbackground": true,
            "ticks": "",
            "zerolinecolor": "white"
           },
           "yaxis": {
            "backgroundcolor": "#E5ECF6",
            "gridcolor": "white",
            "gridwidth": 2,
            "linecolor": "white",
            "showbackground": true,
            "ticks": "",
            "zerolinecolor": "white"
           },
           "zaxis": {
            "backgroundcolor": "#E5ECF6",
            "gridcolor": "white",
            "gridwidth": 2,
            "linecolor": "white",
            "showbackground": true,
            "ticks": "",
            "zerolinecolor": "white"
           }
          },
          "shapedefaults": {
           "line": {
            "color": "#2a3f5f"
           }
          },
          "ternary": {
           "aaxis": {
            "gridcolor": "white",
            "linecolor": "white",
            "ticks": ""
           },
           "baxis": {
            "gridcolor": "white",
            "linecolor": "white",
            "ticks": ""
           },
           "bgcolor": "#E5ECF6",
           "caxis": {
            "gridcolor": "white",
            "linecolor": "white",
            "ticks": ""
           }
          },
          "title": {
           "x": 0.05
          },
          "xaxis": {
           "automargin": true,
           "gridcolor": "white",
           "linecolor": "white",
           "ticks": "",
           "title": {
            "standoff": 15
           },
           "zerolinecolor": "white",
           "zerolinewidth": 2
          },
          "yaxis": {
           "automargin": true,
           "gridcolor": "white",
           "linecolor": "white",
           "ticks": "",
           "title": {
            "standoff": 15
           },
           "zerolinecolor": "white",
           "zerolinewidth": 2
          }
         }
        },
        "xaxis": {
         "anchor": "y",
         "domain": [
          0,
          1
         ],
         "title": {
          "text": "diet_type"
         }
        },
        "yaxis": {
         "anchor": "x",
         "domain": [
          0,
          1
         ],
         "title": {
          "text": "body_mass_kg"
         }
        }
       }
      }
     },
     "metadata": {},
     "output_type": "display_data"
    }
   ],
   "source": [
    "# Scatterplot de 'diet_type' e 'body_mass_kg' com o cluster \n",
    "px.scatter(df_species, x='diet_type', y='body_mass_kg', color='cluster')"
   ]
  },
  {
   "cell_type": "code",
   "execution_count": 75,
   "metadata": {},
   "outputs": [
    {
     "data": {
      "application/vnd.plotly.v1+json": {
       "config": {
        "plotlyServerURL": "https://plot.ly"
       },
       "data": [
        {
         "hovertemplate": "diet_type=%{x}<br>has_venom=%{y}<br>cluster=%{marker.color}<extra></extra>",
         "legendgroup": "",
         "marker": {
          "color": {
           "bdata": "LgAeAC8AAwB6ADgAIgBvADwAYQAJABUAXABDABgABAAJAAsAFwBuAEwAMQB+AE0AQABkACcAjgCKAIQAUAAvABMAdwBpAIQAYQAJAEMANQCIADQARgBnAAkAQwBtAHQAEAAbAAQAAgCVAAMAOQAgACcAFgBIAHUASQB3ABcACgAkAA4AJAARAJAABACAABEAkABYAAUAQgBJACYAdwBXAH8ALwA1AFkAFQAFABQAcgB8AFEAFAAZAIMAWQCFACoAEAB6ABUANwAyAIEAOgBKAE0AHwBYAIgAAQBWAHwACQCAADAAkwBoADkACwAMADQAPgAWADMAZgAmAAMAawBeAHIARAAxAEUANwA+AEQAKABsAEMALQCGAAwAUwCSAHYAfABqAFcAgQCNAEAAiwABAD8APgCIAAkAMABjAGsAPgBlAAQADgAEAEsAiQAvAEcAFABXAH8APwACAD4ALABGAIcAkQAkAFgAjAAWAEIADwCQAIsANgBBAEgAUgCFACIAPAArAC0AJgCQABEAHQBgAGQAHwAMAA4AGwAqACQAbwBnADAAHQADAHsAHwBIACUAAgByAIoAMQCCACoAEQBEAJIADgAfABoAXQABAIkAbwBAAB8AeQBbABoAPQASADoAdwBDAEAAKACGACoAQwCKAAgAlAASACYAJQABAGUAGwALABcALAALAA0AIgBuAEEAXgBsACgAVAA9AAAAAABJACUACwCKACIALwBDAJMAfwBqAHMACAAnAFoAbgArAA4ASwAjABMASQCUAEYAIAAQACAAIABBADoAEgAcADUARQBLAGgAIAA3AEYAagBzAA4AVgCHABUAEABRAFAAPQB+ABcAeABXADYAZQAJAHMANAARAB0ASwApAFkATQB2AAsAfgB/AHsABQBfACAACwCQABUALQCVAE0AGgAbAA8AMAAtAIkABgATAEYAZwAvAFcAkQB0AAkAhQBLAAYASAATAHIAiQAiAHoAAAA7AHkATwA7ACMAcABXAFQAMgBiADEAJwAZAH8AJQB2AC4AAgBRAGYATAAhABUAGABTADoAGQBZAFcALQATABQAEQBmAC4ADwBkAAgAjQAYAAwAkwBSAHIAHAAIABUAWgBqAGMANgBgAEsACgBVAEUAMQCAAEoAWwAsACgAQgBVABgAXwBDABQAaQAKAB8AWQAkAIUAbAAeABcAHwABADMAJgAnABYAGABbAAcAGgBHAAcAMgAMAB8ABwCLAIcAEwAHABwAjwCEAGQALAAmAHUATgCCAI4AHAA8AA0AFQB3AD8ATgBdADkAZAAHABEAIQATAHEAOQAxACMAQAApAA8AAwAWADMABgAnAHoAHgAfAJUANwA3AE0AUABEACwAPgAWAJQANQAGAAEAZQB2AAYAfQASAAEASwAWAA8ACgB4AGIAHAA1ABIAXgAkAAIAgwAbADsAWgAaAB0AIgACAEAAKgBdAEAAewA5AFwAaACSABAADABhAEQAeQB6ADwADgA4AA0ALQBtABIAYQBYADgACwBMAAIAiQBLACsAOwA1AB0ALgAhAIUANwA9AAoAZwAKAFEAlQAOAC4AcgAmAAUATwAWAAcA",
           "dtype": "i2"
          },
          "coloraxis": "coloraxis",
          "symbol": "circle"
         },
         "mode": "markers",
         "name": "",
         "orientation": "v",
         "showlegend": false,
         "type": "scatter",
         "x": [
          "carnivore",
          "carnivore",
          "carnivore",
          "carnivore",
          "herbivore",
          "omnivore",
          "carnivore",
          "carnivore",
          "omnivore",
          "herbivore",
          "omnivore",
          "omnivore",
          "carnivore",
          "omnivore",
          "omnivore",
          "carnivore",
          "carnivore",
          "carnivore",
          "carnivore",
          "omnivore",
          "omnivore",
          "herbivore",
          "herbivore",
          "omnivore",
          "herbivore",
          "omnivore",
          "herbivore",
          "carnivore",
          "herbivore",
          "carnivore",
          "carnivore",
          "carnivore",
          "carnivore",
          "herbivore",
          "omnivore",
          "carnivore",
          "herbivore",
          "carnivore",
          "herbivore",
          "herbivore",
          "herbivore",
          "omnivore",
          "herbivore",
          "herbivore",
          "omnivore",
          "omnivore",
          "herbivore",
          "omnivore",
          "carnivore",
          "carnivore",
          "omnivore",
          "omnivore",
          "herbivore",
          "omnivore",
          "herbivore",
          "carnivore",
          "omnivore",
          "herbivore",
          "herbivore",
          "carnivore",
          "omnivore",
          "carnivore",
          "herbivore",
          "herbivore",
          "omnivore",
          "herbivore",
          "omnivore",
          "carnivore",
          "omnivore",
          "omnivore",
          "herbivore",
          "herbivore",
          "omnivore",
          "herbivore",
          "herbivore",
          "herbivore",
          "omnivore",
          "herbivore",
          "omnivore",
          "herbivore",
          "carnivore",
          "herbivore",
          "herbivore",
          "omnivore",
          "omnivore",
          "herbivore",
          "carnivore",
          "herbivore",
          "herbivore",
          "carnivore",
          "omnivore",
          "herbivore",
          "omnivore",
          "omnivore",
          "carnivore",
          "carnivore",
          "omnivore",
          "herbivore",
          "omnivore",
          "herbivore",
          "herbivore",
          "carnivore",
          "herbivore",
          "herbivore",
          "omnivore",
          "carnivore",
          "herbivore",
          "herbivore",
          "carnivore",
          "omnivore",
          "carnivore",
          "carnivore",
          "herbivore",
          "herbivore",
          "omnivore",
          "herbivore",
          "herbivore",
          "carnivore",
          "herbivore",
          "omnivore",
          "carnivore",
          "omnivore",
          "carnivore",
          "herbivore",
          "carnivore",
          "carnivore",
          "herbivore",
          "herbivore",
          "omnivore",
          "omnivore",
          "herbivore",
          "herbivore",
          "herbivore",
          "carnivore",
          "carnivore",
          "carnivore",
          "herbivore",
          "omnivore",
          "herbivore",
          "carnivore",
          "carnivore",
          "herbivore",
          "herbivore",
          "carnivore",
          "carnivore",
          "carnivore",
          "herbivore",
          "carnivore",
          "carnivore",
          "omnivore",
          "herbivore",
          "omnivore",
          "omnivore",
          "carnivore",
          "herbivore",
          "carnivore",
          "herbivore",
          "omnivore",
          "herbivore",
          "carnivore",
          "carnivore",
          "carnivore",
          "herbivore",
          "omnivore",
          "omnivore",
          "herbivore",
          "carnivore",
          "omnivore",
          "carnivore",
          "herbivore",
          "carnivore",
          "omnivore",
          "omnivore",
          "carnivore",
          "herbivore",
          "carnivore",
          "herbivore",
          "carnivore",
          "omnivore",
          "herbivore",
          "herbivore",
          "herbivore",
          "omnivore",
          "carnivore",
          "omnivore",
          "herbivore",
          "carnivore",
          "omnivore",
          "herbivore",
          "herbivore",
          "omnivore",
          "omnivore",
          "omnivore",
          "herbivore",
          "omnivore",
          "herbivore",
          "omnivore",
          "herbivore",
          "herbivore",
          "carnivore",
          "omnivore",
          "omnivore",
          "herbivore",
          "herbivore",
          "herbivore",
          "carnivore",
          "carnivore",
          "herbivore",
          "omnivore",
          "omnivore",
          "carnivore",
          "carnivore",
          "herbivore",
          "omnivore",
          "herbivore",
          "carnivore",
          "omnivore",
          "omnivore",
          "carnivore",
          "herbivore",
          "herbivore",
          "omnivore",
          "carnivore",
          "omnivore",
          "carnivore",
          "herbivore",
          "carnivore",
          "herbivore",
          "carnivore",
          "omnivore",
          "herbivore",
          "omnivore",
          "omnivore",
          "herbivore",
          "herbivore",
          "omnivore",
          "omnivore",
          "omnivore",
          "omnivore",
          "herbivore",
          "herbivore",
          "omnivore",
          "carnivore",
          "carnivore",
          "herbivore",
          "omnivore",
          "omnivore",
          "herbivore",
          "carnivore",
          "carnivore",
          "carnivore",
          "herbivore",
          "carnivore",
          "herbivore",
          "herbivore",
          "omnivore",
          "carnivore",
          "herbivore",
          "carnivore",
          "carnivore",
          "omnivore",
          "carnivore",
          "omnivore",
          "herbivore",
          "carnivore",
          "herbivore",
          "carnivore",
          "herbivore",
          "carnivore",
          "carnivore",
          "carnivore",
          "carnivore",
          "carnivore",
          "carnivore",
          "carnivore",
          "carnivore",
          "carnivore",
          "herbivore",
          "omnivore",
          "carnivore",
          "omnivore",
          "carnivore",
          "carnivore",
          "herbivore",
          "herbivore",
          "omnivore",
          "herbivore",
          "herbivore",
          "omnivore",
          "herbivore",
          "carnivore",
          "omnivore",
          "omnivore",
          "carnivore",
          "herbivore",
          "omnivore",
          "omnivore",
          "carnivore",
          "carnivore",
          "herbivore",
          "omnivore",
          "herbivore",
          "herbivore",
          "carnivore",
          "omnivore",
          "omnivore",
          "omnivore",
          "carnivore",
          "carnivore",
          "carnivore",
          "carnivore",
          "carnivore",
          "omnivore",
          "herbivore",
          "omnivore",
          "herbivore",
          "carnivore",
          "herbivore",
          "omnivore",
          "omnivore",
          "herbivore",
          "carnivore",
          "carnivore",
          "omnivore",
          "herbivore",
          "carnivore",
          "carnivore",
          "omnivore",
          "carnivore",
          "herbivore",
          "omnivore",
          "omnivore",
          "herbivore",
          "omnivore",
          "carnivore",
          "carnivore",
          "herbivore",
          "carnivore",
          "herbivore",
          "herbivore",
          "carnivore",
          "herbivore",
          "carnivore",
          "omnivore",
          "omnivore",
          "herbivore",
          "carnivore",
          "carnivore",
          "omnivore",
          "omnivore",
          "carnivore",
          "herbivore",
          "omnivore",
          "herbivore",
          "herbivore",
          "omnivore",
          "herbivore",
          "herbivore",
          "carnivore",
          "herbivore",
          "carnivore",
          "omnivore",
          "omnivore",
          "carnivore",
          "omnivore",
          "herbivore",
          "herbivore",
          "herbivore",
          "omnivore",
          "herbivore",
          "omnivore",
          "herbivore",
          "carnivore",
          "omnivore",
          "omnivore",
          "herbivore",
          "omnivore",
          "omnivore",
          "carnivore",
          "carnivore",
          "herbivore",
          "carnivore",
          "herbivore",
          "herbivore",
          "herbivore",
          "omnivore",
          "carnivore",
          "herbivore",
          "carnivore",
          "herbivore",
          "carnivore",
          "carnivore",
          "herbivore",
          "omnivore",
          "carnivore",
          "omnivore",
          "omnivore",
          "herbivore",
          "herbivore",
          "herbivore",
          "carnivore",
          "herbivore",
          "herbivore",
          "carnivore",
          "carnivore",
          "herbivore",
          "herbivore",
          "herbivore",
          "herbivore",
          "omnivore",
          "omnivore",
          "herbivore",
          "omnivore",
          "carnivore",
          "omnivore",
          "omnivore",
          "herbivore",
          "omnivore",
          "omnivore",
          "omnivore",
          "omnivore",
          "carnivore",
          "herbivore",
          "herbivore",
          "carnivore",
          "omnivore",
          "carnivore",
          "omnivore",
          "carnivore",
          "herbivore",
          "herbivore",
          "herbivore",
          "omnivore",
          "omnivore",
          "carnivore",
          "carnivore",
          "herbivore",
          "omnivore",
          "carnivore",
          "omnivore",
          "omnivore",
          "herbivore",
          "herbivore",
          "omnivore",
          "omnivore",
          "omnivore",
          "omnivore",
          "herbivore",
          "carnivore",
          "herbivore",
          "carnivore",
          "omnivore",
          "carnivore",
          "herbivore",
          "herbivore",
          "omnivore",
          "herbivore",
          "omnivore",
          "herbivore",
          "herbivore",
          "omnivore",
          "carnivore",
          "herbivore",
          "carnivore",
          "herbivore",
          "herbivore",
          "herbivore",
          "herbivore",
          "carnivore",
          "carnivore",
          "herbivore",
          "herbivore",
          "carnivore",
          "omnivore",
          "omnivore",
          "carnivore",
          "herbivore",
          "herbivore",
          "omnivore",
          "omnivore",
          "carnivore",
          "omnivore",
          "carnivore",
          "omnivore",
          "omnivore",
          "omnivore",
          "herbivore",
          "herbivore",
          "herbivore",
          "omnivore",
          "carnivore",
          "carnivore",
          "carnivore",
          "carnivore",
          "herbivore",
          "herbivore",
          "omnivore",
          "omnivore",
          "carnivore",
          "herbivore",
          "carnivore",
          "omnivore",
          "omnivore",
          "carnivore",
          "omnivore",
          "carnivore",
          "herbivore",
          "carnivore",
          "herbivore",
          "herbivore",
          "omnivore",
          "omnivore",
          "omnivore",
          "carnivore",
          "carnivore",
          "omnivore",
          "carnivore",
          "omnivore",
          "carnivore",
          "herbivore",
          "herbivore",
          "omnivore",
          "carnivore",
          "carnivore",
          "herbivore",
          "herbivore",
          "omnivore",
          "herbivore",
          "omnivore",
          "herbivore",
          "herbivore",
          "carnivore",
          "herbivore",
          "herbivore",
          "omnivore",
          "herbivore",
          "omnivore",
          "herbivore",
          "herbivore",
          "omnivore",
          "carnivore",
          "omnivore",
          "omnivore",
          "omnivore",
          "carnivore",
          "herbivore",
          "omnivore",
          "omnivore",
          "carnivore",
          "omnivore",
          "herbivore",
          "carnivore",
          "herbivore",
          "herbivore",
          "carnivore",
          "omnivore",
          "herbivore",
          "herbivore",
          "herbivore",
          "herbivore",
          "carnivore",
          "carnivore",
          "herbivore",
          "omnivore",
          "herbivore",
          "omnivore",
          "herbivore",
          "omnivore",
          "herbivore",
          "omnivore",
          "herbivore",
          "herbivore",
          "omnivore",
          "carnivore",
          "omnivore",
          "carnivore",
          "herbivore",
          "omnivore",
          "omnivore",
          "omnivore",
          "carnivore",
          "carnivore",
          "herbivore",
          "carnivore",
          "carnivore",
          "herbivore",
          "omnivore",
          "omnivore",
          "herbivore",
          "omnivore",
          "carnivore",
          "herbivore",
          "herbivore",
          "herbivore",
          "omnivore",
          "herbivore",
          "herbivore",
          "herbivore",
          "omnivore",
          "carnivore"
         ],
         "xaxis": "x",
         "y": {
          "bdata": "AAAAAAABAAAAAAABAQAAAAAAAAAAAAEAAAAAAAABAAAAAAABAAAAAAEBAAAAAAEAAAAAAAAAAAAAAAAAAQAAAAAAAAAAAAAAAAAAAAEAAAAAAAAAAQAAAAAAAAABAAABAAABAAEAAAEAAAABAAAAAAAAAAAAAAABAAAAAAAAAAEAAAABAAAAAAAAAQEAAQAAAAAAAAAAAAAAAAEAAAEAAAAAAAAAAAAAAAAAAAAAAAAAAQAAAQAAAAAAAAAAAAAAAAABAAAAAAAAAAAAAAEAAAAAAAAAAAAAAAAAAAABAAAAAAAAAQAAAAAAAAEAAAAAAAAAAAEBAAAAAAAAAAAAAAAAAAABAAAAAQAAAQABAQEAAAAAAAAAAAAAAAAAAAAAAAAAAQAAAAAAAAAAAAAAAQAAAAAAAAAAAAABAAAAAAEAAAAAAAAAAQAAAAAAAAAAAQAAAAEAAAABAQAAAAAAAAEAAAAAAAAAAQAAAAAAAAAAAAAAAQAAAQAAAQABAQAAAAAAAAAAAAAAAAEBAAEAAAAAAQAAAAAAAAAAAAAAAAAAAAABAAABAAAAAAABAAABAQAAAAAAAQAAAAAAAAAAAAAAAAAAAAAAAAEAAAAAAQAAAAAAAAAAAQEAAAAAAQAAAAABAQAAAQEAAAAAAQABAAAAAAAAAAAAAAAAAAAAAAAAAAAAAAAAAAAAAAAAAAAAAAAAAAAAAAAAAQAAAQAAAAAAAAAAAQEAAAABAAAAAAAAAAAAAAEBAQEAAAABAAAAAAAAAAAAAAEAAAAAAAAAAAAAAAAAAQAA",
          "dtype": "i1"
         },
         "yaxis": "y"
        }
       ],
       "layout": {
        "coloraxis": {
         "colorbar": {
          "title": {
           "text": "cluster"
          }
         },
         "colorscale": [
          [
           0,
           "#0d0887"
          ],
          [
           0.1111111111111111,
           "#46039f"
          ],
          [
           0.2222222222222222,
           "#7201a8"
          ],
          [
           0.3333333333333333,
           "#9c179e"
          ],
          [
           0.4444444444444444,
           "#bd3786"
          ],
          [
           0.5555555555555556,
           "#d8576b"
          ],
          [
           0.6666666666666666,
           "#ed7953"
          ],
          [
           0.7777777777777778,
           "#fb9f3a"
          ],
          [
           0.8888888888888888,
           "#fdca26"
          ],
          [
           1,
           "#f0f921"
          ]
         ]
        },
        "legend": {
         "tracegroupgap": 0
        },
        "margin": {
         "t": 60
        },
        "template": {
         "data": {
          "bar": [
           {
            "error_x": {
             "color": "#2a3f5f"
            },
            "error_y": {
             "color": "#2a3f5f"
            },
            "marker": {
             "line": {
              "color": "#E5ECF6",
              "width": 0.5
             },
             "pattern": {
              "fillmode": "overlay",
              "size": 10,
              "solidity": 0.2
             }
            },
            "type": "bar"
           }
          ],
          "barpolar": [
           {
            "marker": {
             "line": {
              "color": "#E5ECF6",
              "width": 0.5
             },
             "pattern": {
              "fillmode": "overlay",
              "size": 10,
              "solidity": 0.2
             }
            },
            "type": "barpolar"
           }
          ],
          "carpet": [
           {
            "aaxis": {
             "endlinecolor": "#2a3f5f",
             "gridcolor": "white",
             "linecolor": "white",
             "minorgridcolor": "white",
             "startlinecolor": "#2a3f5f"
            },
            "baxis": {
             "endlinecolor": "#2a3f5f",
             "gridcolor": "white",
             "linecolor": "white",
             "minorgridcolor": "white",
             "startlinecolor": "#2a3f5f"
            },
            "type": "carpet"
           }
          ],
          "choropleth": [
           {
            "colorbar": {
             "outlinewidth": 0,
             "ticks": ""
            },
            "type": "choropleth"
           }
          ],
          "contour": [
           {
            "colorbar": {
             "outlinewidth": 0,
             "ticks": ""
            },
            "colorscale": [
             [
              0,
              "#0d0887"
             ],
             [
              0.1111111111111111,
              "#46039f"
             ],
             [
              0.2222222222222222,
              "#7201a8"
             ],
             [
              0.3333333333333333,
              "#9c179e"
             ],
             [
              0.4444444444444444,
              "#bd3786"
             ],
             [
              0.5555555555555556,
              "#d8576b"
             ],
             [
              0.6666666666666666,
              "#ed7953"
             ],
             [
              0.7777777777777778,
              "#fb9f3a"
             ],
             [
              0.8888888888888888,
              "#fdca26"
             ],
             [
              1,
              "#f0f921"
             ]
            ],
            "type": "contour"
           }
          ],
          "contourcarpet": [
           {
            "colorbar": {
             "outlinewidth": 0,
             "ticks": ""
            },
            "type": "contourcarpet"
           }
          ],
          "heatmap": [
           {
            "colorbar": {
             "outlinewidth": 0,
             "ticks": ""
            },
            "colorscale": [
             [
              0,
              "#0d0887"
             ],
             [
              0.1111111111111111,
              "#46039f"
             ],
             [
              0.2222222222222222,
              "#7201a8"
             ],
             [
              0.3333333333333333,
              "#9c179e"
             ],
             [
              0.4444444444444444,
              "#bd3786"
             ],
             [
              0.5555555555555556,
              "#d8576b"
             ],
             [
              0.6666666666666666,
              "#ed7953"
             ],
             [
              0.7777777777777778,
              "#fb9f3a"
             ],
             [
              0.8888888888888888,
              "#fdca26"
             ],
             [
              1,
              "#f0f921"
             ]
            ],
            "type": "heatmap"
           }
          ],
          "histogram": [
           {
            "marker": {
             "pattern": {
              "fillmode": "overlay",
              "size": 10,
              "solidity": 0.2
             }
            },
            "type": "histogram"
           }
          ],
          "histogram2d": [
           {
            "colorbar": {
             "outlinewidth": 0,
             "ticks": ""
            },
            "colorscale": [
             [
              0,
              "#0d0887"
             ],
             [
              0.1111111111111111,
              "#46039f"
             ],
             [
              0.2222222222222222,
              "#7201a8"
             ],
             [
              0.3333333333333333,
              "#9c179e"
             ],
             [
              0.4444444444444444,
              "#bd3786"
             ],
             [
              0.5555555555555556,
              "#d8576b"
             ],
             [
              0.6666666666666666,
              "#ed7953"
             ],
             [
              0.7777777777777778,
              "#fb9f3a"
             ],
             [
              0.8888888888888888,
              "#fdca26"
             ],
             [
              1,
              "#f0f921"
             ]
            ],
            "type": "histogram2d"
           }
          ],
          "histogram2dcontour": [
           {
            "colorbar": {
             "outlinewidth": 0,
             "ticks": ""
            },
            "colorscale": [
             [
              0,
              "#0d0887"
             ],
             [
              0.1111111111111111,
              "#46039f"
             ],
             [
              0.2222222222222222,
              "#7201a8"
             ],
             [
              0.3333333333333333,
              "#9c179e"
             ],
             [
              0.4444444444444444,
              "#bd3786"
             ],
             [
              0.5555555555555556,
              "#d8576b"
             ],
             [
              0.6666666666666666,
              "#ed7953"
             ],
             [
              0.7777777777777778,
              "#fb9f3a"
             ],
             [
              0.8888888888888888,
              "#fdca26"
             ],
             [
              1,
              "#f0f921"
             ]
            ],
            "type": "histogram2dcontour"
           }
          ],
          "mesh3d": [
           {
            "colorbar": {
             "outlinewidth": 0,
             "ticks": ""
            },
            "type": "mesh3d"
           }
          ],
          "parcoords": [
           {
            "line": {
             "colorbar": {
              "outlinewidth": 0,
              "ticks": ""
             }
            },
            "type": "parcoords"
           }
          ],
          "pie": [
           {
            "automargin": true,
            "type": "pie"
           }
          ],
          "scatter": [
           {
            "fillpattern": {
             "fillmode": "overlay",
             "size": 10,
             "solidity": 0.2
            },
            "type": "scatter"
           }
          ],
          "scatter3d": [
           {
            "line": {
             "colorbar": {
              "outlinewidth": 0,
              "ticks": ""
             }
            },
            "marker": {
             "colorbar": {
              "outlinewidth": 0,
              "ticks": ""
             }
            },
            "type": "scatter3d"
           }
          ],
          "scattercarpet": [
           {
            "marker": {
             "colorbar": {
              "outlinewidth": 0,
              "ticks": ""
             }
            },
            "type": "scattercarpet"
           }
          ],
          "scattergeo": [
           {
            "marker": {
             "colorbar": {
              "outlinewidth": 0,
              "ticks": ""
             }
            },
            "type": "scattergeo"
           }
          ],
          "scattergl": [
           {
            "marker": {
             "colorbar": {
              "outlinewidth": 0,
              "ticks": ""
             }
            },
            "type": "scattergl"
           }
          ],
          "scattermap": [
           {
            "marker": {
             "colorbar": {
              "outlinewidth": 0,
              "ticks": ""
             }
            },
            "type": "scattermap"
           }
          ],
          "scattermapbox": [
           {
            "marker": {
             "colorbar": {
              "outlinewidth": 0,
              "ticks": ""
             }
            },
            "type": "scattermapbox"
           }
          ],
          "scatterpolar": [
           {
            "marker": {
             "colorbar": {
              "outlinewidth": 0,
              "ticks": ""
             }
            },
            "type": "scatterpolar"
           }
          ],
          "scatterpolargl": [
           {
            "marker": {
             "colorbar": {
              "outlinewidth": 0,
              "ticks": ""
             }
            },
            "type": "scatterpolargl"
           }
          ],
          "scatterternary": [
           {
            "marker": {
             "colorbar": {
              "outlinewidth": 0,
              "ticks": ""
             }
            },
            "type": "scatterternary"
           }
          ],
          "surface": [
           {
            "colorbar": {
             "outlinewidth": 0,
             "ticks": ""
            },
            "colorscale": [
             [
              0,
              "#0d0887"
             ],
             [
              0.1111111111111111,
              "#46039f"
             ],
             [
              0.2222222222222222,
              "#7201a8"
             ],
             [
              0.3333333333333333,
              "#9c179e"
             ],
             [
              0.4444444444444444,
              "#bd3786"
             ],
             [
              0.5555555555555556,
              "#d8576b"
             ],
             [
              0.6666666666666666,
              "#ed7953"
             ],
             [
              0.7777777777777778,
              "#fb9f3a"
             ],
             [
              0.8888888888888888,
              "#fdca26"
             ],
             [
              1,
              "#f0f921"
             ]
            ],
            "type": "surface"
           }
          ],
          "table": [
           {
            "cells": {
             "fill": {
              "color": "#EBF0F8"
             },
             "line": {
              "color": "white"
             }
            },
            "header": {
             "fill": {
              "color": "#C8D4E3"
             },
             "line": {
              "color": "white"
             }
            },
            "type": "table"
           }
          ]
         },
         "layout": {
          "annotationdefaults": {
           "arrowcolor": "#2a3f5f",
           "arrowhead": 0,
           "arrowwidth": 1
          },
          "autotypenumbers": "strict",
          "coloraxis": {
           "colorbar": {
            "outlinewidth": 0,
            "ticks": ""
           }
          },
          "colorscale": {
           "diverging": [
            [
             0,
             "#8e0152"
            ],
            [
             0.1,
             "#c51b7d"
            ],
            [
             0.2,
             "#de77ae"
            ],
            [
             0.3,
             "#f1b6da"
            ],
            [
             0.4,
             "#fde0ef"
            ],
            [
             0.5,
             "#f7f7f7"
            ],
            [
             0.6,
             "#e6f5d0"
            ],
            [
             0.7,
             "#b8e186"
            ],
            [
             0.8,
             "#7fbc41"
            ],
            [
             0.9,
             "#4d9221"
            ],
            [
             1,
             "#276419"
            ]
           ],
           "sequential": [
            [
             0,
             "#0d0887"
            ],
            [
             0.1111111111111111,
             "#46039f"
            ],
            [
             0.2222222222222222,
             "#7201a8"
            ],
            [
             0.3333333333333333,
             "#9c179e"
            ],
            [
             0.4444444444444444,
             "#bd3786"
            ],
            [
             0.5555555555555556,
             "#d8576b"
            ],
            [
             0.6666666666666666,
             "#ed7953"
            ],
            [
             0.7777777777777778,
             "#fb9f3a"
            ],
            [
             0.8888888888888888,
             "#fdca26"
            ],
            [
             1,
             "#f0f921"
            ]
           ],
           "sequentialminus": [
            [
             0,
             "#0d0887"
            ],
            [
             0.1111111111111111,
             "#46039f"
            ],
            [
             0.2222222222222222,
             "#7201a8"
            ],
            [
             0.3333333333333333,
             "#9c179e"
            ],
            [
             0.4444444444444444,
             "#bd3786"
            ],
            [
             0.5555555555555556,
             "#d8576b"
            ],
            [
             0.6666666666666666,
             "#ed7953"
            ],
            [
             0.7777777777777778,
             "#fb9f3a"
            ],
            [
             0.8888888888888888,
             "#fdca26"
            ],
            [
             1,
             "#f0f921"
            ]
           ]
          },
          "colorway": [
           "#636efa",
           "#EF553B",
           "#00cc96",
           "#ab63fa",
           "#FFA15A",
           "#19d3f3",
           "#FF6692",
           "#B6E880",
           "#FF97FF",
           "#FECB52"
          ],
          "font": {
           "color": "#2a3f5f"
          },
          "geo": {
           "bgcolor": "white",
           "lakecolor": "white",
           "landcolor": "#E5ECF6",
           "showlakes": true,
           "showland": true,
           "subunitcolor": "white"
          },
          "hoverlabel": {
           "align": "left"
          },
          "hovermode": "closest",
          "mapbox": {
           "style": "light"
          },
          "paper_bgcolor": "white",
          "plot_bgcolor": "#E5ECF6",
          "polar": {
           "angularaxis": {
            "gridcolor": "white",
            "linecolor": "white",
            "ticks": ""
           },
           "bgcolor": "#E5ECF6",
           "radialaxis": {
            "gridcolor": "white",
            "linecolor": "white",
            "ticks": ""
           }
          },
          "scene": {
           "xaxis": {
            "backgroundcolor": "#E5ECF6",
            "gridcolor": "white",
            "gridwidth": 2,
            "linecolor": "white",
            "showbackground": true,
            "ticks": "",
            "zerolinecolor": "white"
           },
           "yaxis": {
            "backgroundcolor": "#E5ECF6",
            "gridcolor": "white",
            "gridwidth": 2,
            "linecolor": "white",
            "showbackground": true,
            "ticks": "",
            "zerolinecolor": "white"
           },
           "zaxis": {
            "backgroundcolor": "#E5ECF6",
            "gridcolor": "white",
            "gridwidth": 2,
            "linecolor": "white",
            "showbackground": true,
            "ticks": "",
            "zerolinecolor": "white"
           }
          },
          "shapedefaults": {
           "line": {
            "color": "#2a3f5f"
           }
          },
          "ternary": {
           "aaxis": {
            "gridcolor": "white",
            "linecolor": "white",
            "ticks": ""
           },
           "baxis": {
            "gridcolor": "white",
            "linecolor": "white",
            "ticks": ""
           },
           "bgcolor": "#E5ECF6",
           "caxis": {
            "gridcolor": "white",
            "linecolor": "white",
            "ticks": ""
           }
          },
          "title": {
           "x": 0.05
          },
          "xaxis": {
           "automargin": true,
           "gridcolor": "white",
           "linecolor": "white",
           "ticks": "",
           "title": {
            "standoff": 15
           },
           "zerolinecolor": "white",
           "zerolinewidth": 2
          },
          "yaxis": {
           "automargin": true,
           "gridcolor": "white",
           "linecolor": "white",
           "ticks": "",
           "title": {
            "standoff": 15
           },
           "zerolinecolor": "white",
           "zerolinewidth": 2
          }
         }
        },
        "xaxis": {
         "anchor": "y",
         "domain": [
          0,
          1
         ],
         "title": {
          "text": "diet_type"
         }
        },
        "yaxis": {
         "anchor": "x",
         "domain": [
          0,
          1
         ],
         "title": {
          "text": "has_venom"
         }
        }
       }
      }
     },
     "metadata": {},
     "output_type": "display_data"
    }
   ],
   "source": [
    "# Scatterplot de 'diet_type' e 'has_venom' com o cluster \n",
    "px.scatter(df_species, x='diet_type', y='has_venom', color='cluster')"
   ]
  },
  {
   "cell_type": "code",
   "execution_count": 76,
   "metadata": {},
   "outputs": [
    {
     "data": {
      "application/vnd.plotly.v1+json": {
       "config": {
        "plotlyServerURL": "https://plot.ly"
       },
       "data": [
        {
         "hovertemplate": "num_legs=%{x}<br>has_venom=%{y}<br>cluster=%{marker.color}<extra></extra>",
         "legendgroup": "",
         "marker": {
          "color": {
           "bdata": "LgAeAC8AAwB6ADgAIgBvADwAYQAJABUAXABDABgABAAJAAsAFwBuAEwAMQB+AE0AQABkACcAjgCKAIQAUAAvABMAdwBpAIQAYQAJAEMANQCIADQARgBnAAkAQwBtAHQAEAAbAAQAAgCVAAMAOQAgACcAFgBIAHUASQB3ABcACgAkAA4AJAARAJAABACAABEAkABYAAUAQgBJACYAdwBXAH8ALwA1AFkAFQAFABQAcgB8AFEAFAAZAIMAWQCFACoAEAB6ABUANwAyAIEAOgBKAE0AHwBYAIgAAQBWAHwACQCAADAAkwBoADkACwAMADQAPgAWADMAZgAmAAMAawBeAHIARAAxAEUANwA+AEQAKABsAEMALQCGAAwAUwCSAHYAfABqAFcAgQCNAEAAiwABAD8APgCIAAkAMABjAGsAPgBlAAQADgAEAEsAiQAvAEcAFABXAH8APwACAD4ALABGAIcAkQAkAFgAjAAWAEIADwCQAIsANgBBAEgAUgCFACIAPAArAC0AJgCQABEAHQBgAGQAHwAMAA4AGwAqACQAbwBnADAAHQADAHsAHwBIACUAAgByAIoAMQCCACoAEQBEAJIADgAfABoAXQABAIkAbwBAAB8AeQBbABoAPQASADoAdwBDAEAAKACGACoAQwCKAAgAlAASACYAJQABAGUAGwALABcALAALAA0AIgBuAEEAXgBsACgAVAA9AAAAAABJACUACwCKACIALwBDAJMAfwBqAHMACAAnAFoAbgArAA4ASwAjABMASQCUAEYAIAAQACAAIABBADoAEgAcADUARQBLAGgAIAA3AEYAagBzAA4AVgCHABUAEABRAFAAPQB+ABcAeABXADYAZQAJAHMANAARAB0ASwApAFkATQB2AAsAfgB/AHsABQBfACAACwCQABUALQCVAE0AGgAbAA8AMAAtAIkABgATAEYAZwAvAFcAkQB0AAkAhQBLAAYASAATAHIAiQAiAHoAAAA7AHkATwA7ACMAcABXAFQAMgBiADEAJwAZAH8AJQB2AC4AAgBRAGYATAAhABUAGABTADoAGQBZAFcALQATABQAEQBmAC4ADwBkAAgAjQAYAAwAkwBSAHIAHAAIABUAWgBqAGMANgBgAEsACgBVAEUAMQCAAEoAWwAsACgAQgBVABgAXwBDABQAaQAKAB8AWQAkAIUAbAAeABcAHwABADMAJgAnABYAGABbAAcAGgBHAAcAMgAMAB8ABwCLAIcAEwAHABwAjwCEAGQALAAmAHUATgCCAI4AHAA8AA0AFQB3AD8ATgBdADkAZAAHABEAIQATAHEAOQAxACMAQAApAA8AAwAWADMABgAnAHoAHgAfAJUANwA3AE0AUABEACwAPgAWAJQANQAGAAEAZQB2AAYAfQASAAEASwAWAA8ACgB4AGIAHAA1ABIAXgAkAAIAgwAbADsAWgAaAB0AIgACAEAAKgBdAEAAewA5AFwAaACSABAADABhAEQAeQB6ADwADgA4AA0ALQBtABIAYQBYADgACwBMAAIAiQBLACsAOwA1AB0ALgAhAIUANwA9AAoAZwAKAFEAlQAOAC4AcgAmAAUATwAWAAcA",
           "dtype": "i2"
          },
          "coloraxis": "coloraxis",
          "symbol": "circle"
         },
         "mode": "markers",
         "name": "",
         "orientation": "v",
         "showlegend": false,
         "type": "scatter",
         "x": {
          "bdata": "BgYIAgQEBAYGAgQECAYEAgIEBgIIAgAABgQGBgYGCAgCAAYCAAQIAAQACAgCBgAABAgACAACBgAIAgAEBgACBAICBAIEAAQEBgQEAAYIAAAIBAIGAggAAAYAAAYGCAAACAQEBAgACAgEAgAEAgIGAAIEBgAIBAICBAIGAAYCCAAABAQIAAgEBAAGAgQEBgYICAICAAgECAQGCAYCAgAIBgQCAgQGBggIAAIIBgQGAgYAAgQAAgQAAAIIAAAEBgICCAgCCAQCCAIGAAIACAACBggCCAQABAIGCAAIAggAAggGAgIGBAAECAYEAggIBAQGAAQEAggAAgYGBAQGBAAECAQCAAICCAAAAAAACAQCAAQEAggGBgQCBgQIBgQEAAgAAgAABgQIAAgAAgAGBAIACAICAAIIAggABAIECAIGBAIEAgAEBgYIAgQIBAIGAAYIAAgCAAgCBgIEAgIECAgCBAQGCAAICAYABgACAAYIAAAECAIGAggAAAgAAAAGBgQCCAgIBAYECAIABgYEBggIBAgCBAIAAgAAAgQICAAABAYCAAgEAgQCAgAEBAgIAAAGCAIEAAQEBggABAACBgIAAAgEBAIGBAgCAggGCAYICAACCAgEAgQCBAgIAAQGAAQEAAgECAAIAgYEBggECAIABAICBAgCBgIICAYCCAQAAAACBggEBAIAAgYGCAgGBgYCBgQABgACAAIEAgIIBgYEBAYIBggEAAQEAgICAggGAAQIAAgIBAYCBgQEBAAGBggICAQGBAAIBAQAAgYCCAQAAAYCBgQGAAAI",
          "dtype": "i1"
         },
         "xaxis": "x",
         "y": {
          "bdata": "AAAAAAABAAAAAAABAQAAAAAAAAAAAAEAAAAAAAABAAAAAAABAAAAAAEBAAAAAAEAAAAAAAAAAAAAAAAAAQAAAAAAAAAAAAAAAAAAAAEAAAAAAAAAAQAAAAAAAAABAAABAAABAAEAAAEAAAABAAAAAAAAAAAAAAABAAAAAAAAAAEAAAABAAAAAAAAAQEAAQAAAAAAAAAAAAAAAAEAAAEAAAAAAAAAAAAAAAAAAAAAAAAAAQAAAQAAAAAAAAAAAAAAAAABAAAAAAAAAAAAAAEAAAAAAAAAAAAAAAAAAAABAAAAAAAAAQAAAAAAAAEAAAAAAAAAAAEBAAAAAAAAAAAAAAAAAAABAAAAAQAAAQABAQEAAAAAAAAAAAAAAAAAAAAAAAAAAQAAAAAAAAAAAAAAAQAAAAAAAAAAAAABAAAAAAEAAAAAAAAAAQAAAAAAAAAAAQAAAAEAAAABAQAAAAAAAAEAAAAAAAAAAQAAAAAAAAAAAAAAAQAAAQAAAQABAQAAAAAAAAAAAAAAAAEBAAEAAAAAAQAAAAAAAAAAAAAAAAAAAAABAAABAAAAAAABAAABAQAAAAAAAQAAAAAAAAAAAAAAAAAAAAAAAAEAAAAAAQAAAAAAAAAAAQEAAAAAAQAAAAABAQAAAQEAAAAAAQABAAAAAAAAAAAAAAAAAAAAAAAAAAAAAAAAAAAAAAAAAAAAAAAAAAAAAAAAAQAAAQAAAAAAAAAAAQEAAAABAAAAAAAAAAAAAAEBAQEAAAABAAAAAAAAAAAAAAEAAAAAAAAAAAAAAAAAAQAA",
          "dtype": "i1"
         },
         "yaxis": "y"
        }
       ],
       "layout": {
        "coloraxis": {
         "colorbar": {
          "title": {
           "text": "cluster"
          }
         },
         "colorscale": [
          [
           0,
           "#0d0887"
          ],
          [
           0.1111111111111111,
           "#46039f"
          ],
          [
           0.2222222222222222,
           "#7201a8"
          ],
          [
           0.3333333333333333,
           "#9c179e"
          ],
          [
           0.4444444444444444,
           "#bd3786"
          ],
          [
           0.5555555555555556,
           "#d8576b"
          ],
          [
           0.6666666666666666,
           "#ed7953"
          ],
          [
           0.7777777777777778,
           "#fb9f3a"
          ],
          [
           0.8888888888888888,
           "#fdca26"
          ],
          [
           1,
           "#f0f921"
          ]
         ]
        },
        "legend": {
         "tracegroupgap": 0
        },
        "margin": {
         "t": 60
        },
        "template": {
         "data": {
          "bar": [
           {
            "error_x": {
             "color": "#2a3f5f"
            },
            "error_y": {
             "color": "#2a3f5f"
            },
            "marker": {
             "line": {
              "color": "#E5ECF6",
              "width": 0.5
             },
             "pattern": {
              "fillmode": "overlay",
              "size": 10,
              "solidity": 0.2
             }
            },
            "type": "bar"
           }
          ],
          "barpolar": [
           {
            "marker": {
             "line": {
              "color": "#E5ECF6",
              "width": 0.5
             },
             "pattern": {
              "fillmode": "overlay",
              "size": 10,
              "solidity": 0.2
             }
            },
            "type": "barpolar"
           }
          ],
          "carpet": [
           {
            "aaxis": {
             "endlinecolor": "#2a3f5f",
             "gridcolor": "white",
             "linecolor": "white",
             "minorgridcolor": "white",
             "startlinecolor": "#2a3f5f"
            },
            "baxis": {
             "endlinecolor": "#2a3f5f",
             "gridcolor": "white",
             "linecolor": "white",
             "minorgridcolor": "white",
             "startlinecolor": "#2a3f5f"
            },
            "type": "carpet"
           }
          ],
          "choropleth": [
           {
            "colorbar": {
             "outlinewidth": 0,
             "ticks": ""
            },
            "type": "choropleth"
           }
          ],
          "contour": [
           {
            "colorbar": {
             "outlinewidth": 0,
             "ticks": ""
            },
            "colorscale": [
             [
              0,
              "#0d0887"
             ],
             [
              0.1111111111111111,
              "#46039f"
             ],
             [
              0.2222222222222222,
              "#7201a8"
             ],
             [
              0.3333333333333333,
              "#9c179e"
             ],
             [
              0.4444444444444444,
              "#bd3786"
             ],
             [
              0.5555555555555556,
              "#d8576b"
             ],
             [
              0.6666666666666666,
              "#ed7953"
             ],
             [
              0.7777777777777778,
              "#fb9f3a"
             ],
             [
              0.8888888888888888,
              "#fdca26"
             ],
             [
              1,
              "#f0f921"
             ]
            ],
            "type": "contour"
           }
          ],
          "contourcarpet": [
           {
            "colorbar": {
             "outlinewidth": 0,
             "ticks": ""
            },
            "type": "contourcarpet"
           }
          ],
          "heatmap": [
           {
            "colorbar": {
             "outlinewidth": 0,
             "ticks": ""
            },
            "colorscale": [
             [
              0,
              "#0d0887"
             ],
             [
              0.1111111111111111,
              "#46039f"
             ],
             [
              0.2222222222222222,
              "#7201a8"
             ],
             [
              0.3333333333333333,
              "#9c179e"
             ],
             [
              0.4444444444444444,
              "#bd3786"
             ],
             [
              0.5555555555555556,
              "#d8576b"
             ],
             [
              0.6666666666666666,
              "#ed7953"
             ],
             [
              0.7777777777777778,
              "#fb9f3a"
             ],
             [
              0.8888888888888888,
              "#fdca26"
             ],
             [
              1,
              "#f0f921"
             ]
            ],
            "type": "heatmap"
           }
          ],
          "histogram": [
           {
            "marker": {
             "pattern": {
              "fillmode": "overlay",
              "size": 10,
              "solidity": 0.2
             }
            },
            "type": "histogram"
           }
          ],
          "histogram2d": [
           {
            "colorbar": {
             "outlinewidth": 0,
             "ticks": ""
            },
            "colorscale": [
             [
              0,
              "#0d0887"
             ],
             [
              0.1111111111111111,
              "#46039f"
             ],
             [
              0.2222222222222222,
              "#7201a8"
             ],
             [
              0.3333333333333333,
              "#9c179e"
             ],
             [
              0.4444444444444444,
              "#bd3786"
             ],
             [
              0.5555555555555556,
              "#d8576b"
             ],
             [
              0.6666666666666666,
              "#ed7953"
             ],
             [
              0.7777777777777778,
              "#fb9f3a"
             ],
             [
              0.8888888888888888,
              "#fdca26"
             ],
             [
              1,
              "#f0f921"
             ]
            ],
            "type": "histogram2d"
           }
          ],
          "histogram2dcontour": [
           {
            "colorbar": {
             "outlinewidth": 0,
             "ticks": ""
            },
            "colorscale": [
             [
              0,
              "#0d0887"
             ],
             [
              0.1111111111111111,
              "#46039f"
             ],
             [
              0.2222222222222222,
              "#7201a8"
             ],
             [
              0.3333333333333333,
              "#9c179e"
             ],
             [
              0.4444444444444444,
              "#bd3786"
             ],
             [
              0.5555555555555556,
              "#d8576b"
             ],
             [
              0.6666666666666666,
              "#ed7953"
             ],
             [
              0.7777777777777778,
              "#fb9f3a"
             ],
             [
              0.8888888888888888,
              "#fdca26"
             ],
             [
              1,
              "#f0f921"
             ]
            ],
            "type": "histogram2dcontour"
           }
          ],
          "mesh3d": [
           {
            "colorbar": {
             "outlinewidth": 0,
             "ticks": ""
            },
            "type": "mesh3d"
           }
          ],
          "parcoords": [
           {
            "line": {
             "colorbar": {
              "outlinewidth": 0,
              "ticks": ""
             }
            },
            "type": "parcoords"
           }
          ],
          "pie": [
           {
            "automargin": true,
            "type": "pie"
           }
          ],
          "scatter": [
           {
            "fillpattern": {
             "fillmode": "overlay",
             "size": 10,
             "solidity": 0.2
            },
            "type": "scatter"
           }
          ],
          "scatter3d": [
           {
            "line": {
             "colorbar": {
              "outlinewidth": 0,
              "ticks": ""
             }
            },
            "marker": {
             "colorbar": {
              "outlinewidth": 0,
              "ticks": ""
             }
            },
            "type": "scatter3d"
           }
          ],
          "scattercarpet": [
           {
            "marker": {
             "colorbar": {
              "outlinewidth": 0,
              "ticks": ""
             }
            },
            "type": "scattercarpet"
           }
          ],
          "scattergeo": [
           {
            "marker": {
             "colorbar": {
              "outlinewidth": 0,
              "ticks": ""
             }
            },
            "type": "scattergeo"
           }
          ],
          "scattergl": [
           {
            "marker": {
             "colorbar": {
              "outlinewidth": 0,
              "ticks": ""
             }
            },
            "type": "scattergl"
           }
          ],
          "scattermap": [
           {
            "marker": {
             "colorbar": {
              "outlinewidth": 0,
              "ticks": ""
             }
            },
            "type": "scattermap"
           }
          ],
          "scattermapbox": [
           {
            "marker": {
             "colorbar": {
              "outlinewidth": 0,
              "ticks": ""
             }
            },
            "type": "scattermapbox"
           }
          ],
          "scatterpolar": [
           {
            "marker": {
             "colorbar": {
              "outlinewidth": 0,
              "ticks": ""
             }
            },
            "type": "scatterpolar"
           }
          ],
          "scatterpolargl": [
           {
            "marker": {
             "colorbar": {
              "outlinewidth": 0,
              "ticks": ""
             }
            },
            "type": "scatterpolargl"
           }
          ],
          "scatterternary": [
           {
            "marker": {
             "colorbar": {
              "outlinewidth": 0,
              "ticks": ""
             }
            },
            "type": "scatterternary"
           }
          ],
          "surface": [
           {
            "colorbar": {
             "outlinewidth": 0,
             "ticks": ""
            },
            "colorscale": [
             [
              0,
              "#0d0887"
             ],
             [
              0.1111111111111111,
              "#46039f"
             ],
             [
              0.2222222222222222,
              "#7201a8"
             ],
             [
              0.3333333333333333,
              "#9c179e"
             ],
             [
              0.4444444444444444,
              "#bd3786"
             ],
             [
              0.5555555555555556,
              "#d8576b"
             ],
             [
              0.6666666666666666,
              "#ed7953"
             ],
             [
              0.7777777777777778,
              "#fb9f3a"
             ],
             [
              0.8888888888888888,
              "#fdca26"
             ],
             [
              1,
              "#f0f921"
             ]
            ],
            "type": "surface"
           }
          ],
          "table": [
           {
            "cells": {
             "fill": {
              "color": "#EBF0F8"
             },
             "line": {
              "color": "white"
             }
            },
            "header": {
             "fill": {
              "color": "#C8D4E3"
             },
             "line": {
              "color": "white"
             }
            },
            "type": "table"
           }
          ]
         },
         "layout": {
          "annotationdefaults": {
           "arrowcolor": "#2a3f5f",
           "arrowhead": 0,
           "arrowwidth": 1
          },
          "autotypenumbers": "strict",
          "coloraxis": {
           "colorbar": {
            "outlinewidth": 0,
            "ticks": ""
           }
          },
          "colorscale": {
           "diverging": [
            [
             0,
             "#8e0152"
            ],
            [
             0.1,
             "#c51b7d"
            ],
            [
             0.2,
             "#de77ae"
            ],
            [
             0.3,
             "#f1b6da"
            ],
            [
             0.4,
             "#fde0ef"
            ],
            [
             0.5,
             "#f7f7f7"
            ],
            [
             0.6,
             "#e6f5d0"
            ],
            [
             0.7,
             "#b8e186"
            ],
            [
             0.8,
             "#7fbc41"
            ],
            [
             0.9,
             "#4d9221"
            ],
            [
             1,
             "#276419"
            ]
           ],
           "sequential": [
            [
             0,
             "#0d0887"
            ],
            [
             0.1111111111111111,
             "#46039f"
            ],
            [
             0.2222222222222222,
             "#7201a8"
            ],
            [
             0.3333333333333333,
             "#9c179e"
            ],
            [
             0.4444444444444444,
             "#bd3786"
            ],
            [
             0.5555555555555556,
             "#d8576b"
            ],
            [
             0.6666666666666666,
             "#ed7953"
            ],
            [
             0.7777777777777778,
             "#fb9f3a"
            ],
            [
             0.8888888888888888,
             "#fdca26"
            ],
            [
             1,
             "#f0f921"
            ]
           ],
           "sequentialminus": [
            [
             0,
             "#0d0887"
            ],
            [
             0.1111111111111111,
             "#46039f"
            ],
            [
             0.2222222222222222,
             "#7201a8"
            ],
            [
             0.3333333333333333,
             "#9c179e"
            ],
            [
             0.4444444444444444,
             "#bd3786"
            ],
            [
             0.5555555555555556,
             "#d8576b"
            ],
            [
             0.6666666666666666,
             "#ed7953"
            ],
            [
             0.7777777777777778,
             "#fb9f3a"
            ],
            [
             0.8888888888888888,
             "#fdca26"
            ],
            [
             1,
             "#f0f921"
            ]
           ]
          },
          "colorway": [
           "#636efa",
           "#EF553B",
           "#00cc96",
           "#ab63fa",
           "#FFA15A",
           "#19d3f3",
           "#FF6692",
           "#B6E880",
           "#FF97FF",
           "#FECB52"
          ],
          "font": {
           "color": "#2a3f5f"
          },
          "geo": {
           "bgcolor": "white",
           "lakecolor": "white",
           "landcolor": "#E5ECF6",
           "showlakes": true,
           "showland": true,
           "subunitcolor": "white"
          },
          "hoverlabel": {
           "align": "left"
          },
          "hovermode": "closest",
          "mapbox": {
           "style": "light"
          },
          "paper_bgcolor": "white",
          "plot_bgcolor": "#E5ECF6",
          "polar": {
           "angularaxis": {
            "gridcolor": "white",
            "linecolor": "white",
            "ticks": ""
           },
           "bgcolor": "#E5ECF6",
           "radialaxis": {
            "gridcolor": "white",
            "linecolor": "white",
            "ticks": ""
           }
          },
          "scene": {
           "xaxis": {
            "backgroundcolor": "#E5ECF6",
            "gridcolor": "white",
            "gridwidth": 2,
            "linecolor": "white",
            "showbackground": true,
            "ticks": "",
            "zerolinecolor": "white"
           },
           "yaxis": {
            "backgroundcolor": "#E5ECF6",
            "gridcolor": "white",
            "gridwidth": 2,
            "linecolor": "white",
            "showbackground": true,
            "ticks": "",
            "zerolinecolor": "white"
           },
           "zaxis": {
            "backgroundcolor": "#E5ECF6",
            "gridcolor": "white",
            "gridwidth": 2,
            "linecolor": "white",
            "showbackground": true,
            "ticks": "",
            "zerolinecolor": "white"
           }
          },
          "shapedefaults": {
           "line": {
            "color": "#2a3f5f"
           }
          },
          "ternary": {
           "aaxis": {
            "gridcolor": "white",
            "linecolor": "white",
            "ticks": ""
           },
           "baxis": {
            "gridcolor": "white",
            "linecolor": "white",
            "ticks": ""
           },
           "bgcolor": "#E5ECF6",
           "caxis": {
            "gridcolor": "white",
            "linecolor": "white",
            "ticks": ""
           }
          },
          "title": {
           "x": 0.05
          },
          "xaxis": {
           "automargin": true,
           "gridcolor": "white",
           "linecolor": "white",
           "ticks": "",
           "title": {
            "standoff": 15
           },
           "zerolinecolor": "white",
           "zerolinewidth": 2
          },
          "yaxis": {
           "automargin": true,
           "gridcolor": "white",
           "linecolor": "white",
           "ticks": "",
           "title": {
            "standoff": 15
           },
           "zerolinecolor": "white",
           "zerolinewidth": 2
          }
         }
        },
        "xaxis": {
         "anchor": "y",
         "domain": [
          0,
          1
         ],
         "title": {
          "text": "num_legs"
         }
        },
        "yaxis": {
         "anchor": "x",
         "domain": [
          0,
          1
         ],
         "title": {
          "text": "has_venom"
         }
        }
       }
      }
     },
     "metadata": {},
     "output_type": "display_data"
    }
   ],
   "source": [
    "# Scatterplot de 'num_legs' e 'has_venom' com o cluster \n",
    "px.scatter(df_species, x='num_legs', y='has_venom', color='cluster')"
   ]
  },
  {
   "cell_type": "code",
   "execution_count": 77,
   "metadata": {},
   "outputs": [
    {
     "data": {
      "application/vnd.plotly.v1+json": {
       "config": {
        "plotlyServerURL": "https://plot.ly"
       },
       "data": [
        {
         "hovertemplate": "cluster=%{marker.color}<br>value=%{y}<extra></extra>",
         "legendgroup": "",
         "marker": {
          "color": {
           "bdata": "HwALAA4AFQAWAAkAQwBLAEAAJgARABMAAQACAFcAIgAKAAcAEgAMADEALwByACQANQA+ADcALQAnACAABAADAIUAfwAPAAYAFAAQAHcAegAuABwAGwAXACwAKgA5AEYARAAdABoAZAAYAE0AWQCJAJAACABYAGcABQA8AEgAPQBRAEkAOwAlAIoAlQAoAGoAZQBhAHYAMAA6AAAADQA0ABkAMwArAB4AMgBFAJQAkwCIAIcAkgB7AHwAeQBvAEwANgBQAEEAPwBCADgAIwAhAG4AZgCLAIAAfgCEAGgAWwBzAGwAXQBeAFoAKQBVAFQAUwBSAE4ATwBHAEoAYABfAFwAVgBjAGkAbQBiAJEAggB1AHQAawB4AIEAgwCOAI0AhgBxAHAAfQCMAI8A",
           "dtype": "i2"
          },
          "coloraxis": "coloraxis",
          "pattern": {
           "shape": ""
          }
         },
         "name": "",
         "orientation": "v",
         "showlegend": false,
         "textposition": "auto",
         "type": "bar",
         "x": {
          "bdata": "HwALAA4AFQAWAAkAQwBLAEAAJgARABMAAQACAFcAIgAKAAcAEgAMADEALwByACQANQA+ADcALQAnACAABAADAIUAfwAPAAYAFAAQAHcAegAuABwAGwAXACwAKgA5AEYARAAdABoAZAAYAE0AWQCJAJAACABYAGcABQA8AEgAPQBRAEkAOwAlAIoAlQAoAGoAZQBhAHYAMAA6AAAADQA0ABkAMwArAB4AMgBFAJQAkwCIAIcAkgB7AHwAeQBvAEwANgBQAEEAPwBCADgAIwAhAG4AZgCLAIAAfgCEAGgAWwBzAGwAXQBeAFoAKQBVAFQAUwBSAE4ATwBHAEoAYABfAFwAVgBjAGkAbQBiAJEAggB1AHQAawB4AIEAgwCOAI0AhgBxAHAAfQCMAI8A",
          "dtype": "i2"
         },
         "xaxis": "x",
         "y": {
          "bdata": "CQgICAgICAgHBwcHBwcHBgYGBgYGBgYGBgYGBgYGBQUFBQUFBQUFBQUFBQUFBQUFBQUFBQUFBQUFBAQEBAQEBAQEBAQEBAQEBAQEBAQDAwMDAwMDAwMDAwMDAwMDAwMDAwMDAwMDAwMDAwMDAwMDAwMDAwMDAgICAgICAgICAgICAgICAgICAgICAgICAgICAgEBAQEB",
          "dtype": "i1"
         },
         "yaxis": "y"
        }
       ],
       "layout": {
        "barmode": "relative",
        "coloraxis": {
         "colorbar": {
          "title": {
           "text": "cluster"
          }
         },
         "colorscale": [
          [
           0,
           "#0d0887"
          ],
          [
           0.1111111111111111,
           "#46039f"
          ],
          [
           0.2222222222222222,
           "#7201a8"
          ],
          [
           0.3333333333333333,
           "#9c179e"
          ],
          [
           0.4444444444444444,
           "#bd3786"
          ],
          [
           0.5555555555555556,
           "#d8576b"
          ],
          [
           0.6666666666666666,
           "#ed7953"
          ],
          [
           0.7777777777777778,
           "#fb9f3a"
          ],
          [
           0.8888888888888888,
           "#fdca26"
          ],
          [
           1,
           "#f0f921"
          ]
         ]
        },
        "legend": {
         "tracegroupgap": 0
        },
        "margin": {
         "t": 60
        },
        "template": {
         "data": {
          "bar": [
           {
            "error_x": {
             "color": "#2a3f5f"
            },
            "error_y": {
             "color": "#2a3f5f"
            },
            "marker": {
             "line": {
              "color": "#E5ECF6",
              "width": 0.5
             },
             "pattern": {
              "fillmode": "overlay",
              "size": 10,
              "solidity": 0.2
             }
            },
            "type": "bar"
           }
          ],
          "barpolar": [
           {
            "marker": {
             "line": {
              "color": "#E5ECF6",
              "width": 0.5
             },
             "pattern": {
              "fillmode": "overlay",
              "size": 10,
              "solidity": 0.2
             }
            },
            "type": "barpolar"
           }
          ],
          "carpet": [
           {
            "aaxis": {
             "endlinecolor": "#2a3f5f",
             "gridcolor": "white",
             "linecolor": "white",
             "minorgridcolor": "white",
             "startlinecolor": "#2a3f5f"
            },
            "baxis": {
             "endlinecolor": "#2a3f5f",
             "gridcolor": "white",
             "linecolor": "white",
             "minorgridcolor": "white",
             "startlinecolor": "#2a3f5f"
            },
            "type": "carpet"
           }
          ],
          "choropleth": [
           {
            "colorbar": {
             "outlinewidth": 0,
             "ticks": ""
            },
            "type": "choropleth"
           }
          ],
          "contour": [
           {
            "colorbar": {
             "outlinewidth": 0,
             "ticks": ""
            },
            "colorscale": [
             [
              0,
              "#0d0887"
             ],
             [
              0.1111111111111111,
              "#46039f"
             ],
             [
              0.2222222222222222,
              "#7201a8"
             ],
             [
              0.3333333333333333,
              "#9c179e"
             ],
             [
              0.4444444444444444,
              "#bd3786"
             ],
             [
              0.5555555555555556,
              "#d8576b"
             ],
             [
              0.6666666666666666,
              "#ed7953"
             ],
             [
              0.7777777777777778,
              "#fb9f3a"
             ],
             [
              0.8888888888888888,
              "#fdca26"
             ],
             [
              1,
              "#f0f921"
             ]
            ],
            "type": "contour"
           }
          ],
          "contourcarpet": [
           {
            "colorbar": {
             "outlinewidth": 0,
             "ticks": ""
            },
            "type": "contourcarpet"
           }
          ],
          "heatmap": [
           {
            "colorbar": {
             "outlinewidth": 0,
             "ticks": ""
            },
            "colorscale": [
             [
              0,
              "#0d0887"
             ],
             [
              0.1111111111111111,
              "#46039f"
             ],
             [
              0.2222222222222222,
              "#7201a8"
             ],
             [
              0.3333333333333333,
              "#9c179e"
             ],
             [
              0.4444444444444444,
              "#bd3786"
             ],
             [
              0.5555555555555556,
              "#d8576b"
             ],
             [
              0.6666666666666666,
              "#ed7953"
             ],
             [
              0.7777777777777778,
              "#fb9f3a"
             ],
             [
              0.8888888888888888,
              "#fdca26"
             ],
             [
              1,
              "#f0f921"
             ]
            ],
            "type": "heatmap"
           }
          ],
          "histogram": [
           {
            "marker": {
             "pattern": {
              "fillmode": "overlay",
              "size": 10,
              "solidity": 0.2
             }
            },
            "type": "histogram"
           }
          ],
          "histogram2d": [
           {
            "colorbar": {
             "outlinewidth": 0,
             "ticks": ""
            },
            "colorscale": [
             [
              0,
              "#0d0887"
             ],
             [
              0.1111111111111111,
              "#46039f"
             ],
             [
              0.2222222222222222,
              "#7201a8"
             ],
             [
              0.3333333333333333,
              "#9c179e"
             ],
             [
              0.4444444444444444,
              "#bd3786"
             ],
             [
              0.5555555555555556,
              "#d8576b"
             ],
             [
              0.6666666666666666,
              "#ed7953"
             ],
             [
              0.7777777777777778,
              "#fb9f3a"
             ],
             [
              0.8888888888888888,
              "#fdca26"
             ],
             [
              1,
              "#f0f921"
             ]
            ],
            "type": "histogram2d"
           }
          ],
          "histogram2dcontour": [
           {
            "colorbar": {
             "outlinewidth": 0,
             "ticks": ""
            },
            "colorscale": [
             [
              0,
              "#0d0887"
             ],
             [
              0.1111111111111111,
              "#46039f"
             ],
             [
              0.2222222222222222,
              "#7201a8"
             ],
             [
              0.3333333333333333,
              "#9c179e"
             ],
             [
              0.4444444444444444,
              "#bd3786"
             ],
             [
              0.5555555555555556,
              "#d8576b"
             ],
             [
              0.6666666666666666,
              "#ed7953"
             ],
             [
              0.7777777777777778,
              "#fb9f3a"
             ],
             [
              0.8888888888888888,
              "#fdca26"
             ],
             [
              1,
              "#f0f921"
             ]
            ],
            "type": "histogram2dcontour"
           }
          ],
          "mesh3d": [
           {
            "colorbar": {
             "outlinewidth": 0,
             "ticks": ""
            },
            "type": "mesh3d"
           }
          ],
          "parcoords": [
           {
            "line": {
             "colorbar": {
              "outlinewidth": 0,
              "ticks": ""
             }
            },
            "type": "parcoords"
           }
          ],
          "pie": [
           {
            "automargin": true,
            "type": "pie"
           }
          ],
          "scatter": [
           {
            "fillpattern": {
             "fillmode": "overlay",
             "size": 10,
             "solidity": 0.2
            },
            "type": "scatter"
           }
          ],
          "scatter3d": [
           {
            "line": {
             "colorbar": {
              "outlinewidth": 0,
              "ticks": ""
             }
            },
            "marker": {
             "colorbar": {
              "outlinewidth": 0,
              "ticks": ""
             }
            },
            "type": "scatter3d"
           }
          ],
          "scattercarpet": [
           {
            "marker": {
             "colorbar": {
              "outlinewidth": 0,
              "ticks": ""
             }
            },
            "type": "scattercarpet"
           }
          ],
          "scattergeo": [
           {
            "marker": {
             "colorbar": {
              "outlinewidth": 0,
              "ticks": ""
             }
            },
            "type": "scattergeo"
           }
          ],
          "scattergl": [
           {
            "marker": {
             "colorbar": {
              "outlinewidth": 0,
              "ticks": ""
             }
            },
            "type": "scattergl"
           }
          ],
          "scattermap": [
           {
            "marker": {
             "colorbar": {
              "outlinewidth": 0,
              "ticks": ""
             }
            },
            "type": "scattermap"
           }
          ],
          "scattermapbox": [
           {
            "marker": {
             "colorbar": {
              "outlinewidth": 0,
              "ticks": ""
             }
            },
            "type": "scattermapbox"
           }
          ],
          "scatterpolar": [
           {
            "marker": {
             "colorbar": {
              "outlinewidth": 0,
              "ticks": ""
             }
            },
            "type": "scatterpolar"
           }
          ],
          "scatterpolargl": [
           {
            "marker": {
             "colorbar": {
              "outlinewidth": 0,
              "ticks": ""
             }
            },
            "type": "scatterpolargl"
           }
          ],
          "scatterternary": [
           {
            "marker": {
             "colorbar": {
              "outlinewidth": 0,
              "ticks": ""
             }
            },
            "type": "scatterternary"
           }
          ],
          "surface": [
           {
            "colorbar": {
             "outlinewidth": 0,
             "ticks": ""
            },
            "colorscale": [
             [
              0,
              "#0d0887"
             ],
             [
              0.1111111111111111,
              "#46039f"
             ],
             [
              0.2222222222222222,
              "#7201a8"
             ],
             [
              0.3333333333333333,
              "#9c179e"
             ],
             [
              0.4444444444444444,
              "#bd3786"
             ],
             [
              0.5555555555555556,
              "#d8576b"
             ],
             [
              0.6666666666666666,
              "#ed7953"
             ],
             [
              0.7777777777777778,
              "#fb9f3a"
             ],
             [
              0.8888888888888888,
              "#fdca26"
             ],
             [
              1,
              "#f0f921"
             ]
            ],
            "type": "surface"
           }
          ],
          "table": [
           {
            "cells": {
             "fill": {
              "color": "#EBF0F8"
             },
             "line": {
              "color": "white"
             }
            },
            "header": {
             "fill": {
              "color": "#C8D4E3"
             },
             "line": {
              "color": "white"
             }
            },
            "type": "table"
           }
          ]
         },
         "layout": {
          "annotationdefaults": {
           "arrowcolor": "#2a3f5f",
           "arrowhead": 0,
           "arrowwidth": 1
          },
          "autotypenumbers": "strict",
          "coloraxis": {
           "colorbar": {
            "outlinewidth": 0,
            "ticks": ""
           }
          },
          "colorscale": {
           "diverging": [
            [
             0,
             "#8e0152"
            ],
            [
             0.1,
             "#c51b7d"
            ],
            [
             0.2,
             "#de77ae"
            ],
            [
             0.3,
             "#f1b6da"
            ],
            [
             0.4,
             "#fde0ef"
            ],
            [
             0.5,
             "#f7f7f7"
            ],
            [
             0.6,
             "#e6f5d0"
            ],
            [
             0.7,
             "#b8e186"
            ],
            [
             0.8,
             "#7fbc41"
            ],
            [
             0.9,
             "#4d9221"
            ],
            [
             1,
             "#276419"
            ]
           ],
           "sequential": [
            [
             0,
             "#0d0887"
            ],
            [
             0.1111111111111111,
             "#46039f"
            ],
            [
             0.2222222222222222,
             "#7201a8"
            ],
            [
             0.3333333333333333,
             "#9c179e"
            ],
            [
             0.4444444444444444,
             "#bd3786"
            ],
            [
             0.5555555555555556,
             "#d8576b"
            ],
            [
             0.6666666666666666,
             "#ed7953"
            ],
            [
             0.7777777777777778,
             "#fb9f3a"
            ],
            [
             0.8888888888888888,
             "#fdca26"
            ],
            [
             1,
             "#f0f921"
            ]
           ],
           "sequentialminus": [
            [
             0,
             "#0d0887"
            ],
            [
             0.1111111111111111,
             "#46039f"
            ],
            [
             0.2222222222222222,
             "#7201a8"
            ],
            [
             0.3333333333333333,
             "#9c179e"
            ],
            [
             0.4444444444444444,
             "#bd3786"
            ],
            [
             0.5555555555555556,
             "#d8576b"
            ],
            [
             0.6666666666666666,
             "#ed7953"
            ],
            [
             0.7777777777777778,
             "#fb9f3a"
            ],
            [
             0.8888888888888888,
             "#fdca26"
            ],
            [
             1,
             "#f0f921"
            ]
           ]
          },
          "colorway": [
           "#636efa",
           "#EF553B",
           "#00cc96",
           "#ab63fa",
           "#FFA15A",
           "#19d3f3",
           "#FF6692",
           "#B6E880",
           "#FF97FF",
           "#FECB52"
          ],
          "font": {
           "color": "#2a3f5f"
          },
          "geo": {
           "bgcolor": "white",
           "lakecolor": "white",
           "landcolor": "#E5ECF6",
           "showlakes": true,
           "showland": true,
           "subunitcolor": "white"
          },
          "hoverlabel": {
           "align": "left"
          },
          "hovermode": "closest",
          "mapbox": {
           "style": "light"
          },
          "paper_bgcolor": "white",
          "plot_bgcolor": "#E5ECF6",
          "polar": {
           "angularaxis": {
            "gridcolor": "white",
            "linecolor": "white",
            "ticks": ""
           },
           "bgcolor": "#E5ECF6",
           "radialaxis": {
            "gridcolor": "white",
            "linecolor": "white",
            "ticks": ""
           }
          },
          "scene": {
           "xaxis": {
            "backgroundcolor": "#E5ECF6",
            "gridcolor": "white",
            "gridwidth": 2,
            "linecolor": "white",
            "showbackground": true,
            "ticks": "",
            "zerolinecolor": "white"
           },
           "yaxis": {
            "backgroundcolor": "#E5ECF6",
            "gridcolor": "white",
            "gridwidth": 2,
            "linecolor": "white",
            "showbackground": true,
            "ticks": "",
            "zerolinecolor": "white"
           },
           "zaxis": {
            "backgroundcolor": "#E5ECF6",
            "gridcolor": "white",
            "gridwidth": 2,
            "linecolor": "white",
            "showbackground": true,
            "ticks": "",
            "zerolinecolor": "white"
           }
          },
          "shapedefaults": {
           "line": {
            "color": "#2a3f5f"
           }
          },
          "ternary": {
           "aaxis": {
            "gridcolor": "white",
            "linecolor": "white",
            "ticks": ""
           },
           "baxis": {
            "gridcolor": "white",
            "linecolor": "white",
            "ticks": ""
           },
           "bgcolor": "#E5ECF6",
           "caxis": {
            "gridcolor": "white",
            "linecolor": "white",
            "ticks": ""
           }
          },
          "title": {
           "x": 0.05
          },
          "xaxis": {
           "automargin": true,
           "gridcolor": "white",
           "linecolor": "white",
           "ticks": "",
           "title": {
            "standoff": 15
           },
           "zerolinecolor": "white",
           "zerolinewidth": 2
          },
          "yaxis": {
           "automargin": true,
           "gridcolor": "white",
           "linecolor": "white",
           "ticks": "",
           "title": {
            "standoff": 15
           },
           "zerolinecolor": "white",
           "zerolinewidth": 2
          }
         }
        },
        "xaxis": {
         "anchor": "y",
         "domain": [
          0,
          1
         ],
         "title": {
          "text": "cluster"
         }
        },
        "yaxis": {
         "anchor": "x",
         "domain": [
          0,
          1
         ],
         "title": {
          "text": "value"
         }
        }
       }
      }
     },
     "metadata": {},
     "output_type": "display_data"
    }
   ],
   "source": [
    "# Distribuicao da variavel cluster\n",
    "qtde_cluster = df_species.value_counts('cluster')\n",
    "px.bar(qtde_cluster, color=qtde_cluster.index)"
   ]
  },
  {
   "cell_type": "markdown",
   "id": "caf55243",
   "metadata": {},
   "source": [
    "### Conclusão geral\n",
    "\n",
    "- O projeto demonstrou com sucesso a aplicação de algoritmos de clusterização hierárquica para agrupar espécies fictícias com base em múltiplas características. Utilizando técnicas de pré-processamento e otimização de hiperparâmetros, foi possível identificar agrupamentos taxonômicos consistentes e visualizá-los por meio de dendrogramas e gráficos interativos. O uso do Silhouette Score permitiu avaliar a qualidade dos clusters formados, garantindo uma boa separação entre os grupos. Os resultados obtidos mostram que a clusterização hierárquica é uma abordagem eficiente e interpretável para problemas de classificação taxonômica, mesmo em dados sintéticos. O projeto reforça a importância da análise exploratória e da escolha criteriosa de métodos para obter agrupamentos significativos e úteis para estudos evolutivos e biológicos."
   ]
  }
 ],
 "metadata": {
  "kernelspec": {
   "display_name": "ia-challenge-clusterizacao-hierarquica-GfvanicG",
   "language": "python",
   "name": "python3"
  },
  "language_info": {
   "codemirror_mode": {
    "name": "ipython",
    "version": 3
   },
   "file_extension": ".py",
   "mimetype": "text/x-python",
   "name": "python",
   "nbconvert_exporter": "python",
   "pygments_lexer": "ipython3",
   "version": "3.9.12"
  }
 },
 "nbformat": 4,
 "nbformat_minor": 5
}
